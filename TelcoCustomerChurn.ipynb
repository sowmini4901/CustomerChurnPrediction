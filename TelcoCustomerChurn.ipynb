{
  "nbformat": 4,
  "nbformat_minor": 0,
  "metadata": {
    "colab": {
      "name": "TelcoCustomerChurn.ipynb",
      "provenance": []
    },
    "kernelspec": {
      "name": "python3",
      "display_name": "Python 3"
    },
    "language_info": {
      "name": "python"
    }
  },
  "cells": [
    {
      "cell_type": "markdown",
      "source": [
        "**Implementing Customer Churn Prediction on the Telco dataset from Kaggle.**\n"
      ],
      "metadata": {
        "id": "d80gEUrha0gQ"
      }
    },
    {
      "cell_type": "markdown",
      "source": [
        "**Step 1:** Importing necessary frameworks and modules for the project"
      ],
      "metadata": {
        "id": "6MycweT5bKi5"
      }
    },
    {
      "cell_type": "code",
      "source": [
        "pip install tensorflow"
      ],
      "metadata": {
        "colab": {
          "base_uri": "https://localhost:8080/"
        },
        "id": "I_6yGWNRLsis",
        "outputId": "193fb7b3-912f-4196-e12c-895746aa2f91"
      },
      "execution_count": null,
      "outputs": [
        {
          "output_type": "stream",
          "name": "stdout",
          "text": [
            "Requirement already satisfied: tensorflow in /usr/local/lib/python3.7/dist-packages (2.7.0)\n",
            "Requirement already satisfied: astunparse>=1.6.0 in /usr/local/lib/python3.7/dist-packages (from tensorflow) (1.6.3)\n",
            "Requirement already satisfied: six>=1.12.0 in /usr/local/lib/python3.7/dist-packages (from tensorflow) (1.15.0)\n",
            "Requirement already satisfied: grpcio<2.0,>=1.24.3 in /usr/local/lib/python3.7/dist-packages (from tensorflow) (1.42.0)\n",
            "Requirement already satisfied: protobuf>=3.9.2 in /usr/local/lib/python3.7/dist-packages (from tensorflow) (3.17.3)\n",
            "Requirement already satisfied: absl-py>=0.4.0 in /usr/local/lib/python3.7/dist-packages (from tensorflow) (0.12.0)\n",
            "Requirement already satisfied: flatbuffers<3.0,>=1.12 in /usr/local/lib/python3.7/dist-packages (from tensorflow) (2.0)\n",
            "Requirement already satisfied: keras<2.8,>=2.7.0rc0 in /usr/local/lib/python3.7/dist-packages (from tensorflow) (2.7.0)\n",
            "Requirement already satisfied: tensorboard~=2.6 in /usr/local/lib/python3.7/dist-packages (from tensorflow) (2.7.0)\n",
            "Requirement already satisfied: h5py>=2.9.0 in /usr/local/lib/python3.7/dist-packages (from tensorflow) (3.1.0)\n",
            "Requirement already satisfied: opt-einsum>=2.3.2 in /usr/local/lib/python3.7/dist-packages (from tensorflow) (3.3.0)\n",
            "Requirement already satisfied: keras-preprocessing>=1.1.1 in /usr/local/lib/python3.7/dist-packages (from tensorflow) (1.1.2)\n",
            "Requirement already satisfied: wrapt>=1.11.0 in /usr/local/lib/python3.7/dist-packages (from tensorflow) (1.13.3)\n",
            "Requirement already satisfied: tensorflow-estimator<2.8,~=2.7.0rc0 in /usr/local/lib/python3.7/dist-packages (from tensorflow) (2.7.0)\n",
            "Requirement already satisfied: libclang>=9.0.1 in /usr/local/lib/python3.7/dist-packages (from tensorflow) (12.0.0)\n",
            "Requirement already satisfied: google-pasta>=0.1.1 in /usr/local/lib/python3.7/dist-packages (from tensorflow) (0.2.0)\n",
            "Requirement already satisfied: wheel<1.0,>=0.32.0 in /usr/local/lib/python3.7/dist-packages (from tensorflow) (0.37.0)\n",
            "Requirement already satisfied: numpy>=1.14.5 in /usr/local/lib/python3.7/dist-packages (from tensorflow) (1.19.5)\n",
            "Requirement already satisfied: termcolor>=1.1.0 in /usr/local/lib/python3.7/dist-packages (from tensorflow) (1.1.0)\n",
            "Requirement already satisfied: gast<0.5.0,>=0.2.1 in /usr/local/lib/python3.7/dist-packages (from tensorflow) (0.4.0)\n",
            "Requirement already satisfied: typing-extensions>=3.6.6 in /usr/local/lib/python3.7/dist-packages (from tensorflow) (3.10.0.2)\n",
            "Requirement already satisfied: tensorflow-io-gcs-filesystem>=0.21.0 in /usr/local/lib/python3.7/dist-packages (from tensorflow) (0.22.0)\n",
            "Requirement already satisfied: cached-property in /usr/local/lib/python3.7/dist-packages (from h5py>=2.9.0->tensorflow) (1.5.2)\n",
            "Requirement already satisfied: tensorboard-data-server<0.7.0,>=0.6.0 in /usr/local/lib/python3.7/dist-packages (from tensorboard~=2.6->tensorflow) (0.6.1)\n",
            "Requirement already satisfied: google-auth-oauthlib<0.5,>=0.4.1 in /usr/local/lib/python3.7/dist-packages (from tensorboard~=2.6->tensorflow) (0.4.6)\n",
            "Requirement already satisfied: tensorboard-plugin-wit>=1.6.0 in /usr/local/lib/python3.7/dist-packages (from tensorboard~=2.6->tensorflow) (1.8.0)\n",
            "Requirement already satisfied: setuptools>=41.0.0 in /usr/local/lib/python3.7/dist-packages (from tensorboard~=2.6->tensorflow) (57.4.0)\n",
            "Requirement already satisfied: google-auth<3,>=1.6.3 in /usr/local/lib/python3.7/dist-packages (from tensorboard~=2.6->tensorflow) (1.35.0)\n",
            "Requirement already satisfied: requests<3,>=2.21.0 in /usr/local/lib/python3.7/dist-packages (from tensorboard~=2.6->tensorflow) (2.23.0)\n",
            "Requirement already satisfied: werkzeug>=0.11.15 in /usr/local/lib/python3.7/dist-packages (from tensorboard~=2.6->tensorflow) (1.0.1)\n",
            "Requirement already satisfied: markdown>=2.6.8 in /usr/local/lib/python3.7/dist-packages (from tensorboard~=2.6->tensorflow) (3.3.6)\n",
            "Requirement already satisfied: pyasn1-modules>=0.2.1 in /usr/local/lib/python3.7/dist-packages (from google-auth<3,>=1.6.3->tensorboard~=2.6->tensorflow) (0.2.8)\n",
            "Requirement already satisfied: rsa<5,>=3.1.4 in /usr/local/lib/python3.7/dist-packages (from google-auth<3,>=1.6.3->tensorboard~=2.6->tensorflow) (4.8)\n",
            "Requirement already satisfied: cachetools<5.0,>=2.0.0 in /usr/local/lib/python3.7/dist-packages (from google-auth<3,>=1.6.3->tensorboard~=2.6->tensorflow) (4.2.4)\n",
            "Requirement already satisfied: requests-oauthlib>=0.7.0 in /usr/local/lib/python3.7/dist-packages (from google-auth-oauthlib<0.5,>=0.4.1->tensorboard~=2.6->tensorflow) (1.3.0)\n",
            "Requirement already satisfied: importlib-metadata>=4.4 in /usr/local/lib/python3.7/dist-packages (from markdown>=2.6.8->tensorboard~=2.6->tensorflow) (4.8.2)\n",
            "Requirement already satisfied: zipp>=0.5 in /usr/local/lib/python3.7/dist-packages (from importlib-metadata>=4.4->markdown>=2.6.8->tensorboard~=2.6->tensorflow) (3.6.0)\n",
            "Requirement already satisfied: pyasn1<0.5.0,>=0.4.6 in /usr/local/lib/python3.7/dist-packages (from pyasn1-modules>=0.2.1->google-auth<3,>=1.6.3->tensorboard~=2.6->tensorflow) (0.4.8)\n",
            "Requirement already satisfied: chardet<4,>=3.0.2 in /usr/local/lib/python3.7/dist-packages (from requests<3,>=2.21.0->tensorboard~=2.6->tensorflow) (3.0.4)\n",
            "Requirement already satisfied: idna<3,>=2.5 in /usr/local/lib/python3.7/dist-packages (from requests<3,>=2.21.0->tensorboard~=2.6->tensorflow) (2.10)\n",
            "Requirement already satisfied: urllib3!=1.25.0,!=1.25.1,<1.26,>=1.21.1 in /usr/local/lib/python3.7/dist-packages (from requests<3,>=2.21.0->tensorboard~=2.6->tensorflow) (1.24.3)\n",
            "Requirement already satisfied: certifi>=2017.4.17 in /usr/local/lib/python3.7/dist-packages (from requests<3,>=2.21.0->tensorboard~=2.6->tensorflow) (2021.10.8)\n",
            "Requirement already satisfied: oauthlib>=3.0.0 in /usr/local/lib/python3.7/dist-packages (from requests-oauthlib>=0.7.0->google-auth-oauthlib<0.5,>=0.4.1->tensorboard~=2.6->tensorflow) (3.1.1)\n"
          ]
        }
      ]
    },
    {
      "cell_type": "code",
      "source": [
        "pip install focal-loss"
      ],
      "metadata": {
        "colab": {
          "base_uri": "https://localhost:8080/"
        },
        "id": "wOf1Is_2-DbP",
        "outputId": "d5a6aeab-5e46-4b12-89a0-14933c20a7c4"
      },
      "execution_count": null,
      "outputs": [
        {
          "output_type": "stream",
          "name": "stdout",
          "text": [
            "Collecting focal-loss\n",
            "  Downloading focal_loss-0.0.7-py3-none-any.whl (19 kB)\n",
            "Requirement already satisfied: tensorflow>=2.2 in /usr/local/lib/python3.7/dist-packages (from focal-loss) (2.7.0)\n",
            "Requirement already satisfied: numpy>=1.14.5 in /usr/local/lib/python3.7/dist-packages (from tensorflow>=2.2->focal-loss) (1.19.5)\n",
            "Requirement already satisfied: protobuf>=3.9.2 in /usr/local/lib/python3.7/dist-packages (from tensorflow>=2.2->focal-loss) (3.17.3)\n",
            "Requirement already satisfied: six>=1.12.0 in /usr/local/lib/python3.7/dist-packages (from tensorflow>=2.2->focal-loss) (1.15.0)\n",
            "Requirement already satisfied: termcolor>=1.1.0 in /usr/local/lib/python3.7/dist-packages (from tensorflow>=2.2->focal-loss) (1.1.0)\n",
            "Requirement already satisfied: wheel<1.0,>=0.32.0 in /usr/local/lib/python3.7/dist-packages (from tensorflow>=2.2->focal-loss) (0.37.0)\n",
            "Requirement already satisfied: keras<2.8,>=2.7.0rc0 in /usr/local/lib/python3.7/dist-packages (from tensorflow>=2.2->focal-loss) (2.7.0)\n",
            "Requirement already satisfied: libclang>=9.0.1 in /usr/local/lib/python3.7/dist-packages (from tensorflow>=2.2->focal-loss) (12.0.0)\n",
            "Requirement already satisfied: flatbuffers<3.0,>=1.12 in /usr/local/lib/python3.7/dist-packages (from tensorflow>=2.2->focal-loss) (2.0)\n",
            "Requirement already satisfied: opt-einsum>=2.3.2 in /usr/local/lib/python3.7/dist-packages (from tensorflow>=2.2->focal-loss) (3.3.0)\n",
            "Requirement already satisfied: tensorflow-estimator<2.8,~=2.7.0rc0 in /usr/local/lib/python3.7/dist-packages (from tensorflow>=2.2->focal-loss) (2.7.0)\n",
            "Requirement already satisfied: grpcio<2.0,>=1.24.3 in /usr/local/lib/python3.7/dist-packages (from tensorflow>=2.2->focal-loss) (1.42.0)\n",
            "Requirement already satisfied: typing-extensions>=3.6.6 in /usr/local/lib/python3.7/dist-packages (from tensorflow>=2.2->focal-loss) (3.10.0.2)\n",
            "Requirement already satisfied: tensorboard~=2.6 in /usr/local/lib/python3.7/dist-packages (from tensorflow>=2.2->focal-loss) (2.7.0)\n",
            "Requirement already satisfied: absl-py>=0.4.0 in /usr/local/lib/python3.7/dist-packages (from tensorflow>=2.2->focal-loss) (0.12.0)\n",
            "Requirement already satisfied: wrapt>=1.11.0 in /usr/local/lib/python3.7/dist-packages (from tensorflow>=2.2->focal-loss) (1.13.3)\n",
            "Requirement already satisfied: keras-preprocessing>=1.1.1 in /usr/local/lib/python3.7/dist-packages (from tensorflow>=2.2->focal-loss) (1.1.2)\n",
            "Requirement already satisfied: google-pasta>=0.1.1 in /usr/local/lib/python3.7/dist-packages (from tensorflow>=2.2->focal-loss) (0.2.0)\n",
            "Requirement already satisfied: astunparse>=1.6.0 in /usr/local/lib/python3.7/dist-packages (from tensorflow>=2.2->focal-loss) (1.6.3)\n",
            "Requirement already satisfied: gast<0.5.0,>=0.2.1 in /usr/local/lib/python3.7/dist-packages (from tensorflow>=2.2->focal-loss) (0.4.0)\n",
            "Requirement already satisfied: tensorflow-io-gcs-filesystem>=0.21.0 in /usr/local/lib/python3.7/dist-packages (from tensorflow>=2.2->focal-loss) (0.22.0)\n",
            "Requirement already satisfied: h5py>=2.9.0 in /usr/local/lib/python3.7/dist-packages (from tensorflow>=2.2->focal-loss) (3.1.0)\n",
            "Requirement already satisfied: cached-property in /usr/local/lib/python3.7/dist-packages (from h5py>=2.9.0->tensorflow>=2.2->focal-loss) (1.5.2)\n",
            "Requirement already satisfied: google-auth-oauthlib<0.5,>=0.4.1 in /usr/local/lib/python3.7/dist-packages (from tensorboard~=2.6->tensorflow>=2.2->focal-loss) (0.4.6)\n",
            "Requirement already satisfied: google-auth<3,>=1.6.3 in /usr/local/lib/python3.7/dist-packages (from tensorboard~=2.6->tensorflow>=2.2->focal-loss) (1.35.0)\n",
            "Requirement already satisfied: requests<3,>=2.21.0 in /usr/local/lib/python3.7/dist-packages (from tensorboard~=2.6->tensorflow>=2.2->focal-loss) (2.23.0)\n",
            "Requirement already satisfied: tensorboard-data-server<0.7.0,>=0.6.0 in /usr/local/lib/python3.7/dist-packages (from tensorboard~=2.6->tensorflow>=2.2->focal-loss) (0.6.1)\n",
            "Requirement already satisfied: tensorboard-plugin-wit>=1.6.0 in /usr/local/lib/python3.7/dist-packages (from tensorboard~=2.6->tensorflow>=2.2->focal-loss) (1.8.0)\n",
            "Requirement already satisfied: setuptools>=41.0.0 in /usr/local/lib/python3.7/dist-packages (from tensorboard~=2.6->tensorflow>=2.2->focal-loss) (57.4.0)\n",
            "Requirement already satisfied: markdown>=2.6.8 in /usr/local/lib/python3.7/dist-packages (from tensorboard~=2.6->tensorflow>=2.2->focal-loss) (3.3.6)\n",
            "Requirement already satisfied: werkzeug>=0.11.15 in /usr/local/lib/python3.7/dist-packages (from tensorboard~=2.6->tensorflow>=2.2->focal-loss) (1.0.1)\n",
            "Requirement already satisfied: pyasn1-modules>=0.2.1 in /usr/local/lib/python3.7/dist-packages (from google-auth<3,>=1.6.3->tensorboard~=2.6->tensorflow>=2.2->focal-loss) (0.2.8)\n",
            "Requirement already satisfied: cachetools<5.0,>=2.0.0 in /usr/local/lib/python3.7/dist-packages (from google-auth<3,>=1.6.3->tensorboard~=2.6->tensorflow>=2.2->focal-loss) (4.2.4)\n",
            "Requirement already satisfied: rsa<5,>=3.1.4 in /usr/local/lib/python3.7/dist-packages (from google-auth<3,>=1.6.3->tensorboard~=2.6->tensorflow>=2.2->focal-loss) (4.8)\n",
            "Requirement already satisfied: requests-oauthlib>=0.7.0 in /usr/local/lib/python3.7/dist-packages (from google-auth-oauthlib<0.5,>=0.4.1->tensorboard~=2.6->tensorflow>=2.2->focal-loss) (1.3.0)\n",
            "Requirement already satisfied: importlib-metadata>=4.4 in /usr/local/lib/python3.7/dist-packages (from markdown>=2.6.8->tensorboard~=2.6->tensorflow>=2.2->focal-loss) (4.8.2)\n",
            "Requirement already satisfied: zipp>=0.5 in /usr/local/lib/python3.7/dist-packages (from importlib-metadata>=4.4->markdown>=2.6.8->tensorboard~=2.6->tensorflow>=2.2->focal-loss) (3.6.0)\n",
            "Requirement already satisfied: pyasn1<0.5.0,>=0.4.6 in /usr/local/lib/python3.7/dist-packages (from pyasn1-modules>=0.2.1->google-auth<3,>=1.6.3->tensorboard~=2.6->tensorflow>=2.2->focal-loss) (0.4.8)\n",
            "Requirement already satisfied: idna<3,>=2.5 in /usr/local/lib/python3.7/dist-packages (from requests<3,>=2.21.0->tensorboard~=2.6->tensorflow>=2.2->focal-loss) (2.10)\n",
            "Requirement already satisfied: urllib3!=1.25.0,!=1.25.1,<1.26,>=1.21.1 in /usr/local/lib/python3.7/dist-packages (from requests<3,>=2.21.0->tensorboard~=2.6->tensorflow>=2.2->focal-loss) (1.24.3)\n",
            "Requirement already satisfied: chardet<4,>=3.0.2 in /usr/local/lib/python3.7/dist-packages (from requests<3,>=2.21.0->tensorboard~=2.6->tensorflow>=2.2->focal-loss) (3.0.4)\n",
            "Requirement already satisfied: certifi>=2017.4.17 in /usr/local/lib/python3.7/dist-packages (from requests<3,>=2.21.0->tensorboard~=2.6->tensorflow>=2.2->focal-loss) (2021.10.8)\n",
            "Requirement already satisfied: oauthlib>=3.0.0 in /usr/local/lib/python3.7/dist-packages (from requests-oauthlib>=0.7.0->google-auth-oauthlib<0.5,>=0.4.1->tensorboard~=2.6->tensorflow>=2.2->focal-loss) (3.1.1)\n",
            "Installing collected packages: focal-loss\n",
            "Successfully installed focal-loss-0.0.7\n"
          ]
        }
      ]
    },
    {
      "cell_type": "code",
      "execution_count": null,
      "metadata": {
        "id": "I4eRob0lM3XY"
      },
      "outputs": [],
      "source": [
        "#importing the necessary libraries\n",
        "import tensorflow as tf\n",
        "from tensorflow import keras\n",
        "import matplotlib.pyplot as plt\n",
        "%matplotlib inline\n",
        "import numpy as np\n",
        "import pandas as pd\n",
        "import sklearn\n",
        "import os\n",
        "from sklearn import preprocessing\n",
        "from focal_loss import BinaryFocalLoss"
      ]
    },
    {
      "cell_type": "code",
      "source": [
        "#conncecting to my google drive for datasets\n",
        "from google.colab import drive\n",
        "\n",
        "drive.mount('/content/gdrive')"
      ],
      "metadata": {
        "colab": {
          "base_uri": "https://localhost:8080/"
        },
        "id": "msTgbN3JL1pi",
        "outputId": "5c06fada-1f05-4a66-b0f8-6a0ef7f4f59c"
      },
      "execution_count": null,
      "outputs": [
        {
          "output_type": "stream",
          "name": "stdout",
          "text": [
            "Mounted at /content/gdrive\n"
          ]
        }
      ]
    },
    {
      "cell_type": "markdown",
      "source": [
        "**Step 2:** Exploring the dataset"
      ],
      "metadata": {
        "id": "aWoGd7DPaaP4"
      }
    },
    {
      "cell_type": "code",
      "source": [
        "#dataframe from the dataset in google drive\n",
        "df=pd.read_csv('/content/gdrive/MyDrive/CustomerChurnPrediction/customerChurn.csv')\n",
        "df.head()"
      ],
      "metadata": {
        "colab": {
          "base_uri": "https://localhost:8080/",
          "height": 357
        },
        "id": "tZRz996cMYwS",
        "outputId": "22b6bf44-877e-4948-e489-ff39c59dba3c"
      },
      "execution_count": null,
      "outputs": [
        {
          "output_type": "execute_result",
          "data": {
            "text/html": [
              "\n",
              "  <div id=\"df-11a08f3c-4d56-4f98-8f1c-80cfd8abe5d4\">\n",
              "    <div class=\"colab-df-container\">\n",
              "      <div>\n",
              "<style scoped>\n",
              "    .dataframe tbody tr th:only-of-type {\n",
              "        vertical-align: middle;\n",
              "    }\n",
              "\n",
              "    .dataframe tbody tr th {\n",
              "        vertical-align: top;\n",
              "    }\n",
              "\n",
              "    .dataframe thead th {\n",
              "        text-align: right;\n",
              "    }\n",
              "</style>\n",
              "<table border=\"1\" class=\"dataframe\">\n",
              "  <thead>\n",
              "    <tr style=\"text-align: right;\">\n",
              "      <th></th>\n",
              "      <th>customerID</th>\n",
              "      <th>gender</th>\n",
              "      <th>SeniorCitizen</th>\n",
              "      <th>Partner</th>\n",
              "      <th>Dependents</th>\n",
              "      <th>tenure</th>\n",
              "      <th>PhoneService</th>\n",
              "      <th>MultipleLines</th>\n",
              "      <th>InternetService</th>\n",
              "      <th>OnlineSecurity</th>\n",
              "      <th>OnlineBackup</th>\n",
              "      <th>DeviceProtection</th>\n",
              "      <th>TechSupport</th>\n",
              "      <th>StreamingTV</th>\n",
              "      <th>StreamingMovies</th>\n",
              "      <th>Contract</th>\n",
              "      <th>PaperlessBilling</th>\n",
              "      <th>PaymentMethod</th>\n",
              "      <th>MonthlyCharges</th>\n",
              "      <th>TotalCharges</th>\n",
              "      <th>Churn</th>\n",
              "    </tr>\n",
              "  </thead>\n",
              "  <tbody>\n",
              "    <tr>\n",
              "      <th>0</th>\n",
              "      <td>7590-VHVEG</td>\n",
              "      <td>Female</td>\n",
              "      <td>0</td>\n",
              "      <td>Yes</td>\n",
              "      <td>No</td>\n",
              "      <td>1</td>\n",
              "      <td>No</td>\n",
              "      <td>No phone service</td>\n",
              "      <td>DSL</td>\n",
              "      <td>No</td>\n",
              "      <td>Yes</td>\n",
              "      <td>No</td>\n",
              "      <td>No</td>\n",
              "      <td>No</td>\n",
              "      <td>No</td>\n",
              "      <td>Month-to-month</td>\n",
              "      <td>Yes</td>\n",
              "      <td>Electronic check</td>\n",
              "      <td>29.85</td>\n",
              "      <td>29.85</td>\n",
              "      <td>No</td>\n",
              "    </tr>\n",
              "    <tr>\n",
              "      <th>1</th>\n",
              "      <td>5575-GNVDE</td>\n",
              "      <td>Male</td>\n",
              "      <td>0</td>\n",
              "      <td>No</td>\n",
              "      <td>No</td>\n",
              "      <td>34</td>\n",
              "      <td>Yes</td>\n",
              "      <td>No</td>\n",
              "      <td>DSL</td>\n",
              "      <td>Yes</td>\n",
              "      <td>No</td>\n",
              "      <td>Yes</td>\n",
              "      <td>No</td>\n",
              "      <td>No</td>\n",
              "      <td>No</td>\n",
              "      <td>One year</td>\n",
              "      <td>No</td>\n",
              "      <td>Mailed check</td>\n",
              "      <td>56.95</td>\n",
              "      <td>1889.5</td>\n",
              "      <td>No</td>\n",
              "    </tr>\n",
              "    <tr>\n",
              "      <th>2</th>\n",
              "      <td>3668-QPYBK</td>\n",
              "      <td>Male</td>\n",
              "      <td>0</td>\n",
              "      <td>No</td>\n",
              "      <td>No</td>\n",
              "      <td>2</td>\n",
              "      <td>Yes</td>\n",
              "      <td>No</td>\n",
              "      <td>DSL</td>\n",
              "      <td>Yes</td>\n",
              "      <td>Yes</td>\n",
              "      <td>No</td>\n",
              "      <td>No</td>\n",
              "      <td>No</td>\n",
              "      <td>No</td>\n",
              "      <td>Month-to-month</td>\n",
              "      <td>Yes</td>\n",
              "      <td>Mailed check</td>\n",
              "      <td>53.85</td>\n",
              "      <td>108.15</td>\n",
              "      <td>Yes</td>\n",
              "    </tr>\n",
              "    <tr>\n",
              "      <th>3</th>\n",
              "      <td>7795-CFOCW</td>\n",
              "      <td>Male</td>\n",
              "      <td>0</td>\n",
              "      <td>No</td>\n",
              "      <td>No</td>\n",
              "      <td>45</td>\n",
              "      <td>No</td>\n",
              "      <td>No phone service</td>\n",
              "      <td>DSL</td>\n",
              "      <td>Yes</td>\n",
              "      <td>No</td>\n",
              "      <td>Yes</td>\n",
              "      <td>Yes</td>\n",
              "      <td>No</td>\n",
              "      <td>No</td>\n",
              "      <td>One year</td>\n",
              "      <td>No</td>\n",
              "      <td>Bank transfer (automatic)</td>\n",
              "      <td>42.30</td>\n",
              "      <td>1840.75</td>\n",
              "      <td>No</td>\n",
              "    </tr>\n",
              "    <tr>\n",
              "      <th>4</th>\n",
              "      <td>9237-HQITU</td>\n",
              "      <td>Female</td>\n",
              "      <td>0</td>\n",
              "      <td>No</td>\n",
              "      <td>No</td>\n",
              "      <td>2</td>\n",
              "      <td>Yes</td>\n",
              "      <td>No</td>\n",
              "      <td>Fiber optic</td>\n",
              "      <td>No</td>\n",
              "      <td>No</td>\n",
              "      <td>No</td>\n",
              "      <td>No</td>\n",
              "      <td>No</td>\n",
              "      <td>No</td>\n",
              "      <td>Month-to-month</td>\n",
              "      <td>Yes</td>\n",
              "      <td>Electronic check</td>\n",
              "      <td>70.70</td>\n",
              "      <td>151.65</td>\n",
              "      <td>Yes</td>\n",
              "    </tr>\n",
              "  </tbody>\n",
              "</table>\n",
              "</div>\n",
              "      <button class=\"colab-df-convert\" onclick=\"convertToInteractive('df-11a08f3c-4d56-4f98-8f1c-80cfd8abe5d4')\"\n",
              "              title=\"Convert this dataframe to an interactive table.\"\n",
              "              style=\"display:none;\">\n",
              "        \n",
              "  <svg xmlns=\"http://www.w3.org/2000/svg\" height=\"24px\"viewBox=\"0 0 24 24\"\n",
              "       width=\"24px\">\n",
              "    <path d=\"M0 0h24v24H0V0z\" fill=\"none\"/>\n",
              "    <path d=\"M18.56 5.44l.94 2.06.94-2.06 2.06-.94-2.06-.94-.94-2.06-.94 2.06-2.06.94zm-11 1L8.5 8.5l.94-2.06 2.06-.94-2.06-.94L8.5 2.5l-.94 2.06-2.06.94zm10 10l.94 2.06.94-2.06 2.06-.94-2.06-.94-.94-2.06-.94 2.06-2.06.94z\"/><path d=\"M17.41 7.96l-1.37-1.37c-.4-.4-.92-.59-1.43-.59-.52 0-1.04.2-1.43.59L10.3 9.45l-7.72 7.72c-.78.78-.78 2.05 0 2.83L4 21.41c.39.39.9.59 1.41.59.51 0 1.02-.2 1.41-.59l7.78-7.78 2.81-2.81c.8-.78.8-2.07 0-2.86zM5.41 20L4 18.59l7.72-7.72 1.47 1.35L5.41 20z\"/>\n",
              "  </svg>\n",
              "      </button>\n",
              "      \n",
              "  <style>\n",
              "    .colab-df-container {\n",
              "      display:flex;\n",
              "      flex-wrap:wrap;\n",
              "      gap: 12px;\n",
              "    }\n",
              "\n",
              "    .colab-df-convert {\n",
              "      background-color: #E8F0FE;\n",
              "      border: none;\n",
              "      border-radius: 50%;\n",
              "      cursor: pointer;\n",
              "      display: none;\n",
              "      fill: #1967D2;\n",
              "      height: 32px;\n",
              "      padding: 0 0 0 0;\n",
              "      width: 32px;\n",
              "    }\n",
              "\n",
              "    .colab-df-convert:hover {\n",
              "      background-color: #E2EBFA;\n",
              "      box-shadow: 0px 1px 2px rgba(60, 64, 67, 0.3), 0px 1px 3px 1px rgba(60, 64, 67, 0.15);\n",
              "      fill: #174EA6;\n",
              "    }\n",
              "\n",
              "    [theme=dark] .colab-df-convert {\n",
              "      background-color: #3B4455;\n",
              "      fill: #D2E3FC;\n",
              "    }\n",
              "\n",
              "    [theme=dark] .colab-df-convert:hover {\n",
              "      background-color: #434B5C;\n",
              "      box-shadow: 0px 1px 3px 1px rgba(0, 0, 0, 0.15);\n",
              "      filter: drop-shadow(0px 1px 2px rgba(0, 0, 0, 0.3));\n",
              "      fill: #FFFFFF;\n",
              "    }\n",
              "  </style>\n",
              "\n",
              "      <script>\n",
              "        const buttonEl =\n",
              "          document.querySelector('#df-11a08f3c-4d56-4f98-8f1c-80cfd8abe5d4 button.colab-df-convert');\n",
              "        buttonEl.style.display =\n",
              "          google.colab.kernel.accessAllowed ? 'block' : 'none';\n",
              "\n",
              "        async function convertToInteractive(key) {\n",
              "          const element = document.querySelector('#df-11a08f3c-4d56-4f98-8f1c-80cfd8abe5d4');\n",
              "          const dataTable =\n",
              "            await google.colab.kernel.invokeFunction('convertToInteractive',\n",
              "                                                     [key], {});\n",
              "          if (!dataTable) return;\n",
              "\n",
              "          const docLinkHtml = 'Like what you see? Visit the ' +\n",
              "            '<a target=\"_blank\" href=https://colab.research.google.com/notebooks/data_table.ipynb>data table notebook</a>'\n",
              "            + ' to learn more about interactive tables.';\n",
              "          element.innerHTML = '';\n",
              "          dataTable['output_type'] = 'display_data';\n",
              "          await google.colab.output.renderOutput(dataTable, element);\n",
              "          const docLink = document.createElement('div');\n",
              "          docLink.innerHTML = docLinkHtml;\n",
              "          element.appendChild(docLink);\n",
              "        }\n",
              "      </script>\n",
              "    </div>\n",
              "  </div>\n",
              "  "
            ],
            "text/plain": [
              "   customerID  gender  SeniorCitizen  ... MonthlyCharges TotalCharges  Churn\n",
              "0  7590-VHVEG  Female              0  ...          29.85        29.85     No\n",
              "1  5575-GNVDE    Male              0  ...          56.95       1889.5     No\n",
              "2  3668-QPYBK    Male              0  ...          53.85       108.15    Yes\n",
              "3  7795-CFOCW    Male              0  ...          42.30      1840.75     No\n",
              "4  9237-HQITU  Female              0  ...          70.70       151.65    Yes\n",
              "\n",
              "[5 rows x 21 columns]"
            ]
          },
          "metadata": {},
          "execution_count": 5
        }
      ]
    },
    {
      "cell_type": "code",
      "source": [
        "#for the description of data\n",
        "df.info"
      ],
      "metadata": {
        "colab": {
          "base_uri": "https://localhost:8080/"
        },
        "id": "x_7gkb3uN8Ei",
        "outputId": "4059c576-ac3a-4079-bd58-6fab5b3d5771"
      },
      "execution_count": null,
      "outputs": [
        {
          "output_type": "execute_result",
          "data": {
            "text/plain": [
              "<bound method DataFrame.info of       customerID  gender  SeniorCitizen  ... MonthlyCharges TotalCharges  Churn\n",
              "0     7590-VHVEG  Female              0  ...          29.85        29.85     No\n",
              "1     5575-GNVDE    Male              0  ...          56.95       1889.5     No\n",
              "2     3668-QPYBK    Male              0  ...          53.85       108.15    Yes\n",
              "3     7795-CFOCW    Male              0  ...          42.30      1840.75     No\n",
              "4     9237-HQITU  Female              0  ...          70.70       151.65    Yes\n",
              "...          ...     ...            ...  ...            ...          ...    ...\n",
              "7038  6840-RESVB    Male              0  ...          84.80       1990.5     No\n",
              "7039  2234-XADUH  Female              0  ...         103.20       7362.9     No\n",
              "7040  4801-JZAZL  Female              0  ...          29.60       346.45     No\n",
              "7041  8361-LTMKD    Male              1  ...          74.40        306.6    Yes\n",
              "7042  3186-AJIEK    Male              0  ...         105.65       6844.5     No\n",
              "\n",
              "[7043 rows x 21 columns]>"
            ]
          },
          "metadata": {},
          "execution_count": 6
        }
      ]
    },
    {
      "cell_type": "code",
      "source": [
        "#no.of rows and columns in the dataframe\n",
        "df.shape"
      ],
      "metadata": {
        "colab": {
          "base_uri": "https://localhost:8080/"
        },
        "id": "JeEUgu43OMC-",
        "outputId": "12c27b8b-e887-4030-b6f6-04030cbb9619"
      },
      "execution_count": null,
      "outputs": [
        {
          "output_type": "execute_result",
          "data": {
            "text/plain": [
              "(7043, 21)"
            ]
          },
          "metadata": {},
          "execution_count": 7
        }
      ]
    },
    {
      "cell_type": "code",
      "source": [
        "#dropped the customer id column since it is not needed\n",
        "df.drop('customerID',axis='columns',inplace=True)\n",
        "\n"
      ],
      "metadata": {
        "id": "J-1oxVK7OYL6"
      },
      "execution_count": null,
      "outputs": []
    },
    {
      "cell_type": "code",
      "source": [
        "df.shape"
      ],
      "metadata": {
        "colab": {
          "base_uri": "https://localhost:8080/"
        },
        "id": "6_Y_9KpOS0Fy",
        "outputId": "fe98fbc3-4a82-4fb0-d537-1a2c2fda3ccf"
      },
      "execution_count": null,
      "outputs": [
        {
          "output_type": "execute_result",
          "data": {
            "text/plain": [
              "(7043, 20)"
            ]
          },
          "metadata": {},
          "execution_count": 9
        }
      ]
    },
    {
      "cell_type": "markdown",
      "source": [
        "**Step 3:** Configure dataset according to the implementation and project"
      ],
      "metadata": {
        "id": "1ArQCmK1bkW3"
      }
    },
    {
      "cell_type": "code",
      "source": [
        "#viewing the datatypes of all columns\n",
        "df.dtypes"
      ],
      "metadata": {
        "colab": {
          "base_uri": "https://localhost:8080/"
        },
        "id": "1KGvZC6oS8ST",
        "outputId": "fba853b4-36d1-4648-8d54-c78ddaa29f0f"
      },
      "execution_count": null,
      "outputs": [
        {
          "output_type": "execute_result",
          "data": {
            "text/plain": [
              "gender               object\n",
              "SeniorCitizen         int64\n",
              "Partner              object\n",
              "Dependents           object\n",
              "tenure                int64\n",
              "PhoneService         object\n",
              "MultipleLines        object\n",
              "InternetService      object\n",
              "OnlineSecurity       object\n",
              "OnlineBackup         object\n",
              "DeviceProtection     object\n",
              "TechSupport          object\n",
              "StreamingTV          object\n",
              "StreamingMovies      object\n",
              "Contract             object\n",
              "PaperlessBilling     object\n",
              "PaymentMethod        object\n",
              "MonthlyCharges      float64\n",
              "TotalCharges         object\n",
              "Churn                object\n",
              "dtype: object"
            ]
          },
          "metadata": {},
          "execution_count": 10
        }
      ]
    },
    {
      "cell_type": "code",
      "source": [
        "df.TotalCharges.values"
      ],
      "metadata": {
        "colab": {
          "base_uri": "https://localhost:8080/"
        },
        "id": "5McWGK3CdJ33",
        "outputId": "f86e94da-808d-42a8-983f-123990535030"
      },
      "execution_count": null,
      "outputs": [
        {
          "output_type": "execute_result",
          "data": {
            "text/plain": [
              "array(['29.85', '1889.5', '108.15', ..., '346.45', '306.6', '6844.5'],\n",
              "      dtype=object)"
            ]
          },
          "metadata": {},
          "execution_count": 11
        }
      ]
    },
    {
      "cell_type": "code",
      "source": [
        "df.MonthlyCharges.values"
      ],
      "metadata": {
        "colab": {
          "base_uri": "https://localhost:8080/"
        },
        "id": "EAovCW-0dQ8d",
        "outputId": "db6e07a4-747b-4988-d249-1d28446f800d"
      },
      "execution_count": null,
      "outputs": [
        {
          "output_type": "execute_result",
          "data": {
            "text/plain": [
              "array([ 29.85,  56.95,  53.85, ...,  29.6 ,  74.4 , 105.65])"
            ]
          },
          "metadata": {},
          "execution_count": 12
        }
      ]
    },
    {
      "cell_type": "code",
      "source": [
        "#pd.to_numeric(df.TotalCharges)\n",
        "#we have spaces in the strings"
      ],
      "metadata": {
        "id": "xNzUawTodcRW"
      },
      "execution_count": null,
      "outputs": []
    },
    {
      "cell_type": "code",
      "source": [
        "pd.to_numeric(df.TotalCharges,errors='coerce')"
      ],
      "metadata": {
        "colab": {
          "base_uri": "https://localhost:8080/"
        },
        "id": "ktgaX6STd1pt",
        "outputId": "e6de07a1-5d10-4a89-c4ab-a51a08129cbd"
      },
      "execution_count": null,
      "outputs": [
        {
          "output_type": "execute_result",
          "data": {
            "text/plain": [
              "0         29.85\n",
              "1       1889.50\n",
              "2        108.15\n",
              "3       1840.75\n",
              "4        151.65\n",
              "         ...   \n",
              "7038    1990.50\n",
              "7039    7362.90\n",
              "7040     346.45\n",
              "7041     306.60\n",
              "7042    6844.50\n",
              "Name: TotalCharges, Length: 7043, dtype: float64"
            ]
          },
          "metadata": {},
          "execution_count": 14
        }
      ]
    },
    {
      "cell_type": "code",
      "source": [
        "pd.to_numeric(df.TotalCharges,errors='coerce').isnull()"
      ],
      "metadata": {
        "colab": {
          "base_uri": "https://localhost:8080/"
        },
        "id": "Y3oQa1K4eRZG",
        "outputId": "23c27e4c-7eb9-4f4f-c002-cf946565333f"
      },
      "execution_count": null,
      "outputs": [
        {
          "output_type": "execute_result",
          "data": {
            "text/plain": [
              "0       False\n",
              "1       False\n",
              "2       False\n",
              "3       False\n",
              "4       False\n",
              "        ...  \n",
              "7038    False\n",
              "7039    False\n",
              "7040    False\n",
              "7041    False\n",
              "7042    False\n",
              "Name: TotalCharges, Length: 7043, dtype: bool"
            ]
          },
          "metadata": {},
          "execution_count": 15
        }
      ]
    },
    {
      "cell_type": "code",
      "source": [
        "df[pd.to_numeric(df.TotalCharges,errors='coerce').isnull()]\n",
        "# df[pd.to_numeric(df.TotalCharges,errors='coerce').isnull()].shape=(11,20)"
      ],
      "metadata": {
        "colab": {
          "base_uri": "https://localhost:8080/",
          "height": 614
        },
        "id": "NwDaRKhpeZOl",
        "outputId": "7cb8f0bd-ba42-4161-a77f-0e9a31783de6"
      },
      "execution_count": null,
      "outputs": [
        {
          "output_type": "execute_result",
          "data": {
            "text/html": [
              "\n",
              "  <div id=\"df-c533265f-fb32-4152-9af1-b72475741c35\">\n",
              "    <div class=\"colab-df-container\">\n",
              "      <div>\n",
              "<style scoped>\n",
              "    .dataframe tbody tr th:only-of-type {\n",
              "        vertical-align: middle;\n",
              "    }\n",
              "\n",
              "    .dataframe tbody tr th {\n",
              "        vertical-align: top;\n",
              "    }\n",
              "\n",
              "    .dataframe thead th {\n",
              "        text-align: right;\n",
              "    }\n",
              "</style>\n",
              "<table border=\"1\" class=\"dataframe\">\n",
              "  <thead>\n",
              "    <tr style=\"text-align: right;\">\n",
              "      <th></th>\n",
              "      <th>gender</th>\n",
              "      <th>SeniorCitizen</th>\n",
              "      <th>Partner</th>\n",
              "      <th>Dependents</th>\n",
              "      <th>tenure</th>\n",
              "      <th>PhoneService</th>\n",
              "      <th>MultipleLines</th>\n",
              "      <th>InternetService</th>\n",
              "      <th>OnlineSecurity</th>\n",
              "      <th>OnlineBackup</th>\n",
              "      <th>DeviceProtection</th>\n",
              "      <th>TechSupport</th>\n",
              "      <th>StreamingTV</th>\n",
              "      <th>StreamingMovies</th>\n",
              "      <th>Contract</th>\n",
              "      <th>PaperlessBilling</th>\n",
              "      <th>PaymentMethod</th>\n",
              "      <th>MonthlyCharges</th>\n",
              "      <th>TotalCharges</th>\n",
              "      <th>Churn</th>\n",
              "    </tr>\n",
              "  </thead>\n",
              "  <tbody>\n",
              "    <tr>\n",
              "      <th>488</th>\n",
              "      <td>Female</td>\n",
              "      <td>0</td>\n",
              "      <td>Yes</td>\n",
              "      <td>Yes</td>\n",
              "      <td>0</td>\n",
              "      <td>No</td>\n",
              "      <td>No phone service</td>\n",
              "      <td>DSL</td>\n",
              "      <td>Yes</td>\n",
              "      <td>No</td>\n",
              "      <td>Yes</td>\n",
              "      <td>Yes</td>\n",
              "      <td>Yes</td>\n",
              "      <td>No</td>\n",
              "      <td>Two year</td>\n",
              "      <td>Yes</td>\n",
              "      <td>Bank transfer (automatic)</td>\n",
              "      <td>52.55</td>\n",
              "      <td></td>\n",
              "      <td>No</td>\n",
              "    </tr>\n",
              "    <tr>\n",
              "      <th>753</th>\n",
              "      <td>Male</td>\n",
              "      <td>0</td>\n",
              "      <td>No</td>\n",
              "      <td>Yes</td>\n",
              "      <td>0</td>\n",
              "      <td>Yes</td>\n",
              "      <td>No</td>\n",
              "      <td>No</td>\n",
              "      <td>No internet service</td>\n",
              "      <td>No internet service</td>\n",
              "      <td>No internet service</td>\n",
              "      <td>No internet service</td>\n",
              "      <td>No internet service</td>\n",
              "      <td>No internet service</td>\n",
              "      <td>Two year</td>\n",
              "      <td>No</td>\n",
              "      <td>Mailed check</td>\n",
              "      <td>20.25</td>\n",
              "      <td></td>\n",
              "      <td>No</td>\n",
              "    </tr>\n",
              "    <tr>\n",
              "      <th>936</th>\n",
              "      <td>Female</td>\n",
              "      <td>0</td>\n",
              "      <td>Yes</td>\n",
              "      <td>Yes</td>\n",
              "      <td>0</td>\n",
              "      <td>Yes</td>\n",
              "      <td>No</td>\n",
              "      <td>DSL</td>\n",
              "      <td>Yes</td>\n",
              "      <td>Yes</td>\n",
              "      <td>Yes</td>\n",
              "      <td>No</td>\n",
              "      <td>Yes</td>\n",
              "      <td>Yes</td>\n",
              "      <td>Two year</td>\n",
              "      <td>No</td>\n",
              "      <td>Mailed check</td>\n",
              "      <td>80.85</td>\n",
              "      <td></td>\n",
              "      <td>No</td>\n",
              "    </tr>\n",
              "    <tr>\n",
              "      <th>1082</th>\n",
              "      <td>Male</td>\n",
              "      <td>0</td>\n",
              "      <td>Yes</td>\n",
              "      <td>Yes</td>\n",
              "      <td>0</td>\n",
              "      <td>Yes</td>\n",
              "      <td>Yes</td>\n",
              "      <td>No</td>\n",
              "      <td>No internet service</td>\n",
              "      <td>No internet service</td>\n",
              "      <td>No internet service</td>\n",
              "      <td>No internet service</td>\n",
              "      <td>No internet service</td>\n",
              "      <td>No internet service</td>\n",
              "      <td>Two year</td>\n",
              "      <td>No</td>\n",
              "      <td>Mailed check</td>\n",
              "      <td>25.75</td>\n",
              "      <td></td>\n",
              "      <td>No</td>\n",
              "    </tr>\n",
              "    <tr>\n",
              "      <th>1340</th>\n",
              "      <td>Female</td>\n",
              "      <td>0</td>\n",
              "      <td>Yes</td>\n",
              "      <td>Yes</td>\n",
              "      <td>0</td>\n",
              "      <td>No</td>\n",
              "      <td>No phone service</td>\n",
              "      <td>DSL</td>\n",
              "      <td>Yes</td>\n",
              "      <td>Yes</td>\n",
              "      <td>Yes</td>\n",
              "      <td>Yes</td>\n",
              "      <td>Yes</td>\n",
              "      <td>No</td>\n",
              "      <td>Two year</td>\n",
              "      <td>No</td>\n",
              "      <td>Credit card (automatic)</td>\n",
              "      <td>56.05</td>\n",
              "      <td></td>\n",
              "      <td>No</td>\n",
              "    </tr>\n",
              "    <tr>\n",
              "      <th>3331</th>\n",
              "      <td>Male</td>\n",
              "      <td>0</td>\n",
              "      <td>Yes</td>\n",
              "      <td>Yes</td>\n",
              "      <td>0</td>\n",
              "      <td>Yes</td>\n",
              "      <td>No</td>\n",
              "      <td>No</td>\n",
              "      <td>No internet service</td>\n",
              "      <td>No internet service</td>\n",
              "      <td>No internet service</td>\n",
              "      <td>No internet service</td>\n",
              "      <td>No internet service</td>\n",
              "      <td>No internet service</td>\n",
              "      <td>Two year</td>\n",
              "      <td>No</td>\n",
              "      <td>Mailed check</td>\n",
              "      <td>19.85</td>\n",
              "      <td></td>\n",
              "      <td>No</td>\n",
              "    </tr>\n",
              "    <tr>\n",
              "      <th>3826</th>\n",
              "      <td>Male</td>\n",
              "      <td>0</td>\n",
              "      <td>Yes</td>\n",
              "      <td>Yes</td>\n",
              "      <td>0</td>\n",
              "      <td>Yes</td>\n",
              "      <td>Yes</td>\n",
              "      <td>No</td>\n",
              "      <td>No internet service</td>\n",
              "      <td>No internet service</td>\n",
              "      <td>No internet service</td>\n",
              "      <td>No internet service</td>\n",
              "      <td>No internet service</td>\n",
              "      <td>No internet service</td>\n",
              "      <td>Two year</td>\n",
              "      <td>No</td>\n",
              "      <td>Mailed check</td>\n",
              "      <td>25.35</td>\n",
              "      <td></td>\n",
              "      <td>No</td>\n",
              "    </tr>\n",
              "    <tr>\n",
              "      <th>4380</th>\n",
              "      <td>Female</td>\n",
              "      <td>0</td>\n",
              "      <td>Yes</td>\n",
              "      <td>Yes</td>\n",
              "      <td>0</td>\n",
              "      <td>Yes</td>\n",
              "      <td>No</td>\n",
              "      <td>No</td>\n",
              "      <td>No internet service</td>\n",
              "      <td>No internet service</td>\n",
              "      <td>No internet service</td>\n",
              "      <td>No internet service</td>\n",
              "      <td>No internet service</td>\n",
              "      <td>No internet service</td>\n",
              "      <td>Two year</td>\n",
              "      <td>No</td>\n",
              "      <td>Mailed check</td>\n",
              "      <td>20.00</td>\n",
              "      <td></td>\n",
              "      <td>No</td>\n",
              "    </tr>\n",
              "    <tr>\n",
              "      <th>5218</th>\n",
              "      <td>Male</td>\n",
              "      <td>0</td>\n",
              "      <td>Yes</td>\n",
              "      <td>Yes</td>\n",
              "      <td>0</td>\n",
              "      <td>Yes</td>\n",
              "      <td>No</td>\n",
              "      <td>No</td>\n",
              "      <td>No internet service</td>\n",
              "      <td>No internet service</td>\n",
              "      <td>No internet service</td>\n",
              "      <td>No internet service</td>\n",
              "      <td>No internet service</td>\n",
              "      <td>No internet service</td>\n",
              "      <td>One year</td>\n",
              "      <td>Yes</td>\n",
              "      <td>Mailed check</td>\n",
              "      <td>19.70</td>\n",
              "      <td></td>\n",
              "      <td>No</td>\n",
              "    </tr>\n",
              "    <tr>\n",
              "      <th>6670</th>\n",
              "      <td>Female</td>\n",
              "      <td>0</td>\n",
              "      <td>Yes</td>\n",
              "      <td>Yes</td>\n",
              "      <td>0</td>\n",
              "      <td>Yes</td>\n",
              "      <td>Yes</td>\n",
              "      <td>DSL</td>\n",
              "      <td>No</td>\n",
              "      <td>Yes</td>\n",
              "      <td>Yes</td>\n",
              "      <td>Yes</td>\n",
              "      <td>Yes</td>\n",
              "      <td>No</td>\n",
              "      <td>Two year</td>\n",
              "      <td>No</td>\n",
              "      <td>Mailed check</td>\n",
              "      <td>73.35</td>\n",
              "      <td></td>\n",
              "      <td>No</td>\n",
              "    </tr>\n",
              "    <tr>\n",
              "      <th>6754</th>\n",
              "      <td>Male</td>\n",
              "      <td>0</td>\n",
              "      <td>No</td>\n",
              "      <td>Yes</td>\n",
              "      <td>0</td>\n",
              "      <td>Yes</td>\n",
              "      <td>Yes</td>\n",
              "      <td>DSL</td>\n",
              "      <td>Yes</td>\n",
              "      <td>Yes</td>\n",
              "      <td>No</td>\n",
              "      <td>Yes</td>\n",
              "      <td>No</td>\n",
              "      <td>No</td>\n",
              "      <td>Two year</td>\n",
              "      <td>Yes</td>\n",
              "      <td>Bank transfer (automatic)</td>\n",
              "      <td>61.90</td>\n",
              "      <td></td>\n",
              "      <td>No</td>\n",
              "    </tr>\n",
              "  </tbody>\n",
              "</table>\n",
              "</div>\n",
              "      <button class=\"colab-df-convert\" onclick=\"convertToInteractive('df-c533265f-fb32-4152-9af1-b72475741c35')\"\n",
              "              title=\"Convert this dataframe to an interactive table.\"\n",
              "              style=\"display:none;\">\n",
              "        \n",
              "  <svg xmlns=\"http://www.w3.org/2000/svg\" height=\"24px\"viewBox=\"0 0 24 24\"\n",
              "       width=\"24px\">\n",
              "    <path d=\"M0 0h24v24H0V0z\" fill=\"none\"/>\n",
              "    <path d=\"M18.56 5.44l.94 2.06.94-2.06 2.06-.94-2.06-.94-.94-2.06-.94 2.06-2.06.94zm-11 1L8.5 8.5l.94-2.06 2.06-.94-2.06-.94L8.5 2.5l-.94 2.06-2.06.94zm10 10l.94 2.06.94-2.06 2.06-.94-2.06-.94-.94-2.06-.94 2.06-2.06.94z\"/><path d=\"M17.41 7.96l-1.37-1.37c-.4-.4-.92-.59-1.43-.59-.52 0-1.04.2-1.43.59L10.3 9.45l-7.72 7.72c-.78.78-.78 2.05 0 2.83L4 21.41c.39.39.9.59 1.41.59.51 0 1.02-.2 1.41-.59l7.78-7.78 2.81-2.81c.8-.78.8-2.07 0-2.86zM5.41 20L4 18.59l7.72-7.72 1.47 1.35L5.41 20z\"/>\n",
              "  </svg>\n",
              "      </button>\n",
              "      \n",
              "  <style>\n",
              "    .colab-df-container {\n",
              "      display:flex;\n",
              "      flex-wrap:wrap;\n",
              "      gap: 12px;\n",
              "    }\n",
              "\n",
              "    .colab-df-convert {\n",
              "      background-color: #E8F0FE;\n",
              "      border: none;\n",
              "      border-radius: 50%;\n",
              "      cursor: pointer;\n",
              "      display: none;\n",
              "      fill: #1967D2;\n",
              "      height: 32px;\n",
              "      padding: 0 0 0 0;\n",
              "      width: 32px;\n",
              "    }\n",
              "\n",
              "    .colab-df-convert:hover {\n",
              "      background-color: #E2EBFA;\n",
              "      box-shadow: 0px 1px 2px rgba(60, 64, 67, 0.3), 0px 1px 3px 1px rgba(60, 64, 67, 0.15);\n",
              "      fill: #174EA6;\n",
              "    }\n",
              "\n",
              "    [theme=dark] .colab-df-convert {\n",
              "      background-color: #3B4455;\n",
              "      fill: #D2E3FC;\n",
              "    }\n",
              "\n",
              "    [theme=dark] .colab-df-convert:hover {\n",
              "      background-color: #434B5C;\n",
              "      box-shadow: 0px 1px 3px 1px rgba(0, 0, 0, 0.15);\n",
              "      filter: drop-shadow(0px 1px 2px rgba(0, 0, 0, 0.3));\n",
              "      fill: #FFFFFF;\n",
              "    }\n",
              "  </style>\n",
              "\n",
              "      <script>\n",
              "        const buttonEl =\n",
              "          document.querySelector('#df-c533265f-fb32-4152-9af1-b72475741c35 button.colab-df-convert');\n",
              "        buttonEl.style.display =\n",
              "          google.colab.kernel.accessAllowed ? 'block' : 'none';\n",
              "\n",
              "        async function convertToInteractive(key) {\n",
              "          const element = document.querySelector('#df-c533265f-fb32-4152-9af1-b72475741c35');\n",
              "          const dataTable =\n",
              "            await google.colab.kernel.invokeFunction('convertToInteractive',\n",
              "                                                     [key], {});\n",
              "          if (!dataTable) return;\n",
              "\n",
              "          const docLinkHtml = 'Like what you see? Visit the ' +\n",
              "            '<a target=\"_blank\" href=https://colab.research.google.com/notebooks/data_table.ipynb>data table notebook</a>'\n",
              "            + ' to learn more about interactive tables.';\n",
              "          element.innerHTML = '';\n",
              "          dataTable['output_type'] = 'display_data';\n",
              "          await google.colab.output.renderOutput(dataTable, element);\n",
              "          const docLink = document.createElement('div');\n",
              "          docLink.innerHTML = docLinkHtml;\n",
              "          element.appendChild(docLink);\n",
              "        }\n",
              "      </script>\n",
              "    </div>\n",
              "  </div>\n",
              "  "
            ],
            "text/plain": [
              "      gender  SeniorCitizen Partner  ... MonthlyCharges  TotalCharges Churn\n",
              "488   Female              0     Yes  ...          52.55                  No\n",
              "753     Male              0      No  ...          20.25                  No\n",
              "936   Female              0     Yes  ...          80.85                  No\n",
              "1082    Male              0     Yes  ...          25.75                  No\n",
              "1340  Female              0     Yes  ...          56.05                  No\n",
              "3331    Male              0     Yes  ...          19.85                  No\n",
              "3826    Male              0     Yes  ...          25.35                  No\n",
              "4380  Female              0     Yes  ...          20.00                  No\n",
              "5218    Male              0     Yes  ...          19.70                  No\n",
              "6670  Female              0     Yes  ...          73.35                  No\n",
              "6754    Male              0      No  ...          61.90                  No\n",
              "\n",
              "[11 rows x 20 columns]"
            ]
          },
          "metadata": {},
          "execution_count": 16
        }
      ]
    },
    {
      "cell_type": "code",
      "source": [
        "#dropping the tuples which has total charges null value\n",
        "#storing into a new dataframe\n",
        "dfnew=df[df.TotalCharges!=' ']\n",
        "dfnew.shape"
      ],
      "metadata": {
        "colab": {
          "base_uri": "https://localhost:8080/"
        },
        "id": "4NkudKX_fFt2",
        "outputId": "867a55e2-5c1f-4ba7-f5f7-35d310476f01"
      },
      "execution_count": null,
      "outputs": [
        {
          "output_type": "execute_result",
          "data": {
            "text/plain": [
              "(7032, 20)"
            ]
          },
          "metadata": {},
          "execution_count": 17
        }
      ]
    },
    {
      "cell_type": "code",
      "source": [
        "#now converting the totalcharges column object to number datatype\n",
        "dfnew.TotalCharges = pd.to_numeric(dfnew.TotalCharges)"
      ],
      "metadata": {
        "colab": {
          "base_uri": "https://localhost:8080/"
        },
        "id": "3wHyyhz7eo7F",
        "outputId": "aef34437-010c-40e6-8f8a-d59d009c86b7"
      },
      "execution_count": null,
      "outputs": [
        {
          "output_type": "stream",
          "name": "stderr",
          "text": [
            "/usr/local/lib/python3.7/dist-packages/pandas/core/generic.py:5170: SettingWithCopyWarning: \n",
            "A value is trying to be set on a copy of a slice from a DataFrame.\n",
            "Try using .loc[row_indexer,col_indexer] = value instead\n",
            "\n",
            "See the caveats in the documentation: https://pandas.pydata.org/pandas-docs/stable/user_guide/indexing.html#returning-a-view-versus-a-copy\n",
            "  self[name] = value\n"
          ]
        }
      ]
    },
    {
      "cell_type": "code",
      "source": [
        "dfnew.dtypes"
      ],
      "metadata": {
        "colab": {
          "base_uri": "https://localhost:8080/"
        },
        "id": "iYiw9qXBfzaN",
        "outputId": "22e0e307-0641-42ab-8fb6-084bebb08e50"
      },
      "execution_count": null,
      "outputs": [
        {
          "output_type": "execute_result",
          "data": {
            "text/plain": [
              "gender               object\n",
              "SeniorCitizen         int64\n",
              "Partner              object\n",
              "Dependents           object\n",
              "tenure                int64\n",
              "PhoneService         object\n",
              "MultipleLines        object\n",
              "InternetService      object\n",
              "OnlineSecurity       object\n",
              "OnlineBackup         object\n",
              "DeviceProtection     object\n",
              "TechSupport          object\n",
              "StreamingTV          object\n",
              "StreamingMovies      object\n",
              "Contract             object\n",
              "PaperlessBilling     object\n",
              "PaymentMethod        object\n",
              "MonthlyCharges      float64\n",
              "TotalCharges        float64\n",
              "Churn                object\n",
              "dtype: object"
            ]
          },
          "metadata": {},
          "execution_count": 19
        }
      ]
    },
    {
      "cell_type": "code",
      "source": [
        "#tenure is the no of months since the customer using the company services\n",
        "\n",
        "churn_no=dfnew[dfnew.Churn=='No'].tenure\n",
        "churn_yes=dfnew[dfnew.Churn=='Yes'].tenure\n",
        "print(churn_no)"
      ],
      "metadata": {
        "colab": {
          "base_uri": "https://localhost:8080/"
        },
        "id": "OBRz0KYhf3MU",
        "outputId": "74e992fc-b3dc-43c7-a332-ac491a1c06c3"
      },
      "execution_count": null,
      "outputs": [
        {
          "output_type": "stream",
          "name": "stdout",
          "text": [
            "0        1\n",
            "1       34\n",
            "3       45\n",
            "6       22\n",
            "7       10\n",
            "        ..\n",
            "7037    72\n",
            "7038    24\n",
            "7039    72\n",
            "7040    11\n",
            "7042    66\n",
            "Name: tenure, Length: 5163, dtype: int64\n"
          ]
        }
      ]
    },
    {
      "cell_type": "code",
      "source": [
        "print(churn_yes)"
      ],
      "metadata": {
        "colab": {
          "base_uri": "https://localhost:8080/"
        },
        "id": "CABL3JFwhDqF",
        "outputId": "d1d3d446-f6a2-4b86-c7e7-ffec1ccb3550"
      },
      "execution_count": null,
      "outputs": [
        {
          "output_type": "stream",
          "name": "stdout",
          "text": [
            "2        2\n",
            "4        2\n",
            "5        8\n",
            "8       28\n",
            "13      49\n",
            "        ..\n",
            "7021    12\n",
            "7026     9\n",
            "7032     1\n",
            "7034    67\n",
            "7041     4\n",
            "Name: tenure, Length: 1869, dtype: int64\n"
          ]
        }
      ]
    },
    {
      "cell_type": "code",
      "source": [
        "#plotting the graph for visualizing\n",
        "#customer churn according to tenure period\n",
        "plt.xlabel(\"tenure\")\n",
        "plt.ylabel(\"No.of customers\")\n",
        "plt.title(\"Customers churn according to tenure period\")\n",
        "plt.hist([churn_yes,churn_no],label=['Churn=Yes','Churn=No'])\n",
        "plt.legend()"
      ],
      "metadata": {
        "colab": {
          "base_uri": "https://localhost:8080/",
          "height": 367
        },
        "id": "pfyVqHv_hGUc",
        "outputId": "2b679add-4a56-4e3d-adec-f9c7bbbfe26d"
      },
      "execution_count": null,
      "outputs": [
        {
          "output_type": "stream",
          "name": "stderr",
          "text": [
            "/usr/local/lib/python3.7/dist-packages/numpy/core/_asarray.py:83: VisibleDeprecationWarning: Creating an ndarray from ragged nested sequences (which is a list-or-tuple of lists-or-tuples-or ndarrays with different lengths or shapes) is deprecated. If you meant to do this, you must specify 'dtype=object' when creating the ndarray\n",
            "  return array(a, dtype, copy=False, order=order)\n"
          ]
        },
        {
          "output_type": "execute_result",
          "data": {
            "text/plain": [
              "<matplotlib.legend.Legend at 0x7fa73c105990>"
            ]
          },
          "metadata": {},
          "execution_count": 22
        },
        {
          "output_type": "display_data",
          "data": {
            "image/png": "[encoded data removed]",
            "text/plain": [
              "<Figure size 432x288 with 1 Axes>"
            ]
          },
          "metadata": {
            "needs_background": "light"
          }
        }
      ]
    },
    {
      "cell_type": "code",
      "source": [
        "#customer churn according to monthly rates\n",
        "m_no=dfnew[dfnew.Churn=='No'].MonthlyCharges\n",
        "m_yes=dfnew[dfnew.Churn=='Yes'].MonthlyCharges\n",
        "plt.xlabel(\"Monthly Charges\")\n",
        "plt.ylabel(\"No.of customers\")\n",
        "plt.title(\"Customers churn according to monthlycharges\")\n",
        "\n",
        "\n",
        "plt.hist([m_yes,m_no],rwidth=0.95,label=['Churn=Yes','Churn=No'])\n",
        "plt.legend()\n"
      ],
      "metadata": {
        "colab": {
          "base_uri": "https://localhost:8080/",
          "height": 367
        },
        "id": "i-8KkplRyz9q",
        "outputId": "bc894784-ed39-44f1-eefd-8a082f54d4be"
      },
      "execution_count": null,
      "outputs": [
        {
          "output_type": "stream",
          "name": "stderr",
          "text": [
            "/usr/local/lib/python3.7/dist-packages/numpy/core/_asarray.py:83: VisibleDeprecationWarning: Creating an ndarray from ragged nested sequences (which is a list-or-tuple of lists-or-tuples-or ndarrays with different lengths or shapes) is deprecated. If you meant to do this, you must specify 'dtype=object' when creating the ndarray\n",
            "  return array(a, dtype, copy=False, order=order)\n"
          ]
        },
        {
          "output_type": "execute_result",
          "data": {
            "text/plain": [
              "<matplotlib.legend.Legend at 0x7fa73bbbb210>"
            ]
          },
          "metadata": {},
          "execution_count": 23
        },
        {
          "output_type": "display_data",
          "data": {
            "image/png": "[encoded data removed]",
            "text/plain": [
              "<Figure size 432x288 with 1 Axes>"
            ]
          },
          "metadata": {
            "needs_background": "light"
          }
        }
      ]
    },
    {
      "cell_type": "markdown",
      "source": [
        "**Step 4:** Data Cleaning"
      ],
      "metadata": {
        "id": "UGoL5oSfGu-T"
      }
    },
    {
      "cell_type": "code",
      "source": [
        "def print_unique_column_values(dfnew):\n",
        "    for column in dfnew:\n",
        "       if dfnew[column].dtypes=='object':\n",
        "           print(f'{column} : {dfnew[column].unique()}')"
      ],
      "metadata": {
        "id": "6XUm7K716ghM"
      },
      "execution_count": null,
      "outputs": []
    },
    {
      "cell_type": "code",
      "source": [
        "print_unique_column_values(dfnew)"
      ],
      "metadata": {
        "colab": {
          "base_uri": "https://localhost:8080/"
        },
        "id": "cIRzSQ8v8Vb0",
        "outputId": "74f666e1-fbc8-4128-a18b-7ae9063f7dab"
      },
      "execution_count": null,
      "outputs": [
        {
          "output_type": "stream",
          "name": "stdout",
          "text": [
            "gender : ['Female' 'Male']\n",
            "Partner : ['Yes' 'No']\n",
            "Dependents : ['No' 'Yes']\n",
            "PhoneService : ['No' 'Yes']\n",
            "MultipleLines : ['No phone service' 'No' 'Yes']\n",
            "InternetService : ['DSL' 'Fiber optic' 'No']\n",
            "OnlineSecurity : ['No' 'Yes' 'No internet service']\n",
            "OnlineBackup : ['Yes' 'No' 'No internet service']\n",
            "DeviceProtection : ['No' 'Yes' 'No internet service']\n",
            "TechSupport : ['No' 'Yes' 'No internet service']\n",
            "StreamingTV : ['No' 'Yes' 'No internet service']\n",
            "StreamingMovies : ['No' 'Yes' 'No internet service']\n",
            "Contract : ['Month-to-month' 'One year' 'Two year']\n",
            "PaperlessBilling : ['Yes' 'No']\n",
            "PaymentMethod : ['Electronic check' 'Mailed check' 'Bank transfer (automatic)'\n",
            " 'Credit card (automatic)']\n",
            "Churn : ['No' 'Yes']\n"
          ]
        }
      ]
    },
    {
      "cell_type": "code",
      "source": [
        "#replacing the values in rows\n",
        "dfnew.replace('No internet service','No',inplace=True)\n",
        "dfnew.replace('No phone service','No',inplace=True)\n"
      ],
      "metadata": {
        "colab": {
          "base_uri": "https://localhost:8080/"
        },
        "id": "MFmf7wpA8ciS",
        "outputId": "f3d9b395-e02f-4471-dae8-19a3889135f1"
      },
      "execution_count": null,
      "outputs": [
        {
          "output_type": "stream",
          "name": "stderr",
          "text": [
            "/usr/local/lib/python3.7/dist-packages/pandas/core/frame.py:4389: SettingWithCopyWarning: \n",
            "A value is trying to be set on a copy of a slice from a DataFrame\n",
            "\n",
            "See the caveats in the documentation: https://pandas.pydata.org/pandas-docs/stable/user_guide/indexing.html#returning-a-view-versus-a-copy\n",
            "  method=method,\n"
          ]
        }
      ]
    },
    {
      "cell_type": "code",
      "source": [
        "print_unique_column_values(dfnew)\n"
      ],
      "metadata": {
        "colab": {
          "base_uri": "https://localhost:8080/"
        },
        "id": "4yUrNSeZ-2dS",
        "outputId": "44047eb8-a8f8-4012-de54-6ce811a730c0"
      },
      "execution_count": null,
      "outputs": [
        {
          "output_type": "stream",
          "name": "stdout",
          "text": [
            "gender : ['Female' 'Male']\n",
            "Partner : ['Yes' 'No']\n",
            "Dependents : ['No' 'Yes']\n",
            "PhoneService : ['No' 'Yes']\n",
            "MultipleLines : ['No' 'Yes']\n",
            "InternetService : ['DSL' 'Fiber optic' 'No']\n",
            "OnlineSecurity : ['No' 'Yes']\n",
            "OnlineBackup : ['Yes' 'No']\n",
            "DeviceProtection : ['No' 'Yes']\n",
            "TechSupport : ['No' 'Yes']\n",
            "StreamingTV : ['No' 'Yes']\n",
            "StreamingMovies : ['No' 'Yes']\n",
            "Contract : ['Month-to-month' 'One year' 'Two year']\n",
            "PaperlessBilling : ['Yes' 'No']\n",
            "PaymentMethod : ['Electronic check' 'Mailed check' 'Bank transfer (automatic)'\n",
            " 'Credit card (automatic)']\n",
            "Churn : ['No' 'Yes']\n"
          ]
        }
      ]
    },
    {
      "cell_type": "code",
      "source": [
        "yes_no_columns = ['Partner','Dependents','PhoneService','MultipleLines','OnlineSecurity','OnlineBackup',\n",
        "                  'DeviceProtection','TechSupport','StreamingTV','StreamingMovies','PaperlessBilling','Churn']\n",
        "for col in yes_no_columns:\n",
        "    dfnew[col].replace({'Yes': 1,'No': 0},inplace=True)"
      ],
      "metadata": {
        "colab": {
          "base_uri": "https://localhost:8080/"
        },
        "id": "sooQC2ddFb5i",
        "outputId": "42f7a29c-d7be-4286-f6fc-a5f0741a6a32"
      },
      "execution_count": null,
      "outputs": [
        {
          "output_type": "stream",
          "name": "stderr",
          "text": [
            "/usr/local/lib/python3.7/dist-packages/pandas/core/series.py:4582: SettingWithCopyWarning: \n",
            "A value is trying to be set on a copy of a slice from a DataFrame\n",
            "\n",
            "See the caveats in the documentation: https://pandas.pydata.org/pandas-docs/stable/user_guide/indexing.html#returning-a-view-versus-a-copy\n",
            "  method=method,\n"
          ]
        }
      ]
    },
    {
      "cell_type": "code",
      "source": [
        "for col in dfnew:\n",
        "    print(f'{col}: {dfnew[col].unique()}') "
      ],
      "metadata": {
        "colab": {
          "base_uri": "https://localhost:8080/"
        },
        "id": "sL-xAOEtGU5W",
        "outputId": "0a7f953a-1509-41a1-e431-fc852d8318f8"
      },
      "execution_count": null,
      "outputs": [
        {
          "output_type": "stream",
          "name": "stdout",
          "text": [
            "gender: ['Female' 'Male']\n",
            "SeniorCitizen: [0 1]\n",
            "Partner: [1 0]\n",
            "Dependents: [0 1]\n",
            "tenure: [ 1 34  2 45  8 22 10 28 62 13 16 58 49 25 69 52 71 21 12 30 47 72 17 27\n",
            "  5 46 11 70 63 43 15 60 18 66  9  3 31 50 64 56  7 42 35 48 29 65 38 68\n",
            " 32 55 37 36 41  6  4 33 67 23 57 61 14 20 53 40 59 24 44 19 54 51 26 39]\n",
            "PhoneService: [0 1]\n",
            "MultipleLines: [0 1]\n",
            "InternetService: ['DSL' 'Fiber optic' 'No']\n",
            "OnlineSecurity: [0 1]\n",
            "OnlineBackup: [1 0]\n",
            "DeviceProtection: [0 1]\n",
            "TechSupport: [0 1]\n",
            "StreamingTV: [0 1]\n",
            "StreamingMovies: [0 1]\n",
            "Contract: ['Month-to-month' 'One year' 'Two year']\n",
            "PaperlessBilling: [1 0]\n",
            "PaymentMethod: ['Electronic check' 'Mailed check' 'Bank transfer (automatic)'\n",
            " 'Credit card (automatic)']\n",
            "MonthlyCharges: [29.85 56.95 53.85 ... 63.1  44.2  78.7 ]\n",
            "TotalCharges: [  29.85 1889.5   108.15 ...  346.45  306.6  6844.5 ]\n",
            "Churn: [0 1]\n"
          ]
        }
      ]
    },
    {
      "cell_type": "code",
      "source": [
        "dfnew.dtypes"
      ],
      "metadata": {
        "colab": {
          "base_uri": "https://localhost:8080/"
        },
        "id": "1Uu9VSM8FEnF",
        "outputId": "64bab288-b002-4d6e-b54a-d551b27e8e7a"
      },
      "execution_count": null,
      "outputs": [
        {
          "output_type": "execute_result",
          "data": {
            "text/plain": [
              "gender               object\n",
              "SeniorCitizen         int64\n",
              "Partner               int64\n",
              "Dependents            int64\n",
              "tenure                int64\n",
              "PhoneService          int64\n",
              "MultipleLines         int64\n",
              "InternetService      object\n",
              "OnlineSecurity        int64\n",
              "OnlineBackup          int64\n",
              "DeviceProtection      int64\n",
              "TechSupport           int64\n",
              "StreamingTV           int64\n",
              "StreamingMovies       int64\n",
              "Contract             object\n",
              "PaperlessBilling      int64\n",
              "PaymentMethod        object\n",
              "MonthlyCharges      float64\n",
              "TotalCharges        float64\n",
              "Churn                 int64\n",
              "dtype: object"
            ]
          },
          "metadata": {},
          "execution_count": 30
        }
      ]
    },
    {
      "cell_type": "code",
      "source": [
        "dfnew['gender'].replace({'Female': 1,'Male': 0},inplace=True)"
      ],
      "metadata": {
        "colab": {
          "base_uri": "https://localhost:8080/"
        },
        "id": "QuanFe37Gd2p",
        "outputId": "0c68a3db-a1dc-454c-c1bc-68a8462f5b1e"
      },
      "execution_count": null,
      "outputs": [
        {
          "output_type": "stream",
          "name": "stderr",
          "text": [
            "/usr/local/lib/python3.7/dist-packages/pandas/core/series.py:4582: SettingWithCopyWarning: \n",
            "A value is trying to be set on a copy of a slice from a DataFrame\n",
            "\n",
            "See the caveats in the documentation: https://pandas.pydata.org/pandas-docs/stable/user_guide/indexing.html#returning-a-view-versus-a-copy\n",
            "  method=method,\n"
          ]
        }
      ]
    },
    {
      "cell_type": "code",
      "source": [
        "dfnew['gender'].unique()"
      ],
      "metadata": {
        "colab": {
          "base_uri": "https://localhost:8080/"
        },
        "id": "d88POsMAHbra",
        "outputId": "53a21415-e795-4112-8653-0399bba7138f"
      },
      "execution_count": null,
      "outputs": [
        {
          "output_type": "execute_result",
          "data": {
            "text/plain": [
              "array([1, 0])"
            ]
          },
          "metadata": {},
          "execution_count": 32
        }
      ]
    },
    {
      "cell_type": "code",
      "source": [
        "#performing one hot encoding for remaining columns which has strings datatype\n",
        "pd.get_dummies(data=dfnew,columns=['InternetService'])"
      ],
      "metadata": {
        "colab": {
          "base_uri": "https://localhost:8080/",
          "height": 644
        },
        "id": "ofpz_nScH1VU",
        "outputId": "badd19bb-800b-4e2d-c9ff-d4c3c8567197"
      },
      "execution_count": null,
      "outputs": [
        {
          "output_type": "execute_result",
          "data": {
            "text/html": [
              "\n",
              "  <div id=\"df-fecf876f-3543-4680-a9b2-46637d0ca169\">\n",
              "    <div class=\"colab-df-container\">\n",
              "      <div>\n",
              "<style scoped>\n",
              "    .dataframe tbody tr th:only-of-type {\n",
              "        vertical-align: middle;\n",
              "    }\n",
              "\n",
              "    .dataframe tbody tr th {\n",
              "        vertical-align: top;\n",
              "    }\n",
              "\n",
              "    .dataframe thead th {\n",
              "        text-align: right;\n",
              "    }\n",
              "</style>\n",
              "<table border=\"1\" class=\"dataframe\">\n",
              "  <thead>\n",
              "    <tr style=\"text-align: right;\">\n",
              "      <th></th>\n",
              "      <th>gender</th>\n",
              "      <th>SeniorCitizen</th>\n",
              "      <th>Partner</th>\n",
              "      <th>Dependents</th>\n",
              "      <th>tenure</th>\n",
              "      <th>PhoneService</th>\n",
              "      <th>MultipleLines</th>\n",
              "      <th>OnlineSecurity</th>\n",
              "      <th>OnlineBackup</th>\n",
              "      <th>DeviceProtection</th>\n",
              "      <th>TechSupport</th>\n",
              "      <th>StreamingTV</th>\n",
              "      <th>StreamingMovies</th>\n",
              "      <th>Contract</th>\n",
              "      <th>PaperlessBilling</th>\n",
              "      <th>PaymentMethod</th>\n",
              "      <th>MonthlyCharges</th>\n",
              "      <th>TotalCharges</th>\n",
              "      <th>Churn</th>\n",
              "      <th>InternetService_DSL</th>\n",
              "      <th>InternetService_Fiber optic</th>\n",
              "      <th>InternetService_No</th>\n",
              "    </tr>\n",
              "  </thead>\n",
              "  <tbody>\n",
              "    <tr>\n",
              "      <th>0</th>\n",
              "      <td>1</td>\n",
              "      <td>0</td>\n",
              "      <td>1</td>\n",
              "      <td>0</td>\n",
              "      <td>1</td>\n",
              "      <td>0</td>\n",
              "      <td>0</td>\n",
              "      <td>0</td>\n",
              "      <td>1</td>\n",
              "      <td>0</td>\n",
              "      <td>0</td>\n",
              "      <td>0</td>\n",
              "      <td>0</td>\n",
              "      <td>Month-to-month</td>\n",
              "      <td>1</td>\n",
              "      <td>Electronic check</td>\n",
              "      <td>29.85</td>\n",
              "      <td>29.85</td>\n",
              "      <td>0</td>\n",
              "      <td>1</td>\n",
              "      <td>0</td>\n",
              "      <td>0</td>\n",
              "    </tr>\n",
              "    <tr>\n",
              "      <th>1</th>\n",
              "      <td>0</td>\n",
              "      <td>0</td>\n",
              "      <td>0</td>\n",
              "      <td>0</td>\n",
              "      <td>34</td>\n",
              "      <td>1</td>\n",
              "      <td>0</td>\n",
              "      <td>1</td>\n",
              "      <td>0</td>\n",
              "      <td>1</td>\n",
              "      <td>0</td>\n",
              "      <td>0</td>\n",
              "      <td>0</td>\n",
              "      <td>One year</td>\n",
              "      <td>0</td>\n",
              "      <td>Mailed check</td>\n",
              "      <td>56.95</td>\n",
              "      <td>1889.50</td>\n",
              "      <td>0</td>\n",
              "      <td>1</td>\n",
              "      <td>0</td>\n",
              "      <td>0</td>\n",
              "    </tr>\n",
              "    <tr>\n",
              "      <th>2</th>\n",
              "      <td>0</td>\n",
              "      <td>0</td>\n",
              "      <td>0</td>\n",
              "      <td>0</td>\n",
              "      <td>2</td>\n",
              "      <td>1</td>\n",
              "      <td>0</td>\n",
              "      <td>1</td>\n",
              "      <td>1</td>\n",
              "      <td>0</td>\n",
              "      <td>0</td>\n",
              "      <td>0</td>\n",
              "      <td>0</td>\n",
              "      <td>Month-to-month</td>\n",
              "      <td>1</td>\n",
              "      <td>Mailed check</td>\n",
              "      <td>53.85</td>\n",
              "      <td>108.15</td>\n",
              "      <td>1</td>\n",
              "      <td>1</td>\n",
              "      <td>0</td>\n",
              "      <td>0</td>\n",
              "    </tr>\n",
              "    <tr>\n",
              "      <th>3</th>\n",
              "      <td>0</td>\n",
              "      <td>0</td>\n",
              "      <td>0</td>\n",
              "      <td>0</td>\n",
              "      <td>45</td>\n",
              "      <td>0</td>\n",
              "      <td>0</td>\n",
              "      <td>1</td>\n",
              "      <td>0</td>\n",
              "      <td>1</td>\n",
              "      <td>1</td>\n",
              "      <td>0</td>\n",
              "      <td>0</td>\n",
              "      <td>One year</td>\n",
              "      <td>0</td>\n",
              "      <td>Bank transfer (automatic)</td>\n",
              "      <td>42.30</td>\n",
              "      <td>1840.75</td>\n",
              "      <td>0</td>\n",
              "      <td>1</td>\n",
              "      <td>0</td>\n",
              "      <td>0</td>\n",
              "    </tr>\n",
              "    <tr>\n",
              "      <th>4</th>\n",
              "      <td>1</td>\n",
              "      <td>0</td>\n",
              "      <td>0</td>\n",
              "      <td>0</td>\n",
              "      <td>2</td>\n",
              "      <td>1</td>\n",
              "      <td>0</td>\n",
              "      <td>0</td>\n",
              "      <td>0</td>\n",
              "      <td>0</td>\n",
              "      <td>0</td>\n",
              "      <td>0</td>\n",
              "      <td>0</td>\n",
              "      <td>Month-to-month</td>\n",
              "      <td>1</td>\n",
              "      <td>Electronic check</td>\n",
              "      <td>70.70</td>\n",
              "      <td>151.65</td>\n",
              "      <td>1</td>\n",
              "      <td>0</td>\n",
              "      <td>1</td>\n",
              "      <td>0</td>\n",
              "    </tr>\n",
              "    <tr>\n",
              "      <th>...</th>\n",
              "      <td>...</td>\n",
              "      <td>...</td>\n",
              "      <td>...</td>\n",
              "      <td>...</td>\n",
              "      <td>...</td>\n",
              "      <td>...</td>\n",
              "      <td>...</td>\n",
              "      <td>...</td>\n",
              "      <td>...</td>\n",
              "      <td>...</td>\n",
              "      <td>...</td>\n",
              "      <td>...</td>\n",
              "      <td>...</td>\n",
              "      <td>...</td>\n",
              "      <td>...</td>\n",
              "      <td>...</td>\n",
              "      <td>...</td>\n",
              "      <td>...</td>\n",
              "      <td>...</td>\n",
              "      <td>...</td>\n",
              "      <td>...</td>\n",
              "      <td>...</td>\n",
              "    </tr>\n",
              "    <tr>\n",
              "      <th>7038</th>\n",
              "      <td>0</td>\n",
              "      <td>0</td>\n",
              "      <td>1</td>\n",
              "      <td>1</td>\n",
              "      <td>24</td>\n",
              "      <td>1</td>\n",
              "      <td>1</td>\n",
              "      <td>1</td>\n",
              "      <td>0</td>\n",
              "      <td>1</td>\n",
              "      <td>1</td>\n",
              "      <td>1</td>\n",
              "      <td>1</td>\n",
              "      <td>One year</td>\n",
              "      <td>1</td>\n",
              "      <td>Mailed check</td>\n",
              "      <td>84.80</td>\n",
              "      <td>1990.50</td>\n",
              "      <td>0</td>\n",
              "      <td>1</td>\n",
              "      <td>0</td>\n",
              "      <td>0</td>\n",
              "    </tr>\n",
              "    <tr>\n",
              "      <th>7039</th>\n",
              "      <td>1</td>\n",
              "      <td>0</td>\n",
              "      <td>1</td>\n",
              "      <td>1</td>\n",
              "      <td>72</td>\n",
              "      <td>1</td>\n",
              "      <td>1</td>\n",
              "      <td>0</td>\n",
              "      <td>1</td>\n",
              "      <td>1</td>\n",
              "      <td>0</td>\n",
              "      <td>1</td>\n",
              "      <td>1</td>\n",
              "      <td>One year</td>\n",
              "      <td>1</td>\n",
              "      <td>Credit card (automatic)</td>\n",
              "      <td>103.20</td>\n",
              "      <td>7362.90</td>\n",
              "      <td>0</td>\n",
              "      <td>0</td>\n",
              "      <td>1</td>\n",
              "      <td>0</td>\n",
              "    </tr>\n",
              "    <tr>\n",
              "      <th>7040</th>\n",
              "      <td>1</td>\n",
              "      <td>0</td>\n",
              "      <td>1</td>\n",
              "      <td>1</td>\n",
              "      <td>11</td>\n",
              "      <td>0</td>\n",
              "      <td>0</td>\n",
              "      <td>1</td>\n",
              "      <td>0</td>\n",
              "      <td>0</td>\n",
              "      <td>0</td>\n",
              "      <td>0</td>\n",
              "      <td>0</td>\n",
              "      <td>Month-to-month</td>\n",
              "      <td>1</td>\n",
              "      <td>Electronic check</td>\n",
              "      <td>29.60</td>\n",
              "      <td>346.45</td>\n",
              "      <td>0</td>\n",
              "      <td>1</td>\n",
              "      <td>0</td>\n",
              "      <td>0</td>\n",
              "    </tr>\n",
              "    <tr>\n",
              "      <th>7041</th>\n",
              "      <td>0</td>\n",
              "      <td>1</td>\n",
              "      <td>1</td>\n",
              "      <td>0</td>\n",
              "      <td>4</td>\n",
              "      <td>1</td>\n",
              "      <td>1</td>\n",
              "      <td>0</td>\n",
              "      <td>0</td>\n",
              "      <td>0</td>\n",
              "      <td>0</td>\n",
              "      <td>0</td>\n",
              "      <td>0</td>\n",
              "      <td>Month-to-month</td>\n",
              "      <td>1</td>\n",
              "      <td>Mailed check</td>\n",
              "      <td>74.40</td>\n",
              "      <td>306.60</td>\n",
              "      <td>1</td>\n",
              "      <td>0</td>\n",
              "      <td>1</td>\n",
              "      <td>0</td>\n",
              "    </tr>\n",
              "    <tr>\n",
              "      <th>7042</th>\n",
              "      <td>0</td>\n",
              "      <td>0</td>\n",
              "      <td>0</td>\n",
              "      <td>0</td>\n",
              "      <td>66</td>\n",
              "      <td>1</td>\n",
              "      <td>0</td>\n",
              "      <td>1</td>\n",
              "      <td>0</td>\n",
              "      <td>1</td>\n",
              "      <td>1</td>\n",
              "      <td>1</td>\n",
              "      <td>1</td>\n",
              "      <td>Two year</td>\n",
              "      <td>1</td>\n",
              "      <td>Bank transfer (automatic)</td>\n",
              "      <td>105.65</td>\n",
              "      <td>6844.50</td>\n",
              "      <td>0</td>\n",
              "      <td>0</td>\n",
              "      <td>1</td>\n",
              "      <td>0</td>\n",
              "    </tr>\n",
              "  </tbody>\n",
              "</table>\n",
              "<p>7032 rows × 22 columns</p>\n",
              "</div>\n",
              "      <button class=\"colab-df-convert\" onclick=\"convertToInteractive('df-fecf876f-3543-4680-a9b2-46637d0ca169')\"\n",
              "              title=\"Convert this dataframe to an interactive table.\"\n",
              "              style=\"display:none;\">\n",
              "        \n",
              "  <svg xmlns=\"http://www.w3.org/2000/svg\" height=\"24px\"viewBox=\"0 0 24 24\"\n",
              "       width=\"24px\">\n",
              "    <path d=\"M0 0h24v24H0V0z\" fill=\"none\"/>\n",
              "    <path d=\"M18.56 5.44l.94 2.06.94-2.06 2.06-.94-2.06-.94-.94-2.06-.94 2.06-2.06.94zm-11 1L8.5 8.5l.94-2.06 2.06-.94-2.06-.94L8.5 2.5l-.94 2.06-2.06.94zm10 10l.94 2.06.94-2.06 2.06-.94-2.06-.94-.94-2.06-.94 2.06-2.06.94z\"/><path d=\"M17.41 7.96l-1.37-1.37c-.4-.4-.92-.59-1.43-.59-.52 0-1.04.2-1.43.59L10.3 9.45l-7.72 7.72c-.78.78-.78 2.05 0 2.83L4 21.41c.39.39.9.59 1.41.59.51 0 1.02-.2 1.41-.59l7.78-7.78 2.81-2.81c.8-.78.8-2.07 0-2.86zM5.41 20L4 18.59l7.72-7.72 1.47 1.35L5.41 20z\"/>\n",
              "  </svg>\n",
              "      </button>\n",
              "      \n",
              "  <style>\n",
              "    .colab-df-container {\n",
              "      display:flex;\n",
              "      flex-wrap:wrap;\n",
              "      gap: 12px;\n",
              "    }\n",
              "\n",
              "    .colab-df-convert {\n",
              "      background-color: #E8F0FE;\n",
              "      border: none;\n",
              "      border-radius: 50%;\n",
              "      cursor: pointer;\n",
              "      display: none;\n",
              "      fill: #1967D2;\n",
              "      height: 32px;\n",
              "      padding: 0 0 0 0;\n",
              "      width: 32px;\n",
              "    }\n",
              "\n",
              "    .colab-df-convert:hover {\n",
              "      background-color: #E2EBFA;\n",
              "      box-shadow: 0px 1px 2px rgba(60, 64, 67, 0.3), 0px 1px 3px 1px rgba(60, 64, 67, 0.15);\n",
              "      fill: #174EA6;\n",
              "    }\n",
              "\n",
              "    [theme=dark] .colab-df-convert {\n",
              "      background-color: #3B4455;\n",
              "      fill: #D2E3FC;\n",
              "    }\n",
              "\n",
              "    [theme=dark] .colab-df-convert:hover {\n",
              "      background-color: #434B5C;\n",
              "      box-shadow: 0px 1px 3px 1px rgba(0, 0, 0, 0.15);\n",
              "      filter: drop-shadow(0px 1px 2px rgba(0, 0, 0, 0.3));\n",
              "      fill: #FFFFFF;\n",
              "    }\n",
              "  </style>\n",
              "\n",
              "      <script>\n",
              "        const buttonEl =\n",
              "          document.querySelector('#df-fecf876f-3543-4680-a9b2-46637d0ca169 button.colab-df-convert');\n",
              "        buttonEl.style.display =\n",
              "          google.colab.kernel.accessAllowed ? 'block' : 'none';\n",
              "\n",
              "        async function convertToInteractive(key) {\n",
              "          const element = document.querySelector('#df-fecf876f-3543-4680-a9b2-46637d0ca169');\n",
              "          const dataTable =\n",
              "            await google.colab.kernel.invokeFunction('convertToInteractive',\n",
              "                                                     [key], {});\n",
              "          if (!dataTable) return;\n",
              "\n",
              "          const docLinkHtml = 'Like what you see? Visit the ' +\n",
              "            '<a target=\"_blank\" href=https://colab.research.google.com/notebooks/data_table.ipynb>data table notebook</a>'\n",
              "            + ' to learn more about interactive tables.';\n",
              "          element.innerHTML = '';\n",
              "          dataTable['output_type'] = 'display_data';\n",
              "          await google.colab.output.renderOutput(dataTable, element);\n",
              "          const docLink = document.createElement('div');\n",
              "          docLink.innerHTML = docLinkHtml;\n",
              "          element.appendChild(docLink);\n",
              "        }\n",
              "      </script>\n",
              "    </div>\n",
              "  </div>\n",
              "  "
            ],
            "text/plain": [
              "      gender  SeniorCitizen  ...  InternetService_Fiber optic  InternetService_No\n",
              "0          1              0  ...                            0                   0\n",
              "1          0              0  ...                            0                   0\n",
              "2          0              0  ...                            0                   0\n",
              "3          0              0  ...                            0                   0\n",
              "4          1              0  ...                            1                   0\n",
              "...      ...            ...  ...                          ...                 ...\n",
              "7038       0              0  ...                            0                   0\n",
              "7039       1              0  ...                            1                   0\n",
              "7040       1              0  ...                            0                   0\n",
              "7041       0              1  ...                            1                   0\n",
              "7042       0              0  ...                            1                   0\n",
              "\n",
              "[7032 rows x 22 columns]"
            ]
          },
          "metadata": {},
          "execution_count": 33
        }
      ]
    },
    {
      "cell_type": "code",
      "source": [
        "df2=pd.get_dummies(data=dfnew,columns=['InternetService','Contract','PaymentMethod'])\n",
        "df2.columns"
      ],
      "metadata": {
        "colab": {
          "base_uri": "https://localhost:8080/"
        },
        "id": "x95hgOJPIL3x",
        "outputId": "f9c41e30-1729-4f51-ab57-dc6bc4c48fbd"
      },
      "execution_count": null,
      "outputs": [
        {
          "output_type": "execute_result",
          "data": {
            "text/plain": [
              "Index(['gender', 'SeniorCitizen', 'Partner', 'Dependents', 'tenure',\n",
              "       'PhoneService', 'MultipleLines', 'OnlineSecurity', 'OnlineBackup',\n",
              "       'DeviceProtection', 'TechSupport', 'StreamingTV', 'StreamingMovies',\n",
              "       'PaperlessBilling', 'MonthlyCharges', 'TotalCharges', 'Churn',\n",
              "       'InternetService_DSL', 'InternetService_Fiber optic',\n",
              "       'InternetService_No', 'Contract_Month-to-month', 'Contract_One year',\n",
              "       'Contract_Two year', 'PaymentMethod_Bank transfer (automatic)',\n",
              "       'PaymentMethod_Credit card (automatic)',\n",
              "       'PaymentMethod_Electronic check', 'PaymentMethod_Mailed check'],\n",
              "      dtype='object')"
            ]
          },
          "metadata": {},
          "execution_count": 34
        }
      ]
    },
    {
      "cell_type": "code",
      "source": [
        "df2.shape"
      ],
      "metadata": {
        "colab": {
          "base_uri": "https://localhost:8080/"
        },
        "id": "9gio9Zo2I_N1",
        "outputId": "09b3a35e-ff39-46c0-93d3-cb9ffeaebe77"
      },
      "execution_count": null,
      "outputs": [
        {
          "output_type": "execute_result",
          "data": {
            "text/plain": [
              "(7032, 27)"
            ]
          },
          "metadata": {},
          "execution_count": 35
        }
      ]
    },
    {
      "cell_type": "code",
      "source": [
        "#Remaining columns are Monthly charges,Total charges,tenure\n",
        "#scaling the values using minmaxscaler. It will just scale the values to 0 to 1\n",
        "scalingColumns=['tenure','MonthlyCharges','TotalCharges']\n",
        "from sklearn.preprocessing import MinMaxScaler\n",
        "scaler=MinMaxScaler()\n",
        "df2[scalingColumns]=scaler.fit_transform(df2[scalingColumns])"
      ],
      "metadata": {
        "id": "7RxdLeirJnRJ"
      },
      "execution_count": null,
      "outputs": []
    },
    {
      "cell_type": "code",
      "source": [
        "df2.head()"
      ],
      "metadata": {
        "colab": {
          "base_uri": "https://localhost:8080/",
          "height": 305
        },
        "id": "VN_ya2eyNGH3",
        "outputId": "4862992a-63d4-42e1-8d93-195f4d0c7f57"
      },
      "execution_count": null,
      "outputs": [
        {
          "output_type": "execute_result",
          "data": {
            "text/html": [
              "\n",
              "  <div id=\"df-612257d5-9e71-41d1-9b8d-c0a08fdd3a46\">\n",
              "    <div class=\"colab-df-container\">\n",
              "      <div>\n",
              "<style scoped>\n",
              "    .dataframe tbody tr th:only-of-type {\n",
              "        vertical-align: middle;\n",
              "    }\n",
              "\n",
              "    .dataframe tbody tr th {\n",
              "        vertical-align: top;\n",
              "    }\n",
              "\n",
              "    .dataframe thead th {\n",
              "        text-align: right;\n",
              "    }\n",
              "</style>\n",
              "<table border=\"1\" class=\"dataframe\">\n",
              "  <thead>\n",
              "    <tr style=\"text-align: right;\">\n",
              "      <th></th>\n",
              "      <th>gender</th>\n",
              "      <th>SeniorCitizen</th>\n",
              "      <th>Partner</th>\n",
              "      <th>Dependents</th>\n",
              "      <th>tenure</th>\n",
              "      <th>PhoneService</th>\n",
              "      <th>MultipleLines</th>\n",
              "      <th>OnlineSecurity</th>\n",
              "      <th>OnlineBackup</th>\n",
              "      <th>DeviceProtection</th>\n",
              "      <th>TechSupport</th>\n",
              "      <th>StreamingTV</th>\n",
              "      <th>StreamingMovies</th>\n",
              "      <th>PaperlessBilling</th>\n",
              "      <th>MonthlyCharges</th>\n",
              "      <th>TotalCharges</th>\n",
              "      <th>Churn</th>\n",
              "      <th>InternetService_DSL</th>\n",
              "      <th>InternetService_Fiber optic</th>\n",
              "      <th>InternetService_No</th>\n",
              "      <th>Contract_Month-to-month</th>\n",
              "      <th>Contract_One year</th>\n",
              "      <th>Contract_Two year</th>\n",
              "      <th>PaymentMethod_Bank transfer (automatic)</th>\n",
              "      <th>PaymentMethod_Credit card (automatic)</th>\n",
              "      <th>PaymentMethod_Electronic check</th>\n",
              "      <th>PaymentMethod_Mailed check</th>\n",
              "    </tr>\n",
              "  </thead>\n",
              "  <tbody>\n",
              "    <tr>\n",
              "      <th>0</th>\n",
              "      <td>1</td>\n",
              "      <td>0</td>\n",
              "      <td>1</td>\n",
              "      <td>0</td>\n",
              "      <td>0.000000</td>\n",
              "      <td>0</td>\n",
              "      <td>0</td>\n",
              "      <td>0</td>\n",
              "      <td>1</td>\n",
              "      <td>0</td>\n",
              "      <td>0</td>\n",
              "      <td>0</td>\n",
              "      <td>0</td>\n",
              "      <td>1</td>\n",
              "      <td>0.115423</td>\n",
              "      <td>0.001275</td>\n",
              "      <td>0</td>\n",
              "      <td>1</td>\n",
              "      <td>0</td>\n",
              "      <td>0</td>\n",
              "      <td>1</td>\n",
              "      <td>0</td>\n",
              "      <td>0</td>\n",
              "      <td>0</td>\n",
              "      <td>0</td>\n",
              "      <td>1</td>\n",
              "      <td>0</td>\n",
              "    </tr>\n",
              "    <tr>\n",
              "      <th>1</th>\n",
              "      <td>0</td>\n",
              "      <td>0</td>\n",
              "      <td>0</td>\n",
              "      <td>0</td>\n",
              "      <td>0.464789</td>\n",
              "      <td>1</td>\n",
              "      <td>0</td>\n",
              "      <td>1</td>\n",
              "      <td>0</td>\n",
              "      <td>1</td>\n",
              "      <td>0</td>\n",
              "      <td>0</td>\n",
              "      <td>0</td>\n",
              "      <td>0</td>\n",
              "      <td>0.385075</td>\n",
              "      <td>0.215867</td>\n",
              "      <td>0</td>\n",
              "      <td>1</td>\n",
              "      <td>0</td>\n",
              "      <td>0</td>\n",
              "      <td>0</td>\n",
              "      <td>1</td>\n",
              "      <td>0</td>\n",
              "      <td>0</td>\n",
              "      <td>0</td>\n",
              "      <td>0</td>\n",
              "      <td>1</td>\n",
              "    </tr>\n",
              "    <tr>\n",
              "      <th>2</th>\n",
              "      <td>0</td>\n",
              "      <td>0</td>\n",
              "      <td>0</td>\n",
              "      <td>0</td>\n",
              "      <td>0.014085</td>\n",
              "      <td>1</td>\n",
              "      <td>0</td>\n",
              "      <td>1</td>\n",
              "      <td>1</td>\n",
              "      <td>0</td>\n",
              "      <td>0</td>\n",
              "      <td>0</td>\n",
              "      <td>0</td>\n",
              "      <td>1</td>\n",
              "      <td>0.354229</td>\n",
              "      <td>0.010310</td>\n",
              "      <td>1</td>\n",
              "      <td>1</td>\n",
              "      <td>0</td>\n",
              "      <td>0</td>\n",
              "      <td>1</td>\n",
              "      <td>0</td>\n",
              "      <td>0</td>\n",
              "      <td>0</td>\n",
              "      <td>0</td>\n",
              "      <td>0</td>\n",
              "      <td>1</td>\n",
              "    </tr>\n",
              "    <tr>\n",
              "      <th>3</th>\n",
              "      <td>0</td>\n",
              "      <td>0</td>\n",
              "      <td>0</td>\n",
              "      <td>0</td>\n",
              "      <td>0.619718</td>\n",
              "      <td>0</td>\n",
              "      <td>0</td>\n",
              "      <td>1</td>\n",
              "      <td>0</td>\n",
              "      <td>1</td>\n",
              "      <td>1</td>\n",
              "      <td>0</td>\n",
              "      <td>0</td>\n",
              "      <td>0</td>\n",
              "      <td>0.239303</td>\n",
              "      <td>0.210241</td>\n",
              "      <td>0</td>\n",
              "      <td>1</td>\n",
              "      <td>0</td>\n",
              "      <td>0</td>\n",
              "      <td>0</td>\n",
              "      <td>1</td>\n",
              "      <td>0</td>\n",
              "      <td>1</td>\n",
              "      <td>0</td>\n",
              "      <td>0</td>\n",
              "      <td>0</td>\n",
              "    </tr>\n",
              "    <tr>\n",
              "      <th>4</th>\n",
              "      <td>1</td>\n",
              "      <td>0</td>\n",
              "      <td>0</td>\n",
              "      <td>0</td>\n",
              "      <td>0.014085</td>\n",
              "      <td>1</td>\n",
              "      <td>0</td>\n",
              "      <td>0</td>\n",
              "      <td>0</td>\n",
              "      <td>0</td>\n",
              "      <td>0</td>\n",
              "      <td>0</td>\n",
              "      <td>0</td>\n",
              "      <td>1</td>\n",
              "      <td>0.521891</td>\n",
              "      <td>0.015330</td>\n",
              "      <td>1</td>\n",
              "      <td>0</td>\n",
              "      <td>1</td>\n",
              "      <td>0</td>\n",
              "      <td>1</td>\n",
              "      <td>0</td>\n",
              "      <td>0</td>\n",
              "      <td>0</td>\n",
              "      <td>0</td>\n",
              "      <td>1</td>\n",
              "      <td>0</td>\n",
              "    </tr>\n",
              "  </tbody>\n",
              "</table>\n",
              "</div>\n",
              "      <button class=\"colab-df-convert\" onclick=\"convertToInteractive('df-612257d5-9e71-41d1-9b8d-c0a08fdd3a46')\"\n",
              "              title=\"Convert this dataframe to an interactive table.\"\n",
              "              style=\"display:none;\">\n",
              "        \n",
              "  <svg xmlns=\"http://www.w3.org/2000/svg\" height=\"24px\"viewBox=\"0 0 24 24\"\n",
              "       width=\"24px\">\n",
              "    <path d=\"M0 0h24v24H0V0z\" fill=\"none\"/>\n",
              "    <path d=\"M18.56 5.44l.94 2.06.94-2.06 2.06-.94-2.06-.94-.94-2.06-.94 2.06-2.06.94zm-11 1L8.5 8.5l.94-2.06 2.06-.94-2.06-.94L8.5 2.5l-.94 2.06-2.06.94zm10 10l.94 2.06.94-2.06 2.06-.94-2.06-.94-.94-2.06-.94 2.06-2.06.94z\"/><path d=\"M17.41 7.96l-1.37-1.37c-.4-.4-.92-.59-1.43-.59-.52 0-1.04.2-1.43.59L10.3 9.45l-7.72 7.72c-.78.78-.78 2.05 0 2.83L4 21.41c.39.39.9.59 1.41.59.51 0 1.02-.2 1.41-.59l7.78-7.78 2.81-2.81c.8-.78.8-2.07 0-2.86zM5.41 20L4 18.59l7.72-7.72 1.47 1.35L5.41 20z\"/>\n",
              "  </svg>\n",
              "      </button>\n",
              "      \n",
              "  <style>\n",
              "    .colab-df-container {\n",
              "      display:flex;\n",
              "      flex-wrap:wrap;\n",
              "      gap: 12px;\n",
              "    }\n",
              "\n",
              "    .colab-df-convert {\n",
              "      background-color: #E8F0FE;\n",
              "      border: none;\n",
              "      border-radius: 50%;\n",
              "      cursor: pointer;\n",
              "      display: none;\n",
              "      fill: #1967D2;\n",
              "      height: 32px;\n",
              "      padding: 0 0 0 0;\n",
              "      width: 32px;\n",
              "    }\n",
              "\n",
              "    .colab-df-convert:hover {\n",
              "      background-color: #E2EBFA;\n",
              "      box-shadow: 0px 1px 2px rgba(60, 64, 67, 0.3), 0px 1px 3px 1px rgba(60, 64, 67, 0.15);\n",
              "      fill: #174EA6;\n",
              "    }\n",
              "\n",
              "    [theme=dark] .colab-df-convert {\n",
              "      background-color: #3B4455;\n",
              "      fill: #D2E3FC;\n",
              "    }\n",
              "\n",
              "    [theme=dark] .colab-df-convert:hover {\n",
              "      background-color: #434B5C;\n",
              "      box-shadow: 0px 1px 3px 1px rgba(0, 0, 0, 0.15);\n",
              "      filter: drop-shadow(0px 1px 2px rgba(0, 0, 0, 0.3));\n",
              "      fill: #FFFFFF;\n",
              "    }\n",
              "  </style>\n",
              "\n",
              "      <script>\n",
              "        const buttonEl =\n",
              "          document.querySelector('#df-612257d5-9e71-41d1-9b8d-c0a08fdd3a46 button.colab-df-convert');\n",
              "        buttonEl.style.display =\n",
              "          google.colab.kernel.accessAllowed ? 'block' : 'none';\n",
              "\n",
              "        async function convertToInteractive(key) {\n",
              "          const element = document.querySelector('#df-612257d5-9e71-41d1-9b8d-c0a08fdd3a46');\n",
              "          const dataTable =\n",
              "            await google.colab.kernel.invokeFunction('convertToInteractive',\n",
              "                                                     [key], {});\n",
              "          if (!dataTable) return;\n",
              "\n",
              "          const docLinkHtml = 'Like what you see? Visit the ' +\n",
              "            '<a target=\"_blank\" href=https://colab.research.google.com/notebooks/data_table.ipynb>data table notebook</a>'\n",
              "            + ' to learn more about interactive tables.';\n",
              "          element.innerHTML = '';\n",
              "          dataTable['output_type'] = 'display_data';\n",
              "          await google.colab.output.renderOutput(dataTable, element);\n",
              "          const docLink = document.createElement('div');\n",
              "          docLink.innerHTML = docLinkHtml;\n",
              "          element.appendChild(docLink);\n",
              "        }\n",
              "      </script>\n",
              "    </div>\n",
              "  </div>\n",
              "  "
            ],
            "text/plain": [
              "   gender  ...  PaymentMethod_Mailed check\n",
              "0       1  ...                           0\n",
              "1       0  ...                           1\n",
              "2       0  ...                           1\n",
              "3       0  ...                           0\n",
              "4       1  ...                           0\n",
              "\n",
              "[5 rows x 27 columns]"
            ]
          },
          "metadata": {},
          "execution_count": 37
        }
      ]
    },
    {
      "cell_type": "markdown",
      "source": [
        "**Making x and y datasets**"
      ],
      "metadata": {
        "id": "w6De2CICNK4v"
      }
    },
    {
      "cell_type": "code",
      "source": [
        "x=df2.drop('Churn',axis='columns')\n",
        "y=df2['Churn']"
      ],
      "metadata": {
        "id": "_Tel2jg5NJ22"
      },
      "execution_count": null,
      "outputs": []
    },
    {
      "cell_type": "code",
      "source": [
        "#we generally split data to training and testing dataset\n",
        "#80% model training\n",
        "#20% model fitting\n",
        "#we can do that using train_test_split\n",
        "from sklearn.model_selection import train_test_split\n",
        "x_train,x_test,y_train,y_test=train_test_split(x,y,test_size=0.2,random_state=5)"
      ],
      "metadata": {
        "id": "fI4YhVvjNoiQ"
      },
      "execution_count": null,
      "outputs": []
    },
    {
      "cell_type": "code",
      "source": [
        "x_train.shape"
      ],
      "metadata": {
        "colab": {
          "base_uri": "https://localhost:8080/"
        },
        "id": "6W0Ul3YKO1jP",
        "outputId": "005d19d6-728d-4f0e-934d-e97fb233f83f"
      },
      "execution_count": null,
      "outputs": [
        {
          "output_type": "execute_result",
          "data": {
            "text/plain": [
              "(5625, 26)"
            ]
          },
          "metadata": {},
          "execution_count": 40
        }
      ]
    },
    {
      "cell_type": "code",
      "source": [
        "x_test.shape"
      ],
      "metadata": {
        "colab": {
          "base_uri": "https://localhost:8080/"
        },
        "id": "1Vlt-XIaO4y2",
        "outputId": "61664dc2-6915-4e14-ad13-c8bb0b1823b9"
      },
      "execution_count": null,
      "outputs": [
        {
          "output_type": "execute_result",
          "data": {
            "text/plain": [
              "(1407, 26)"
            ]
          },
          "metadata": {},
          "execution_count": 41
        }
      ]
    },
    {
      "cell_type": "markdown",
      "source": [
        "**Step 6:** Building a neural network"
      ],
      "metadata": {
        "id": "a01OJmivPNGt"
      }
    },
    {
      "cell_type": "markdown",
      "source": [
        "**Implementing a Single layer feed forward network or Perceptron**"
      ],
      "metadata": {
        "id": "U3lT3GqTzm14"
      }
    },
    {
      "cell_type": "markdown",
      "source": [
        "![image.png](data:image/png;base64,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)"
      ],
      "metadata": {
        "id": "_i7X0xIGztKX"
      }
    },
    {
      "cell_type": "code",
      "source": [
        "#Basic artificial neural network without any hidden layers\n",
        "#1 input layer and 1 output layer\n",
        "model = keras.Sequential([\n",
        "    # a fully conncected layer with inut shape 26 and \n",
        "    keras.layers.Dense(2,input_shape=(26,),activation='sigmoid')\n",
        "])\n",
        "\n",
        "model.compile(optimizer='adam',\n",
        "              loss='sparse_categorical_crossentropy',\n",
        "              metrics=['accuracy']\n",
        ")\n",
        "model.fit(x_train,y_train,epochs=5,shuffle=True)"
      ],
      "metadata": {
        "colab": {
          "base_uri": "https://localhost:8080/"
        },
        "id": "6cv8qv3OXNno",
        "outputId": "1b76ba56-4580-457b-a9b9-f640383ca606"
      },
      "execution_count": null,
      "outputs": [
        {
          "output_type": "stream",
          "name": "stdout",
          "text": [
            "Epoch 1/5\n",
            "176/176 [==============================] - 1s 1ms/step - loss: 0.5928 - accuracy: 0.6859\n",
            "Epoch 2/5\n",
            "176/176 [==============================] - 0s 2ms/step - loss: 0.4973 - accuracy: 0.7525\n",
            "Epoch 3/5\n",
            "176/176 [==============================] - 0s 1ms/step - loss: 0.4610 - accuracy: 0.7826\n",
            "Epoch 4/5\n",
            "176/176 [==============================] - 0s 1ms/step - loss: 0.4442 - accuracy: 0.7893\n",
            "Epoch 5/5\n",
            "176/176 [==============================] - 0s 1ms/step - loss: 0.4345 - accuracy: 0.7920\n"
          ]
        },
        {
          "output_type": "execute_result",
          "data": {
            "text/plain": [
              "<keras.callbacks.History at 0x7fa7379a5910>"
            ]
          },
          "metadata": {},
          "execution_count": 42
        }
      ]
    },
    {
      "cell_type": "code",
      "source": [
        "model.summary()"
      ],
      "metadata": {
        "colab": {
          "base_uri": "https://localhost:8080/"
        },
        "id": "6FSfe60zZgro",
        "outputId": "af51228c-8c7d-4fae-9226-1dc5532f80c1"
      },
      "execution_count": null,
      "outputs": [
        {
          "output_type": "stream",
          "name": "stdout",
          "text": [
            "Model: \"sequential\"\n",
            "_________________________________________________________________\n",
            " Layer (type)                Output Shape              Param #   \n",
            "=================================================================\n",
            " dense (Dense)               (None, 2)                 54        \n",
            "                                                                 \n",
            "=================================================================\n",
            "Total params: 54\n",
            "Trainable params: 54\n",
            "Non-trainable params: 0\n",
            "_________________________________________________________________\n"
          ]
        }
      ]
    },
    {
      "cell_type": "code",
      "source": [
        "#Basic artificial neural network without any hidden layers\n",
        "#1 input layer and 1 output layer\n",
        "model = keras.Sequential([\n",
        "    # a fully conncected layer with inut shape 26 and \n",
        "    keras.layers.Dense(2,input_shape=(26,),activation='softmax')\n",
        "])\n",
        "\n",
        "model.compile(optimizer='adam',\n",
        "              loss='sparse_categorical_crossentropy',\n",
        "              metrics=['accuracy']\n",
        ")\n",
        "model.fit(x_train,y_train,epochs=5)"
      ],
      "metadata": {
        "colab": {
          "base_uri": "https://localhost:8080/"
        },
        "id": "5SAa8VLvPDSP",
        "outputId": "be5839fb-b8ce-425b-d2d6-b5906cb0e781"
      },
      "execution_count": null,
      "outputs": [
        {
          "output_type": "stream",
          "name": "stdout",
          "text": [
            "Epoch 1/5\n",
            "176/176 [==============================] - 1s 1ms/step - loss: 0.5887 - accuracy: 0.6880\n",
            "Epoch 2/5\n",
            "176/176 [==============================] - 0s 1ms/step - loss: 0.4882 - accuracy: 0.7600\n",
            "Epoch 3/5\n",
            "176/176 [==============================] - 0s 1ms/step - loss: 0.4562 - accuracy: 0.7838\n",
            "Epoch 4/5\n",
            "176/176 [==============================] - 0s 1ms/step - loss: 0.4408 - accuracy: 0.7868\n",
            "Epoch 5/5\n",
            "176/176 [==============================] - 0s 1ms/step - loss: 0.4320 - accuracy: 0.7911\n"
          ]
        },
        {
          "output_type": "execute_result",
          "data": {
            "text/plain": [
              "<keras.callbacks.History at 0x7fa7378bf690>"
            ]
          },
          "metadata": {},
          "execution_count": 44
        }
      ]
    },
    {
      "cell_type": "code",
      "source": [
        "weights, bias=model.get_weights()\n",
        "weights, bias"
      ],
      "metadata": {
        "colab": {
          "base_uri": "https://localhost:8080/"
        },
        "id": "X4IFGhPOZj_H",
        "outputId": "97e87847-38a0-41b8-92d4-d60f55aefb1a"
      },
      "execution_count": null,
      "outputs": [
        {
          "output_type": "execute_result",
          "data": {
            "text/plain": [
              "(array([[-0.16985051, -0.33016434],\n",
              "        [-0.15918559,  0.15249632],\n",
              "        [-0.05818379, -0.02862082],\n",
              "        [ 0.25473946, -0.11591774],\n",
              "        [ 0.43026492, -0.5971641 ],\n",
              "        [ 0.4589062 , -0.40054405],\n",
              "        [-0.351759  , -0.42613104],\n",
              "        [ 0.11938865, -0.24662754],\n",
              "        [-0.0529219 , -0.41350174],\n",
              "        [-0.26980254, -0.41499263],\n",
              "        [ 0.15159597, -0.1023308 ],\n",
              "        [-0.22791184,  0.16521233],\n",
              "        [-0.0785169 , -0.2787427 ],\n",
              "        [-0.2008832 ,  0.07339655],\n",
              "        [-0.23238929, -0.10927645],\n",
              "        [-0.15734376, -0.06778351],\n",
              "        [-0.04026702, -0.37448698],\n",
              "        [-0.38455874,  0.33506042],\n",
              "        [-0.00389824, -0.45758647],\n",
              "        [-0.5185318 ,  0.10852788],\n",
              "        [ 0.38866428,  0.18928833],\n",
              "        [ 0.39113122,  0.01649993],\n",
              "        [ 0.2008709 , -0.30804244],\n",
              "        [-0.09253337, -0.3066576 ],\n",
              "        [-0.18809547,  0.06678596],\n",
              "        [ 0.19724639, -0.15076527]], dtype=float32),\n",
              " array([ 0.11389067, -0.11389068], dtype=float32))"
            ]
          },
          "metadata": {},
          "execution_count": 45
        }
      ]
    },
    {
      "cell_type": "code",
      "source": [
        "model.layers"
      ],
      "metadata": {
        "colab": {
          "base_uri": "https://localhost:8080/"
        },
        "id": "ga7ADP4dbBPe",
        "outputId": "03f1a41f-abc6-4992-f6af-979c886dcde2"
      },
      "execution_count": null,
      "outputs": [
        {
          "output_type": "execute_result",
          "data": {
            "text/plain": [
              "[<keras.layers.core.dense.Dense at 0x7fa735f96150>]"
            ]
          },
          "metadata": {},
          "execution_count": 46
        }
      ]
    },
    {
      "cell_type": "code",
      "source": [
        "model.evaluate(x_test,y_test)"
      ],
      "metadata": {
        "colab": {
          "base_uri": "https://localhost:8080/"
        },
        "id": "ABnrs41lTurI",
        "outputId": "9b016cdc-824f-4eed-864d-2a26f83d6ba3"
      },
      "execution_count": null,
      "outputs": [
        {
          "output_type": "stream",
          "name": "stdout",
          "text": [
            "44/44 [==============================] - 0s 1ms/step - loss: 0.4525 - accuracy: 0.7846\n"
          ]
        },
        {
          "output_type": "execute_result",
          "data": {
            "text/plain": [
              "[0.45250189304351807, 0.7846481800079346]"
            ]
          },
          "metadata": {},
          "execution_count": 47
        }
      ]
    },
    {
      "cell_type": "code",
      "source": [
        "predicted=model.predict(x_test)\n",
        "predicted"
      ],
      "metadata": {
        "colab": {
          "base_uri": "https://localhost:8080/"
        },
        "id": "rWWd0mu2T0gd",
        "outputId": "f8ed68e7-8052-4ff0-eed7-24665a617664"
      },
      "execution_count": null,
      "outputs": [
        {
          "output_type": "execute_result",
          "data": {
            "text/plain": [
              "array([[0.8315086 , 0.16849144],\n",
              "       [0.71482474, 0.28517523],\n",
              "       [0.9779181 , 0.0220819 ],\n",
              "       ...,\n",
              "       [0.33364975, 0.66635025],\n",
              "       [0.42654085, 0.5734592 ],\n",
              "       [0.78920394, 0.2107961 ]], dtype=float32)"
            ]
          },
          "metadata": {},
          "execution_count": 48
        }
      ]
    },
    {
      "cell_type": "code",
      "source": [
        "y_test"
      ],
      "metadata": {
        "colab": {
          "base_uri": "https://localhost:8080/"
        },
        "id": "ksFOK9z7UIFc",
        "outputId": "edb68c7f-45a4-48ce-a94e-7eab4b77fab2"
      },
      "execution_count": null,
      "outputs": [
        {
          "output_type": "execute_result",
          "data": {
            "text/plain": [
              "2660    0\n",
              "744     0\n",
              "5579    1\n",
              "64      1\n",
              "3287    1\n",
              "       ..\n",
              "2024    0\n",
              "4396    1\n",
              "4081    1\n",
              "1297    0\n",
              "4899    1\n",
              "Name: Churn, Length: 1407, dtype: int64"
            ]
          },
          "metadata": {},
          "execution_count": 49
        }
      ]
    },
    {
      "cell_type": "markdown",
      "source": [
        "**Neural Network 2**"
      ],
      "metadata": {
        "id": "6TNZrotKXBLR"
      }
    },
    {
      "cell_type": "markdown",
      "source": [
        "With hidden layers\n",
        "\n",
        "More the hidden layers, the efficiency of output response may increase"
      ],
      "metadata": {
        "id": "uXPRJ4v4XFZp"
      }
    },
    {
      "cell_type": "markdown",
      "source": [
        "**Implementing Multi Layer Feedforward Neural Network with back propagation for adjusting weights or Multi layer perceptron network**"
      ],
      "metadata": {
        "id": "4pWqFceh0ifY"
      }
    },
    {
      "cell_type": "markdown",
      "source": [
        "![image.png](data:image/png;base64,iVBORw0KGgoAAAANSUhEUgAABIgAAANqCAYAAADmB3DEAAAAAXNSR0IArs4c6QAAAARnQU1BAACxjwv8YQUAAAAJcEhZcwAADsMAAA7DAcdvqGQAAP+lSURBVHhe7N0HfFRl9vDxQ0REpIkiJCBdAkqRIqyKiojBhgXWhoor2Nay6/oKLJZ1XdsK/lldda1BATuGpVggUuIKsmBCFwhtQSABQaQLCsk75869yc1kZjKTTLtzf9/PZ3RmSJnM3PKcc89znmrFHgIAAAAAAADXSjH/DwAAAAAAAJciQQQAAAAAAOByJIgAAAAAAABcjgQRAAAAAACAy5EgAgAAAAAAcDkSRAAAAAAAAC5HgggAAAAAAMDlSBABAAAAAAC4HAkiAAAAAAAAlyNBBAAAAAAA4HIkiAAAAAAAAFyOBBEAAAAAAIDLkSACAAAAAABwORJEAAAAAAAALkeCCAAAAAAAwOVIEAEAAAAAALgcCSIAAAAAAACXI0EEAAAAAADgciSIAAAAAAAAXI4EEQAAAAAAgMuRIAIAAAAAAHA5EkQAAAAAAAAuR4IIAAAAAADA5UgQAQAAAAAAuBwJIgAAAAAAAJcjQQQAAAAAAOByJIgAAAAAAABcjgQRAAAAAACAy5EgAgAAAAAAcDkSRAAAAAAAAC5HgggAAAAAAMDlSBABAAAAAAC4HAkiAAAAAAAAlyNBBAAAAAAA4HIkiAAAAAAAAFyOBBEAAAAAAIDLkSACAAAAAABwORJEAAAAAAAALkeCCAAAAAAAwOVIEAEAAAAAALgcCSIAAAAAAACXI0EEAAAAAADgciSIAAAAAAAAXI4EEQAAAAAAgMuRIAIAAAAAAHA5EkQAAAAAAAAuR4IIAAAAAADA5UgQAQAAAAAAuBwJIgAAAAAAAJcjQQQAAAAAAOByJIgAAAAAAABcjgQRAAAAAACAy5EgAgAAAAAAcDkSRAAAAAAAAC5HgggAAAAAAMDlSBABAAAAAAC4HAkiAAAAAAAAlyNBBAAAAAAA4HIkiAAAAAAAAFyOBBEAAAAAAIDLkSACAAAAAABwORJEAAAAAAAALkeCCAAAAAAAwOVIEAEAAAAAALgcCSIAAAAAAACXI0EEAAAAAADgciSIAAAAAAAAXI4EEQAAAAAAgMuRIAIAAAAAAHA5EkQAAAAAAAAuR4IIAAAAAADA5UgQAQAAAAAAuBwJIgAAAAAAAJcjQQQAAAAAAOByJIgAAAAAAABcjgQRAAAAAACAy5EgAgAAAAAAcDkSRAAAAAAAAC5HgggAAAAAAMDlSBABAAAAAAC4HAkiAAAAAAAAlyNBBAAAAAAA4HIkiAAAAAAAAFyOBBEAAAAAAIDLkSACAAAAAABwORJEAAAAAAAALkeCCAAAAAAAwOVIEAEAAAAAALgcCSIAAAAAAACXI0EEAAAAAADgctWKPcz7AAAAqNAvUpg3U+ZvOii7F7wpQ0dlm8/bdZDBo0fKVa1qyjHNz5b+3VK5KgcAFeL4CsSVJoiAyNhTnJ81sri3Z7PSTcvfLXXw6OKJs/KL95nfUSVHC4pz3xke5PelFvcePr44t+Cw+Q3lHS2YWzxmcAef7+tQPHj09OL8fUfNrwrDvlXFWcMzfH6e/t0vFy8I+3Xo68+q4HUcLd4za2Rxapnvi/At9d7irC2lr73yr7Vq4vN7jxbvy88qHt471ef3WjfPtjJmbnFBwF/v+f7cMf630dTBxWMWFHi+IlTBXsvlxaNzfzK/zhRgWwz/llqckbnK/+us9O/IKB6eObE4K+uzoPtnRBzdUjxrZFXfB892NnqB/+NWQr/Pvrco/A7Pdjx6Ypbns5xcPCt/j/nDYiDan2sg+/KLZ00cXTw41d/Pq+im2/2s8I9XMdvP9hSvyhzi53zieZ9GZgc5zvkTeDyQOvid4lVhvwfLizP9Hf9Del1VPY6HIB7HQqfts0HHiHouDz5e88vfe5A6pDhzVZC/q9Kfle/NfjyN5VgsWfdTj6Q+vpaq+ng20OfmeU3vLKjasQzwIEGEiDman1mcUe5g5e/mGYxlLq9ikuin4tzRl/v52b43zwE3YADwa3FB1l1+vkdvdxVnFfxqfl0YCrKKB/v9eb09AXygvzjY6wj2fWqf533o7ef7Inmzv4aqvNaqiNPvPbqqODMjUFBh3boVD5+1w/wGXxUMGlNHFs/aE+KZ/OjG4qwhvgMK6+b7GiI8WB2cVVxg/uRSkfsdqYPHFGdHKVD5NXd0cWs/vzPsW+vRxbnlDgnOep+NW7R/hxF8zolqslhF93P153BxwYKXKxm4+NzCSg7Hcj/7vjhrcGu/3xv2OXHPrOLhAd+r1sWDs743vzAUQd6DjMzi/IreyCofxysSy8/I4rx9NqQxYu+/Fs8KI9gOdBxoPTrXM2rwJ4Lvm95KjqexHIsl437qhuOrparj2SAXHvUW8jkNCIxqPERIkezfsk6Wm4+CWyHjH31Nsrf+Yj4OX9GaSfLwsM/MR8EUSs7yLbLPfITK2CzLN/1k3neXonXfyEfZheajQPJkwoxlstd8VFaK1O09WJ7K8Aw//CmcJu/N3OzZeypWtG6WvD52hfnIR8Y9MrT3yeYDVSQHdu/ybP3RFLnfUTj+QclIP1du9fx9+83nIuOI7Ni0TtabjyLPWe9zYBH8HYXjZdi1F0p6nUtlxLiFUhjKxh22aH+uPooKZeE/7pBuPe+T8ZHZ4OXBnhlyW0jbeyz3sxOlecdTzfu+cmXBqt3m/YodWbtIsgK+6PXy5YK1AY6Z/hyUtYvm+30PUs9sIY0rGMlW/ThekXgcC522z3pe8b5dFe+zOX+Vm1+YW8nPIRSxOJ5GizUWS7L91DXH18goKpwlzzw0WnLMx2V1kCGjrpUu1c2HQCWRIEKEhHmQLZwkr8/Y4Pmuyjgk6+ZOF38zkhENp0rH5iea990k9O2scMJMyd0bYGtOaSu/HfE78Z8iWiFjX58l6yrcEXZKTua/AryWbjJ8xJXS1vFH8xUyfuiN8sdJmyp5XEBiyZZRv+sp3W4bJ6v3O/gTLdoqsx/9nfR8cHyEg0rv9n5vlIOJ8oLtZ7XktK5nBzhWFciSjTtD3DcPyYalC4MmAwqzFsnaI+aDihRtkaVf5psP7LrJLf06SV3zkX8ROo7HVLyOhYmxzxaOek0+WXPIfIRS1lgsifZTVx1fI6Bok0x+9EF5Nsf/u5U65An529XNCe5RZWxDiJNCyf7omxACYz/2fiOZj040H7hdsIFChKSeIa0a1zAfuEjRRpn70VzzQQUKs2VG7i7zga8Kqoiy/yWZOTvNB/4Vbf2PvDchz3zko1z1UKSlSsYFp0sj81F0rZCxA4fJOwkXHKRK77vPl/SoXpWLxfscy8/Sq3D876R9/xclLyGTRBV9rr/I1snPys3PBkkvpA6W0RM/k9yCwzplv/R2tEByJ0+UzOEZ5hf6o8HEn+W1vNCv+EdGoP3Mc6xq310uNh+V5Tlnf7VStpuPgtshK75aZN4PYP1CWbohxP18+0r5ym8FUCtJb1rbvB9AxI7jsRa/Y2H899mJ8mjmN1GsIooU+/E0lmOxZNlP3XZ8rSp9v0bLfWMDVJKn3isv/+0KaUJkjwhgM0L0DXpQhvsLjrOny9x14R5Ai2Rv7kyZUO4cdLkMH36ted9NPAOFPs9Igf3EWe72qxRk3WV+va+7JKvgVz/fY7sVvCwDmrgvQRTatARLBdMTglYReb73vf/I1oBj8UOybsaHMtbvS6lM9VAIn3mZW4HMGNIuzJNFbxmdu8/Pz9oj+bM+lNGDO5hf50+sgoNAr9HfrUDmPNRDKghFfcTifY7nZ1ksRwtyZXLWexV8nh45D0r/P04Oso1HUuQ+16Ktn8pf7nslwJXtVOk9PEvy17wtD/32MumW6nOMTEmVblf9VoY8N00KFrwsgwNGjp/JsIcnyZpKvTdR2M8anS4XBEpmf5krq0KpsNm7VhZ8WdFkokXy1Yod5v1gPOf8VbnypfmojIxLpFebmuYD/yJ6HK+UeBwLnbbPllc4aoy8EfPAvirH0xiPxZJgP3Xl8bUKgr9fl8voaU+5cqyO6AhvnAhURvUzpd/1vcwHdnPlo7kbwyzD3CW5M7LLHyAzrpB+ZzUwHwBVFWhawtXy7Oh7/SZ6gk9P8Aweg1QRFY4dKx8sDjAYDlYxF/XqoUirK237XC8Pjftackdfbj5XXmE4Ze2Im5TUbnLVgEGezzNPCnLHy/DeAUfpnm38cfnLZAdNH9RS/r88HiAx6wleRo6T958dIG1rVzSMqiGpPX4vr0wb4wk3AgihijA8VdjPUlpIL7/na4/CdbJxW8W9A4P3NbGE2t/kF9m2cZ3foKj1xZ2lVdC3P9LH8UiKz7Ew8fbZc+TB4UP8fBafyZh/zY5bgirhOX0/devxtbKCvl8dZHDm3+XubvXNx0DVkSBCDJwg6b0ukfKFoJWYZrZ3mcwoN9UmVTI8J8p0tmZESqBpCRn9ZcDtA+QWv5FFBdMTglYReQbDHy/yMwj7RbbOnOSnYk45ufdQfel254MyPFBssn6dbNpBhsg5PIP0brfIs++Pk5EBA84VMva+1yUnIXq8VCxoU/jew+T5hy+S1JD3vRSp3e02eT5gMBGNyhVVmf2shjRu0SbAcSqUaoKK+5pYCkMKoAJNg+kmA7s2l6CzPqNxHI+4eB0LE2WfPSzVe14pD/p5DUEvnLies/dT9x5fKyP41DLtO/TM7zqEWeEMBEdIjZhIaXOOXO93mtkkmRryAOCQrPnkNRlVLljuJdf3asHGjIjxPy1BE5HnSJv6naTfLd3M5+wqGoRoFdFd8vIQ/2XJfhtzFm2QGa9P8ntVLnXIw/IHR1UP+agb6H2EU6WkXixPvfuyDAk0YC58R577ZI0Dqoh2y+KpkwI0Nu4mwx+7RbpVeGXbV/BgImqVK2HvZ57jVPe+/pMnIVUT7Jct+RvM+xUIpb9JwGkw3aVn++BXzKNzHI+COB4L47/P7pZt0l6uvMVfNUxVpgclOyfvp24+voYv6NSy3mNk2otX03cIEccmhdgIWA4bqHLCj4BXAyvuQwCELtCKYVYisoF075fh98pdhauvpJwqGfcMCVAKPVcmTF1mW3GjSPbmjJdH/fbPuFwevKePwwcFNaVewzrmfSSLlCZXyN9e9j99x7OHVH5xglg6sl7mvPaZ+cBHaob0617J6czBgomoVa5UYj+re5r0vLi1+aCswiUbZVuwz89vlW8gFVc6BJwGk9FDOjQKVj8UxeN4xMX3WBj/ffZ4adPvBv9JqohPD0oiTt1P3X58Dcf+hTLm5vsCTC27XEY/f1slkmlAxdiqECM1pY3faWae43aImf2gVwPZkhEpgQZOJYnIYFfuKuqrlSK1uwyQ+/1WERVKzpjJsrBkXwjQb8sjdcgQubGL0+ebH5I9O/aZ932kNpD6J7BTO1MNadI3wPQdVanFCWKraMNSCdS7NfWWvtK9bmW3zcBJCa1cyVq0SSI/magy+1lD6XBBV/O+jwo+v6JtG2VJuYNWa+nd21/gVlGlQ6BpMCGc96N6HI+0eB8L47/PpjTpI/c86G+KUJ6MenJCgq6CGG/O3E85voZqt+S99jcZ5ndJ+w4yJOsVeZC+Q4iSaJ91gBIBp5mFlNkPVJLK9DJEUqBV8nwGOgGvVIVwtTVYFZGtnL9ozVR5bpS/K3zJUD3k+fuCLd3fsY005aqYcwUtu98g+VtK6+QSzxHZvmJhwOkPt/TrJHXNR+FLkdpN20hH85Gv9cs3SSjrBYWjcvtZTWnVuYcnXPQn2OcXoCl06kC5996L/AZuhUH7mwSaBpMmZ7Y4Och5PwbH8QhKiGNh3PfZ+tLlygF+LyJKzlj5V/bmGCbsnMKJ+ynH19AUyf68t+WhYf4qrbSJ9xh56urmxD6IGrYtxE7AJr0hzPnfu0g+HuPnQMn0MkRUoKod30RkkCtVFV5tDV5F5A1MAq2+4xkaJEP10P4V8s7DgVcwoSrQ6eJxJTdSDknBhnzzvq860rBe1c43KY1byJn+3xiRbbtlXySj4CrsZ9VP6yoD/b7OYJ9fgEDx4p5ybkY//xUqwfqbHNkki7L8BF8VTkOJxXE8QhLmWBj/fTal7ZUyYri/JNUKGfvSJFlMFVE5zttPOb6GZH+uvPbQaMkxH5YRdhNvIHxsXoihwCXdwaeZBboa6ORVnJCQKpyWYKni9IRgVUTauD03z3+/rYhUD70uA9OOlWrVqlV4Sxs6KbLLDO9fI7MnvSkj+mfI0PGBVzB55rq2SXByisX7HMfPMqjgV3IP7tgjB837iecn2bR8s3nfV7q0SqviBYla9aRhLfO+r/W7IhPARGI/C1JRsv7LpbLB3+v0Gyh6AqULTpdGAfulBO5vEnAqysXdpX2waSixOo5XRcIdCxNhnz1Zeg+9J0AV0Wh5+ONoN7hP1ONpEI7bTzm+VuynwFPLUu+VrHfvpe8Qoo4tDLEV6GQWdKWMAFcDq9LMDignxGkJlipNTwhWRfSZDOvZS4b6aU4d6+qhwi9yJb9SV21zZFj3OuUG1dXqpMtFA++UUX7n1HukDpHMV4e6bvBT+fc5dLH4HXYpdepLY/O+r8Jtu+WAed9RItEPJuUEadA6wCXug7tkz8FwPqNo7me1pWl6K/O+j+XrZIufbcl/oJguF3du6jniBeqXEqi/SaCpKGYgaz4qL5bH8VA451iYCPts4Coiz+fx6PgoL7kfulgfTwNz6n7qh6uOr4H8IjvmvBpgalmGjHx3pFzdpIb5GIie2J15AEOgMubAg7FAc3yr1swO8BXqtARLFacnBF3RzJ849B4q3CW7D8RoENx7pGTl/EOGtKt8B4LwBBj8+bulPSyzoxmYxOJ9juVnqU7wBJsBxunRVcXP9cgPsmFegA6qtRpIvVpV3AE9AUz9xgEuccfiMwp5Pwu8sIQUzpdFa33rSQIEiqlnS9fT9O8N3C+l0G9/k92yakGued+uor6DMT6OR0PMj4WmuO2zdidL7z887H9Fs8J35Mk3cm0rfcZRrI+nATlsP+X4WoFvZNSwZz1nMT9ST5Pu6Q0J3BETbGeIsSAl3X4HY4dk3YwP/czxrWozO8BHyNMSLFWdnhCsiqi85Fi5zI/UwTI6K1cKZj0jA9om6B7td6CNoIKV+icKN32uldjPUlp1Fv+raOfLl0u3+BzfAgSKtkatAful+OtvUrRTNi4pMB/YpLaRFo2DXEGP+XE8guJ9LEyQfTbwima60ud4yd76i/kYypH7abKJ2L4baCU5j8JX5L6/fJoYUxuR9EgQIfYClnT7GYwVbfTfi4XpZYioMKclWKo6PSHkKqL4rFyWOiRDejaqbj6KhgwZ/vJIuXtAN1c3XIz++xyb31HGwT2yg5xagqjkfla9uXQd6P/4tjy/oGwlh99A0ef4GU5/k+0r5St/02yDVg7H6TgeEQlwLEyYfba+dLlxSIAqokny0gdL4l5FFPPjaTCO20+TTST33VPl8seeldG9/WaspXDs4/KXyZtil7SGa7ll70VCCX2aWdG6b+Qj1598nK1o6yQZmuZnekegW7Sn8/gV7rQES31p37O7ed9HSNMTQqsiimz10F2SVfCrFBcXV3gryBwQ5aRUtowa2Ef6P/ylFCbdiCcW73MifZY+DuyWbeV3qMQX0R4WfgSbYtG6jTRvGI2gs7L7WeDjm+/CEv7P1b7LXIfa36RI9q7KlS/NR6Vay8U9TwtSORyv43gkJMCxMIH22aBVRMOel4/XROMzSeDjaVAO2k85vlasXk+5+/lhAS4crpCx942WyVTRIcoS5vAGNwlS0p39L8nM2Wk+2Ck5mf8qP1ea6WUOckS2L8gOsAxoAHGY9lG0Zqo8NyqcaQmW6tKoQw//8/9DnZ5QYRVRfKqHqqa3jM7dVzqgPloguVmjZbDfcaFnwP/srTJozMLE6C3hT+8r5cL0RJ8vlViK9nmCTfO+r9Ydm3tCkATg73ONZw+L1g2kTlj7ebT3syDHt8J1snGbFaQUyf4t62S5+ahUd+nZ3p7YDrW/yUFZu2i+n0RPV7mgQ+AtJ67H8YCccyxMrH02SBWRTJRHM7/x0zDZrRy0n3J8DUGK1O52izzmt1m7B1PNEAMkiBAfAUu682TCjGXeE3+gXgJML0NEHZJ1c6f7SURWMC3BlNLmHLk+w9+IIdRVV7SK6FK5xe/P8MgYIFc6vfdQSqp0G/CgvDL7ncCDq2F/k9fydpuPY8Fn8BfsNudPLCsblkCBiGot57Y6xRPSREtVP9fjPQFMoP3NE8DsK9elNTw7NsnyABe4xfN7wwtgfERhPwt8fLNPNwlQuZPRQzr4TMMJqb9J0RZZ+mW+975d0ERPvI/jIUrIY6GK5z7rX+AqIs+7NGGSzNz6i6TUaeA3keE2ztlPOb6GJkizdg+mmiHaGPEiTgKvHOItiT0SuJfAU4OlN9PLECmB+lxpYDC0vRzjbxqc/XZMe79L0hsKs2VG7i7zQRDBrqpVdVCTMFKkdrsb5ZmX7/W73+vy/mP+NZurYkkh0FQfdap0bH6ieT8R1ZR6DeuY931tkPwtVbs+fKRgg8wz7/uKTJVGhPezlJOlxZlp5gM723STAI1qW1/cWVr5HrtC6W+yv0Dyl5ffelLPbCGNAx0LE+E4HrJEPBYm4j5bcS+ig0GW5ncVp+ynHF9DltLkCvlbwN/DVDNEV1KEHXCiINPMjMHYmgCDlYp6CYQjRU6o3yDAwTdfNhSEP8c9WIm2O1WXRj0zAl4F8atkudXYCNTnKjJsFXHwqCFNMgbLgwEbMH4oM+KxrDQiK1D1p4rx/h2+mpLWKt2876tAlmzcWYWrtodkw9KFnpDNn24ysGvzCFVpRHI/C3IxZ8lG2aZvht9GtYH+nor7mxxZu0iyyh2Sg08td95xPMGOhQm6z1a4otlmzhdezthPOb6Gw/N7rh4mLwfqUclUM0QRCSLET7BpZk/eK49VqpdAOFKkVr0G4n/Ys0927An3AB+sRLuhNKgTmVOT06Q0GSCZBX6mdwS6FTwjfWJWIRZoWkLk+DaJdL3aZ8qN9w8IkJilt4Tz/SJbZ07yU/3plfgLDATrR1N+IYWwBKxy8Yj01OmI7WcpUrd9d7nYfFRG9kJZsf2XAI1qW0l609rmfbuK+psECvJ8+6TYOfQ4njDHwkTeZ4NXEb2elSdVnJSUJJywnyqOr2FJaS5X/+0Jppoh5kgQIY6CXPHIyZFvzPulQuslEI7qaa3kXPN+WZW5YviLbNu4zn+JdmobadG4hvkACSPYgCJSIj49welqSJO+A/xXD3qQUHO2oq2fyl/ue8X/cbDCq8uJIaVVZ/E7u0JVYVWrYFUukQ/CI7ifNTpdLvDb3yRXFqza6r9RbZCLOcH7m+yQLfkbzCds/PRJKeHY43hiHAsTfZ8NVkWUPWqMvG8+cr1E309NHF/Dw1QzxAMJIsRRkGlmfkVyepkp4Am1Egf4/ctk6gT/g1SW5U9M0Z2WYGGaWTkBqwc9Ct+R5z5ZwxUxJ9q/Qt55+PHAqxZm3CNDe59sPkhg1VvLhXf7b45b6avDRZtk8nP/CFDlEqUgPFL7WUpT6Xyxv2khBbLEEywu8tOoNmgfkoCva4PkL8vxM9Up+MUhRx/H430sdMQ+G2xFM5RI8P20BMfXMDHVDLFHxIr4CnaA9RXR6WWmgI39PDwH+CffyA1xycrdkvfa32RYjr9RVge5tGdr8VfEi3gKMi0hI1Pyj/qZ/hbsdnSVZEYq2Zj0GkiP624S/0v7V7HMHHHwixTmTZAR/TNk6PgV5nO+LpfRzwyQto4YdXgC0isHBJgG4dlCRz0nf5+9NYzB/15Z/c7f5L6xAd6bqAXhkdrPaslpXc/2cwXb8zPuvEHu9NPXJHhAVluaprcy79vlyYRXxsrccqfRNDmzxckBBqxOP47H61jorH02pcllMuKpa81H8C+R91M7jq9hSznV82cMCfC7PL+NqWaIMBJEiLPA08zKivz0Mq+TpffQewLOh84ZNlTu9Zx0gieJ9sqaSaPkoWGfmY99pPaXm/qeys6WaAJOS6jktpbSQnpd38t84INpZj4qWNo/e5JMXRzrZZ4RrqLCPJky6X15/tZuktZ9sIzymyBXqdJ79F/k7m7BelMklpS2V8qI4YEuXmTLsxcNkZGTVld8AaGoUBb+437pM3Ss54ziTzSD8EjtZ+FW+wbqa2KpKW16XeL3vOt3enmw/iGOP47H9ljo3H22prT97d0yPORt0I0SeD/1wfE1XJ7f1e02eX50oMorppohsohZEWehntCiML3MlNLmIrkrUOmm56A7fmhHaXvr8/LJlDwpLJOe3ytrZn/kGWidK+kDn5Uc89myOsiQl++qwrL8OTKsex3vMrwV3q6Q5/PcGFRX7j0KPC2hstta4KaOiTXN7HUZmHasn/cm8C1txOzIv/ZggZguFfvxogR5vyorFu9zLH5H4P3rmLTucvXAm2RYwAoEr9TBz8qrd3d3WBXlydL7Dw8HmdaSLaMGtg9wbvDYv0ZmT3pTRlzUTXo+OD5A8BKDIDxS+1ntNEnvGGLk2bqHdG4VvNo3pXELOTPUQPbi7tI+wDk0KY7jET8WJuk+W/ccGRrVKqIEOTdWRYLup+VxfA1ffel2919kdIDV05hqhkiqbNQKRE4I08xSh98tv20b4elllgpWCVCF44fJtVd3l7Rj7IODepJ+0Q1BB1qpQ56Qv13dPEY72iL5cuk2SkyDst6j3bJ46qQA0xIqP5UxYFNHDydPMys0Vi0xH0RMTWnT74bAq3NMmCQzXXY1LDrvc1mx+B2lPAP0kdmS9/at0q6284Yb2hz0qXf/GrCsX/k/N3huddLlooF3BqnQiFUQHqH9LGggVFbqwK5yWkWLdoY8vTxVMi44XRqZj8pKluN4Ih0LE3mfTbwqotgeT0OQkPupfxxfK6F2d7n7+WFMNUPUkSBCAqhomln0V9FIaXK1vDj7HRkcwYFH6uB3ZPaLV0uTmO1lhbJ+1wFODEGZ79HeRfLxGH9TAqs4lTFo00KmmflKaXK+3BTw/Zokr8/YwPbsVKmDZXR2jkx75mJJdexIo4ak9hkp788KHsSEzxOED8+SnFduiUkQHpn9LFhljV1rubjnaSGcrwP1N/EVpBIoiY7jCXEsdMI+G/UqIqdLwP00II6v4QtlqtnrkkPPS1RRop4C4CopUrfH1fJgoLLJMOY1V57noNvuFnklJ0uGB3odIQv35FRdGjZvE8IJvSKp0rrBCUm6U0f2PZJtG2WJ3wtPVZ3KGCzZGctpZilyQv0GAV5HIgn2fkWzQWukxOJ9dtjv6D1cMifnSsGWcfLQxW0Ta4pKpZhBTO74CJwbVIYMf2eyvP/sAGkbswqNyOxnwSprSnWVCzo0NO8HUzNgf5MyUttIi8Y1zAdlFSXVcTzcz8it+2xNaXvdXyRzcKC2AKqbDOza3DNq8Mcp58bKS7T9NDiOr+GraKrZxzJu5lbzAVBJxUCEHC2YWzxmcIdi3axKbxnFw7NWFe8zvyaww8UFueOLPSeISn5/VX+/zdGC4tys0cWDU+0/J7Rb6uDRxVm5BcVHzR8VsqNbimeNzPD7M0O/XV48Ovcn8weW5f+96VA8ePT04vx94b1a/z8rtbj38Kywf1ZYIvgeHS3ILh5ZblvzvB9j5hYXVPVP2Le82DN49fnZevO8R6MXBNgW9xTnZ48pv82lDi4enZ0f3vZr2beqOGt4Vd8v7y11+CzPKywvIttCwM/V83lkLq/c325ztGBB8Tvl3ocIbq8xeJ8T93fo+/hGcVZWluc2J7r7v4+of67+VOHcYJyLMqcV5xYcNn9Y6BJnPwt0njZv4R6v9P18Z3hxb38/y3Or6HyaSMfxuHxGjttn/bxHvUcWZ+X7PSIFty+/OHv04GJPiFz254Xy+cfieBqA/+3E85orMRYLLLH205C56Pha9d951LMLZPn/jCu7TwE21fQ/ng0KQDm6DOxMmb/poOxe8KYMHeWv00GGDM+8Q3rWP1k6ZJwfwysWAID4KJL9a/4j2St2SdGGKfKHYf6bpHoCJ/nnVa0kpX4HyeiTDNVUABBtHF+BeCNBBAAAAAAA4HKUOwAAAAAAALgcCSIAAAAAAACXI0EEAAAAAADgciSIAAAAAAAAXI4EEQAAAAAAgMuRIAIAAAAAAHA5EkQAAAAAAAAuR4IIAAAAAADA5UgQAQAAAAAAuBwJIgAAAAAAAJcjQQQAAAAAAOByJIgAAAAAAABcjgQRAAAAAACAy5EgAgAAAAAAcDkSRAAAAAAAAC5HgggAAAAAAMDlSBABAAAAAAC4HAkiAAAAAAAAlyNBBAAAAAAA4HIkiAAAAAAAAFyOBBEAAAAAAIDLkSACAAAAAABwORJEAAAAAAAALkeCCAAAAAAAwOVIEAEAAAAAALgcCSIAAAAAAACXI0EEAAAAAADgciSIAAAAAAAAXI4EEQAAAAAAgMuRIAIAAAAAAHA5EkQAAAAAAAAuR4IIAAAAAADA5UgQAQAAAAAAuBwJIgAAAAAAAJcjQQQAAAAAAOByJIgAAAAAAABcjgQRAAAAAACAy5EgAgAAAAAAcDkSRAAAAAAAAC5HgggAAAAAAMDlSBABAAAAAAC4HAkiAAAAAAAAlyNBBAAAAAAA4HIkiAAAAAAAAFyOBBEAAAAAAIDLkSACAAAAAABwORJEAAAAAAAALkeCCAAAAAAAwOVIEAEAAAAAALgcCSIAAAAAAACXI0EEAAAAAADgciSIAAAAAAAAXI4EEQAAAAAAgMuRIAIAAAAAAHA5EkQAAAAAAAAuR4IIAAAAAADA5UgQAQAAAAAAuBwJIgAAAAAAAJcjQQQAAAAAAOByJIgAAAAAAABcjgQRAAAAAACAy5EgAgAAAAAAcDkSRAAAAAAAAC5HgggAAAAAAMDlSBABAAAAAAC4HAkiAAAAAAAAlyNBBAAAAAAA4HIkiAAAAAAAAFyOBBEAAAAAAIDLkSACAAAAAABwORJEAAAAAAAALkeCCAAAAAAAwOVIEAEAAAAAALgcCSIAAAAAAACXI0EEAAAAAADgciSIAAAAAAAAXI4EEQAAAAAAgMuRIAIAAAAAAHA5EkQAAAAAAAAuR4IIAAAAAADA5UgQAQAAAAAAuBwJIgAAAAAAAJcjQQQAAAAAAOByJIgAAAAAAABcjgQRAAAAAACAy5EgAgAAAAAAcDkSRAAAAAAAAC5HgggAAAAAAMDlSBABAAAAAAC4HAkiAAAAAAAAlyNBBAAAAAAA4HIkiAAAAAAAAFyOBBEAAAAAAIDLkSBC4ilaLWP7pUm1atWkWr+xsqbIfB4AAAAAAEQFCaJkVrRJJg3t6E20GLcr5Pm83eY/JrCiA7JrfaH3/vpdsi8CCaKiwi/l4QvNpFPafTJp6y/mvwAAAAAAABJESaxo3Sx5fewK85H6TMZ8vEj2mo/co0j2r5oj7+SYSafC6TJlwXbvfQAAAAAAQIIoeR2SdXOnS7b5yFI4Yabk7mXOViBFa8ZKP6PaKk36jV0tTnunnP76AQAAAADxQYIoWRVtlLkfzfXez3hMRj/YzXu/cJq8N3OzyxIHKVK7/YXyu96p3oe9b5Fbz27kve+jaN8uWW/cK5T1uw44L0Hk8NcPAAAAAIgPEkRJqmjdN/JRtk6pSpWM62+QOwfdJL2Nf1khY1+fJetcljlISb1YnplTIMXFxVI853Hpk1rD/BcAAAAAAECCKCnZp5f1kut7tZK6XS6VWzLMCprs6TJ33SHvfQAAAAAA4HokiIL6RQrzJsnzt1orgaXJhSPGyuw1Cd7mef8ymTrBml52ifRqU9PzSbeQXtf38j4nc+WjuRuZfgQAAAAAAAwkiALaK6vH/l66dR8ow8ZbK4EVSs6ooXJR+qAEXi6+SPYunCxjjBW7dHrZOdLG+JRrSptel0iG3vX8HdkffRPaNLOi1TK2ny4Pb2t6XFQoeZOel1vTNGmmy8bfKs9/uUb2G9/gQ792yicydkQ/M8lm3i4cIWMnfS55haEuN18k+9fkyKSxI+TCkp+jCbs3ZUpeYcXJrr2zZYT1evuNlTW2byht7FxNju0+zOzhI7J+WHc5tuR3eW9pI2YHWAVOk4mfyyfP3yppZb6no9z6/PuhvUa7MN63Kr3+IO9LeZ5ta/bD5t/XXUbM3mk+76Oq20yk30sAAAAAQMWK4cfR4n25Y4p7e94efYv83lJHFs/ac9T8+kSyo3jW8G7ma7y3OGvLYfN5j6OrijMzUs2/4drizPyfzX8I4tfc4tGtvX9z69G5xb/uW16cObiD+TNst9aji3N/Nb/H4HkP87OKh/e2fl+gW0bx8KxVxfvM7zLYfqfxcw8XFC8YM7g4tdz3WrfU4t4js4sLgn0cBVnFg62v93mtv+aOLm5d5ucFuQ3OKi4wv89ytGBu8Rh/70mZm+c1Ds8qzt9X0TYT/vtWpdcf5H0p71fPl99l/qzWxYOzvjef91HpbSbS7yUAAAAAIFRUEPm1SxZ+/J7kmI/8KnxHnvtkTeJVMuxdJjMm5Bl3U28ZIH2b2JoxV3Wa2Y7/ylv33ihDSyqqAimS/asnyL29B8ooo5IpmGwZdd94WRho6f2Di+Xjkb+Tng+Ol8A/qVBynn1QHp28qVKfR0qdBtLavF+R1Mb15QTzvioq/FIeHXStPFjhe6LVZwOl9x8ny9aAL7Jy71tVXn/UhbzNRPq9BAAAAACEgwSRP0U7ZeOSAvNBIIWyPL8gwBSZeCmSvbkzZYKRW+gmt/TrJHWN5y0+08weHS85gRIzfqwfdZ/83gjeO8jgMXOl4GixsSrY0YJcmfzGlZJe3ft1sj9XXvv9SBlv5ThSB8vorNySry8uPiwFudMkc7j3lUjhLtl9IMDrKHxfRo3Rdtup0nt4pszK32P7GeNluLV0va7Odt/rYf09lpS2Q2SG8TOL5dfc0SXJltajc+VX83nrVvBcn9L3tGiTTH70QXnWSuaU+zs9t335MmviaBlsvszCsY/LXwIlsir5vlX69cdAyNtMpN9LAAAAAEBYSBAllV2SOyNbjBA7NUP6dW9gPGuX0uYiuWtIB++DwmyZkbvLez9kGTJy1nR5+0/nSqq59aSkdpOr+rSV2sYjew8kj9Qhkjn7JXloQLeSrxepIandrpAhz02TggUvy+CMdGleJ9im2EEGZ2bLtOeGSJ+2VnpDf8Yt8uy7L8sQK0dUOF8WrT1oPog2z9+Z87rcN9asdun9V5mV96bP3+lRu630+e2D8srsd8zExgoZ+/osP/2fovG+JYoQtpmIvpcAAAAAgHA5IbqMvZSTpcWZaeaDQFKlY3qaGeAmiDLTy/pK97p+Pt6UU6XvTf09r17lyYQZywI0XfZHEzX/Jw/3aRJkw7ElqbTq58G75Lp2gWpWakhqj3tl3Iw/SbfagX6i/s4P5JUhHfy+1ylNMuSeB3ubjzbL8k0/mfejzf53dpPhj90rfVJt0/nKSJHa7S6XW2/p5n2YPV3mrjvkvV8i0u9bogh3m4nEewkAAAAACFeiR5dx0kB6XHeTWGkHv1J/JyN+2zaB3sBDsuaT12SUEWX7m15mSZG63fvKLdY0nQkzJTfUaVmtb5U/DPafqClhS1KJ9JJbruxUtSRahb+zlpzW9Wwz4XVQtu0+EJspR0c2yaIs8+8MUK1VVn1p37O7eX+D5G/xmZwY6fctUYSyzUT6vQQAAAAAhI0EkV8pUrvbUHk1c4iZePB1uYyeNlz6+KvQiZeijTL3o7ne+xUF2XU7ST+rAqNS08yCOLBbtnlLQTyvo420aByoEiRSUqRWvQZSy7hfKOt3xShBtGOTLLfWky98Vi6qd4xtOXZ/t2MlbeDr5jd43qPdP5v3TTF/3xJIpN9LAAAAAEDYSBAFVFfaDXlV8nKzZPRgs2ePTv0xGiW/Lw91q28+lxiK1n0jH2WbGYYKg+yGctEoq1ol3GlmwR0p2CDzzPtSq4HUq8UmFgreNwAAAABAPBGFBqVNgQfIQ+OWmyspFcicMo2SE8UhWTd3uuhaX5VROGGSzNz6i/kIUZd6iVzVs5H5AFXCewkAAAAAEUGCKBnYp5dVRuEkeX3GhohMzUqp06BkmXU5uEv2HHTBElOpI2XWnqOly7FXdCt4WQY0KTuFzJXvmz8ReC8BAAAAAOEjQZQEykwvy8iU/KN+Aulyt58lP/Na7/dIoWR/9E1ElgtPqVNfGpv3pXCdbNyWpJVJJ3j+TqtBVQT+Tte8b/5E+L0EAAAAAISPBJHj7ZbFUyeZ08tSJeP6c6RNSJ9qTWnT6xLJMB9FbLnwRqfLBRlWtD9XPpq7MTZNo2Ot7mnS82Kr5meVzFuxvWp/Z7zeN3tyZv1CWboh2DawXwo2bDHvR1Ck30sAAAAAQNhIEDnd3kXy8ZjPzAe95PpeLUL+UFPanCPXRzopkdJCel3fy3xQKNmPjpZ3VgdqgV0k+9dMkhH9/iKzQ11qP4bWf7lUNgR8WY2k51WXmKvcrZCx9/0tyN8Zgii8b8Ffv6l2mqR3LN0GJkxdJn4Xjd+/WiaNuF66D7O2tUiK8HsJAAAAAAgbCSJHK5K9uTNlgrU8esYl0qtNTfNBCHyTEhGZZlZT2vS7QYZYOYfCsTK0z/3y/KQ8KSz52ZrgyJFPnr9N2qYPlFHZP8juA1X+xRFRPa2VnGvel+x/yNPvrDATJt7XPCWv0HNP1ZAmGYPlwd7mH6p/Z/trZcTYTyWv0HeK1C9SmPe5TJr0vjx/a0dJGzHbz6pxkXnfQn/9Jp9tIGfYULn3+RmyZr/5VUWFkjflTRnRv48MHFXZNugVifR7CQAAAAAIFwkiR9sluTOyPWG9Cmd6mSU608xSmlwhf3v5XrMixKNwvAwb2F3SjrGW2T9G6qRfKNcOG2++9gRSZqrXChk/tKPUsb3mq/85X7ab/yq1u8vdrz4rg0v+0GwZNbS/dE87zvw7rdtxktb9chk48CYZNn6FFG7bLQfM77CLyPsWzus3+CSm9HuGXSLpdY7x/s5j0qT71XfKqBz9jRkyMvNZGeT9wsiK8HsJAAAAAAgPCSIn27tMZkzIMx+EN73M4jvNLOAUo7DUkCYDnpGcrJHS23wmsAwZnvWAZKRWNx/HWUpbue5Fe6KirNTG9eUE877uPrXb3SKv5GTJcKv6pUKp0rtjU6ljPiorAu9bWK/fK6XJ1fLi7HcCfo8hdbCMWfCOPHVpW4nOJxXp9xIAAAAAEA4SRA5WtG2jLDFLSVKH3CD9wpleZklpJf3uGmBWrRRKzvItss+4b0o5QRq0NgP21g2kTshbTF1pO+AZmVWQK5Oz3vAJ+j2B/fA3JCtrjuTv+0KeG9BOapv/Ygjzd5YuEZ/q+fIT/G/U9mbMQX+mlaiYIxNHDzbfF6WvOVPeHdrd85fZeb6+7QB5bs5qyZ812ed7LB1k8Oj3PH9vlkzOzZNZD/Uo+/eWUYX3zRDu61f6PbfK23me35k5vGxyqvdwyZycKwVbxsmfeqR6PhrrffT8v/7xxpeUU+ltJtLvJQAAAAAgVNWKdc1zAAAAAAAAuFbI1/YBAAAAAACQnEgQAQAAAAAAuBwJIgAAAAAAAJcjQQQAAAAAAOByJIgAAAAAAABcjgQRAAAAAACAy5EgAgAAAAAAcDkSRAAAAAAAAC5HgggAAAAAAMDlSBABAAAAAAC4HAkiAAAAAAAAlyNBBAAAAAAA4HIkiAAAAAAAAFyOBBEAAAAAAIDLkSACAAAAAABwORJEAAAAAAAALkeCCAAAAAAAwOVIEAEAAAAAALgcCSIAAAAAAACXI0EEAAAAAADgciSIAAAAAAAAXI4EEQAAAAAAgMuRIAIAAAAAAHA5EkQAAAAAAAAuR4IIAAAAAADA5UgQAQAAAAAAuBwJIgAAAAAAAJcjQQQAAAAAAOByJIgAAAAAAABcjgQRAAAAAACAy5EgAgAAAAAAcDkSRAAAAAAAAC5HgggAAAAAAMDlSBABAAAAAAC4HAkiAAAAAAAAlyNBBAAAAAAA4HIkiAAAAAAAAFyOBBEAAAAAAIDLkSACAMCVjkjhpLulWrVqUu3WSVJoPgsAAAB3IkEEAAAAAADgciSIAABwgqJNMmloR6lWLU36jV0tRebTAAAAQCSQIAIAwAm258mUsSs8dwol+6uVst37LAAAABAR1Yo9zPuA46zfVCg7f9onO37cK9t/3CMFP+wx/6VU2xaN5ITjj5PmTRpK09ST5MR6tc1/AeDrpz37ZUvhj7Jp6w458PNhWbOxfBoi7ZR60uiketLwpLpy8ol1pHXzVPNfEFVaQXTHFTJw7I+SkTlbvhjSropXebQH0X2SNvB1kcFZUjBugIT3Se6XvOf7S/dhOdJ6dK6sfqibVDf/BaUOHfpFtm7/Ub4v2CkHDh6Wdd//IPsOHDL/tVSX9s2M/7dv00Qa1K/DuQoIomD7LtlcuNMY/wU6V1njPz1XnZp6sqQ1amD+CwAgEBJEcBQdECxasUFyvl0j81ZuNZ8NT6N6x0vvrq3k7C5tpHO7FlKzZg3zXwD30eB16eqNMn/xOslZtEG27/nZ/JfwXNajtRHgdu3QikG4Y5AgipblqzfJynVb5NsVmyp9rjr91AZyTucW0qNTG+nYrrn5LOBOevFiycr/ydy8tfL5wvXms+G7/sIzPGO/U+XM01uShAUAP0gQIeFpADt/cb68++lCWbl5l/ls5OhgoX+fLlRBwFW0+m7a7MXy0ZzvzGciRwPbm6/oIWd3SScBm9BIEEWSBrDZXy+V7PmrI36u0gsb/c9rL5de0IUELFxlwZI1kj13RZWSQoHohY2MXh2k55ltzWcAACSIkLA0MTRz3jJ5a/J/Q6pq0AF0t/Q081GpUAcVGtTeee15DBSQ1HSw/cbEr0MOYHUA7SsvvyDkffL2q38jfc/t5MxEUeEkuTVtoIyXayUzf7wMaVvT/AdT0WoZe2kfGZotAaZ8Fcne2Y9Ku4uelcKMTMn/Yoi0tX1BUWGeTPviY3lh6CjJMZ+T3sMl84Hr5NL+3SS13PyxzTLp1gtl4Pj6MnzWdHmuz8nm86aiQsmb9ql8/MLjMion0KL13Wzf65sgusLz4WbLFx+/JENHef4oj9TBo+XlP9wkV3dLtf1t1usIdGy1/w71ixT6/FzPOybDM++X6y7NkG6pzk4iamJo0owF8tani8xngtNzTYvUE81HXnv2Hwq50kj3yUH9z+aiBpLap7Ny5d+zl1bpXMX4DwDCR4IICWnO/OXy4vtfBQxCrdL7Dm1PDWleudUDYtW6rbJ41fdBBw0MvpGMtGLo/WnzK9z2dZqY9kBp0uikCpM6Vg+IFWs2yzdLNwYcyGui6I+DLpALz+5oPuMQFSSAitaMlUvTh4qR8vCTABLZKbNHXCIXjcrzqbD5RQpnPyuDLvpraWLIR+rgd2T2K7dIu9r2H2glZjSfM0fGDTjVfN5j/woZe++NMnS8NrEOJkCCaNBomdh9ufzhwfFSPrXUQYZkfSpvDmhu/v3hJIg8x95JD8pZA1/x83M9KlW5lBj0vDJl5rfywsffmM+Up+eqjLPbyeltmobUA8/eA6yiqdRa/XrrgPOZJoOkotMzX5gwM+j5RNsE6DSxZmknhzRW0/Of9gBbunpz0KnUur8+cEtfpnQCcDUSREgoGnCOeXu630FxJEvsrb4rwcqWH7juHLmq71lMkUkYQYJjBFRREKtJIS2xj0Q/Lt1/v/hqsUz7epXfAfi5pzeRB2+7xEFTZA7JmrGDJX3oRD8JIFtyxeCnymjvbBnR7iIZVWhPmBTJ/rwXpX/3ByVHOsjg0c/LI3dfLG2NRJBW2nwkLzw0QkbliPQePVmmPdRDSsP/QPuA7XWmDpYxk/8uf+zhrfgpKpwnL/75bnlQvyfzA3llSAfbz/P9G/T1PCF/uOkKo6qn9HtXeH7uSJm1+inpU9eesAphilnJe5Ahw7NelMcGtPP+/v1rZPb0qTLui1by90znJYg0iH3slWl+t3MrKZRxXucqJ2+sviuBplg7NvmKENn2UQcnU0Oh56rXPpgpgaY9335F14j149L9d9b87wL+Lk2+3n1jX8Z/AFzJPtID4kqrhgYOyyyXHNIB8COeoOjD0XfK0OsuikhwqSd9LSV+7L4BkjV6qDHw8KUB9aMvfGIEvYAT6bar27C/5JBu87rt6z6g+0IkBsK6b+o+qvuq7rO679rpvq37uE5zc4aa0qbXJZKhd7Ony9x19pWndsuqBbnmfTVXPpq7UYrMR5oI2ps7UyZo2UxqhvTrbh23dsnCj9+THE+Y13t0przyUD8zOaRqSGq3W+TZ15/y/M5CyRkzWRbuLf2Jge2QFV/p9KZUyXhqZElySKWknit/fORPnp+3QsY/M13yj5j/UE4HbwLpoQElU75Kv9ejcL4sWnvQeD4sB3bLNn0PWl8s111pJodU7bbS57cPyTgHJoc++nSe3PnMx+WSQ5oYeuHBqyTz6aFy/RXnRqSyR3+GJn/0Z7775M3lptHoa3j41enywtufGwE24ERa4XPDsDf8Jmz0XPX5S783zi2RquzRn/PAbZcZP9ff+E9fh74efV0A4DYkiJAQMj+eZQxyfVmJoSsu6h61KzlWUOtv8K0B7T1PvW9cbUJ4irZOkqFp1aRatetk7JrySzojunSb1W3XN+Gq27gmhiKVbPVH91XdZ61Eka8Hxkwx9nknSGlzjlyfoSkMnwTQ3mUyY0KeSOq9MvrZqz1PFEr2R9/IupIv2CW5M7KNaVWpt/SV7lbljfV9cqXcf1NXWzVPqZRWneViPRSFnZSpJY3rn1C5E/vgJ+TvZaqLvEpei2yW5Zt+Mp4Lywn1pbG+fevHyT/Hr5D93mcdSRMwD/39/XIJV02EPvP7S4wkjiZbo0Wn0mhC942HrzOSUXYa0N775AQuaMQZ573w6cXBmx97t1zCVat4rMRQtKZR6s/Vn6+/R3+fnb4efV3OuaABAJFBgghxpQPuJ1+eVK65p05F0SA2mokhX9bgWwf69soHHSTo1WIGCeE4ItsXZMtY4+LbIvlqxQ7jWcSGbqu+FQ5WEKvbeKymeFmJIt2XdZ+2031e9/2Er3pIaSG9ru/luVMo2V+tlO3Gk6XVQam3DJDbB/QvX2VUtFM2Linw3Okmt/TrJHW9z8qRtYsky9gvXpeBacd6AkkNJn1ux3aXYaH1VjU1lA4X6FXw9TL+pZdlXF6hmcgqkv1rZsiYp/9h9ElKHdhVTgt3mbHqp0irc8s3fw1Z3V7yh5fvlVStYBraUepcOELGTsqRNftDqYxKHLqdajWeb8JVg0pNhMZyipdWP7zy2C3GNGg7nYKmSWGSRPHCeS9c/i4O6rlKL9hphU+0EkO+9Pfo79Pkq2/lq5MuaABAJJAgQtxYA27fHkBa7vv8nwfFLIj1pQP9fz06qFxAq4MEkkShqi6NembIEGPuSFe5oEND49l4OpL3vLTR4LvN85IXcJqN8+k2qtuqnW7Luk3Hq0+J7su6T/uW8uu+r8eAxE4S1ZDGLdp4p0F9mSurjClfVnVQqnRMT5O6JVVGGyR/i7dGpmjdN/JRtmaQ7NPLwtVQGtQJJaNTU9peeoMM1rs5o+R33dPkGCPZdIzUSb9EhmkPod5/lXcf6FWSqIqdGtJkwBjJy82S0YM7GK9v6MALJb1OZ7n1+RmOSBQFSg5pwlWDylhdxLDT36nT2HwDWk0KkySKl8Q773lOfPJ8Gz0WXCjP5yVW/Z4mXXwvDmqFqyZc47VIiCZf9ff7VpPr6yRJBMAtSBAhbrQZoe+AW/s3aLlvvGlA+9QDvyVJVAUpTQZIZkGxFBd/XH55cESFv+SQDnR1W45XwtVO923dx+30GKDHgsSVInW795VbNF4pzJYZuZ7Au6Q6qJdc36uFpJRUGeXJhBnLZK8cknVzp3urduzTy8q4S7IKfvXsH7qPBLqFuu8ckjVffCjjjSbTmd5EjCV1sIyeOEfypz0mfeK2nLz2VhogD41bKvvy50hW5nDprRVFwy6R9P4vSl4CJ4n8JYesCodEaAytAa3vBQ2SRPHDeS802sfLNzmkFxC0wjUeCVc7/f36OnwvaOjr1dcNAMmOBBHiQq/E+DYj1MAxmv0bwqWDBH9VD89mZjPwRsLRbVK3TbtEGXDb6T7umyTSY0FCX52t20n63dLNc8ebANptVQdlXCK92mgQWNrMunDCTMndvUHmfjTX86js9DJVPa2VnGvc2yW790WolO3IdzL1mYkirW+VPzwwRB4at7w0yVQwTh76bW9bI+x4SpHabXvLgCHPyawtWd5Ki5z35OOFiXs89Zcc0oRMvCoc/PF3QUOTRI/9898JXp0HN9ILGb59vLRXXSJcHLTT1+M7/tPXzUVCAMmOBBFiTk+uvleOEi05ZKeDBHvzwsQceOvy122kWrU06Td2dWkj3RK6DPZ13v4m/cbKGn8X7HU56oDNNXX57U9l7Ih+3p9h3NLkwhFvypSSfic+CifJrfp1aQ/LbD8rMRUV5smUsSPkwpKf5+cW4HsNRYWSN+VNGXFhmvn1HeXW5ydJXqH9c9Elgu82/v3Y7sPEmMy4fph0P7b0d6SNmC17ja81lfu5npv2TZmSJ4UBXkq86baoFQP2nkO6zSbagNviL0mkx4TEHXg3kO79MoxpZoUTJslbk6ZJtudRxvXnSBvzLFrSzLowWz5768PA08sanS4XmE2vJ0xdFpmmzTs2yXLduNd/KVn/2ep/f4yy9cs3STgdV1KanCWXG92vd8u23eWXik8EWi3gLzmUCNV4vjQJ7Jsk0p5Eo9/61HyUjEqP74HOa0Vrxko/4zgeqGn0Tpk9orvn3/2fO/2ep4KdDyo47/k9v5S7dZcRs3ea3+Cr/Lk47dbnZZLvedh6HSX9zHJkWPc6pb/D9/XF6LynFzJ8q1w1CaO96hKRvyQRFwkBJDsSRIipn/bsL1floH0cEjU5ZLn7xr7lBt6JNS3GalLru5KSqWijWdHgUW65bmVbkrt1D+ncylYaX7RVZj/cX9K695eho+yfXaHkjLpTru6eIbeNDbI6UeEu2X3A/oKKZP/qcXJbt+5y9dBRnmFr+I5smC3/uC1Dul99p4zKMTqCeuiUlYHSvduDMmlrJZN3RZtk0h2+P9dD+6Zcfb38efJm84nEotuiPTmk26pus4lM93nd9+302KDHiMRjn2b2igwbOdlzJ03ObHFy6Uk05WRpcWaa506ejBn2ZODpZSlt5bcjfiepuv8Mu1r6j5jgk9TUAPBz+eT5W6WNb/IykJKkU7Y8e1FTs/+Q7ZZ2qzz/yaTAydxKqylprdK9d7/8TL5Y7X21RYUrZLHxN2kAf5+RSJ40e43tGLFX1kx6VV4ar5FrgvRq8aGrAPpWOfzfQwMTMjlk0STRI7+/skxPIu3z9emsXPNRsqkujTr0KN8gvkTpVM9yqxBaSlYVTJeLOze1DYo9++HsJ+SiND/nKeN80F263TZOVgeaHlnuvOexf4WMLXfeCsORDTLvH3dIN59zceH4YTLQcx6+Y9Kmyu3fMTrv6YUMvbhmp8mXRL2QYfFNEum5dszb06nOA5C0SBAhpl6ekF0mkNWTbiL0caiIv4G3TotJnOXvS6e4+B0ob18pX2lFg8HfQNm2JHeZlY52S96Yu+SiZz2DUe1lkp0v+6ypK0cLJPcds5fI0D/La3m7ze+pQNEa+fiPI2W855elDn5ZFhQcNqfDHJaCBS/LYI1zU4dI5qo9UlzwjPQp179lvbw/7Hfy4JddZXRWrhQc9fleTwB/3z/nmoF1dUkd8Jrx83/NHS1G28nWoyX3V/Nv8NwKnutjTgEqkr05r8t9Y7Wh70jJyvf8fuNrjhp9UyaO7uv5aYlHt0H7dE3dRnVbTaRpZYHovu878NZjREIqmWZmKlcdVFpl5FV+eplXitTt82eZnTnEmyQaNVi6px1nS+gcJ2ndL5drh42XkBe4T2knv3tnnIzsXfrbyygcL8OuHVhxMjdstqa8hWNlaPt6xt9wTNrV8sJ873pvmiTSRPLAi9KlTsnfWE/SBz7rCbo7yODMv8h1CdarxQhkX5lmPvLSZGYiTSsLRFdj0kSW3dPj5iRtxUNJ5Z7f89oOWfGVVa3s7+KJ7cJI6tnS9bRa3qc9z+/Pe0UGXfRX7zY6errk7ztqng8855rc8TLcs68Vjh8pv38tN8T96ZCs+fhvMlQbxnvOpWMWFMhR8xx0tGCujDH6hun+sNxzjs2V5/qc7P02u/eHybUPLpKLR2dJrnneLP3eFTL2vtclx6oKSh0g4/Tn/5oro40TX28ZnbvP/Bs8t5Jza+zOe1NmfmtcXLPohYxETw5ZbrryvDIXCbWyUP8eAEhGJIgQMzp9xL5i2emnNjBOuk6hA+8n7+1vPvLSICJRriIFHih7BoCrcuVL85HfgXLJVVSfoHbvIvl4zGeeO5fL6GkvykMXt5WSRWdTUqXbrU/I65nXeh58JmM+XhRatUNJsupaeeqRodKjpHFuDUntMVQeecrz8zzB5jOfrvWElgFoAmn2S/LQgG6SahzFbN/rUZi1SNaG3d6lSA7s3mUkyVpfPlCubGu9C96+Kb996DXJHHCq+Vxi8BfI6jYaq6WBI0GPAXossOgxIjGnmpVNAJWvDkqRuj2ulgetJE3Q1cvqSrshb8qakobNdhqQvidZk3Ml71kreemrvjSub1+Kebcsfu9FeTbnJDPANINA83a0YIG8M1zTxytk/KOvSXZlK+z8SGlytbyYM71MY+zUwX+Se89u5LlXXVKvflxyJ79XtnG2513sPfwNmZybLW8P6VB6TEkQGvj5Ttd0woUMiyaytKeLXebEytRqOkBJg3h/57W1suDL0jFH+YsntgsjZfbnXbLw4/ckR7fT0ZnyykP9bD28tOH6LfLs609Jhuc7c8ZMloWBpkGXYSWrUiXjqZHyxx6pJQPwlNRz5Y+P/Mnz8zz75zPTJT/guUsTSB94Xs8A6WaeN0u/16NwvixaG3Ja2RSb854mKO0VedaFDKfwd5FQ/57ErHgFgKqxj26BqHpj4tfmPa+H74zP8sBVoSvG+PYjmjlvmfkozgIOlK1BcDd5cPRjfqqM7FdR7UGt7fnBQ+SmbvW9T5dRU1p17mFU5oSflGkg9UNawttXaxn88l9lSDvf0Ln0tcj6dbJpR7gZohQ5oX4DIwGwfsy/ZLw5XSaR6bbnW5Gn26iT6DFAjwV2vseKxKCVP89IgZl0Ka08s6ndQx6aU+BNzPitfrMrbdg8x/yZ3ttyGffQIBlwlZX8tDtVBoxb5/kae4WBVju8LQ8N+0wk40/yyO/KJ1xSUnvIrY+MkOG6cRd+Jxu2WQmi0gq74nEDSpJfZVm/c52M8xso6t/Rr0xj7IJx95YmfjWRfNWgso2ziwtkznN3yFXdSoPkRKEBn28gm+jTNf3Rni72igdNvCZOxWskBaqeLT1/pT74rDzr7+JJwAsj1vNXyv03dfWbwExp1VmMFlphJ2VqSeP6J1Ruux/8hPzdT0K15LXIZlm+6SfjudDF5rznm6D846ALHHUhQ+nr1ddtl7AVrwBQBSSIEBNz5i8vU1qsgawTyvX90WDBfhXprcn/TZAqIvtAeaGs2G4mSKzBbmqGXH77DX6qjH6RbRvX+bmKelDWLppvPC/jB0payfSQsreS5s+hKumXMlVeeuEDW/+VvbLmy1fl6Ucneu53k4Fdm4dd2l66QlRlpEjd3nfJy54BuHe6TDs/vVMSh25zuu1ZdJt0UkWenR4L7FPN9FjBSjGh+kUKls43eqSkntlCGgc4qxdt2yhLjJ25oTSoVGLWHSbNWGDe89KA0GkXMiy/v7FsFdELExKpb17klFbPLpKvVlit0ksvjNxy+U0ywM/Fk5J9wqfa78jaRZJl7Cuvy8C0Y/2e90qbP4fK6hO4Xsa/9LKMK+kHViT718yQMU//w9u3rMwU7xBVP0VanWtkiCoh+ue99ZsKy1SPa+LSSRV5dvq6fROv+vcBQDIhQYSYePfTheY9rwH9epr3nEeDhduv/o35KLGqiFIat5AzjbxbrixYpT2BbFVAHdtI07qtSqqMlucXeAeAJQ2sA/VMCVHrBlInlCNKShu59C4tLfftv1JP0jMelPGFqdJ75LPyQG8/PRiiLaW5DHgzW3KzRsvgVG8TbqN3ijb5/TKxEkXlqoc826RTA1nle0xIzCqiRFRDGrdoY1QAFI56Tp4eO1vWlGmcu1fWzB4rI+961BuADrlB+hlL88OXVg/ZV9jUqY9ODWSVJl7tFa+aeE3KKqKSBvHr5csFa71TnUuqgFpJetOGpRdPlq+TLcb+UdrA2m8z+ZCFmnCtKW0vvUEG692cUfK77mlmM/ljpE76JTJMexP1/qu8+0Cvyp+DKyvK571psxeb97x8E5dO4/v6ff8+AHA6EkSIOq0E8K0eclppsa++53YqU0X079lLzXtxVtJIN08mzFjmGShb1UHWktylVUaFE2ZK7t4iKVr3TeAluS2Ds0qm1gS8zRgibUM5ohStky9en+r5fYNl9Ic6IDWf90gdPFomzsqRac9c7Gd6TYzolJgBD8m4gj2SPytLMrV3izb5zegt/Z9fmDBJIt/qId0mnUyPCb5VRMk5JSbSUqRuj0HylNHjJ1tGDb1I0uscU1rpoInXi4Z6VyfSAPSpK6QJZ36/sr8uexy/81pnVuTZ3TrgfPOe16z5pQ3tk0dpf7CS85pVHZRxifRqU7O0yqgwW2bkesYjIV0YuUuyCn71f74ruX0sQ0Jqsn5I1nzxoYw3eoxllu3JpefCiXMkf9pj0qekJ1+MRem8p0lX+yIKl/Vo7djqcYu+fv07LPr30YsIQDJhmIiom794nXnPy8nVQxbfKqLECWZ9Bsq7N5iD4F5yfa8Wxg5fdqC8NchVVNsS1tt2yz57UUIVHFn8qTyTXSitH/yDPHC9DkhLB9sF4x6S3/axNcKOq7rSts8AGfLcNNmSda/nPQ2nIWl06baWTNVDFt9jQ3IGs1FQu4MMeTtbcidP9AZ2ZXgbQmvT64JZj8cvAHWA7PmrzXve6qGeZ7Y1HzmXJl6TP5hNkbrd+8otxonPfl6zLozol1g9+rwXT3YHuTBSOlV5l+zeF/ZqB/4d+U6mPjNRpPWt8ocHhpTtyVUwTh76bW9bI+x4iux5zzfpenVf20qQDpbRy950X2RebumxAwCcjgQRokr7pNivHmm5u9Orhyzndm9n3vNauKxsIiw+yg6UP3vrQ+8g2LyK6v0S20D5s/dkUsCrqNWlUYceZk+jSTJ1cYjL2Ad1RHZsWmf0LFr/2afyn5L+QzEUdgPrGtLk7D5ysd4t9AQMB+KfIPLd1ny3RafSY4N9SoweOxJllcCEZzSD/q0nsJtRGngaN29DaP9Nr2HRpKu90jXj7OTYp5RvMLtk5f/Me0nEXj1bcl4rvTBi79FXOGGSvDVpWuDpZSV98ubKhKnLIlM1umOTLDdOfF9K1n+2ljbKjplwG1hH5rznm3R12iIKgWjyOCGryAEgAhguIqqWrt5o3vM6u0sb857zaTBrb1Y47etV5r04sw2Uxwx70jsILtO81tazZMxIGRlkellK2ytlxHD9WZ/JsO7Xy4hxC6XQPk4sKpS8Ke/L87f2kxGzd5pPBmNLOuX8VS4q6T9Ueku79Xn5ZNLntubVkVF6VXieTPlitXfQ73n9ixdbzUI3y6Rbr5ERYyfJ7DW2lVz2r5ZJL7wu4/V+Rg/p0Cj+DX7t25pug8mSdFW+xwjfYwgQDSvXbTHveWWc19m853y+wezcvLXmvWRiq54tOa+1kRaNSyvmSnr0Fb4iw0ZO9twJML0spa38dsTvvNUzw66W/iMm+JyPfpHCvM/lk+dvlTYjZnt7HlWkJOmULc9e1NTsP2S7ab+fTybJlJLm1RFS0sB6vXw5ZbasNvoveV7/4hXmuTx65z1d2j5Zk67qxn5dzHveKnKmmQFIFiSIEFUr1mw273l1btfCvJccLr+gtIGpTvlJjNUsSgfKXr6DYFuVkSlwk86Tpc9j70im1d/kdz0l7RjboPaYNOl+9U0ybPyP3i8PQUrbm+WdWX+V3uZjX4Xjh8m1Ay+X7t1+L2MjueRuo25yla7UIitk/NCOUsd8/V1fmC/bvV/hsVxGDR0oF6XXK/0b67SXgaOyPW/SEMl88beh9VmKIt3G7NPL7NtgMvA9RvgeQ4Bo+HZF6RRhrXRIpqSr6n9ee/Oed+Wl5BPCea3k4okpYN89z8/q82eZnTnEmyQqs5iC3o6TtO6Xy7XDxkvIC9yntJPfvTNORva2vUA77fdz7UC5unuG3DZ2RQR73TWSnldd4k2cjf+dtDf6k3lef9eXZb610mmUznv5G7aa97y6d2xl3ksOvn9PUlbmAXAlEkSIqm+Wll791z4IydAnxS69VWkFkfq+IJQqmmjzGSj7GwTX7SrXPXi5+aCC1cu0v8m4eaWNK+2M5ppZMjl3mjzbJ8CqY6kNpP4JtkPN/iXy3pOvS44OPFft8ZkOc1gKcsfLcB1EF46VR0fPlK2RupyqK7W8mCXZoweXJs88r3/MvWd7htDqVLn67x/J5IllG2eLZMjwzGmSm/eqDGkX8F2qkt37Dsl3G3bKoV8qnvq2al3ZQbfvNuh0eoywV+bZjyFAOP63dbdxq4hOY5y3snS/SrZKB9Wh7anmPa+kXJq7TALI33mtgfS47qaSixPBVy+rK+2GvClr8udIVuZwnwsa2mj6PaOvV96zffyfO33Pe7JbFr/3ojybc5IMzlwu+8qc94rlaMECecc4v66Q8Y++JtlbI1VBW0OaDHhGcrLH2M5rntc/5hY526gKCu+8p+eq3FXbzEfBLV1dNrnv9ObUvnz/ng2bfzDvAYCzVfOcmIrN+0DEnT14tHlP5JFbL5QrLupuPkoeV9//cklFh/ZPeeC2y4z78Ge35D1/s3QftkgyMmfLF0Pa+clSF8ne2Y9Ku4uelcLWoyV39UPSLf6zuqLqP0u2yHP/Xi0Nah0rf7wyXbq3b2z+S3kvvP15SV8vnTYy+aX7jPvJ5KNP58kLH39jPhKZP36YeQ8IjSZbBz6dY9y/4ewm0v/cllK/jv/VpjRZcvNj75qPRN54+Lqk6ZVi0ek+A4dlmo+S93ycmIpkf96L0r/7g5KTkSn5XwRY8XPvbBnR7iIZVdhbRudOk4e6JV4V24Tpq+TD+Vul9cnHy58GnCEtm9Q3/6W8oY9klkwx0wuEj903wLifTJ58eVJJRZ5e2Hj+z4OM+wDgZIEunQBV5nuFsnmThua95NItPc28J7LvwCHzHvwq2iZLv1zkuZMmZ7Y4OcAByFqa36N1A6njgqNUj9MbyxVnNpJdB3+Vxz9cIY9lLgxY+WDfxuzbXjJp0bTssSIpqx0QVTVrVJcR17Qzkq4a0N7/rwUy/b/+q9F8Kz9POrGOeS95pDUqW0W6/cc95j1E3y9SsHS+aLqybD/AskqW5peG0qBOYl4V6dv9VOnarK6s3/mz3PdGrox6f5FRVeSPvf9Ql/bNzHvJpW0Lb/2xslchAoCTkSBC1Bz8uWyJdK3jk3N5ZfsAITl7O0RQysnS4kxNauTJqCdHy9jZa8r2Wti/RmaPfVzuGjrR86CDDLnrIu8SxUlOg9nfX9NRXr6zu3FldtH3e43Bt16t9R1827cx+7aXTE72CdB9jyVAKM4/s6m8+adzjQoiTb6+9MU6+cNL84zpnHYHDh4273n5JlOShX25+4IfSBDFjm1hiFHPydNjZ8sao1m0Za+smT1WRt71qHdRiSE3SD9r1dEEk3pybXlyaA954oYORvL1q/xdctPzc43kq32KtFas2TU8KTrTs+PtFJ+/i0bVAJIBCSJEzaatO8x7Xsk2/9xywvHHmfdQsQbS47b7vb0OckbJ0IvSvc2iSxpjpstFQ0dJjmco3XvkGHnq6uauOkhpuf4/7z835MqHZN32fI8VvscSIFSafL3lkvZG8vWC9AZG5cPwcUvKVD6s+760d4g2qAYiK0Xq9hgkT1mLPQy9SNKNZtHWua+epF80VEblFIr0/qu8+9QV0iTBT3w6DVqTr0Mv9C4qoMnXO/4xr6Q/0c+HyiZdfZP+yaJZWtnei7t27zPvAYBzkSACEEMpUrvdrfJ2Xq5MznrD24y6DG2MOVEm5+bJrGcullSXHqECVT4sXl22OegJtUhOAqHQ5OvwQV3LVT5Mylknu/eXBrMtUk807yUfql3jSBd7eDtbcidPLL/Yg14QGf6G0fS6YNbj0ifVGdXWmnwd0LuNvPdQLyP5ak2R1uTrlh0hr+8GAEgwNKlG1Hw6K1eeHjfHfJS8jWatBqf10tKl2jHVpVvLE6UugTsiZMuPPxtVD5Yjhw/IwR+3eP5/UN598uakrczTBvc1TqgnJ5zcXFo2OE6aN0rOKQqIvX0/HzGmcVqqVyuWPTu2yOF9O5O2ma6yzsknNu8oRUePSp8OyXnsQHws37zPSBJZfjnwkxzYuVmKi44m7bnKt8F9Mp+TAbgHCaI4uvzxmea95Lfrf4uTOkF0++gZUuukpuYzQPQUHflVDu7aagy+kz1BdGKLzlKtGoWuiD5NDmkwm+wJohe/2Cg1Tgi88hQQKUd/OeTZpzYl9cUMK0HUoGUX8xlYPnuir3kPgNOQIIojTRAl8wHULRVEc+Yvl0de/1LqN+tQEszqFIY7+rU2pgoBlaXL3785Y33JVdm7+7aUZzOnGFdk1TO/v0QuPLujcT/ZaIKoTqNWcmyteuYzYqz0dtvl7Y2pDUBlFO7cLxOy1xhTzJROjdn9w2aZs2iN8TjZE0SjPs6VOo3bmM9ISMuVA8Foc+qcRVuMqdBKxz/X/qaR51w1zXisqCByl2SPb4Bkx6VZoIp0BRwN2A/v9TbSbVL/OCOgf+7fq425+BqQAOHQJe51qXvdhnRb0sSI9nnof17rkuSQ8l19KdlopZT199Y/vrp8umS70QhVE2dAODSI1X5Dt7/0XyM5pImRUbeeafQlOr566T61Z7//JbuTweJV38uvP+8zpqkqfQ+s5cpf/ffyMqtQAaHQptTDX19QkhzSptXaP++MFqWJfQCAs5AgQtT4Lmvqu+xpsjjwszdI/3n3diOY3br7sPz56nbG4FsDEQ1IAq1CBdjpqkoaqGnApj1SdBvS1Zd0Cfz6dRJz2eNo0Kuy6uivh42pP+qijqcYiTJ78tVahQoIRhOKmljMnLPRqG64/9I2MuqunnJGK+8KRF3aNzP+r+at3GreS14//+Tdv346eET+1L+t8Z5YydfvNnj3NyAYvfClx2BtSq1JRq3E04sY2rTaX4Xnzp+Sc3Uv37/r+Jr0nwTgfCSIEDW+y5r+mKQDhDUbtxv/1+RQ2nHeZsLzV/1gBCD2JWC1IoRqIvijV+41iahL2mugpgGbLnWvS977Tv049/Qm5j1vRUAyOvjzL+Y9b+K17nHHSNbCArmx72lG1YeVfNX3i+QrAvFXiffSPT3lkt+0CDpN8ac9yXmczssvMP6vVUSptcV4T44cKTIqPqzk6/BxS0i+IiA9V02YvspvJZ79IobvNKsdP5Y2hU8mvn9XWqMG5j0AcC4SRIiaJo1OMu95bdrqnYKVbKxBt+rQpEZJ8Fq4Y79xNe2t+38jXZvVNSpCdFCl0xwo5YfdivU7jSSiBmi6tL0GbIH6V9WrXToIt297ycR+rNDE66DzvBUe0+b9z6j6sJKv+n6RfEUgViWeHn+DVeK1b1OadFVbCn807yUPTXpt31O6GuK5bWob/3/vq03G//W90UBfk9NW8pWpnPD1+Tcb5cP5W0sq8fQihlWJ5+v0U0uTJeu+/8G8l1zsF2nsfy8AOBkJIkRNzZo1pFG9481HyVnt4DvobtPsFBnct7Vxf+JXG4z/p55cW54c2sMYTCmd5qBz9vXqNqCaNKxtbB+aTLzlkuBNmO3TYXTbS8ZqB99B98U9mxsBiQYmWtmg748mXzXo14SslXylmggWTcJrFd4TN3Qwjr/BmjA3qF+22jUZL2b4Jr3O79rcmBakSVZtMKw00NfktJV8pY8efKU3q2+cq6xKvGBapJ5o3hPPNuYdDyUb+0Wajm1oTg0gOZAgQlT17trKvCfy+cL15r3kseZ/ZSs49Ep09/aNS6qI7EkgHUzpHH0dlFuNQbVUm2oiaBJRtw/9f0V8qx18t8FkYD9W6KBbE0I3XdDcePzBzLXG/5UG/XoF20q+ajXRH16aR/IVxjajVXh6PK7IifVql7n6n/Otd0WzZLJwmbeJsEUrfK+9wHt+1ioi6zzkm3zV8xjJV1g0iajnqlB64vlezEi2PpT699gvEHZud6p5DwCcjQQRosr3hLl8tbecPVnMX1x20G3Nu/etIrLooErn6uuVbasigsagCIdvbwffbdDpfI8RZ3fxJn96d21q7DPao8k3AaQBizWV00q+MpUT4Tinc2k1hDaqTrbKvG+WliZ4tI+ZVvhqgtW3isii/0YfPVRF1w6lFwjVohXJVUX09berzHte6a3KXrwBAKciQYSoOvP0luY9L9+rmE526NAv8tGc78xHItdfeIZ5T8pUEflL/uiVbS3Rtgbn2hhUV6+iMShCYd/WdBvUbTFZ+B4j2rZMM/5vryLyTbwqayqnlXy1pnKSfEUoenTyJiItS1b+z7znfLoq4MrNpdUbZ3Xw7kfKXxWRxaomoo8eKkMbNtvbDPx79lLzXnLInr/avOedCk2DagDJggQRokpL9+2rLr316aKkCWbnL84373lZlQ4Wq4ro9c/Kfp3FqiayGoNqZQSNQREK323Nd1t0Kj026DHCoscOPYZYrCoi3+mbdvbkq1YTWclXAloE07Fd8zLB7LufLjTvOV/OgpXmPa/zzmpv3vNWCgWqIrLQRw+V1f+80m1Nk5SarEwGvknXjLPbmfcAwPlIECHqrr2ku3nPa+a8ZeY9Z7MHEBpYdG5XtmGjVUWkQWruqm3ms+VZjUGtZYatxqBUEyEQ3daSMZj1PTb4HjsqqiKy+E7l1OSrTuUMth8CyRjM6lQ536Srb6VDsCoiO/roIVyXXtDFvOflm6x0qmmzF5v3vOxJVwBwOhJEiDrfYPatyf91fBXRgiVrylw90sBCezr4sqqIxs8M3qBbA19dZtjeGFSriWgMCn90W/MNZnWbdDKjeshzbLD4S7oqDVL9NYH3R6uJ7MnXxz9cQfIVAfkGs+9Pm2/ec65JMxaY97x8k64qlCoiC330EA5NRvpWkTu9v5c2p7a3F7isR2umlwFIKiSIEHUazN5+9W/MR97VLJxcRaSB7BsTvzYfeQ3o19O8V5ZWEVmNc0OpXrA3BtXBOo1BEYjvNqfbpJMTr3pMsK8Io8cMf0lXFagJvD9W8tWaymklX5nKCV8a5GmwZ9HV9Jy8sIJv9ZD2Sel5ZlvzUVmhVhFZ6KOHUPkmJV+ekG3ec6bMiTnmPa+MXh3MewCQHEgQISb6ntupTBXR0+PmOPYqkgay9uqh26/oWqZPiq8hl3gH5BVVEVmsxqBaTWRvDKrVRJTyw6LbnG57Ft0mnZp41WOBHhMseqzQY0Yg9ibwofZBsaZyWslXayonyVfYDep/tnnP64UJMx2bePUNxO+89jzzXnnhVBFZ6KOHUGhSUpOTFicnXvV16+u3aHVUoKQrADgVCSLEhG8VkXLiVSQtLfYNZANVD1msgXeoVUQW/T57Y1CtJqIxKOx02/NNvOo26jS+x4Jg1UOWcKqILPbkq5VgspKvgGrdPLXMKoGaeJ0y81vzkXPolFN7IBusesgSbhWRhT56qMjDd15m3vNyYuJVX+9jr0wzH3n9/sYLzXsAkDyO+auHeR8x9n7OBrnpQu+AzA3atkqT+bmrZcde7zSStVt/ksZ1jzOedwIdHDz92lTZvGOf+YzIAzecJ53bl++T4iutwfHyeV6BbN62Ty7t2cx8NjRtmtaXPh1PkS3b9srKwgPGzzm+WpG0TKsr1Y8hx+tmx9esIbWPS5Gvl5YmOLZu/UHO754u1asfYz6T2D6dlStjPy87DWbY7VeYjwJLa1hbFqwolMWb98k5bRvIiXVrmv9SMf3aC7ukSaPa1WXhul3GbfWGndKy0Qlh/Rwkp/RWqTLzm+/kwGFvkuS/322WC7u2kgb16xiPE50miUe+OLnk9at/DBtY4evXbX9r4W5Zve2AsW/ouSdUei46q30jY1/M3/STsV/mLCmUWtW95zC4m257+3fvke827jAe6zjw0P798psupxmPneDlCTNkweoC85EYieTLepdW8aKU2+IbINmQIIojNx5AO7RJlUlzSqfBaGDbs31TaXRy4g8gx03KkSnzShsBa2nxfYP7mY+CswbeOmhOb1zLCG7DUadWDenTtYmcemINWfX9Hvlm7S7JW7VdmjWsJaecWMv8KriRJlhX528qSVzq/48t/lW6npH4xxYt1x/+8mfmI69QAllLw7o1JGfFD0ZAGm7iVQNae/JVp3KSfIXSxGujE4+XWbnrzGdE5i1aK+d3ayN1apdW7CUi60LGqi2llYQPXHeOnNfjdPNRcNbFjHUF++SyHk3D3g+s5Gud6mKcp6zka/tm9YzzGNzrzPbNZfp/lpUkLjVZ1LpxXWl5aiPjcSLTCxmvTi67cu3fH7zWMRdiYo0EEeBsJIjiyI0HUA38tGrIXvGwcNmGhB94Z348q0yzTx0cPPXHa8J6zfYqIh1AVyYAbe4ZTPXp3Fh+/HG/kWz6cuk22bv7gHRsfRIBrYt1OK2JfLVwdcnAe9GaQqn266GEThJplcND/5dVpsrhkVsvlN90STcfVcyqItLpm5VJvCor+XrS8SlGMLt4424j+dquaV2qiVxMg1Z7xYNup06oznv2tSkye0lpfxe9kHHPoItDfs1VqSKy6LmofYsGRjXRth37jeTr1IVbjH2s6Sm1OVe5lG6DZ7RqJNO+Ll0BTJOwHVs2lKaNTzKfSTw6XfOR16abj7z+8f8GSJMEfs3xRoIIcDYSRHHk1gOoVjwUbt1uTDFTOvDW4DZRk0S+ySH19L2XS/s2Tc1HobFXEVV24K1qHlddzu2YagTEyzb8JEs375WZeVul2Uk1KxUgw/l0v2mZVl+mz883n0nsJJEmh+556v0yq5bp6lF33HCR+Sh0VhVRZaZv2un+eHn3tJLkqyZzSb66m1Y8fLtkbcm0aK3OW7d+S8ImifRc9dGcleaj0gsZJ9YP77xQ1Soii57z7MlXvZF8dTetFq9zrHfapkXPW4maJNLk0ANjppiPvLQir885Hc1H8IcEEeBsJIjiyM0H0J6dWhsDbWtaTKImifwlh7TKobKDg0gNvJUmg/RnHNz3s5Ek0iBZE1BntDjRSCIheeiqQKs27pJ1W3YHvB06cozUr1NPNu8pkmOPryNFR36RvNVbEi5J5C85pFUOj91zdaWC7khUEVms5Ks1ldNKvqan1WYqp0voIgDaXFlv+3/+Vdq1bip5a3d4No56Ui2lumws+ME4d53VsaUxFS0R6LQyrRyyJ4eUVjm0aZFqPgpdJKqI7OxTOemj5z66L+lqkdZ+1ST1FJFikU17qhnnql9/3peQSSJ/ySFdOfSWay4wHyEQEkSAs1Ur9jDvI8Yuf3ymfPZEX/OR++ig9tEXPpF5K7eaz3i98OBVcV82VF/bax/M9Ay4S0uhlQ4Ohl4XfpWDna7uoqsn6epkl/ym4gbXofhuw055/bN8I0jW5Ybv6Ndazj8zvAonJCZd+e7xD1eYj0JTdORX2b259Hu0mebdN/atcGWwaPM34Nbk0FMP/LZKr02D+vveyDVWJvvn/eeaz1aNBjIfzFxrLN2tdIWmG/ueZiztDeebMH2VfDi/7LmnIvu2rTOCWaXVOf/30EBj1bN40oTrmLenR/w8au1Tej7RFcp0BcBI0GT3mzPWG6ud6c/+87VnGKugwfk0CTQ8M8/4bEP1y4GfZP8PpS0HtDrn+isicwyvio8+nScvfPyN+chLz1XP/3mQ+QjBuD2+AZyOCqI4cnuGXasFtFTfXkmk9EqS9n7Q8v54lPGv31QoI/+RJTlLvzef8YpEckhFsorIotUN9sag81bvpDFoktCKGK1o6dqyvvQ8rUG52ym1j5U12w6YX+3Vp3V1WfW/QvORtxmoTpXRJvHxWIlJE666Asz/ffC1+YxXJJJDyj59s6pVRBatJtJVmc5sXlfy1v7ordJbUign165u9AKDsy1bt1NWbPGed7o2qyttG58gLU4+vuS27+cj8vOvRca/q7Oa15E9O7aU9MzS/+uCC/FciVMTrrpamb0htYrERZZIVxFZ7H309GfTRy957PzpoMxZtt3YbzRZ3+nUumX2qZNOOFYK9xw2v9qrXd2DsnXnHvORd+qZLroQrwq9n/bsl8de+EQm5pStxtMp0JWtcnUjKogAZ6OCKI7IsHsFqiTSK7Qjh2bErJpIX8eUmd+Wu2qknvn9JXLh2ZGbc25dvY5kFZFFr/z+Y9J3RjWRisbvQPwd+uWIfP7NRsmcU3r1VV2Q3kCGD+oqc+Yvl4dfLdtYU+kV2qv6nhWzaiINYp/NzC4zpUxFKjlkiUYVkUXf64mz15ZUnOh7fGf/06kmSkK+n7Xl5Tu7y3HVi8pNj1S6Lf/+xgtjVk2kQezLE7Ll84XrzWe89Jz55L39pWO75uYzVROtKiKLVke+ODW/pJroj1emS/f2jc1/RTLRKue/T/yuTHXRDWc3kVsuae93Kr9uy7df/Ru54qLu5jPRpyuVvTX5v+X270hdHHQT4hvA2aggiiMy7F56RSajV0ejV4o21rXoFVqtJtKG1k0b1Y9a5YMmhqZ/tVgefmmKzFr0P/NZLx2kaB+Hnl0im6Rq3qiOTPrm+4hWEVn0yq9WE+lVX6sxqFYTtWx0Ao1Bk4QGVo+MW2xUiykdaFvVEM/c1s2oftFVmHq2b2qsEmhVPSi9QqtLDdc+LkWapZ0ctSuiWon3yrtfykufzC/z+5UOuP9811UR/d3RqCKy6P7ZuU1DY1UmXVJff4fuv9p8N1KVFYg/DWJHZObJt//bbSQserSqL5t+/NlICF5xbkujP97Vfc6UHdt3liyyoLQCVquJtPI1vVVq1CofNDH0/tSv5f+9OK3M71dGwvWP11Sq51Ag0aoisug+Sh+95KZTdf+ZtUzemvU/o7JI9yXdp9TIGzobn7P2yNPl7nVFM4ueM3S12/m5q6XxSbWj2ptIL2I8/tJkmfSfVeXOVXpxcMAlvzEfIVTEN4CzkSCKIw6gZekgwV9AqwNhHXxr2XG92sfJyfXrRCSw1N4Nn+cskr+++pl8sWBtuYGBlhQ/86eB0rzpKeYzkaODoqLDh41AJBoDbw1o7Y1BdZlhGoM6n17RHzNxmXwwb7Mx2Na+OI/f3EXWbN5tJIg0UdTzjNIAUVeM6Xfu6fLTjz+VCSitwbcmiqoV/SoN6tWOSHN4TbbmrVgvL7wzQ178eF65INZKuF5yQRfzmciypm9WdUWzQKzkq07l1OXwreQrUzmdTauG3pz6nbwyY31JEPvQtR3l84Vb5KeDR2TYwDNKkut67rmgR3tjapnuQ3Y6lfO9L3KNixoN6tYy9r9I0GTrv7MXGokh+0UUi1YF6lL24a5WFopoTIm2059nTeXcsHWPkXxlKmdy0H5TT3243EgwasL1iUGd5PgaxxjHTd9zlV7QuOyc9rJi9aaSVQOV3tcLhZooOkaKpOFJdSOSgNVk66x5y+S5zC9kwowlZX6nOv3UBvLaY4OkUzuqryuD+AZwNqaYxRElmP5pkPne1K/LlRzbadPdzu1OlfRWTSStUQPz2eD0567dWCgr122R7PmrZeXmsn0bLBrE/nHQBRGdUuaPXlm76fm5USvft5v+343y3lebjPJunYLzpwFnSMsmVD44hW4r0+b9r2Tai/0zDHUaiE45e/H9r8qVz1t0QJxxdjs5vU1TOa1FashTvzTRmr9hqyxdvVl8m7rbadXQTVeeF/WpbdFoAu+Pvu9jp68xkq9Kf1/vrk2juh8j8gI1TdZj5ktfrCuZsumPbvuZE3PKTfWy6Lmk/3ntpUPbU6VtyzQ5sV5oCRwNXrcU/igLl62Tb5ZuDHiu0n324Tsvi/rUtljtU77TZrU31D1XnS6pJ0c+8YXo0WbVE7LXGNuMGnphC7nsHO92c8c/5hn72nsP9fI7RVfHaTPnLZOnx80xnylPq+V6n9VW2rdpEta2r4nWVeu2Ss63a8q1NLDTlWr7ntspZtOwkxHxDeBsJIjiiANocHoyf3/a/ICDbzsdMNSrXVPatmgkJxx/nPmsyLrvf5B9Bw7JxsKfAg6yLdac91gODKLZi8iXJhnemLayZNCm1Se3Xd6egDbB2ZN7GsD6rlAXTvBmDb799VnwpcFni9QTpc4JNaVNs9IqugM/H5Y1G7fLnv2Hgg6yLVqJN6j/2THrzxLtvim+rESCIvnqHMGOh5qosAJZ7T1U0ee5fPUmeWHCzArPMUr3B+V7rlq8yrsoQl5+QUj75p3Xnhez/nyx3qf099FHz5mCHQ+tf7N6DwWjSdJJMxYEvVBosc5VaafUk0Yn1TOfFdn+4x4p+GFPSOM/pRcxBvTrGXIiF4ER3wDORoIojjiAhkYTRTkLVoY0UKgMHVxc06dzXK4YWVVEKtAVtUhjmWFn0H4or3+WXxIk6aD62j6nlQnOrCXww23MbCWK/j17aUgD58rQwfalF3QJucIvkmJV8WAJdMWc5Gtisidd/SX1rEA2WPWQP5oomjX/u6CVdFWhF0KuvaR7zBJDdtY+9cQNHWLSSFqTdDmLtpQkG7SaaMglbUm+JijfikrfY6A96RrOWEcTRdlfL5UPZiyuMHFaGXph8MZ+XSTjvM4khiKI+AZwNhJEccQBNDwa1C5dvVHmL17nGThuqNJgQZNCOp3mvLPaxyWAtZtgVhGFclUtUjQx9cHMtfLpku3GYw2EWJUpMfhWNuhnc0tGW7/TLP7w0jwjgTTq1jMrneTTBGzu8g1Bp13WOOFEz62e7P+hbM8VOx1o9+7aSs7u0kY6t/MEBnEsz491xYOF5Gti00Tev6asDBjEqnCrh/zRoHbJyv/J3Ly1AStgjzn2OKl1UlM5tOcH+fVnb4N5fzQpdFaH5nE/V1n7VLjJ6KoK5TND/IQ6LTAS4xxNwOq0y2lfrwo4/qvVIE2Kjh717FfesY0/1tTPHp3aRGzFP5RFfAM4GwmiOOIAWjUa2H5fsFN++HGvMeVF+Zbn+06Tad6koTRNPSmhrhTFo4rIYl96VgNa3+lLiB3fgbZ+HsGWfdZkxHP/Xh12lUMwVu+TTVt3GNMzC3cfkTU/HSO/VDtOjhw+IHsL1hiD627pacbX6zSZU06qG1YvsFh59d/LjQRorKqILMGmLiE+fKtRgk0FrGz1UDBW7xOd8rJ5+1754ecasumAd3rZvm3rjASRNU3amiaj/VWaNDopofqgxLqKyK6iqi/EXqhTAaMxxtH+X5sLd8oOz/hPp2fuOnSsrN93rByV6kZy6OCugpLxn+rSvpnR4PrU1JMT7lyVjIhvAGcjQRRHHEBhiUcVkUWDp4mz15Y0QKaaKPZ0qtiLU/ON4EfpQLuihsdWtcrfbu4c8UBJB/T2ptgqkgFzLFhBSayriCz2z5Tka/yE28/GSixWtnooGHuFmSUavyda4lVFZCH5mhjCHTNY2000xjf6syd+taFkm1AV7eOIPuIbwNlY5j6OWAYSlvRmJ8rMvK3GsveXd08zlsGPFV1muHObhnJO2waSv+knY5nhSd98Lycd710qH9Gjg9s3P10p73y1qWR57Wdu6yYdWp9c4XLSugT0gF4tSpbfjgQd+M/89nsZMX6JsWy+XQtPUHhux9g0mo4E3YeKDh829qlGtavHfFtOa1hbdFnwg/t+lqWb98q81Ttla+FuOaPFiTHdv91Kt+WpX2+Qp7NWGkvV69SXJwd3kS5tSxuu+3Ny3eNkwDnN5NQILrGulZpPvbtYpi3aZuzndpd1S4voPhxN+jp1G9ZzRHrjWsY2Hku63+gx6NQTa8iq7/cY+5WeN9PTasspJ9YyvwrRpNvyiMw847iqie8/XNFWBl2cHvSYptvNmc3rSt+zIjedS5OFb3++Sl74bK1s+rHsdLOepzVg7BJnxDeAs5EgiiMOoLBoMqCWZ3y1cN0uqVF81EjYxJoO4i7skiZ1PK9j8cbdxmtZ7RkMtm9WT+rUSpxpDslAg9cPvsyXUVPyjcGtXpF/8uYz5YpzW8YteaDVDX99d6l8tWqn8Viv9tqTRE5LEKnmjeoYyc51BfuMZE1FSbdI0993VvtGRnC0YeseI7DOWVIoJ9eubiT4EB3G1NkPlsqslTtLgtjbLmsf0nFMj4OROt5ZCeC3Zv3PSFJpAvikE46Vwj2Hza9wVoJIpTU4Xj7PK5DN2/bJpT2bmc/Glu479uTrl0u3kXyNMish88qM9UaSU6u3hl/fSdKbhzZdK1IJPPtFjDXbDhj790VnNDTuW0gQxR/xDeBsJIjiiAMo7JqeUjtuVUQWDWjbt2ggfTqeIlu27TUag05duEWOr1YkLdPqxjzATkbaS+PpD5eXXIG9vW8ruX9gp7gFib7VDTrwf/zmLrJ1xwEjUaiPdfDtxASR7kPxrCKyaHBkJV+/WbvLqCYi+Rp5Gjy+OfU7I4i1EjKPebblUIPYSNFgeuKctWUSwA9c2U56dUqV179cb+z3afWOM16j0xJE+lrjWUVksSdf89b+KKs9xyiSr9GhFw+e8pyzNBmn2+4TgzrJZefE/mKG70UMbVj+/67rJF8vKzT2M93f9f8kiOKP+AZwNqI9IEFoH4WbLvCWYGv/l3jSFUieHNrDmMuvtHHy8NcXGFfEUTn63umqY9oAV3uQaIWO9saJZ68ETVYNH7fE6M+ig2vth/L7azrKz4ePGJ+5BgM39j3N/Gpn6n9uS+P/2uBWA/d40f17QO82xnusCQNNvt7+0n+NzwBVpz2fdPUx7R9kBLE3dDB6ZsW6l5puY9r7Svuz6OvQY6j269GmzhOy1xhfo8f5picdb9x3omsv8AZ+42f6X6EtlnSVQD2O6vFUj6vauF+bacdzX08W+h7qe6nvqb63erFA3+t4rMyovcHsr0ObXevxdMX6nUb/IT2mWtslAKBqSBABCUQbE2tQocFFIgxwNXnx1v2/MZIHmkTQRpPaUFuv1CM01iBb3zt9D7UXiiYJtFlnIjRX1c/WCqatZrn2QNbpzcr19VvBY7wTr0rfY00YaOJAacJQE4ckXyvH2r8e/3BFmSA21qtsWTS5qvuUVjfYE8CawLICWac30NVt2Don6N8Vb3oc1eOplXzV91mTdCRfK0/fu/v/taBkm7UuHsTznKX7tvU69Liu4xBdCEDpqnYAgMggQQQkEHsVka7Wkgi0mkiTByOuaVeSvNIr9To1CYHp4FUH2Rqo6CDbqmrQyqxEWbVIA1X9bO3BtD2Q1YRlMrCqiBIl8aqs5KsmDK3k66ScdSRfw6BTTqwgVvevUbeeGfcg1jpeanWD9Trsgexdl6cb/3e6RKoisuhxddRdPY3knNLk62OZC6Vw537jMSqm75W+Z1alq76X+p7G+5yl+7Xe7K/j8282Gq9Rk5WJck4FgGRAgghIMFYVkQY9iVRVoEt0v3RPT2MwpoMynZqkZd8EtOVpkkWn5OkgW1nVBPGqagiVbyAbz0A7kqwqIpUIVUQW+1RO3eetqZwkX4Ozglhryom1f8Vj6kso7IFsor7GcGlAnkhVRBY9Zmlyzkq+WlM5Sb4Gp++NXtDQ90rfM6vS1Z7oTCR6DNDjpdIl9gEAkUOCCEgwOhizqogmfrXB+H+i0EBbr47rlXoNaLXfh1YT6ZV8eAet1nQXDZw0gLJ6JTgh2eIvkE2Wq+9aRaTbbCJVEVm0mshKvup2Q/I1MHsQa019SeT9K5kD2USsIrLQRy90+p7YL2joe5ZIla7+WNOg9bU6fRo0ACQaEkRAAkrUKiKL1RhUewJoQsHtjUE1kJ8wfZURuFrTszSJpsk0pwxe9bPzF8geOpwcSQr9HBKlCbw/VvLVmsppJV+pJvLS46A19UVpYJgIU18qksyBbKJWEdlZUzmt10kfvVL6HmhlldUfT98jfa8SvUdWMk6DBoBEQoIISEB6NfyOfq2N+4lWRWTR16g9AeyNQbUfiF7hdxOtntJA3nfVIqdNJbF6XiVjIGtJtCbw/uhUTnvyVauJ3J58tYJYa+qLFcQmelWeJvcqCmRjvVR4pCVyFZGFPnrl6d+u74FeFND3RN8bfY/0vUpkejywtrVkmgYNAInkmL96mPcRY+/nbJCbLmRZTvjXvHFdWbCiUBZv3ifntG0gJ9ZNzKBdX9eFXdKkjmec9s3aXbJw3S5Z7Rl8tm9WT+rUqmF+VfLRiobHx+XJtEXb5Odfi4yAfvj1naRDa+f1GNFg4a1Z/zMC2Tv6ny7Vjym9dqCf7/HViuTys5s7/vPUv6uWZzvVbbRG8VHp3Kah+S+JRV/nWe0byZnN60re2h9l9bYDkrOkUE6uXd04LriF7mNPvrtYZq3caQSxt/dtJXdeeYYjtkMNZP/+wVL56eARGXltB0nzCbxbpdaRhidUlx6nJ3Zfsoro8WFr4W7jPJXeuJakNUzcBIPuO306N5Yff9xv7FNfLt0me3cfkI6tTypzzEtmul2+OfU7eWXGeuO8pVVDj93cRdKbNzC/IrHN/PZ7mb7sB+N1X3O+9yKa5fia1SXlyK9y+TktXfN5JiriG8DZSBDFEQdQVKRh3RqSs+IHObD/kJzbMdV8NvHoYKx9iwZGIit/00+ysvCATF24RU46PkXaNE2u1UW0kuPtz1fJC5+tNYI/rWh45PqOcnGP5o6sBqgokFX62SZLsq/pKbVlZt5W+fZ/u+Xy7mkJ/ZmdcmItuaxH05Lk67zVO41gXJMLyZx8tYJYax+zglgnJV+DBbJKPz/dr5JBWoPj5fO8Atm8bZ9c2rOZ+Wxi0v1dz6VW8nXp5r3G8cANyVedmvXIuMXG36wJ1z8PPF2u7XOaY85beu4dMX6Jcf+Z27qVe906DtGkP8mh+CO+AZyNBFEccQBFRfRqrBOqiCz6+jRA0MSQVmnoTV9/u6Z1E/61V0SDVg36nvvku5IB9h+uaCu3Xdbe0X9bRYFsstHgwaoi+uXgYaNSJ5H5Jl/1WJCsyVel1WwjMvPK7GODLk53VPK1okA22TipishiJV8P7vvZ2Nas5OsZLU5Mus9Lt8d/Zi2Td77aVFLt+pfBXaWZwxJi+jds+vFnYxq0Eyt13YT4BnA2EkRxxAEUoXBKFZGdBq59Op4iW7btNaqJ9OqyTlNqmVbXkVf3NGjVKhtNpOgAW5fV/n/XdZLWCd4gtyL2QPaxQZ2TuirFzqoi0sDQCYlXpa/Rmsq5eOPukqmcLRud4Pjkq7Iq86ypL9aUTadMfbGzAlk9TnRJP8V8Nrk5qYrIouciTRDbk686lVMTyMmSfNUeeU99uNyYUqdTiLVK9DIHTsGypkEbSeMBHRw5jnAT4hvA2UgQxREHUITCXkWkZfF65dMJNNnQp2sTOfXEGrLq+z3GFJm8VdulWcNajvkbdInqVyevMAamJVNdBnU2+oYkwwDVHsg6vRdKOPSzs6qInJR41det1URW8lWbNjs9+aqsINaqGnpiUCcjiHViJYc9kNUkslsCWSdWEVnsyddk6aOn565RHyyRTxZsLbmocc81/qcQJzr7NGidFue0yic3Ir4BnI0UPOAAg/t6p/68/lm+8X8n0VWZXrqnp5Fc0aV0dVWmV/+93Bj0JSp9bbpykr9l6xN9lZdQaSCrf5sGspedk9jLGkeDtaKZvgfaDNlJdBt8cmgPY6qF0pWIhr++wHF/h1YN6Qptz/17tbFi2w1nNzFWcHPaCoAWPW5Yx+g/Xum+FZacsKJZIPpZDejdpmRVTk2+6vFfV+VM5HOVP/qa9bXr36B/i/5N+rc5dXvMWbSlZBn+7u3dcyEDAOKFCqI4IsOOUFlVRDpIctrVWaWVAFqloa992YafjEoBneLT7KSaCfe3aDXDX99dalxJ1gSCrpykK3s58cprME+9u9jVV2SdWkVkp9NgtNG2rsqklRtaTVR0+LCkNzsx4StXNIjV6Y1awaZB7JM3nykXdD3V0RU39n5e2vzXbZxcRWTRv8G3j55Wvjqhj561sqZug0oTyHruauiQil1/3DoN2umIbwBnI0EURxxAEQ6rF5GTejz40oDB3hhU/55EaQyqg+sxE5eVlOTbl61PtmkiGpy7OZC1aC8iDf40oHVKLyJfVvLVmsqpq7Np8jU9rXZCTuW0pr5MySs0HltTX5wcxCoNZLWBvR473BzIOrEXkT9O6qOnFU5Tv94gT2etNJL+urLmk4O7SJe2pzj+3KV9ydZsO+C6adBOR3wDOBsJojjiAIpwOL2KyKIDVm0Mai0zrM0ztTFovJYZ1sBu4py1MmpKvhTuOVxSzeDUZesrQiBbSrdFJzaB90f3nT6dGxsrs2ny9cul22Tv7gNyWtN6CbEdW0HsEx+tMPYzDWIfub6jnNMpLSkSsBrI6vvu9kA2GaqILE7oo6cXNp58d7HMWrmzpOL1zivPSIrjuv5tL3y21nX9vJIB8Q3gbCSI4ogDKMKlZe7JcHVWWcsMW41BrWWGW6XWidngVitpNFmiVRc6CNUlte++qoMjK0lCRSBblpV4dXIVkUUTQfbkq1GlF8fkq8UexCqd+qJBbLLsZwSyZSVLFZHFSr5aUzmt5GvH1ifF7bPWhOubU78ztruSBRRu7pJUy7/rdDkaUzsT8Q3gbCSI4ogDKMKVTFdnlQ6udVUm+zLDUxduMfo/RHOZYW3QrD14dJqVVtJoc9w/DzrT8cvWV4RA1r9kqSKyWMlXayqnlXyN9VRO36kvRhA7qLMx9SWZEMiWlWznKWVN5dS/J9599PT8NSIzz3gN1oWNQRenJ1XFK9OgnY34BnA2EkRxxAEUlZFsV2eVBhS6zHCj2tVLGoPqMsMtG50Q0SoDnV6lS7v7Llt/bqcmrkiWWIGsBhTJngwLRzJVEVl0e9ZqInvyVauJtDF3NJOvFiuItZq9W0Fssk1ptAJZnTJ3c0a6+SyS8Tyl9FgRrz569vOX1SfvL4O7Jt2x3D4NetjA5Kk0dBPiG8DZSBDFEQdQVEYyXp1VGtDaG4PqEr2RagxqVTI8+v6yklWTHriynXFl0i09eOyB7G2XtTefhcWqItJkSjIFtFby1ZrKaSVf2zerF5Vt35r68sqM9UaAZ019SW/ewPyK5GEPZLWfEoFsqWQ9Tykr+RrLPnq6uuZTHy43fpcmXJ8Y1EkuO6dlUl7YsKZBa2WvrmwI5yG+AZyNBFEccQBFZSXr1VmlQas2BrWWGV68cXeVlhnOXbVNHhm32AiO1f3m0r9umgpCIFsxq4rI6U3g/dEg0prKuW3HfiP5ak3l1JXcIhVkahD713eXlkx90SD2mvNbJ9XUFzsC2eCS+TylYtFHT1f9e3XyCnlv7mbj+G1Nh047OXmOT3b2adD6dyZjAswNiG8AZyNBFEccQFFZ9quz0e7XEy/6N13ePa2kMagGGuE0BtWBpi5b/8E878BaKxmeua1bUi5bXxFdpU0bcRPIBmdVESVrQKvHDXvyVW9VSb5arKkvVhBrTX1J1iBWEchWzH6eSrakq0U/92j10dOqz0ffK6161dU19fidzNsa06CTA/EN4GwkiOKIAyiqwro6u65gn3EVMxkHjVZjUGuZYb1ar41B09NqB1xmWKe4fPBlfrll6684t2XSVjIEo4GsvhcEshVL5ioiO2sq5549B0uSr5WdymmtBKhTX3RfG3lth6Sd+mKnyWc9vhDIBpfsVUQWTYZFqo+eVg2N+mCJTMkrNB7ripP3XNNBGibI0vrRohWI0xZtYxp0EiC+AZyNBFEccQBFVVhXZzUw00FpMlYRWaxlhn85eNhIElnLDJ/WtF6ZpI8Gq09/uLxk2frb+7aS+wd2qlJ1hNMRyIanWcNaxvaV7AGtToGxJ191ikxFyVc7exCrVUNWEJvMVUMWDWQ/WbCVQDYEbqgismhS1Eq+VqaPntUr74mPVhjHbN2+nhzcRXqc3jjpE676t+v0VKZBJwfiG8DZSBDFEQdQVJUbqogsmgiyNwbVRJHVGLToaJFRmq5NmO19GtolYWPccBDIhk+TI24JaJWVfNWpnJpstpKvwaZyWlNf7BV653RKS/ogVhHIhs8tVUQWex89PTdr8rWiqZxa6fnku4tl1sqdxuP7L20jd155RlQayScirfplGnTyIL4BnI0EURxxAEVV6WBTgzlNliR7FZHFagyacuRXY0CpjUE1+LCWrddlcZO9T0MoCGQrz20BrTWVUxNiyzb8VDKVs9lJNcskyDSItRKxSoNYt1XoEciGT7cPNyVdLUY1kZl8taZy+iZf7VOirXOY1SvPLZgGnXyIbwBn4ygMONyNfU8z/v/eV5uMwaZbNKx/vHmvVKdWDaQl06gME2evlV0HfzUaBvOehEffLw3UtBeRroLnFt3bN5Y3/3Susc3otvP4hytk1PuLZPuPB2RSzjq5741c4z3RirS37v+NXPKbFuZ3uoMGsh/O32oEsv3PbWk+i1Bce4E3WBw/c73xf7eoX6emDB/UVUZc087Ybj5dsl3u+Mc8+W7DTuOm961tSr9Gv1a/x03GTl9j/P+mC5pLzRru6xMIAImGBBHgcDqY1KvZGtDlLNpiPpu8NGDXQfVLX6wzHg8+v5kMPs9b5aHPPZa50OiP4mb2QNZKICI8bg1oNUD7/TUdZdStZxrTx77K3yW3v/RfyZyzsSSIfXJoD0l1Qa8hX/ZA1m1BfFW5NelqOf/MpvLSPT1Lkq/Dxy0xbnpf3xf9N/0at9Fp0NqrSY81bks4A0CiIkEEJAHranYyVxEZTXHfX2RUNViD6vce6iXXX9RWru/bVl6+s7tR2aCDTQ1oteLBTRVVdgSyVWcPaLXnjtu0blpfTkurY9wvKi42/t+k/nFymgumsfpDIFt1bk26WvRYfEbLE6XOcceYz4hx/zenn+LK47Sen9+c4d0W/jTgDOP/AID4I0EEJIFkriLSQeSE6auMpI9WM2iAptUNvqX4GtBrZcP9l7YxHmvFw/DXFxjVNG6iV+cJZCPDCmjdNn3TqtLTXkNaNfS7C5oZ29Pygv3Gfui2hBmBbGToMVq3IzdWEe3ed8i4wPHcv1fLvsNH5ZJOp8hve6Qa9/U5/Tf9GjdhGjQAJCaaVMcRTdwQSc0b1ZFJ33xvrJqijTHty787lV6110bLvsvWB1uG21pmeM+egyWNQUNdZtjpNJB9ZNxiozG1rixFY+qqsZrr6upebmgCrwHqP7OWyTtfbTK2IQ3c/jK4q3Ru01Au7JJmvAcL1+0ybgtWFAZdlSmZ6NLjuhKVvh8X92huPovKaFi3huSs+ME1DeCVJlSf++Q74ziiCTI9Nvfr2Vy6tD1FzmnbQPI3/WScq/T8rSufuWGxCa0IfiZrlXFeH359p6QYr6AU8Q3gbCSI4ogDKCJJB1hFhw8byZQaxUeNoM6prNWSpi3aVrJs/QMDO4S8sosuDayrMp16Yg1Z9f0eI7jTVZnS02oHTS45HYFs5FkrmmniVVfPS9YkoyZjn/pwuRHEatD2xKBOctk5LUv+Xv2/lXzdsm2vrCw84IrkqwayT3y0gkA2QnQFM00uahVRsq9oZkyL/mCJTMkrNM5jQy9sIfdc00Ea2s5BmmDV5Gsdz2a1eONuI/m6esNOad+sXlIvcf/q5BWy6cefjYs+blqxzS2IbwBnI0EURxxAEWlWFdGKLfvk8u5pjgtmtILh7c9XyQufrTWW/NWeQrpEuy4nXZm/pXnjuiXLDGvg++XSbeWWGU4WBLLRkexVRLrdaLD23tzNJUHs/7uuk6QFaEKtQWufrk2MSgdNmmlCMm/V9qStJiKQjbxkryLSSs6Z334vj763TAr3HC45j53TKc3veUefa9+igVFNtG3HfmOK8NSFW5I2+arTC7VKUauptCIYyYf4BnA2EkRxxAEUkWZVEWmCyElVRNaAesT4JbLGrGD4wxVt5bbL2lc56NT3RKuJzmxeV/LW/ihLN+81qolO9gT7mkBKFgSy0XNGixNLpm8mUxWRTn3RIFa3G2vqS6Ag1pdRTWQmX62pnMmWfCWQjY5kriLS6tcn311s9O9S91/aRu688oyQzmP6NVbyVSuJtKIo2ZKvTIN2B+IbwNlIEMURB1BEg1YR5SwpNKaaOaGK6LsNO+XvHywtGVBbFQytI9y0UqeWaXB/cN/PRpJo3uqdRmWIBv9Or7axB7J39D896a44x5uVeNV9KhmqiDSIHTNxmTH1RWkQq9uNfepLKKzkqzWV00q+JsNUTnsgO/LaDkk9NTUekq2KSLcXneL7dNbKkurXJwd3MfoMhcuaypmMffSsadC6QuQV5uqrSD7EN4CzkSCKIw6giAYN2mpVF+MKZCJXEVlTW96a9T9jQK0DxscGdZYepzeO2iBYf+5Z7RsZ1UQbtu4xBt+aTNP3y6lBv28gG2hqEKrG3gTeqVVE9iDWmvpiBbFV+Xu0Es+efNWpnE5PvtoD2WvOb20+i0hJpioi6yLHrJU7y1S/VqWHUDL20bOmQatnbuvm+AszCIz4BnA2EkRxxAEU0dL0lNrGYDIRq4isIFUHitbUFk1saBAWq6acOsC2GoPqwNvJjUEJZGND9yEnVxFZU180iFXW1JdIbe/25KtO5dSeTZp8deJUTgLZ2HB6FZGey96c+p28MmN96UWOm7tIevMG5ldUXTL10bOmQeuxh2nQyY34BnA2EkRxxAEU0aIDx0SsIrKWrdeEhl5p1X45OrUlHlUv+h5ZjUF1mWFdlUkbgzppmWFt6v3o+8uM+wSy0efEKiINYj/4Ml9GTckvCWJ1W4lWgGZN5Uw58quRTLOmcrZKreOY5CuBbGw4uYpIp/Vq5aZWzOm57M8DT5dr+5wWlWOw/kyn99FjGrS7EN8AzkaCKI44gCKaEqmKyOp58smCrcZUKF2GXVfa0uAr3gNFbZKpV6+txqB606DFCY1B/5nlbTBMIBsbug9ZVUSaAEn0JvA69WVEZp7xeq2pL4MuTo/6sUD3aX1vrOSrTuV0SvJV3zOd9kogGxtOqyLSpLwedzXZYZ3L/jK4qzSLQaLGSr46rY+eJqmfn7jcSFAzDdodiG8AZyNBFEccQBFNGthYVUS/HDxsTP+INfuy9fblfi/u0TzhBrRWY9At2/Ya1USJ3hiUQDY+rCoiXSkwUZvAW/udTn2xJ2QjOfUlFJpgtaZy6opMiT6VUwNZ7SVDIBs7Tqoi0grYpz5cbkz10oTrE4M6yWXntIzpsVd/l9P66OkKpboIBdOg3YP4BnA2EkRxxAEU0WZVEenVRr2aH8uKGF1C+7lPvispwY/UsvXRpEGrLjNsbwyqyww3a1groRqDEsjGj1VFpAmiRGwCbwWx1n5nBbHxSmRpQKtTOa3k66Lv9xrVRImYfCWQjY9EryLSnlSjPlhSUgFrrbQZz+OuU/roabJ6xPglxn2mQbsH8Q3gbCSI4ogDKKJNgy+riujA/kNGH4No08qWp95dbARaOpi+4ewm8udBZ0Z82fposjcG1Su0idYYlEA2vhKxisia+vLe3M1l9rtESR5ayVdrKqdWFGnyNVGmchLIxk8iVxHphY5H31tmVMBqteaTN58p53RKS4jzgJV8TeQ+ekyDdifiG8DZSBDFEQdQxIJVRaRl8dGsIrICVN9l68/t1CShqgRCpQGiJtSsaiKrMWi8lxm2B7L6/jql8W8y0W3DSnQkQhWRBrG6TVirAmoQe0HXUxNyv9PAVZNqVvJVp3JqRVZ6sxPj+nqtQFarQ7qkn2I+i1hJtCoiq2/elLxC47EmOHQqb8MEqiS16Dk9EfvoWdOgjQriAR0cOQ5A5RDfAM5GgiiOOIAiFnRQFs0qIp3upEut62paVoD6wJXtjBVdkiF5odVE9sagWk0Uz8ag9kC2x+mNzWcRa4nQBN6a+mIFsbpN3HNNh4QMYu18k6/6HsYz+WoPZHXqEIFs7CVKFZF1Pns6a2VJ37wnB3eRLm1PSfjtIpH66NmnQesKb7Fo4o3EQXwDOBsJojjiAIpY0YGjDr71in0kq4ispX61B4KyrrIm22BQB9dWY1BdZlirsbQxaKyXGSaQTRz63luJ11hXEWnwpdMMrakvVvP3RJn6Eir7VE7dp+IxlZNANnHEu4pIq4aefHexzFq50zjG3t63ldx55RmOutBhTeWMdx89+zRovVgEdyG+AZyNBFEccQBFLFmD70hUEVnl9x/M8/Y70VWSHr+5S0IsWx9NOsDWaiKrMai1zHCr1DoxCSK0txOBbOKIRxWRFcRq8KU0KatBbCL08akMq5rISr5aUzljlXwlkE0c8aoi0iThm1O/M1bbLJkebZ7PnCqeffSYBg3iG8DZSBDFEQdQxJI1+K5KFZEOpD/4Ml9GTckv07QzEZetjxYdXNsbg+r7GYvGoNpnhkA2sei2EKsqIt33rKkv9h5fOvUlGVjJV2sqp5V8jeZUTg1kdaVFTXITyCaGWFcRaVXmiMy8klX/dLXNQRenJ8X5zEq++vbRa3ZSzagm397+fJWs2XaAadAuRnwDOBsJojjiAIpYq0oVkSYonv5wuVEtYZXf3z+wk2MrF6pK/25rmWFdkUmTBLrMcMtGJ0T8PSGQTVz2KqJoNYG3glitWrMHscm2HWjCTady2pOvOpVTk3DRSL5qIKtBM4Fs4ohVFZF9UQWrCnb49Z0kvXkD8yuSh28fPR0DRCv5qhWOWonFNGh3I74BnI0EURxxAEWsVaaKSAd8j4/LM6pX7Mtnt0vCgXS4rGoiqzHoou/3RqUxKIFs4rJXEUW6Cbw19eWVGeuNfc+a+pKMQaydPfmqSTEr+dq+Wb2IJcUIZBNXtKuI/rNkizz14XKj75V+/k8M6iSXndMyqatgdfuORR89HSswDRrEN4CzkSCKIw6giAdr8K1X6IMNvq0rrK9mry+Z0jJs4BkJu3x2PGnQqo1BrWWGtaJIG4NGYplhAtnEZ1URadAVqSoiDWL/+u7SkqkvGnDp1MJkDmLtdDu3pnJu27HfSL5aUzn1/a7qfkAgm7iiVUVkndPem+vtnWdd7Eg7OT4rpsVDNPvoMQ0aFuIbwNlIEMURB9DI+WnPfinY/qPxf3+3BvXrmF+JigbfWrWgjVu1yaQup24PTqMxfSaZ6DQYbVZsNQbVaqKiw4clvdmJlQ5orUBWpxW1bhK9HkeoPP1sI1VF5BvE6tSXvwzu6tokhh5z7MlXvVU1+WoFsrr6280Z6eazSCSRriLSz9w6p1m989x6scOefI1UHz37NGi9kMRYwd2IbwBnq1bsYd5HjF3++Ez57Im+5iOEShM+a/5XICvWbJZVG7bLvJVbzX8JrlG946Vbepp0ad9M2rdpIq2bR24qiNPo8vSPf7jCGCj/8/5zzWe9z784NV92HfzVeHz/pW2kd9emUrOGO6oWIkkrQN6csd54L40k27VnyBmtwlsVR4Oal75YZwSyTw7tYT6LRKSJ1Tv+Mc/4vF++s7u0rEQyz77N6L551+XpYW8zyaxw537515SVRjWR0imXl53TIqzjkway9/9rQZU+J8TGH16aZ1zIeOKGDtK9feWm1kZim0lmetzKWbTFOM8oPdcMuaRt2PvFq/9eLp8u2W5UZd1ySXvzWbgV8Q3gbCSI4ogDaOgOHfpF5i/Ol8++Wh5yQqgimjDqf1576dGpjXRs19x81j3sg++T6taUiV9tkK/ydxn/piXid/Y/XerX4SpgVWgw+sHMtcbAWWk1yI19TwvpfSWQdR4r8ar7z/BBXc1nK0YQG56qJNIIZJ0j0IWMUGji4/NvNkrmnI3GY0183HPV6ZLqoulk4ajKMUinQd/3Rq5xIeTNP53LcQvEN4DDMcUsjijBrJhWC70/9Wv54/9Nllm562Tzjn3mv1TdgcNHZNGaQpn29XcyP3e1ND6ptpxcv45Ur36M+RXJrVnDWvLl0m2yaN2P8u8FW0tK70de20GuOb+1a3qdRJO+h/bGoMYKMiE2Bp04Z62xMpYGsjoVAomvMk3gtUrs0feWSeGew8b+p1NfzumU5sqpL6HSfadP58YlUzn1OLZ39wHp2PqkoO+bvZ+X9p7hPU5sle1FpJ/zk+8ullkrdxqPtRL2zivPYPXHIKrSR49p0PBFfAM4GxVEcUSGPTCtGHpv6tfy1qeLzGf8u6xHa2nbopGcclJdaZbm/wrywZ9/kU1bd8i673+Q5esKZeVmb5WMP6ef2kDuvPY86XlmW/OZ5KVX4cdMzZdfjxZL7RrHyG0XtZRLftPC/FdEml7RfvuzVSXVRMGqtLgi61yhVhHpZ/yPSd8Zwa/SIJb9L3z2abG6v/zxyvSA05Eey1xoVEiMuKadnH9mU/NZJLJwqoj0GDtx9lr5cL63ylj3wVsy2lI1FCatXn1j2sqSimK9SGE0yPdzHtJxxHP/Xs00aJRBfAM4GwmiOOIA6t+c+cvlxfe/ku17vIGTnX1a2GktUqVmzfCvCGpV0pKV/ws6Xe3c05vIg7ddImmNkm85ad/AVDVvUFP+9cde5iNEUyiJAQJZZ7Omb/qbGsjUl8gLJflKIOtcofQi+m7DTvn7xO9KEoV39GvNsbOK7FM5jao7nz56ut9Vte8akhPxDeBsTDGLI0owy9KqoWdfmyKvTfnWmP5lp5U9j9yeIfcNukh6dD5NGp1cv9JTwY6vWUNantpIMnp1lIF9OsvxxxQZU83sdCrbx18ultaN6xpfmwz0quDbn68yplhoObgGSo9c39FYdWnpln0RXU4YgWm5/oVd0oxlhrWMX8v5V3uCm/bN6hll/joo/2TBVuPzue0yeqQ4kbUCky7PrtM2LEYQ+8FSY+qLBly3923F1JcI0Kli9qmcq7cdKDOVUwPZv7671FhhSY95rLDkLMFWNNPP9s2p38krM9Ybn68mBx+7uYukN0++izuxZk3l/OXgYWN6tDWV87Sm9Yzp0x98mc80aPhFfAM4GxVEcUSGvVTB9l1yz1Pvl6saitWUL60qmjRjgd8pbddfeIbcfWPfSlUrJQIdQNtXKfGdhmFNZ6pMI1BUjb73Y6evKWkMevfFreSjed8bCTyuyDqbveqhQ+uTQ55eiKrR451vhVbjE2vK50t/oDG1g/mrIqqowgWR41uhdeVZafLOV5uM+0yDhi/iG8DZqCCKIzLsXguWrJEhf/ugXNXQA9edIw/edqm0aHqK+Uz0aFVR1zNayWXntJetW38o0wz7u407ZN36LXJ+93THNbDW/g3PT1wu05f9YDzWlUn+33WdpJmtQbJeTd9auNto9qoNKts0JSkRK/re2xuD5m74SQ79WiS9TjtR+vfi2OBkVtVD/ve75d/ffG9cgddgShu5Dro4nSbwUaLVRO1bNDCahOdv+klWFh6QtdsPyPHHpsiwazvxvjuUvYro7NNPkX9mLZP35m42qoZ0dci/DO4qaUzTjJpTTqwll/VoKgf3/Wwcy5Zs2mM8P6hXM+nYmqQcyiK+AZyNBFEccQD1JoceGDPFfOSlfYZef/QGOa/H6TFPyNSpfbwx9axx3ePk66XeK9BKE0ZOShLpkrWvTl5hXOHTahSj7H5QZ+lxemO/K/ekNThePs8rkHUF+4xBIKv7xJYm5U475Xj56rsdxuPvdx2S46sVScu0ukE/i1ue+0rkyBEjIEZiqVWzukz/dov89PORMkEsq/zEhjWVc97yQtl36KgcKSqWjVt2S8tGJwSdYjZh+irJ/GKN8b0cBxOHfUWz7NytsvaHgyWr/l3cozmfVQzoe6xTOWsUHylJEOk06YouLOl45Ibn/iOnnlijwtU7kRyIbwBnY4pZHLm9BNNfckibQz/1wG8TYjrX8tWb5LFXppWZ9pZIr88f3+kVOoC+6/L0kMruR72/yFi15H5WU4oLqzF1RoeGkrthd4XTJvSzthqEvvdQr4hOV1q/qVB2/rRPdvzonfq2/cc9UvCDNyDo0r60B0j7Nk2kQf06cmI9rtzb2ae+qNS6NeSt/3e+cR+xYzWmPvXE46RhneNKpnJqJeVl57TwOy1GE0S6CpZ+zYDebcxnq06nUf986LCsWuddGOHAz4dlzUbvlENdifOE448z7jdv0lBqHV9DWjdPNR7DS5MMT7+/VP73o/d8HOwzRPTYzztXdWssU/K2Gc8Ha7avn93tL/034tPRtG/l1u0/yvcFO+XAwcPGc7pa7b4Dh6TOCTWlTTNv9fkJtY4zVrlt0ugkx7YKcBqmmAHORoIojtx8ANUA9ObH3jUfed1+RVe56crzEuoE7q83UqImiXz7Mdx0QXPp3bVpyIMxqxcRPQViz3cpZ99lhrX65LbL25f7TKb/d6PRW6qqvVU0Gbpy3Rb5dsWmgCv7BaNVf727tpKzu7SRti3TXJsw0kBoQvaaks9Ng9j8LXtk7tqfgq7AhMizB7JWPy/dX977apPxnO5rfxpwRrk+X7rv3fT8XON+VRKv1mqZc/PWyucL15vPhueyHq2NhGzXDq2SckXNUFnHOXXsMdXk16PF7E9xYiVQ9Zz0+2s6luujpxeY/I07InEBShNCS1dvlBVrNss3SzfKys3e42w4tK/lOZ1bSIe2p0rndi1IGEUJCSLA2ZhiFkduLcHUgfM9T5XtOaTJoaHXXZRw07d0ytn53drIVwtXl7xenW52bPGvRs+iRKADtDETlxkrX1lTWYZf38lojBtO2b3Vi0hXAGpUuzq9iGJEA9lHxi02PjudLqGfg/ZJObdjqrGy3LINPxk9H2bmbS1ZlcnS9JTaxvO6kszl3dPC6q+iyc+PP/9G/vba5/LhzKXy3+82l+m9FQ7dN7RX1/T5+fLeF7lSuHW7J0A4Rpo2Psn8iuSnQeyj7y2TTT/+XDL15ZxOadL0pFrG9E1/KzAheqZ+vUG+WbvLOB7qFCSlxzRdlenHH/cbPdf0c9FVmTq2PqnkWKn7UNHhw7Jiyz6pUXxUOrdpaDwfCg1gv/52pbzy3iz5+/jZMit3nazd+pP5r+HT79Wpzrqi5vzc1XKMFEnDk+oaPfPcQM9tj4/LK+mhZyQXuqYZvYiKfz1iHCMRO5oAfyZrlXERSccYuq/49tHTW96q7dKuad0yUzmrMo1dLyj+O3uh/PH/JhvnGF11dsfesguahEq/T79ff864aQuk2q+HpJ5nnKeVsIgcppgBzkaCKI7cegB97IVPZNWW0is/WpHz57uuMh8lHn9JIh1gxHsJfPuy9YV7DpcsW6/BUGUbsZ7R4kSZ9M339CKKIX+BrEX7btgbg85bvdNI4unnpJ+xfj61PB+1Dso16A0lYNLB9ivvfilPvzPL2I59m8P7o1ddz2qXJqc1aRBSwKtfowNwDWrreoKJeO4n0aZB06gPlsiUvELjsVYN3XNNB2l4Yi3jsZV41YSEJvz0M0V06WfyxEcrygSyFr2v+4n2Q1n1/Z6S5Gt6Wm2jEa9q3qiOcRzUJFEoiVdNDE3/arE8/NIUmTp3dUiJVq26u6Bzc2OfOjalWoUBr/67Jos0AatBbcumpyRtokiT5npcfDprpdFDT89tTw7uIl3anlLSi0j3J21Ebk9CILq0r6EmwG/v28q4AGVnJF87niJ79hwsSb7a++hZx8FwLkBpG4LHX5osr09eYJyrQqHjyY4tT5FT6tUKaT/UnztpzjLjXNX4pNquuqgRTSSIAGdjilkcubEE89NZufL0uDnmI2/g+cpjtziizNe3Z5IO8N9+6ncxn06jg2ddtt6aKqFB0B39Wsv5ZzY1v6JqrBJy42otvYiiyt6b4aV7egadzqLLDL/+Wb7RpNX+mfubSuOPVu69PCE76HQXHVyf1aG5tGjaUE5NPTnotBb9ebt27zN6qixe9X3Qn6v7+QO39JWO7comwJxM33ff5dQD9eCwpm9aUwgRXaFOZ9Ek+wcz18qnS7y9gLSZ/539Tzf2Q+s4WNH0TT2nvTX5v2WmIdtZ0y87tzs1pD4omsDVniobNv9Q4TQaXenzqr5nJdU0mUDHOTtrSq5+XsMHdTWfRTT5ToMOxne6u9VHL9Rp7LoPvPrBnKDTnfVc1fustkbPrpNOrBP0XKXVsj/+tE82bd0hOd+uCfpzdVrnoP5n0wOsiphiBjgbCaI4ctsBVAPKy+5/1XzklTV6qKN6K3z06Tx54eNvzEfewcRj9w0wH0WfffCsNHi5ts9pEe0XZPXgqGgQh6oLty9DoKTE0nU7jR4dgQKmYEGsJm9uvqKHnHl6yyolO63+EPMXr5OP5nxnPluW7i/33ZLh+B5FGuj8Y9J3JfthKJ+f9VmPuKZdxJK5KC+cQNaix9W/T/yuTMK9U+uTg/Yi0qBzzNvT/QabmhTqf1576dGpTZWTovp7vv52lXwwY7Hf/Vd/15P39nd88lWPbW9/tspvss6fP7w0z9j/giXFERmhXoSwC9RHz/qM/R0z9RwyZea3ZcZYdnr+yOjVocq9g6xz1cTpuQGTRcmYfI0lEkSAszHFLI7cVoL5/Fuflpme8sitF0q3jq3NR87Qpllj+XbJ2pLpAPr3XNi1VdTnr+tg659Zy+StWf8rs2z9uZ2aRHwamE6n0B4c2teGXkTRo4HsO19tMgLZOzyBUCifo36NLmmvUyvyN/0kKwsPyNSFW6TjqXVl0w8HjPJ9+7QLHQg/+9oUGfv5onJTyXSw/fjdl8vvBpxvTAGr6nQV7R+m5fm/6XKaDOzTWY4/pqjctADdX2Z+852c0aqRNDrZeduVBkoffJkvo6bkl+yHz9zWrdx0C3+sHhw6rYnpm9Ghn4/Vz2vktR1KpoxVRL9OP5OUI78axz2dyqlTNlt49k2dUuPbi0gTrveNnlRuCosmax644TwZPvQy6dH5tIhs4zrFuUPbZnLDZT2kY8uG8v2WHWWmo+l+Pe3r74xpZ6e39mxXCdbHLxR6LNTPTaf7aYLuD1e0lUEXpwed2tewbg2jF9GB/YfoRRRl1jRoPd5dcW5L89ngrKmcvn30urdpYCyN7zuNXROhD43+SKbNX2M8ttMelY/ccZlc0aercY6p6jZunasyenWUy85pL3WPq1buXKU9+XSsd1aHFsY+iPAwxQxwNhJEceSmA6iWDD/37lfmI2/VwrDbrzAfOYcOLDq0STXmrFtWr9siV10UnTJ3DXh0cPbo+6XNbx+4sp1RNVSnVvSubFk9OHQQp01dK+rBgfD4BrJpfqYlBaMJIG14bDUG1QG3/ixlBUw64L7tsXdkyQZvg1eL7nv/GDZQrs7oEbXEpiabtIm7v0SRFdA2rnuctG2VZj6b+LTKZERmnpFACDWItatMDw6Exx7IXnN+eBcfNFDVJJCVfNU+KnrMVVYvIikuknGTcuTFifON5+30gocmhk5ve2rUkjQa1Oq5RvvfrVi7tUzSV/exdeu3yPnd0x2TJLIufGii3Fpg4S+DPX9fCBUq9CKKDaufl9JkeLhjAd8+enquUvp5W8dBnb4/8sXJsvGHsglXvYjx9wcGyAU9z4hakkZ/rp6rNFG0f8/eMhcxNRGrvSdbptWnN1GYSBABzkaCKI7cdADVprj2E68GqE5dNUJf9/7de4xVm5QOIvTKbqQHENZVVQ14lJZka6VJM9sqVtGig0CriijclXxQsXACWStJmLN4q/y452dZt2V3yU1Z1UNWgkiD2pNr/CJP/GtKuSkpGsRqYjZW+56VKNIqO02k2isftOGuVj0kymqAgWgQq83gX5mxviSI1cbH6c3DnxpblZV8EFy4gaweX9/9co1s//GAbNq2t2Sf+nHvITmtSV054tnvtPm/pdqvv8pHU+fIlHllKxy0F8rrf7lZOrdvEbPEjFb8Xd3nTDm0f3/JeUhpRdP0/ywzFlVI9KoH7VPz1IfLjYSpJlyfGNTJE6S3DGufoIoo+qzG1Dr+qKhSUs9Vb079TnJX/1DmXLWxcK+cWOc4adXweCPZatHjYMOah+T/vTC1TLJTK/EeGdJXbh3YO2bbsf6eC3q0L5d81f/rggvRGOMlMxJEgLPRgyiO3DJH17f3UKz79kRDNP8m7W8ydvoaWfT9XuOxBqQ39j0taAPjaLB6ESl/PThQOeG+r1Yj63AcOXxA9haUBrI64P6/hwbGtfGmTnd77YOZ4tufSKcPDL3uIvNRYgnUbLUqwu07hdCE+74+lrmw5Bgbqj1bVsrRX0uTRppwveKi7uaj+NDqi2czs8skg3V//9ejgxKyv58ezyZkrynpTaOr/l12TotK97qjF1H02Pt5jbqrZ4WfkVZZDh+3xHwUmkN7tsvBXQXmI2/C9ZHfXxnXPnU6vnv61anl+hO98OBV0vPMtuYjBEMPIsDZSBDFkVsOoL6Nnd94+LqkWM3ohbc/LxPsfv7S76s0qNHEwbR5/zNWzlE6KPvTgDPiOugNdSUfhK4yCQINqg7ZrrBqlcPOPYfMR6UWrflBvlrpnc51YMcmI5jVAfdTD/w2YZpt+q5kqBItSaT7or8Gq5Fo2G4l/DThRBP4yLAC01ADWaXVDoU79puPvPI3e6vy7PbsPyyT5m2Q3T//Ir8c2GMEtCqRgkWdTnrPU++XSxLFY5XNYKb/d6PRTF9F6vxmJTG0GpMVzSJH94/hry8wkm+jbj0z5MR4qOeqWYu2yLLvf5TioqOyb5t3BUw9D9x05XkJca7SCxrvTf1a3vp0kfmMF0mi0JAgApyNKWZx5JYSzEdfKi0f1v4nd1x/oXHf6U44vobRS8XSsE4No5loZejA+blPvivT3+TuqzrEva+C1YvI6sFBL6Kq0UBWG41rcBRqY2ql/aZ0W7Bu2tdBezfYb7WOLZI3Ppwuu3Zul8P7vAPvREsOKe07pOX6WrZv0f4pidKTyNoXdeqLfk5P3nymXNyjecSmg+lnSRP4yNFA9u8fLDWahofTz0s/T/s+pTfffUpvM79aKN8s+s7Yp7QyTxMv45+6Vdq3SZyV6HR6jE4r034p9qkxGzcVJkRPIq2KHTNxmUzJ8yavNTmux7+GITYRD4ZeRNEx89vvZfqyH8Lu5xXKuern/XvklQ9mGPvUL/u9rQesiwSJ0j9LX4dOf9Zp0PYeenre6tm+qSMXWYglppgBzkYDBESVNqe2X9W8pk9n857zaRWUJrws2fNXm/dCpwNnLZHXq6o6jUUrdbSqIFGWwdbpTzqYV1rdhMrTQPb1z7xJkbsuT49o5Yhe7dQlt+37WiImhyx6BVavxNppVdHy1ZvMR7GnV7512pG1L+rUF61GiUYFX39zJaD3vtpkbBeovJxFW4wqBw1kqzr9z5dWu9mrRBN56pa+Jn1t+hotOkVGp3XGi27bk3LWyX1v5BrT+bo2qytv3f8bo3Iykse/wX29CYyJX20w/o+q0QpKq9Lrzv6nG/+PFK12e+yVaeYjr0SeZqyvS1+fnb5+nYYGAMmKBBGiatW6snO4u3ZIrisKGWe3M++JrNy8K+RBgw7AdKqRDpyt4EZ7KOg0rkSbctK7a1OjqkmnmunrRuVEM5DVUnh7v4RETg5ZNEn0wHXnmI+8dOCtya5Y0iBWq4Z02pcVxOq+OKB3m6jti5p41WSwJqJ0u0DlRDOQ1YsbvlMhRw7NSMjkkMVfkkgTXHPmLzcfxY5e/NApSplzNhqP9ULDk0N7SGqYKzaGonv7xka1n04J1d+LqtHptUo/s0j3HvS9kHH9hWckbHLIoq9PX6dFX7/2KAKAZEWCCFG1eNX35j3v9LJEHlxXxuk+0wzW/K+02aI/VjCqTYp1MGus3nJDB6N3QqI22NQg+aYLvD2jqCKqHHsge0tGZPsXaNWNvU+CBocP3nZJQieHLNdfcW65gXcsKx6sINb6bKwgNhb7IlVEVWcFslrtFclAVpOUz7zxufnISxtSa1Iz0ek59sl7+5uPvF58/6uYVTzotvzqv5eXufihzfij3ZCdKqLI0GnQ1thELw5Fklbk+V7IuPtGZ/Sp0ddprxjXv0P/HgBIRiSIEFWfL/Q2H1TndE6+FXtOa1F2VaiNW0qXHPalzTTv+Id3OpnSYFSnk+nVz0RHFVHV2APZSF5B10D2hQllEyqJXuXgSwfevhUP0Z5qZp/6okGsfepLrNiriCbOXms+i1DZA1ldBSuSZs5bZlSEWnSVynivVhYOnf5sr87TxOvLE7LNR9Gjn4me4z5dst34XEZc0864+BHpKhR/qCKqOj0uWtOg/3hlZKdBGyuD+VTkOeVChtLX+eQfrjEfeb01+b9MNQOQlEgQIWp0rrldq1NPMe8lDx006FUwy5qN3hVu7HSwqtPJdKUVDQbtV1QTbTpZIFQRVV4sA1mtxnFClYOdMfD2qXjwTXpFkhXE6tQXK4iN1tSXilhVRCRewxPtQFYDP4smL++7JcN85BxX9T2rTMWDXqzRaXPRoNuuVg3pSnJ6jtNV/166p2fMe+lRRVQ19mnQkb5wNW7Sf8x7XlqR57SKcn29+rotmnidNGOB+QgAkgcJIkTNz4cOm/e8mqVFtu9KomjaqHQ6Sl5+6RQzDWImTF9lVClogkCvbmpvk1hdUY00exURV2hDF61AVquHfAPZWwecbz5yFq14sE8106TXgiVrzEeRYU19sYJYDYLiEcTaWVVEisRr6KIZyGrAZ++RcvvVv0mopeJDpYnXh++8zHzk9f60+ea9yPnPki1y/78WlFQN6ZLov7+mY1zOcVQRVV40p0FrYtLe7F0Tl06qyLPT121PvOr0bqqIACQbEkSImu8Ldpr3vBrUr2PeSy5tmpVWRlmBhQ6atUpBkyk6aL7/0jbyz/vPTdg+Q6GwVxFxhTY02m8qWoGsVg8lQyBr8U1uvTHxa/Ne1VnTO60g1ur7lQiJWqqIwqPvkfZtUpEOZI2kq62fl5MDWdW6eaoxPc4SySoi/Ry0Mva5f682Eq7WCpyRbsAfLqqIKida06BVzgLvz7Y8cIsz+g4Fcue155n3vKgiApBsSBAhag4cLFtB5OTgNVTHHl/HWLbePmjWKoVY9jaJJquKiCu0FYtmIKv+PXupec9bPdT33E7mI2fS44N9OWGtIqpqLyIriLWmd+rUl0Tr+6VJKg3KFFVEFftg5lrjs4xGIKtJVzvfQNCJBvU/27znNW32YvNe5dkXWrAqYxNlBU6qiMKn75O+X3puj/Q0aGPKpi3pqlPytWLUyXQaN1VEAJIZCSKgipo3aSjVUo6Rek3aSZ3GbYyKkfRGJ8ifr25nVAc4cTpZIFQRhS6agawmTuy9h27s18UxzT6DGdCvp3nPa+Ey75SHyrCmvlhBrDX1JRGCWF8alGlwRhVRcBrIWlVgkQ5klW/SVQNBp/OtItKpPlopVRmFO/fLY5kLS6Yi6bFt1F09E64yliqi8Pxjknf6V6SnQaslK8smva+9xLkVeXa+yWPfvxMAnIwEEVBFtY6vISnHVJdjapQmgvK3H5C/T15tXGW9/PGZJTetLtKKBuumPYr0aqx106kwGgRZt0QMFrWKiCu0wUU7kPVNnGSc19m852xaRWQPZvXKbLjBrBXEWlV8VhAb76kvwdgTr1QRBRbNQFYXVfBNuiaLjF4dzHteS1dvNO+Fxlr17/aX/iuLvt9rrPqnVUMDerdJyIQrVUSh03FHtKZBq8++Wm7eS56kq9K/Q/8ei/3vBACnI0EEVNHBn70BbHGx8T+5tNPJxlQWHXBZN00UKB2I6aDVumnFgF6NtW46FUabWlu3REwwaUDAFdrgrED2jn6toxJATft6lXnPW7KfTNM3fYPZtRtD75mi+4AVxFpTXxI1iPVlbwJPFVF5+tnq8VOTE9EIZL/+tnSfUued1d6853yd25VNUs9fHHplnp5Hhr++wFj1T91/aRtj1b9E76fHOapiepyxpkFfe0Er4/+RpNOu5q3caj4S6X9e8uxTyv736N/JNDMAyaJasYd5HzGmAf9nTzi7WV8wn87KlafHzTEfeQal44eZ95KL9XfWrNdIajVIM4I87XMSLCjVKodDh4+Yj0Q279gvBw+VPv5f4b7/z969gDdRZn0APxQFRG4iCC2oCFhQQVDwjlouFhVYkQquKGUFxV0Vb8tFvHzrLgpC8a7rilsUVFzBdlVEAbnUVUSxRbnTCggKrQgiUBAQaL/8J/Omk2nSJu0kmZn8fz48TdJbUjPJe86cc14pPnhEvyay+sdirRqiuhA0tzy57KxXYuMTpGmjsutNGtaRkxuUVUKd5LkcrEUOySoEbAjCnTx822oIZJHsQyCLQMpqqHRIG52pXxOZ8JerpfslHfVrzoeKoe4jntOviTaXaPignvq1wBDEIimH5yMgiEXCxQmJISP13MHsMsx0IS8EsmgXxGtgpF5vRj050xfMYr5I5hPDtctu8exrH/ntJFXZ+zGqhj76YosvMYQTHZilZnW7bCTxPapi2NURla6Rer1Zsmy1PPTyPP2ayNSHBjl+/pARWr1HTJilX/McYw9c55oKqepye3xD5HZMEMWQ219AzYuDj174iysHVRsTYQ2SkuW42idqFUSYdxIpdkgw7Sr+XdYW7tduu/YC71bd4SSY3Kg6gSyCGfxtR/Q7u8K/mfm4ysoYLknNygZmuoExWEeF1JQHB2uXzcxBLJJyd153tqOCWCM8Huy2FslEiBNVNZBVlVihvAZdkp6hXwotKek05teNN8ffos0nCmTt5l3y5Oy12vMQJzxQCXlF55b6Z50DFbWoykVyC7sWUhkk1VGlHMoJLSO8RhV51huhvDZlzlrkN6DajScJ3f66UVVMEBE5GxNEMeT2F1Bsp3vLo2/q1ypekDqZ8cxss0b1pH6Ls7WFNbbSttNuSUZuqGCyI7T8oUWoKmdk1dnuygKyeFh0v/PhUnl21hf6tcCP0Vg1hL8ZZvi4YbdAVUXEoNarOoFs2hM52uWRlVSUmd+rnnVhJUAolYf4m702d72WjAM8BytLWNsdq4gCU3+Xsde3Dyv5p5K1oVSUGRP9mC336N0DtMtuMv7FbPlo+SbtckUnM+INE0REzsYEUQy5/QXU7a0winkRNODaK2TM9G+1gAZb3LuxgkYlmNZ8v1v+9clmOe2kOnLdxWWLzHhMMFU1kFXM1TDBgjPjgtSti+6vvi2Q+55+X7/mn1x2YxBrhMfHKqIyGDiOmVLhBrKAwcrqeMJxieHWgZL28VCVB8Zqh/sGXSo39r1Mv+bd9e/V+Zt8VUMPDjzH1oPdQ8UqovKq0wZtbufFyZCBPc4M+H5X0fPNLUI5mRGPmCAicrawEkQlBdPkmnbDZYF2baBk5s+QYcnuC36jJR5eQN1efmuel6IWQaqSJB4WpepMZDgVU26sYKpOIGtkrowxVxPFQ0l7sOpDt7S+VIZVRF5IWmA3uurM80Kb2dQ567RNAQB/UwzkNSbe4mVeXqDksvnvg/boW/ucFXaC285YRVTGqgQ0XqMw4DrYa3G8nCCMl1EK4WKCiMjZwkoQHc2bIu27jhbv8iJFMnLnyKgu7nghjEXyKx5eQI0LUjcO/gw2pBCLMOz8gkXpyGvauqL1JRh1hhbJl+dHRucMod0STPk/7pUFa3ZKs/q15NGbztU/W/UKpoqqiYwJooeHdpe+Pbvq19zDnHi9/49XypY9x7k6iDViFZH1fwMkF1+Zmx+w8sHYJuzG9ynFnCC6stuFvqohvLbd0aedK6qGzFhFVKY6bdBmSC7OWfq99vMAz6H7B5yjHavxMmIgXh5nuJggInI2Joh0sXhs8fACaj4z67bSfXN5sfHskWo5gn+PvNixg3NDUZUqolhySgXTL/sOyYyFm/yqicY+/bb+WfcmiEAlwrA74MmntJCDR0td1fpSGVU9E69BrZWBrJG58gGzq77OXeH6tk1Q71fH1a4rDZu1ktKatbXbh3dvJdde2sq1CVdgFVHZmgTP+6q0QQeDnzttXoFWQQtI4F/cvqHcOfEd7TowQRRfmCAicjYmiHRMEEWG+c3TbQHt8IczZd2P3qqGQAMK1QyMSG15bhc4O4+5S9GsIoolY4Lpgy+2atVD5yTVkx6dvMmxSCWY4OjhA3Jg51Y5duSwqxejSBDVO+UMqXWiN5hr0ai2nNG0rtRMqKFdjwdfb94jvx0p0V4/6p/g3uDdrPjgUS3YPL5mDenSqqHUPi5B/4w1tv1y0FdJBHVqlsjO7ZvlyMFiVyeIcMJm0n++kgZJ7bTrdY9PkPaJ9eLiuaV23Ty57vHS4dT6+q3x5Zute2XfoWPlTlRYRVV4Kof27pCDe3ZIackxJojiDBNERM5mYYJolywee7X0nJwnkjhOFm14XHokbJTF8z6Q6feMlhlF+JoOkp7xd7nn5r7SJbGW9l0++xbL2PY9ZbLn6xLHLJINk3pIvaI8ee+t5+Xu0TNE+/bEdMl48R65uX8XSfRbLx6Sgmnp0m74bO/V1EzJ/3iYJBu/xvDzRbrImEXzZFKPJqbWskDKvtZq8fIC2n/ki7Jjr3cx7qbyfXN7WbAhjGo2Dc7SDkhpq9/qPpNnrtAWiE6pIrKC8YxsOAPJw6lgMieXSo4ekd92b5ffD/zq+gRRo9M6SELN4/VbiCLnyMF9UvzTJtcniDLe/VbqneLelmeyD7xXHdi1VUu8MkEUX5ggInI2CxNEP0r20O6SNgOfHSaZi1Ilf/z9MjlHy8j4S3lMFs0cJz2MSaKibBmalCYzcDn9Lckd+p2M6vmYeDep9ZeY/rosfmmItK+nMkD7JW9KP+k6Wv/qNhmSu2GUdDGeFDP+fGkj6VlLZPqAU02PKZCyr7VavLyAmtuwpj40SDq2P12/5lzGeQ4QbDghkgG3vfCldtnN5e0qWRIvVUSgkn8jIzBnCn/P2Z9u9p2VRRJq8OUt5R//ytauw7Mu3I5bQYKoTsNTpG7jFlK7Zg15MO1sv3a8eDHxndWyfe9hebB/e2l5ijsqdiuSm/+zvP7pD9KiYW0Zd6P1Q22NbZuA16sTjv4i//smX7vu9gTRhDf+pyVea9RI0Nr3unWMn2BW7bqJirxhV7vzdTOQw0eOyd/fXqVVD0XqdWTe8h99O0viveqqDifJv2Yv1KqHgAmi+MIEEZGzRShBVJlEScl4T+aMulB8b1N+CZzKJEpq5mL5eFh78aaIqp4gYgVR5P26d79cO/Jl/Zo7FuDhPiY1TwTByOQ7LnLtrId4qiKK1HDuQIkhzElJOb+l9ryJhyHVoB7niU1Oldr1m4RdpeUW6nnm9jZViORwbvzsnBXbAu68ZEz2B2oVdgv1ODGDSLWZTR7aOS5meinxOItIzfPCbKC/XG9t0hXvV8Zt7/E7bup1pvyy+9e4SJwwQRQYE0REzmZtY79ZyjjJyt8rpaXHpHj965Lue80skpx//U/yyzoqAkiUlDFZkl98zPP9h6Vw0WOSon8G37/gkRmSs69Ev151CcnDZH5pqRzJzZA2+m3e5Fex5/eWev7lRiQ5FE9QVYMEioIFKt5UnezFN/xTiv17ddEvBYYgBMNmsYh6be56/Vb3wfbRgDP0boZg87kPvBUH2LXFClhoI8GGKiwkhxDAjrymrTZMFNVJbh4ga4YtkpUDu36Uy1rX04L6p2at0v728QSJViQhUamGZJGbzV78nfb/GUGmlcG7NiPtla/khY83aj8flTM4rtS23OeddZr2EZau8+7I5GZHD/8myfW9Af2Ts9dqVa7xIr2Xdy2CJHw8wPsKkkN4P0HixirYwezl/67W3q+wrkECG0k3JKACJfF/O/i7fslddv1arF8iInKPyCWItDayx2RAcgPPlQSp1/5Gefjxgd7PwaaNsnVnsIV+oqSMmy4zJw6QZK2NrJYk9rhXpmT08X4aipbJiu9+06+Q3Q3ud4l+yWvC1I/0S86D5JaxtQxzlUJpmcM25VikoQwbAYsbIahTiTBUTbkVtqC3MpDFMPNQE0N4vinfrP9Bv+QuBw8d1i959b+spRaAIEny/Lur9Fvjhwpq3Zx4RZLC6kAWPxNJVwzQx2sSXpuwoyR2Raso4XrokDuD2bz8Qv2SyOkn19QSZXgdm/j2yrhJvKqEK15rkTxxO5UIQxWqFdWXeJ5gJ8Cbp3yurWVwvI69vr1W3Wh8LzRX0WzdvlO/5C47f/Hu3KaweoiI3CBiCaI2ffrKFX6DqGtJ81ZtJbSXznbSJ+0S0yDqRtKpe4qhyudHWb31V/0y2R3eNI1VRNj5C/MQnAaBgzm59dCIa/VLFcPi7N4/eMv6cdbWrQtyVUX06vxNrnyMCDqxMx1YFcju+NW7jX1FiSGlVeJJ+iWRLUXufA1cv9G/iqN1y1Pk4SHna38jBHZomYgnKqhFksOtVURvLCjQPloVyMKYzDzt+YK/Hdpexww+XxKblJ+/clbbFvolr+07ftEvuQfeu9RmEdD2tFO0RBkSr3hexVPiNV6qiPBaoZ7/Vs3Iw8kRVOIBNt4wVuKZNWtYNjNu4w8/65fcxfi4jI+XiMjJItti5idB6jZsLHX1a1WRUL+xIUFETnP3kFT9ktcT05f4tZI4wfsLv/Ztaw9IeoVzxgiBHqpOcNbWrQtyVUWEx4iZH26jAlkkc6wKZFGW/8bYK0NqJTO2w+C5iHlYbmOsjMKiu06dWtrfZfLwLlqSCJUmbm+3MnNzFZExkMWsLSsgOX39RS204xRz3yqaida4kf+25+YEpRt8t8W/rfv0Fk21j0i8qooaVDLGg3ioIsLz3+o2aDitWT2t8gyVeNiVtaL3qy7tkvRLIqs3OnusQDA5K8qSjMbHS0TkZFFMEFG8wywiDNU1evT5/zqmnP+rbwv8dmND4GpOeoXi1j5n+Soh3NqGpaqIMBDWTVVEkQhkw6UCO6Xg+7K2EbcwtsKknO99LgGqPx4c6A12MLjZra2agSCoVdUebkqOGQPZO/q0qzRBGir8HASwoSRd8d5kPPvvxtbNdRv932vObOU9sYG/zbibOmnvSaiMjJfE6w2Xe9vC3VpFpNqgcbLGynleeB1C5VmgSjwz88kMp50QrAwej7Eqz/h4iYiczEEJohLZv22jrNavoeWseRxueex02HEJu8QoWDQ88uy7+jX7wkJgYqb/YOp7B18ZcFv7ymBB/o9bOmmX0YblxgGhbqwiilQgGy4V2CnLvnHXWf/VG7b6Lbo7tT9Vv+SFHZfQLgTxNmBXbc3tpioiYyAby920+l1+ln7Ju5GC2+YQLVi2Qb/k3akNVXkKgn3V/ozXuHg4pi48u7nvRI3bqoiMbdCYfRgr5tbN/M3uqswzPx7z4yUiciqbJojyZW7WMiny26Rst+TOXyBlRaqtpV1LFZwfJ/UbG86q/7Zb9v5m/ObfpWj9anHnOFfnefgvf/A7W4tdYzJnLdKv2Q+SQ3c+PtMvaL2t7/nS/ZKqbxeLBAr69xEY/fP9dfqt7jIk1RvMuqWKyC6BLAI74zwvlLi7KZhdvso/4dX57DP0S2VwFlsN2MWcGTdVqVVEJV7dUkVkl0AWOiT7JyJXbvDeLzfAe5ixNfqCDuU3VcAxpd6T4uGYQoIf867AbVVEkWiDrgq03xvXenM/LTvF6wbGx4PHyQHVROQWNk0QFUnOxKEyeFy2FOxHomefFGQ/LeMn53k/DalXS7e26o3PNAC76HUZ/+Qib4KppEjypj8qg3s+JjnezwbkP98oX+YuWSfaObT9W6WgyJ07msQKqm6eGpWmX/P694crtCSR3QLdQMkhnH29+Q+X69eq7tpLW2mtStiZCbuCuA3OSqsg3ulVRNjS1y6BLKR281bQAJ6bbglmcfzP+axsADWOtWBVemhzUFVqT7yxIm6SRKp90w1VRHYJZKFTe/8hvrPnOW8ThWA+/vQb/ZLX5ReUVUsZoSXPeEy5HdqE3VZFZIc2aCNjZR5OBmJN5QZ4HHg8ivFxEhE5nY1bzIokZ3KatKtfU2rUaCjt0iYaEjwdZNgdPaWt794nSIOuvWRIWYZIciamSlLNGlKjZpJ0/dPkCpNDkNC8lXQ2fv/oi6R+Dc/31+8pTyzbod9OVsGZlmcfuE6/5oUkEdrN7JIkwsyhQMmhx++7wa88v6rU7AfAriBuLOvvd5m3+sPpVURT53irvOwQyII5mJ06+zP9krMt+ybf73jrc2XFVXr33HCub/v72Yu/0291N7dUEdktkMVrOipDFQR/m7Y6f7Au3k/x3qqcfWpjSWrWWL9WHo4pdeLC7bsFuq2KCO+xdmiDNkq5yP+EijlZ6VTmx2F+nERETmbTBFEHSR9zl6To1/wlSsq4p+Xx/qf73/kG3eSeF+8Kso0+vme2ZE0M/BM1Dc6XQQ/00a9QNFzUOblckgiL8j+Onhrzhfk7Hy6V+55+P2LJIQVVNkg6wMS3V7quCgLJFKdXEWEQsp0CWTAHs2gfQULT6d78cLl+yVuyf8l53rkowSAA+uugc307m8XLLkyqigjBoBNfM3CfVQWUXQJZMAd5M+cs0y8518Kl/rtljhhYcfWrOnGhjim3D612UxUR3mPxXhvrNmgjnAxEUlJBstLpO2/i/puTrmwvIyI3CStB5N+G1VQa1zcu6k6QRs3VTgmJ0qbxieV+uN/3JzaWRicG+/VNpOOgCTInf5FkjinbJSoxPUNmL8qROROuksRy31pLWgyYIDmLMmVMinqhTpSUMVPlvdw8WTShr3Q4Rc0pCjTgupF0eeBVyc3KkHTD63xi+v1y1yXN9GtktUBJIiRlbnn0TS1JE+1qIpQNj3pypt9uZRCJ5JCCXXbU7kSYc+M2Tq4iwv19Za73jCy2GbdLIAsDel+kX/JyehXRh4ty/eakoGQ/lOMNSUi1/X287MLk9CHwuM94vbNTIAsI8ozzvTCs2slVRFog+96X+jVv0tVcfRiIebdANw+txmu6G6qI0AaNSmSwQxu0kTkpmT3/K/2SM03P/p9+yauypCsRkdOElyBKHibzS0ulVPs3S4YlG1stmkiPSbn65wpl/rD25RNExu8vnCA9GlT06xOkXnIPGTZpvv4zS6Vw+ii5oUeyBN83qoEk9xgmk5YU+u7Hkkm3y3VdEj0/rY4kD5ul354rk3oEWJQmJEqXAaNkeqF+H7XfeZdcmGh9UoDKIEmUlTHcb5ghIElz1/g3olIZgYU0ZiCljc706yuHG7ufE7HkkKKqIBDgum3rbmMVkdPagIyBLIa42glm8+C5qSC5smSZM4eAmgNZMCfAKmLchcntAa2iqoiclng1BrJqkL2dDO53iX7J6+W3l+iXnAeBrLEK9rb+F4f8PobE3Ui9utXtQ6vdUEVktzZoI6zxzFVETk284n6/s2Stfs1bPYTHR0TkJmEliIgiBTMR/pMxwu/sLSDoRavX8IcztUSR1RVFKjF07ciX/UqGlQl/uVruu/XaiCaHAAu623t7Hzu27nbbYlxVEaFlAQGiE9g9kIWhA67QL3k9N/NT7TntNOZA9uGh3YMOpw4GCTxjQOv2JJFTq4hUIIsds5DYsxtzFRFOGKC6zWlWb9haLpDtddm5+rXQoLq1b+dm2nPMzYPgnV5FpNqgkeSySxu02X1DeumXvCZM/cg28yZDhfuL+21kflxERG7ABBHZBpIwj949QEvKmKuJVKII84mQ0MHit6qLCwTQqLRAK1mwxBACBFQ1VWcr+3Bd0bmlL+B7ba67hoOqKiKYs/R77aPd2T2QBSRRkExRkGR54uUP9GvOgGOxuoGsgoBWVav98/11rq56AKdVERkDWeziaFd3DylrbYcnpi9x1O5LeG989KU5+jUvBLJVOdFxa5+z4mIQvFOriHDcqzZoVFHaqQ3aqGP70/0Sr1jTvfWBs9qicX+NbdB4PHhcRERuU/MxD/1ybO1fL+89NUtWaldaSeqIwXJpkrtbu2bmbJabu3sX+FTmjFObSf8eneX40iOyosC/DPnA4aPabXM+WyvT53wlG/K3yq979smWH3+WmjVraMkf87/tP+2Wr1dulI8+/VZeffd/8ux/PpNFuRvlx53F+k8tg+D04dtSZfAfukn9euY5VZHXpV1TWZi3XVb+uE/aNa8rSU3tmZioitOb1ZfsL36QNduKpU/XJKlT254LWUAg++9F32sBA9r/jqtp31z6aUlN5Otvv5Od+7wVOHhe1zhySM4/x/6vLQi675gwW7/m9czoNDmliZpnF75ObZvKBs//PwS0G7fulh7nexOTbnRSgzpScviwfP39HmlW7zhp27Lqf7dIQyD75Nsr5dffjsqDaWfLac0b6J+xnxPq1JLmDWrLZyvLZsJ9unyD9r503HE19Vvs68Ep78j6bWWBLFpRr7vqAv1aePDad9ZpDeXzNTu059mpJ9WS0238/66q8Djret6Slm/cLQf2H5LLOjpj6PDCr3+Qeat+1k4uDexxpn6rPZ3b7lRZ+MVabR0HWMt1PKOptGx+snbdzlDBPmF62X7IOIk54f407bWCymN8Q+Rs9ol6TmwkzX3vx+YB2BRvcKZz+KCe8tELf/HbrckM5f+YVYQzvBhsHejfiAmztM+jSsF49scIiaFnH7hOMp8YHtN+cpz9U8NBsUORU9qxQoEqIlTjgJ2riJxyRlbBsTL+nuv1a16oirP7rmZIDt35+Ez9mtd9gy61ZDeYh4ecHzdbdTtlCLyd53kF0rdnV21zAgXVeY88+67t22JQYWuco4dA9s83Va8NBhWU/7ilk3Z50n83OH63r2CcVkXkhDZoI1S8jhvuX52HynC7zyNCxTrupxEeR7ht0ERETmGfBFGDHjLJNxzaPACb4hXegJEoWjL1Xq31zLhgry4snJF8mvrQoJgnhowwHFS1yag2J7dAWwkW4HaeReS0QBYwwwsJTiMsaO2aJFLJIePcIRzbN/a9TL9WPUjqGbfq/t+3ztvpK1TGIfB2nUXktEBWweYExnZnJF7snCRCcsjcMv3PRwZbMkMPM6/GXt9eu/x/b6501ckLxWmziJzQBm2GdZb5pN9fp2TZtoUT98vcron7b5f1IhFRJNinxSwOsQQzdCjrR+tZareOktajk1xwVgtpefKJcsJxCQFbxQLBQv/KTqfLoF6d5Y4busmdN/XU2nCaVaOdJVLanXaS5K3fId/8WCwnn5Bg69aRcBjL+GuVHtPagewEQc+kd9fKwSMl8ujgTlK/rnPKx1Gmj9YylO0fV7uulJaWyLwv1kub5g20Y8cuAiWHUMH31NibLG3fwf+7885oJB/lFcrSDbtc17JppNo3NxYWy7UXtrRdS+RrH62Xgp8OaIHshWc7I+kKeD5e0aWt1l7225FSOa7WCbL1p92ycdM2uaJrO1u1mwVKDiFpfFZb64YWo7VMtTRu2bZHLu3QzNbtt1XR8pR6Wpv3Bs/z9dLkxlobpx2hwunlBZsc0QZthnUXxgNg7Yb3quIDB7Vj7JzWzWy1HsMJlnHPvVfuRMaDd/ifjKHyGN8QORsTRDHEF9CqQc83gmEsMpAwuu36y7Sk0TWXtpcBPc4N+G/0rb3lj9deKFdeeJYkt06Sxo3q6z/NnrDYa9+ygRbcIpnSo+MpjkpWVEQtwBFk2G0WEQJZzH9CRcZl5zprdg2SW0cT6srWvcdLyQlN5Pf9v0hpyTFt3pZdZhKhVH/UU1l+C24kbp8aPUhOamR98gbBHRJDOWt+llWbf5VL2jdxzXFkhGNIBe7ozj6rVdmW0rGGQPbZud85MpCF/B/3yq+/15E9NRprx9ORg8VaYIu5Xxd0aBWTWXVGqGbCzKH3l/pXCyI5FIkqB5y8wGwvtG/+VnxQLjjLPslnK+D56YRZRH+bnueIeV6BYIfJown1ZEtxbal5YmM5tHeHNpcIsyXtckIDmyeMfmGub14SIDmEqkInzCGLNcY3RM7GBFEM8QXUOkgaIekT7J8TIbg9oUaJfLNlj2z7aZ9rhu0aF+B2qiIyBrIPDu7siEAWM2e+LfhZXv5gnbz08XdapcxBfT372y9l7UaoKsIZ2w5ntohZQPvOh0vl4X/N81twIzmEFhi0yEUKqoZwHH3x3W5t0G6PTs1tPSC9qlQVEV4v7JR4VYHsPX2TpU0LZ1RCYkj9/K+2ypSsdfLxNz9J0b4j2u2H9/8qx37/TbuMofCoemh20gkxC2gxu2XE39/0G0gNkUoOAV4Xzz/zZMn5tkhLprupwlWxexXRvC+3aIOpsbvcLant9FvtDScwlq//SZ6avVqm52yRlT/sk2OSIPVrHpO9v/6sf5VoJzT279krnc86PSaJGCRcX3xjvjw/e5l+i5dKDlnRrhkPGN8QORsTRDHEF1CqDCoB1I5MCHLtVBlQHcYqIrsswJ0SyKqk0Puffy+Pz16rVccU7T2sf9YL85O6tT/JbxdAVD3M+uQbbXcmVNFFC4LY0RmzZM4y/woHLLifGnujnHJyQ/2WyMFxs2/PAS2gdWtrjKoiwi6Bdkm8GgPZW689S7/VnlDV8MnyH2TCO6vlg9xC7e+IVlOjjOEXS+6qjb4kJz4ioC3avkPboSlaOxohiJ2enSOPvDLfL+EKkUwOKXiuqfZNJPo7n95ATjmprv5Z57NzFZGxDfrhGzvatgUO8F71xepC+ffcDb4TGHiPNfpjt1bSuPZR+W77r/otImu37JR5/1slZyQ1iuoOZ2gpu2/SLPlqQ6F+ixe2s3/0zv5MDoWB8Q2RszFBFEN8AaVQYIvhD5Zv0yoD7DwTIRx2W4A7IZBVVQ3/N3O1lhTCTBdUO13XNVFaNamrXVcu8TxP/nTdhdoWwvOWeXdkU7B197LcDdL85HoRXXz/une/vPL2Qhk/bZFvC34F226Pub1vVKuZOrY52dWtMaCqiJDciHUVkRMCWdzHj5ZtkZfnrNeqGvAai/uL14H0HmfIT7sO+AW0fx3YWZtJtH37z36z7xDcvvVxrtbKeUbLUyKWKEJiaN6n38hDL7wvn63+Ub/VC9V4rzzyR+nY3rtTZKTh/6dq38z77hfXtW/atYrI2AZ95fmn6rfah/kEBpJCOIGBXSUHXNRSGtROkK2/lL0fXN0lSdL/cJHUP17ky7Vlz2kkPvHeheRry2aNIloJjpMYL735ibzw7rJyCVfsrHnnLb3ZVhYmxjdEzsYEUQzxBZRCgUX3qSfV0hZa+Vt/le7nJbmi+sEuC3AnBLJof7t/2got8Ie+nZvJzSlnyN39O8gpjU6QaQs3+wJbLMb7XNBCGyiLBNC1l55VLqBFwgaLbySKGtQ9Xho1ONGyoBZzhqb+Z7E89u8F2plgIwSxDw/rJTf16xb1BTeOGVQO4TmHAAvVNnYbkl5ddqoisnsgC2OmfiWL1nmrGlRS6M6+7eXai0/Xqh7WFXmTsOrYQpsvkpoYUH3SCTX9AlpAxZ5KFDVv0siyBCiSrR8s/Foee3mufPzVd+WCWFQ4PPPgTXJKlAf8on1Tzb5CG7SbKvPsWEXkhDZoJIf+9p81ficw0nu2kaFXt5cDB3+X1z/dqn0dEkY47m66opX2ntsh+TS56KyWsnzVZr/nN5Kv2UtWaS3SDevVliaN6lvy3oFka96aTfLs6/PluVlL/SqYAO9Vz/x1gPS4tKN+C4XDfvFNiewv+FQ+/PQTef3OfpJ66yj5+9//rv/Lku/rNZLSnb9Lo+QkqV9D/xaiOFajFPvKU0z0+dtCmfv3Xvo1oopNnrlCPs3frSUH/nK9OxYtqNzB9tdoiRoz2H/r22h5+b+r5cNvd2iB7JCr7Vk9hCTWqk27pG7t46RDmybadszq9pH//Erb4hw7RO349aD2WF4c0VXbltrow0W58sT0Jfq18lDV06n9qdKudYuwZgJhof3dliLPwn6jzPlsvd8AaiMEsXcPSZWTGsZ2JzG0Eo3JzNP+Zn//YwfpepZzdtUKBc7g3/7MUu3xvTWqm7YNfrQhkL17aq4WIL56/2W+56vd5K7/SXbtPSSd2jbx2yb8jXnr5T/LtmtJoT96gpwx078N+LqLyoMJUz+SdT8G3qIbu/OlXtJezm7bUs5slRhWiwp+9vqN2yXn6wJte/1AEMSOG54a8y23H81crlXmuem9CYzHUqDX1Gi754WlsmnXQRl7fXu5orN1u9NZCe9JX679SU49pZ6c07qJfmvZawLgdXfGwk3aYzGvgfF+8tYHn5Xbkc8I71WXnNdWks9ICuv9BInWgu8LZdk3G+WdJWv1W8vDNvY3/+FytpRVg63im/0bJHv8vZI2eYF+QwVSxknWKw/KgGSrB78fkoJp6dJu+Gzv1dRMyf94mCTbLMdbUjBNrmk3XLx/qYGSmT9DhiXb76QpRR4TRDHEBBGFw5gMmDy0s9/iy6livQB3SiAbCP52T7yxQgvMVHJLBRBZD6cEfCxYIGfP/6rCxbeChE79E+tI29NO0W8pc+DgYSnYskO2FP0aNDhWECTfN6SXdGx/un5L7KFdD0E/2CHws5pKvMYq6emEQDYY9bfDa8Lk4V1k5cZd2vWR17SVqy8O3L6F2SVTZ38W0rHQKvEkOe+s0/Rb/H2z/gfZu/9Q0ISQgsTQbf0vll6XnWuLINb4Oo5E9YCUtvpnnM8OJzFA3Q8kLccPv1C/1RmMSXkcRynnt5S0J3K0KqLnR16mf5U/JEhnzlkmHy3fpN8SGI6FLu2SJOmUhtIswDy7Hb/slcKf90pefmHQkxcK3vMG97tE2pxuz53rnMQ28c3+5TKlX38ZnVM2j7FyfSQj900Z1cXKdcF+yZvST7qOzvFebZMhuRtGSRebLTmP5k2R9l1Hi/eoS/H8HeZ4/g6xPalHscEEUQwxQUThwhlvlG87MaERjHpMsViAqzPfTgxkVeUTAoaHh5yvPRfwmlLRoltRiaKKKn6qC4vt/r262CoxZPS/b7fJpP9u8CUCjBUkThfLKiL1d3ViIKtei0AlDt/Qq4lCSSQiUTR7Xm6lCZ6qQoLp+h6dbJMYMkIS4LYXvtQuu6kyzw5VRHa4D1UV6ESGOjETyns+EkU5X60L6aRGVaFiKOWis5kYspAt4puSrZJ9e19Jm+Z9TdekjJHMR4fLoB7J4n3H/12K8j6Ut57/m4yeYfy6pyV3zr3SpZ5VJT5MEJGzuKNZnChOYNGNMn4sFJ9/d5V+q7PhMSGpgfY5LByjBYEsFq343U5LDiFoRXIIyQ2VHFJ/u5YnVz73BGX5wwf1lPdeuFvb9Qgl+zgTW13YmWzCX66Wj174izx69wDbJocA/88RsOBYmvj2Si2QcQs8H26+0vu3n7P0e+1jNOBv+Op879Jy2NWxbXsKFxIcz33gHeiOBIcKwgu2e2d3hTKbDK1eUx4cLFkZw7XhtkjoVBd+BgLYqQ8Nkswnhkvfnl1t2fqCBCv+boC/I/6ebmA8lmZ/uln7GG2zF3+nvU7h9cpJySFQySEkjFU14487vc+Nc1tXfnwgaYP3qiVT7/W9V1kBPwc/Dz8XP5/JIbcpkf3fZMsLfskhJH0myjBfcghqSWKXATLqpbclM937+qXJeUtmLTdUhJZskGm9k6RGjRqef0nSe9oGz28wKpF9ix+SJO3znn9JD8niffgKtJYN8txWvyw5BJtGS9fjzV/rsW+xjE3y3p40drHs89xUUpQn2VOGGn72UJmSnSdF/nfAQ/0u/et6T5MC89cYfn6NGl1l7OJd2s1oLevtue14X3IIcmR01/rlvpbiAxNERA5za5+ztMQAEipIcrhBeq822sdoLcCNgez9A6xZcEYLqhxQ0aAqX1QVWTiLbiMEtffdeq2WLHpz/C1aggcBKSqAKgpw8Xkssh8e2l0LXrHQRnDc/ZKOMZ8zFCoELDiLjXYoBDJuShKhjQPPETxXohWsq0AWSWwnBbJo31UtMGiRMla/ILjF3zGcKizM8Lqx72VaQgfJUgSiOE5wzCCJGgyON3wNkkv4HiSa8DMQwNo52arg74a/H/6Obkq6qmMp2icxAL9Pvd73u+wM/VZnwIkMdRIGJzKUrT95k66YUxQqJEXVe9WyGaO19yocU3gPwjET7AQHbje+V+H78P34Ofh5nDPkVrtl+ay3pCwl00cyptwavCKo3tky6J5hkqJfFcmTN+av0hI0mpIDsnuTalMrkk27D5RLEB3Ys9vzGV3RbtlzAF9xVIp3+2/WUY7vaz0O7JGf9B9S9NNP8t3iv0vPpK6SNnqG4WfPkNFpXaXLrdNlw37jvTD9rk27pdicIDL8fM87n/y0x1tBXlK825AYCqTsaylOoMWMYuPa//tEv0QUns3bftWeP7c8mVNauLNYv9XZRj7/ufaY8NgibcbH67Tf9c/sVfotzrBm007tfuMfLhtlLflOu/3rdUX6LRSKg4ePlD7y76+0vx2eF27y8bLvtcc16a08/ZbIMb4m/brvoH6r/VX0/x+vrdH6+7kJ/l5u+7tF81gyUs9N/H4nUX+vQGsU9fxwy9qFysP/35g6klua0UYwQsX7r01Gae4R/XPBVPQ9ps+1ycgt9f9xR0oLs+4o+165ozSrEF9xsDQ/c6Dh9gD/EseVLtp7zPtjCrNK0wN9TcB/iaWpmetL9e/0KC7NzUgp+3ygx+z389uUpmf9oN18LD+zNNV3e6B/XUrHLPJfc5K7sYKIyIFwdl6dqf3n++v0W50tWlVExjOyN/U6U7/V/lAF8uRs784raOUwDynfWOg919WiKfvFw4EKrDuvO9tXbYNhsG4RzcqHafMKtI9ox4nFzmlV9dpcb5UDWmAG9vB/PdiuV+W1TbJ6Rxt3u+eGc31tw9k5G/VbnS0WVUTGNuhgA9LtCFWuGKgN/7ilU7n5bvgbgpvmvpHN7Nwqq40lMZe1lqTK5v0cd4q0vsy7DtX8tlv2/mYuwQlXHUkeNktKS4slN6OsPkmbQXSkFEUaUlo4QXo0CBaOJ0rKmCzJLz7m+drDUrjoMUOVU5EseGSG5Kj2tGpISB4m8z335UhuhpT9BTCDqNh7H0tzZVIP52+MQ6FjgojIoa69tJW2cMQC0g1BrXEWERaYkeLEQBatGmjZQEIQcyiMLTAKWsvQ2sNFd/jwN0O7HiCwieTzL5qiNT/FqYFsoFleRm1bNtIe0yUd3DFwOVrwdxx3Uyft75q5ZIsrjqdoHUuKU9ugg83yMsL71Mhr3LPTHdlfm46nS1P9csiMrV8xkSgp46bLzIkDJFlrjasliT3ulSkZfbyfhqJlsuK73/QrRNZhgojIodQiHBDUumEoqKoimrGw4m7oqnJiIItAAfNxMCcH83KCbVuOx/OX6zvq1yhcxiG72MnKLUN2I1354NRANtgsLyMkkLEjIJOu4cPf7N4/tNMuu+V4imYVkRPneVU0y8sI71NOSiQTxUY76ZN2iST6ReqNpFP3FEOVz4+yeuuv+mUi64SRIDJOaFfTzPdJweJ3ZMrQjvqU8xqSNHSKZOcVmYZ3GZXI/oIcyZ42Vrrr36P96z5WpmXnSIHfwC0vNV3d+7WDZFrBIf0zyi5ZPLar72epye9eAe73/gL5xDcRvq9MyTO90ZcUSd77M/0el/avgvvodx/URHrP71n87hQZ6psY31GGTsmWvKLf9e8x0X7vqzK2u5qUj3+9Zey0bFlcUPaIiBQswtWZODcMBVVVREiGWH3W2amBLAIF1QKD1g2KHDz/1PGEQMcNQS0SH7f3jlz7phMD2bWbd/m2s39w4DlMAEUIjickCgDHk9Pfn6JVReTENmj8v31q1irfa8GAFFYIkX1sWr1VKhkV7YnBDsienwzVOG3ayulNbbYPvUdC/caGBBFRZISVICqb0L5HftqyXLLHDpR2Pf8oo2eUbSNYNGO0pHX9kzyyeHuAJNE+Kch+RPq16y5pwycbpst75EyW4WndpV2/8bLYlEDxn66+U3YXmxcZBz0HdVmSp8hz+YB+ufz9XirT7kqTVN9E+A2yeqt3RwUoKfpEHurZRbr2v9nvcWnUfUy+XaZtMCdsDPehaIdsyZ0tY/ulSM+Bo2WGb2L8GpkxOk26Dp5Y7jHK/jUy7dZUz+8dIZNzfN/gsUAmD0+TniPfLb9dIZEHzsQheYCkykdfOL/VLFJVRPjbOC2QxfwOFSj8ddC5AascyFo4ntT295jv5fSgFrClv2rftLLyAQk0pwWyuM9qltfY69uXm+VF1kKiAK+5OJ5QCel00agiUsknJ7VBG2d5YadVopg6sZE0T9Qvgyc+K7ejl9n+QslfbYi/2jSW+uyzoThVxaf+JpkxvI+kTV6gXzdbIBPHz5Jv/CptSmR/XqbckTbRPzFklvOY3PLIh7I9IskQ3O/+Mtyc+FH2L5enBw+ViX4JmgCKpsnwHg9J9vYglUDi+XzPP5oSPQY5r8j4t76VY/pVkUNSMOsfwe8XBNqukEiH5AEWrZj3gLPjToazzmrrcauqiBAU4m8DTglk8djVfUYLjJMG/zodhhUj0EHA8/y7q/RbnS0SQ+DfWOCseV5I9hlneSFxRpGHhIE6njD3yckiXUWE130kn5zUBl3ZLC+iqGtwplx0laHOZsE8+XyjufvEqET25S6UN3xhW6Kk3niptLVdgsgTS2/bKKv1a2g5a97oBP0ykXWq+dRPlTFZ66UYE86LV0tmund+gybnA1mSbyjVKymQWQ9l6MkhTGWfIbmFh/Xp6Hslf8HTkq5ne4umTZDncyIZ5Brv9yJ5+JJmntuQpJkio31JnQ6SnjFPnxyPr8uXBRnpnnuuK8qWV+ZvDlAlZZAyTrLy93q+/5gUr3/d9/g83yw5//qflOXPdsqaT9WZNc/fJuMr733Tf++i2RmS3p6ZbAoOwZlqI8HZcadXPQy8srX20aoqIhXIjrymrSMCWSS0VAsM5uKwBSa6EOAg0FFVN04PakG1b1pV+WAMZFFVYXd4TQxllhdZD8eTcadAq9uHoy1SVUR4jqoBz3f08c5vsjv8v1RVhMFmeRFFX1PpcOX5+mWYLY9M+ih48cH+XJk6/nW9swS6yY3dWpUFyQknSuM2ZSVJv+3cK36joUt2yPrc7/UrVsmXuVnLpMjvPu+W3PkLDPeztbRrqdaHx0n9xoZR3OV2Yftditavlh/0a0QVqUbKIVXGLZomEwe0F+2pWa+D/Onh+z23Kv6Ds0o2fiHvLNCf0ol/kkcfvlm6JNbyXpcGknzVEBk6xLuLjEihfLtlV8XJlypDAma8POq736dLMu5HyRb5/J3Pta+AxGF/lwkP9NYnx3vUS5arHhgnj6eqF4giWfDOF7Ix2J1MeUwWzXxMBiRje9wEqdf+Rnn48YHez8GmjXLwt7IaIj+795ZVC3l+b48bRsn0D4dJMhNEVAGcDUfgg7PjKPd2MrSAWVVF5LRAFskhzOsAJLQQ2FP0IdBROzEhAMKAc6ezqorIHMg6ISjkLK/YQpIb854Aye9ItWdFA57vqopo3vIftY9WUG3QeO9zQuujcZYXBpLzRAbZRx1JvuHPMqYspyNF0+6WW8ZNM810xSzdaTK2X39DgQDixFEyKNlwMjGhibTqnKRf8fysyZPkSX2USknRcpk+bpj0nBisqwZMyZtNObJkJV4DS2T/pk2mJJBSJDkTh8rgcdn67FuMaXlaxk/2rg81qVdLt7bqftaS5q3aGgoZXpfxTy7y/mzMuJ3+qAzu+ViFXTz+843yZe6SdaJNYty/VQqCzc8lV6p6yqHNVZJ2RQu/H5DQvJV0NhyMZY7KjjXLxXfoFE2Ung1rStkgZvxrKj19T/oi2bT7QGQSREhOjejqTQ4Z7Vgnn6oElnSRITdfIS3Mf52EVtLtxm76FY8Fy2XNjsCVGm369JUrfAkwMB24foyZbrwgpEpSz4oGYhMFhsAHAS3KvZ1+ltaKKiKnBbK4v5h7o1pguNNLbCHg+cct3p0CJ/13gyvaN1UVUXVeH5wWyHKWlz3guYKkN/zfmyu1Xa+cSlUR4b3WisdhbIMe0e9s7aOdmWd58UQG2U6DbnLfm49Jin5Vi68mD5ee7RoaYs+G0q7ncL+RIInpE+XlP5vjxMbStXeqIYZbIBN7tpSanp9RM+ki+VPQkSuKOQacK6O7nuT5/TWlftsMWRYklvTe5zRpVx8xs+e++o1p6SDD7uhpaINLkAZde8mQsgyRN56s6XmcNZOk659Ms38D8I/jPd8/+iKpj79T/Z7yxLId+u0UD6ytSanbUJrW1S/7OSSFm71BWqhCmjhfFXUbS8O65R/20cLNslS/LFJfmjYM1IZSUZKnMgmeP09jCfjnQaZ70CjJSDH8ZDUQu34nGTplPhNFFBIEPuosLRIjTl6AW1FF5LRAFvNuVJUDW2DsAc9Dtf09AiIERk5W3SHwTgtk8drBWV72gaS3GlqNXa+QFHciYxXRnKXVby1xUhs0/p9xlhfZXy1J7DFOZn71omHER0Uw/iRLcl4aIu1V94hPgjRIuUNeHGYYpeInVcbNmy0TDWOP/Hm+/8L+8oAxzqtUB0kfc5chwWXkua/jnpbH+5/uH8g36Cb3vHhXkDgV3zNbsiYG/omaBufLoAf66FconlmbILJMBxl2XRfBZKC4Ue9CGTUnRxZljjG9GGDns6ulXb/nJI9JIgoBEiFqF6apc9bptzqTqiJCsivcQMJpgSzm3KhWOMy/IfvA2XF1TDl9u25VRVTVxKuTAlm8BnCWl/0Yh1aj9c+pVBURqtOqczIGx6FT2qDx2sdZXuQctSTxwrtk+rZCyX0vS2YbZ8kqKWMkM+s9WZS/QZZMGlA2WsQs4XQZ8FyWKU5L9awJ5khu4RyZcFUHOUXNKUpsLI1ONP0cT5z3wMw5kuV3HzpI+tND5JJmgapam0jHQRNkTv4iyRxTNsAlMT1DZi/KkTkTrpLEcne1lrQYMEFyFmXKGF8yComvqfJebp4smtBXOpyiWt0CDbhuJF0eeFVyszL8kmqJ6ffLXdq8XooXUUoQ1ZGk1oaBe20yJPeIPoQ54L/VkjnAlBWNMP++y2LZuTfQm/3v8tOWjeIrRAz0AlAdmDc0bJIsOYYXsqmGg9sj5y2ZtXy3foWoYtiFSbWSzPvSmyRxIlVFhMA8Z0V4M2CcFMhivo1qgcHcG7bA2A8CIeN23U5OElW1ishJgSySQ5zlZU94fVM7bzp5vpcVVUR4HXFSGzRneZEjJSRKl+sGyA2jpkuhOeZcMkmGDbhOemgzYyuh4jTf98+XScP6emfqJrSXYfMLvbcXTpAeDcrHhwmJXWSA331YLdPvvyxAokdJ8PzKHjJs0nz960ulcPoouaFHcvlRKT4NJLnHMJm0RL8vpYWyZNLtcl2XRM9PqyPJw2bpt+fKpB4BKuvxtxowSqYXqvuI33mXXOg3NoXcLko5mAQ5sVHjsoypbzhXaCpL3pQUbZDcH/zmyYfNv+8yT96Yv0qMY8w0pkHW0rGttAyWaa4O7YXsdpk05z1D21meZK3YKs4NSSiasMi8f4C31eyFjzc6ui1GVRG99enWkINyzIpxSiCLoBvzbQDzbljlYF/GygcnD4KvShURjj2VULJ7IIv7ylle9oakvXG+l1OHVle3iggnPvA8dUIbtHGWF3als3syi4iIqiZqCSL/wVlzZfSoiTI9r8gwiLpE9hfkSPa7U2Ro0p8lu6gsEDQnbyaPf0kWa9PUf5eivDdk3OChMtEwYKxKGpwrvX27qIkUTb5XRj6ztGyy/P4Nkj3uXhnuG2RtHg5WDSUbZFrvvjJ2WrZhur7n71G4zTCHKVHaND4xWv/DyAVQfTO8uzcwQrDkVOFWESE4fGWu94wsKiXsvIhF4k6dPUYLDB4r2ReeS6ryAcNpETA5lUogh1pFhGNPtZXYPZDlLC9nwOsdBhwDhlY78UQGXhOqWkWEhBJO4IDd26CRSDbO8uKJDCIi94pevsE8OCtnsvypa5I2Ad47Sb6m1G/XXdIGjpYZ5lyPKXkjOY9Jz6Tanu+pLUld0/2mz1ddE0m55yEZ5ruDa2TGA92809+1Ce5nSZphSn1i+igZnXqqNX/AkgOye9Ncz5tummG6Pv4eaYbH1k1u7NaKCSIKy4CUtr6KBycHs+FUERkDWTu3leBxoAUGiS8k8tgC4wyofECAhCQRAqZQK3DsRiVeQ6kiMgayQ1KTtY92xVlezoIBx2q+F05kVPb6bkdVrSJSMwLx+m/nNmjO8iIiii9RzDfUkhb9x8mb48oGbQVVbraPOXljkvKYzMt6zNCGVjUJLfrK435bIgaWmP6ivPfkTQGm3FdRwonSWA02C6iDpGf+nwxK5u4rFD6UggOCWaeW8SOYVUFERVVETglkEQRhjg0eD+baIJFHzoEA6d4/eOfqIXBy6nGlEq+VVREZA1k7B4ec5eVMmJnn5NbNqlQRqTZoPFevvdS+LZCc5UUURSc2kua+cLCpNK7P9zCKjTAyHKY5Qm0aS33zd/slOgJMR09oIT0mzJHC3LmSVW63Lu+U9aysuZKb91i54V4JLfrLczn+k9y1yfPv5Urhor/JVR1O9SWIEps3khP1yyHdbx9sifg3WVSYK+/N9p/g7rt/i/KlIOCwrhOkkef3egVuB/ObpZTYWI4/vob3ckKyDHphpmSV+50dJD3jLXkvd4G8NqxDBQPJiIJDQKfK+J/JXuvIM7TQ77IztI8VVRE5JZBFEKRaYDDXhpwHgZLT22NCqSJySiCL+89ZXs6EBAuqvfAcQ+umEzdWCKeKCO9fqg0aiWa7JjJxPznLiyiKGvSQSb7h0LNkGAsDKEZqeJ6EpfplirI+f1soc//eS79GFFmTZ67QAj1UrPzl+o76rc6C9hEswHEm07xYRSA7Zvq32iL91fsvs+2iWz0Gu99PCo36/4mWpsl3XOS4/5+ofrp7am7A5yMCxDGvfKUlkNBaYtfqAVXlgEDWzveTKob/j7e98KV2efLQzrafdWWGxBYqWJFMqWj2lfo6JGfHDLZvG6RaM+BEBhJ4fK+iUDG+IXK2MCqIiMjJMARTnaFFMsWJglUROeWMLKocVHIIc2y44HY+BIIIoJBEQdug06gqokDtm06Y56UlsfTkEAJzJoecC1VfSPDBk7PXOq4qL5QqIqe0QSPxbZzlxfcqIqL4wQQRUZzAEEw1NwWLb2OCxSnwGNQsoo++KGtDcEIgi0oNNegT/x/YAuMeCKDUDBUEVk4TaAi8EwJZ3FfjLC/uWOZ8eP1Wr/ET317pqPcpJFEqm0XkhDZozvIiIopvTBARxREsvhFIYfGNraCdSFURYeg2glj8Q2ALdg1kcSYcc2oAc2tY5eAuCKAwDF5VD6CFxEkCVRG9vfA77aOdA1nO8nInY1We096nKqoiwkkCu8/zMs7yenDgOTyRQUQUh5ggIoozCKSwQMVCFWcKnUZVEQHO0iKQRWCL2+y4mMUZcJwJV/cR2zqT++C5h7ZBQOVNZVvH242ximjDll+0VlQ7B7Ko1FL3kS0w7qOGVuN9KjvHW8nmBBVVEWGTCLBrGzROZDz3gbdVG61+TpsBRURE1mCCiCjOYGGKXX7g1fmbHDfnAVQVEc7SqiARWyXbEVpgVPsbW2DcDUkiNUMFgZaTji1UEanqwgmzvK2Qt/duY8tAlrO83A//T/H/Fv+PUS3qpIRroCoiVBXifQCVUXasIMWJDM7yIiIiYIKIKA4hGETrCBaD2MbWaYxVRGDXQBZVDqoF5p4bztVvJTdDYKWOLQRc5jYTO7uplzfJ+suBI9Lp1Pq2rHbjLK/4gf+3am6ekxKueC8yVhEZ26CHXW2/NmjO8iIiIiMmiIjiFFpHsEMJEhhOm5kCjerV1i+JnNvGfqXw+JuqKgfMp2GVQ/wYkNJWS2Ai4Hpq1ipHDdqtfZx3WdC+ZQPto51wllf8MSZcnTS02lhF9NrHG7T7j9cEnJyxG87yIiIiIyaIiOIUEhbYoQQwM8VJ7TA4Iztr6Y/6teA7xsQK2iHUDlBok2CVQ/xByyMCLgReThm0i3leh4+WaJc/WfmzrYJx3BfO8opPSLiiRRctWqh0cQJjFdHCtbu0ZJEd26CNs7z+OuhcnsggIiImiIjiGRIXI69pq1120tlZNZg67cKkcrMeYg2JNtUCg3k0TA7FJwRaxkG7CMTsDK1bKlC84cJE7fj66Av7VBZylld8Q4uuqni1+7GkoIoooUYN7fLgK06zXfLFPMsLrdtERERMEBHFuasvbuXbUthOAWEwxkB28FXJQXeMiQUkqTB3BkZe05YtMHEOAaEatItAzM6DdtUOS5jndf0VbbTLGA5sh8QrEgKc5RXfcCyh4tUJx5KSs2KblJSWapd37bXXLDLO8iIiomCYICIirbQcC28EhGs379Jvtadp8wq0j2owtXHWQyzb5FB9hXkzqgUGiTciBF4PDjxHu4yAzI7H1/++3ebbYQmtW8Yh8LFOvM7jLC/SmY8lO7dF4/1ADaZuUOc47TlspypXzvIiIqJgmCAiIi0gRMIFnpy91ratZghkUUmAVgM1gwQBo6oiemOBN3kUC5gzo6oc7LrlPsXGOa2b+La/x/Flp8AWx/qr8zdpl407LPW77AztYywDW87yIjMcSyP1tmhUa9r1vWr2Ym8bNBKtQ7t7TxbYocoVfy/O8iIiooowQUREGiwUMd8DC0fsamI3xkD2/gHes8iKqiLCrBeUzkcbWmDwu5G4wtwZVjmQGc7SIyDD8WWnwFYFstje2rjDUqyriDjLi4JBdSaer3jeYjaV3ZJEeA9SVW9ItBqrXGNdRaRmeeFEBmd5ERFRIEwQEZEP5ntgIYsZP3ab8RAskAVjFdHsTzdrH6MFVU0qGMCMDCaHKBgEZCoJa4fA1hjI3tSrfNUbgttYBLb4XWqWF7Y4ZwsMmWE7diQ5ULWJ9wY7UW3QeE9CotX4/hTLKiLjLC+cyCAiIgqECSIi8sFCVs14eO6DfNvMTKgskIVYVBFhnsyk/27QLuPvxioHqgySsHYJbM2BrBlui3Zgi6SZcZYXtjgnMsN7FWZSqQQmEvV2YGyDNs6hi3UVEWd5UXwpkX2LH5KkGjWkRo2uMnYxZv/tk4LF78iUoR09t+H2GpI0dIpk5xV5vjqYEtlfkCPZ08ZKd/17tH/dx8q07Bwp2F/+O0sKpklv39cOkmkF5uN9lywe29X3s5LGLvbcMyXA/d5fIJ9MGarf1lem5JnWtyVFkvf+TL/Hpf2r4D763Yekh2TxPs/XeH7P4nenyNAk9TM6ytAp2ZJX9Lv+PSba731VxnZP0r8e/3rL2GnZsrig7BGRMzFBRER+MONBtcJMnbNOvzW2KgtkAQteNUcpGlVEaIHBPBlACwz+bkSVwfNUDYVHwJad452xE23BAlmzaAe2nOVFoTIOrUaiPhbtxUYVtUHjuI9VFRFneVH8KZEDe3ZLkXZ5j/y0Zblkjx0o7Xr+UUbP8LYuQ9GM0ZLW9U/yyOLtAZJE+6Qg+xHp1667pA2fLDn6rZqcyTI8rbu06zdeFpsSKCXFu8X7KgA7ZXexuVL4oOz5qey1qshz+YB+ufz9XirT7kqT1NEz9Ns2yOqtxdolKCn6RB7q2UW69r/Z73Fp1H1Mvl2mbTAnbAz3oWiHbMmdLWP7pUjPgaNlhvcXeayRGaPTpOvgieUeo+xfI9NuTfX83hEyOcf3DR4LPK8xadJz5LtSEDzrRg7ABBERlYPADIEjqnFw5jGWQg1kAXOU1P2OZLCAQAAtMKrKgS0wFA4kORGoAXYOjHY7Z0WBrFk0A1vO8qJwITGPnbgAO3PFsuq1ojZoiEUVEWd5EW2SGcP7SNrkBfp1swUycfws+cav0qZE9udlyh1pE/0TQ2Y5j8ktj3wo2yOSDMH97i/DzYkfZf9yeXrwUJnol6AJoGiaDO/xkGRvD1IJJJ7P9/yjKdFjkPOKjH/rWynbWuOQFMz6R/D7BZt2SzETRI7GBBERlYPATAWOOPMYq12XwglklfReka0iwn3C/BgVCHDQJ1UFAjW1s1m0t+yuLJA1Mwa2kbqfSASrFhjO8qJw4MSAqnpFeyJeo6MtlDboaFcRIQnFWV5ESqqMyVovxaWlUlq8WjLTve+/mpwPZEn+b/oVj5ICmfVQhp4cSpSUMTMkt/CwlOJ7S/dK/oKnJT1R+6QUTZsgz+eghS1SjPd7kTx8STPPbUjSTJHRvqROB0nPmCf5xce897E4XxZkpHvuua4oW16ZvzlAlZRByjjJyt/r+f5jUrz+dd/j83yz5Pzrf5Lve1ndKWs+XaFf9vxtMr7y3jf99y6anSHp7RtLfWYYHI3/+4goIASOWFTCP9+PTavZR19sCSuQBSyCI1lFhOBatcBgUCpRVeG5OtKwZXc0kkT4HZUFsmbGwPaNBd52TytxlhdVF6peYznbS52QqKgNGqJVRYQkGWd5ESmpMm7RNJk4oL1o7y71OsifHr7fc6vyo6ze+qt+WaRk4xfyzgI9+ZL4J3n04ZulS2It73VpIMlXDZGhQ7xVwCKF8u2WXRUnX6oMCZjx8qjvfp8uybgfJVvk83c+174CEof9XSY80FuS6+lhfb1kueqBcfJ4qsryFMmCd76QjcHuZMpjsmjmYzIguYHnSoLUa3+jPPz4QO/nYNNG2bozSOJ9996yaiHP7+1xwyiZ/uEwSWaGwdH4v4+IgsKiUi26oz0rBYEs2m8g1EBWiVQVEf4GKrjGHBlWOVB1oW1SVT8gERvp6geV4KkskDVTga3ViVcc55zlRdWF12LjbK9otkajRVS1RlbWBh2tKiLO8iIyaHOVpF3Rwi/oTWjeSjr7qmSMjsqONcvF15BWNFF6NqxpGMSMf02l52RvdR6SL5t2H4hMggjJqRFdvckhox3r5FOVwJIuMuTmK6SFOaJPaCXdbuymX/FYsFzW7Ai8vmjTp69c4UuAQS1p3qptWQWSn6bS4Uq1C2KR5ExMlaSeFQ3EJidigoiIKoQdTwDJmmgOAVWB7Mhr2oYVyIKxisiq+S74OfgbIADB/Jhw7xNRMGhTVIlYtC9GijGQRcInHMbA1qrEK5JhnOVFVsFr8j9u6aRdRms0KtMiDc9h7PgJd/Rpp32sTKSriNQsL/wOzvIiCqJuQ2laV7/s55AUbvYe06HatHqr7NQvW6puY2lYt3yofrRwsyzVL4vUl6YNA61HK0ryVCbB8+dpLAH/PFJHkgeNkowUw09WA7Hrd5KhU+YzUeQCTBARUYXQ7qGGgD6TvTYq8x2qE8gqqopoxsKy/SSqCokxNejz3j+0YwsMWQ6BHJ7vSBIhwLOaOZCtStBoZRUR7g9neZHV0IqsZnuhMi3SbZuqDfrKdo1Drn6LZBUR3jtVlStOZDA5RBRpHWTYdV0Ek4HiRr0LZdScHFmUOUZS9Ju8sPPZ1dKu33OSxySRozFBRESVwhBQLIA37Toor821Png1siKQBVVFhPtcnSoiBBjYHQeQKGOVA0UCnucYzqwqCzC02UpVCWTNjIFtdauIOMuLIgWv0dFo2zS2QY/o53QDtFIAAIHHSURBVK20DVUkqohQMaVOZHCWF1FV1ZGk1oZqwDYZkntEH8Ic8N9qyRxwelQD6oT6jcV7ChSKZefeQK8hv8tPWzbq2+N7JDaWRidaeC8xb2jYJFlyrFBy35sqY/wqit6SWct361fIiZggIqKQYAGMBe2H3+6IaOm+FYGsUt0qIgQWCDBwfxBwIFFGFCkI6FSLDIY2VyexaVSdQNYMM1ZU+2ZVq4g4y4sizdi2GamTGtVpgzYmW62oIuIsLyKrJMiJjRqXtWZtypElK0N/r6sseVNS5Hlv/8GwY1oV+M9PypM35q+Sffo1H9Mga+nYVlqqIdZWSkiULtfdLpPmvGdoO8uTrBVbJfL9BhQpTBARUUiwAEZ7FWAhGomzslYGsoAzyQgSqlpFhBYYVeXAFhiKBmOLDCrpcExUV3UC2UCqMwQexyFneVE0oG1TndSwepMFPI+r2wZtVRUR3os5y4vIKgnSoGsvGeJLwMyV0aMmyvS8IsMg6hLZX5Aj2e9OkaFJf5bsorL1sDl5M3n8S7K46HfP5d+lKO8NGTd4qEz0bU9fRQ3Old6+XdQ8a+fJ98rIZ5ZKkbqD+zdI9rh7ZbhvkHUHGXZHT2lrRdRfskGm9e4rY6dly+IClZby/D0KtxnmMCVKm8YnMsngYPx/R0Qhw8IT80KwEMUuKVazOpCFYVcnax/DrSLCHBiVHEKgQRQtOM6Gd2+lHWcI/KoTPFoRyJrh/lWlioizvCiaUKWDJCQgKWlVRZ5VbdBWVBHhvqhZXqi65YkMIgs06Cb3vHhXWRVRzmT5U9ckqenbxaym1G/XXdIGjpYZ5lyPKXkjOY9Jz6Tanu+pLUld02VydZNDmiaScs9DMsx3B9fIjAe6SVJN/f7VP0vSJvv2YZPE9FEyOvVUa4L+kgOye9Ncz2trmvRs19Dw90gzPLZucmO3VkwyOBj/3xFRWDAvBGc9ERxaOScFbWtWB7KAigw1PynUAAFbJKsWGOzixhYYirYBKW19ydinZq2qUsUevkclRqsTyAYSbhURKqHULC8kgFnlQNGAJKTVFXk5K7b5EjLVbeW6+BzvcVDVKiLjLK97bjhXv5WIqqeWtOg/Tt4cl6pfr0C52T7m5I1JymMyL+sxQxta1SS06CuPv/mYaUh0eYnpL8p7T94k7a1qL0s4URq3CfbgoIOkZ/6fDEpmdbCTMUFERGFBkKnmpLw6f5MlC24Esq/M9Z6RReBpdUJm4JWttY+hVBEhiYQtkgGPk1UOFCtIxlZnjgoCWSRGrQhkzYxVRJXNJMPxbZzlhTlGRNGC56oaWj3x7ZVVSrYqSOKo9wcr2qBRKYv7BuFWEXGWF1EwpjlCbRpLfXPE65foaCTNG52gX9YltJAeE+ZIYe5cySq3W1eipIyZKllZcyU37zHp0cD/hye06C/P5SySzDGGBFPKGMl8L1cKF/1Nrupwqi9BlNi8kZyoXw7pfvvUksQef5NFhbny3uwMSffL2ej3b1G+FEy/Sy5MrKXfrpwgjTy/1ytwO5jfLCVjEiwhWQa9MFOyyv3ODpKe8Za8l7tAXhvWQbhydrYapRjBTjHR528LZe7fe+nXiJwFi1OU7SOAHT/8Qv3WqkHFDhbdCGTHDI5MO9fkmSu0YBZnk4NVLyDZpWY5VPR1RNGCYPb2Z5b6kiuhtpAgkL15indA5b9HXhyRRCeSqWgZQ6Lo+ZGX6beW92jmcl+VQ3VfK4iqSr0HVOd9Rv0MtICiys8KxmP1rVHdQmqvVscekkNoo+OJDLITxjdEzhY0L0lEVJFrL/XuZoTADwmeqjKekR2S6p0XFAmqightBoHOION+qOQQFv9MDpEdoCoAAaAaZhtqm+TUOeu0j3guRyp4VFVEFbVvcpYX2QVasFTVW1WGVqs2aByLeP+zSrhVRJzlRUREkcQEERFVCQLXcTd5W82Q4Klqq1k0AllQs4iQAELrjRESRpjzoqo0rDozTGQFHBdqB0EEhpUNho5UIBuImkUUqH2Ts7zITtR7Fp6P4Q6txnuEaoPGsWj1c7nfZWdoHyubRcRZXkREFGlMEBFRlSFwxSIVqjLbIZqBLKgqorc+3ep3XzHfRVU5DOxxpn4rkX0gEBx7fXvtMgLEYAnZSAeyZsGqiHCZs7zIbszJ1lBPbBjneUUiKRNKFRGObc7yIiKiSGOCiIiqBYtUJFaweP7oi9BbzaIdyEKgKiK0wHz47Q4tSYUWGFY5kF1d0bmlFhji+RssIRvpQDYQ7JAGqooIQbfaBhyzvHDcEdkFjgtUrALaigMdR0bRaoOurIoI29mrExnczp6IiCKFCSIiqjbsoKLK9ivb0UiJRSALxiqiL1YX+lpgMOeFySGyOwSGOGZw7CBgNAa30QpkzbBDmrpPOSt+5Cwvsj20EauTBTiOKhKtNuiKqohwIgPJIVTrcZYXERFFEhNERFRtWNje3ts7i+TJ2WtDOiOLBA1EM5AFVDP07dzMGxi86134PzjwHLbAkGNg2C6qCBAwzl78nX6ryNsLvZcjHcgGohKvz8/9Tju2OMuL7M54HCEBEwjmfUWzDTpQFdH/vt3mO5GBGUo8kUFERJHEBBERWQLtL+qMLGb6VASBrAoiY5GY6XG+9ywtPHzD2VoFBJFTIEDE0GcEjAgcMQwagaxqlYxGIGuGxGuz+rXk8NESOePkEzjLi2zPfBwFGlr9TPZa7WO02qDNVUS4T5P+u0G7zlleREQUDUwQEZFlcEYWi20EqsF2iDEGsrEIIlHd9NIHZQmsfQd+1y8ROQcCRbRFAtrKxr+9SruMSr5YVBigAmNHsTqWSvWPRPaG4wgVpGDeIRCJV7RNosoomq2SxiqiZ973Joc4y4uIiKKFCSIisgwCU7XYxpDaQIM21RnZWASySA5h3gQW/Ze08S62zTuaETkFglsEjoDkzNmJJ2qVfNGGZLBqgbmgVUP5/pdDviHwRHaHCtKR+m6c2CEQ71vGNuhhV0e3DRpVRNd18Sak9hw8ylleREQUVUwQEZGlsNhWOy2p4Z6K8YxsLAJZzGtRu8CM+mNn3/1kMEtO1bZlIznheO9b+bZfD4e8bbdVMJQelReA5PDQVG9VIBOv5CTYjVPNpntq1ip5Y0GBrw062pU7OG42/1R2HPfoEv33SiIiil9MEBGR5dA6ht1WMNwTSSGI5RlZyM7Z6KtywK5rqF5Spfxo0QlU7URkd5jndfBIibRrVlf2HToq/3x/XdQSM0hGYSg9jL2+vZYcRjCtZpEx8UpOcmufs3xDq+et+jlmbdCY4bd6+35pWu947bp5RzMiIqJIYoKIiCyH5Mv9A7ytZki+IJA0DqaO9hlZtMBgC37A3BaU8ENF2woT2Z1xntf/pZ/vC26ff9c7jyiSkISa+PZK3zFtrAhUO5qxioicBO9bOHmQUKOGdv3Sdo2j3gaNWV7qmJ40rKt2G05s8AQGERFFCxNERBQRSAJhdgJkzFods8HUSE6pFhjMazHvAhNoW2EiJzDO82pUr448POR8X+UeAs1IQdJHzfJCtdCQq8/SP+PFKiJyqi/X/iQlpd4h6x9+s8NvaHWkGWd54URGs5NP5AkMIiKKOiaIiChiBqS01aoa8ncc0K5HezA1kkNjMvO0yyOvaRtw0CeriMiJ/vfttnLzvHBsjbupkxZgItDE10SCcZYXdi4MZES/s7WPrCIip8DzVLVB/+nK07WPGFodjble5lle6kQGT2AQEVG0MUFERBHV9cyT9Usipzb1r96JJCz2MY9FtcBgCGkwWISroJqLcLI7PLdfnb9Ju2ye52XctnvSfzdoVQlWCjTLKxCVeGUVETkFEp/q/QKVrur5G+m5XoFmeSk8gUFERNHGBBERRQwW1e8uKwsO0RITyYW2EeawqCoHcwuMGRbhN+tnjLkIJ7tTgSx2XQo0zwsBptr+/rkP8i2rgAg2yysYVf3AKiKyO7SSqcSnet4iSaTmemFwdCTguAg2y0thFREREUUTE0REFDHGQBYzSdASE6mFthHmr2AOC+axYC5LKFLOb8kqIrI9YyB7U6/g87zQTqkqINBmWd0ETWWzvAJhFRE5xbR5BdpHnChQiU81tBrHGmboqR05rYJjsqJZXgqriIiIKJqYICKiiDAHsphJohbamLcQKZi7on4v5rGEOvMIX8cqIrK7QIFsMAg4kZxFggaBaFWTRKHM8gpGVT9gN0MmXsmO8J6BKiGcUDC3IuMYQ7Uc4Dls5XtXKLO8FFYRERFRtDBBREQRYQ5k8e/eP7TTbsO8hUi0nKAFBnNX4B+3dAqpysGIVURkZxUFssHc2uesarXJ4DgNdZZXIKx+IDvD81vN87p/gHd2lxneR1TLJt67rGjZRDWSOpFx53VnV3oig8cRERFFCxNERGS5YIEsKg9URQNmBFkJi3bMWwEs5gPNZqmMsYpo6px12kciOwglkA3E3CaDIdPhCGeWVzCsfiC7qmyel2Js2azu0GqcyEA1EqA6KdQTGTyOiIgoGpggIiJLVRbIoqIBwSpmBCGRZAX8TrTAYPE+vHursFpgzFQVEe4f2uSI7CDUQDYQ1SaD5zWGTIe6s1lVZnkFwuoHsqNQ53kpSJCqaryqnuCoyiwvhccRERFFAxNERGSpj77YUmEgi4oGtH8BEknVLddHcgjzVdTvHJDSVv9M1RiriGZ/uln7SBRLOEbCCWQDQSCqWjwRoFaW/ETyVv3OcGZ5BcPqB7Ib9foeyjwvBYlSdQIh3Go8HMdVneWl8DgiIqJIY4KIiCyDBbDaBruiQBaJI1T6qHL96sBcFdUCg+okK7CKiOzkjQWhD6auCALSsde31y7/35srgyZnqzvLKxDcbwTFwOoHijU8x1V1XDhztZAorUo1Hk5kVGeWl8IqIiIiijQmiIjIMiqQRSBYWSB77aWttMU5kjtV3T4YLTCYq4LFOs7sVrfKQWEVEdmFMZBF4rK6rujc0jdLZeLbK8vNUkHSqLqzvILhEHiyAzzn1XP8jj7eqrpwGKvx8HOCJVqNjLO8BvaoWhWgwioiIiKKJCaIiMgS4QaySMKgdQUwsDOURbYRfp9qgcEZXauSQwrO8OKxsIqIYsUcyFr1HFezVDbtOqi1Zyr4fWqWF5JI1ZnlFYgx8crqB4oV1QZ9ZbvGck7rJvqt4cGxoapgAyVajcyzvKp7HLOKiIiIIokJIiKqtqoGsjgTi2ojqGyRbYSEjRr0iTO5VrTABJLeq432kVVEFAtWBLLBIFBVA3cRwOLYM87yquqOZZVhFRHFkrENekS/s7WPVYV5dzg2zYlWI6tneSmsIiIiokhhgoiIqq06gSwqdVQ1A35OZbDAx/wUwDwVq6scjPCzWUVEsWBlIBsIAtU7rzvbl6z5v9dyLZ/lFYiximjqnOrNHyMKVzht0KG454ZztfcIlWg1QpWr1bO8FFYRERFRpDBBRETVYkUg+9dB52qBKn7O2s279FvLQ5UDKo2QjMLiGPNUIo1VRBQLVgeygSBgVTsKri3cL/Vq1bR0llcwHAJPsWD1PC/AsYLKIJVoxe8AvC9GapaXwioiIiKKBCaIiKharAhk8X239/YmYp6cvTZoqxnK+FFphEqlSLXAmBmriCpKXhFZJRKBbDC/7CsLLPf/fkx+NVyPFGMVEROvFA1VbYMOhXFoNVqftxTujegsL4VVREREFAlMEBFRlSFhYlUgi2ogJH6wqMbW9WYo31ctMCjrjyZVRfTKXG+AQRQpCGRnLNykXbY6kDUzzvLqdY63NRSBbTSqEVhFRNGUs2JbldugQ4EkEE6SwL2v5mq/K5KzvBRjFVGwEytEREThYIKIiKoEi1GVMEECxYpAFokfBI3Yul6V6gO2wccCGJ/D3JRIBs2BqCoiVC8Z7xeR1RDIqiq5SASyinmW1/2DOmvVCAhsn5q1KuLBJquIKFqQ8MROmRCJeV4K5um1bFRbjpaUyom1akZ0lpdirCLCawcREVF1MUFERFViDGStKqFH0PjgwHO0y2gHwMIeCRm1uMd29pHasawyqopIVXcQWc0YyA5JTdY+RgKSP4FmeQ3scaZvZ7Pn312l3RZJqCJS7ZusIqJIUcPQsS19pOZ5QXbORtm257Acl1BDDvx+TGYv/k7/TGSpKqK3Pt3KKiIiIqo2JoiIKGyRDGRRNaEqGZ59d7WvBQaDPmOVHAJWEVGkGQPZSD7Xg83yQoIWQ6pV6xfaOiMJv49D4CmSVBs0ntPXXtpKv9V6eE/AJgv4Pf8Y3FH7iKpXbHMfaaqKCO+ZrCIiIqLqYoKIiMIW6UAWlQynN64jX2/Zq10feU3biA36DMf9A7zVTawiIqtFK5BF0qeiWV5I2qBSTwW4kU6GqsQrq4jIasY2aAyRxnM7EoyzvPB7Op15iq8SFtvcR+N5zSoiIiKyChNERBSWaAWydY4ve3nq1DZys1jCga2KUXXBKiKyUrQC2VBneSHpqwJcBL6R3r2PVUQUCZFogzYzz/JSvweVsDixAfh8pAe/s4qIiIiswgQREYUsWoEs5p/k7/hNmjeopV3/5/veiiU7GHhla+0jq4jIKtEIZMOd5YUAF22d8OTstVogHCnGKqJIJ6MoPkRjnhfeDwPN8lIwtFolbaIx+J1VREREZAUmiIgoZNEIZNECg0ARAeNLIy/1Dc3FAFA7YBURWSkagSySO1WZ5YVjXAW42P4+kkGnqiJSCWii6ojGPC81ywvvUcG2szcOfo/00GpWERERkRWYICKikCCQxZlJiFQgi4GeqgVm3E2dtAoltMIABoDaZUaJsYqIZ2qpOt5e6A0aIxXI4rhFcgfwO8JN7CLwRUIUQScC4kg931UVEROvVF14n4h0G7RxlhcGuweD97C/DjrXN9MLbZ6RxCoiIiKqLiaIiCgkCGRVKX0kAlm0lmCgJ2D+ifod+IjZDvBM9lpbLHqNVUQ8U0tVhUD2w293RCyQxbGC1hZ13A5I8c5ECReGWUejCkJVEbF9k6oD7xMQqTboUGd5Kajs+cctnbTLqBaMZBslq4iIiKi6mCAiokoZA1mUzFsNLTCYcwJogcH8EyPMdlAJmdfmRnbr7VCpKiKeqaWqUoHs7b3bRCSQxSwvVeVQnePWXAURqXZPVhFRdSF5o9q+ItEGHe4sLwUnFdSJjkjP9GIVERERVQcTRERUqUgGsljAogVGVTkEW9SP6He2FqAiUWWHQbaqiohnaqkqjIGsebitFYyzvNACU93jFpUJCIgB7Z6RSuDc0aed9pFVRBQuYxv0sKutb4Ou6iwvBce5qu7BxguRSt6wioiIiKqDCSIiqlAkA1kskDHXBAvZvp2bBR30CVj0omUAcAbWDmdGWUVEVRHpQDbQLC8rICBWO5shUI7ETDBUD3IIPFWFsQ0aCXwrVXeWl4L3ONWuGclqWFYRERFRVTFBRERBRTqQxTwT1QJza5/gySEFi3IkkhAEoH0m1hCEqPvDM7UUqkgGssFmeVkFx+DIa7yzjP7vzZURaZUxDoEnCkUk26CRYLFilpeCij5VDYsTMJHAKiIiIqoqJoiIKKhIBrKYY6KqHDDfJNQqBySS8D1on0GlRKzd1MsbjPBMLYUikoFsZbO8rHL1xa18wWckWmVU+yariChUkWyDtmqWl4L7p9o1Mc8oUs9xVhEREVFVMEFERAFFMpDFghhzTPCzsVDG2c5QYXGtdoR5df6miA77DAXP1FI4IhXIIgAMZZaXVYytMmgTtZqxiojBLVUkkm3QapYX3qusmOWlGNs1n/sgPyLvY3xvIiKiqmCCiIgCmjavQPtodSCLxJMa9ImZQlVpgUGFAeZAqAqGWOOZWgoFKt4iEcjiORfqLC8rIWDGEGwkiRBIW8lYRcTgloLBcz9SbdA4kaGqXHEiw8r3QUASVyVwJr69MiLvHXxvIiKicDFBRETlIJBF0Ifgz8pAFmdJMbcEsOVvdaocrr20lS84jdQch1DxTC1VBsEZKt7A6kA23FleVkHAjCHYCKARSFvd8skh8FQZPPfxuovXXyvboDHLS53IiMQsL0VV4iERGom5enxvIiKicDFBRER+jIHs/QPO0T5aAT8X1T5qMV/dxJMKTgFzHGLdaqbO1OK+YLg3kZEKZFHhY2UgW9VZXlZB4KxaPjEc28p5KqqKiMEtBYJqVPXcV6+/VojWLC9FVeKhlQ3Hs9VYRUREROFggoiI/EQqkEULjKpysKoFBsHpSH1HpUiV6IdKnamFOUu/1z4SgTGQVUPNrVCdWV5WwutEpOapsIqIglFt0Ddfebplz308x6I5ywuMlXg4nq0eWs0qIiIiCgcTRETkE6lAFvNJVHIIZ0uthB2VVIn+R1/EttVMnanF35BVRKREIpC1YpaXlRBIq7lgCLCtev6ziogCMbZB4z3ACkgOqVleeM5Fa5YX4PjFcQw4rq2uiGUVERERhYoJIiLyiUQgi/lAKul053VnR6QFBq016uwrZkfEijpTC6wiIohEIGuc5TXymrZRqXIIxYCUtlrlIQLsp2atsiwQHZLqndnE4JYAz4FItEEbZ3ndc8O5+q3Ro5KsgCSrlc91VhEREVGomCAiIk0kAlmUymMmD2BOSaSqHLD4xW5rgNkRsQwiWUVESiQCWfxM4ywvq45Vq2BINgJsvJa8Nteanc3wusHglpRItEHHepaXgiSrqphDNZOVWEVEREShYIKIiCISyKLKAfNIAPNJrJxnFAiGXquFtVWBaVUgWYWqDmAVUXyLRCAbiVleVkJgjTZSBNoffrvDsu3vGdwSRKIN2i6zvBRUL6kkq1XHD7CKiIiIQsEEERFps3usDGRROaMGfaJkPlotMFhYq8AUFVGxknJ+S+1+sIoofiFBanUgG8lZXlZCkgiBtjoGrBi6y+CWYPanm7WPVrVB222WF+D4QTu2lcePwkQrERFVhgkiojiHQBZnT8GKQBaLTswfQSCHgA4l89GChfWDA70VUKiIilVyBvcDAQywiig+vbHA2nle0ZjlZSXz0F0rZoOp4BZtq0y8xh8kSrAVvFVt0Had5QU4ftR7mZVDq5loJSKiyjBBRBTnVCCLBbIVgSzau1SVw8Ae1u2EFqpzWjfxLYCnzlmn3xp9rCKKX8ZAFs+D6sLPi8YsL6sh4B57fXvtMmaDVTfIVcEtMPEaX3DiQbUs39HHm3isDvw8O8/yAryX4X0ZrNwZkFVERERUESaIiOKY1YEsWmDQ3oXECFpgYlXlgMQUHhMeGyovYsFYRfT2wu+0j+R+5kC2uscAkirRnOVlNcwGUwnbiW+vrHZAqoJbJl7ji2qDxpw5JE6qy+6zvBQkrqzeGZBVREREVBEmiIjilNWBLJJNqgUG80di2QKD362GbaPywqry/HCpKiIkzTDrgtzPykAWCZBYzPKyGgJw/D027TqoBebVCXJZRRR/8Pqt2qBH9Dtb+1gdTpnlpRh3BsTgeyuwioiIiIJhgogoTlkZyGK+iBr0ibkJdmiBQaUFgmpAK0EsFsHGKiI1XJXcy8pAFs/XWM3yigTjzkzVDXJZRRRfrGyDxuYFTprlBbiPxqHVVmzAwCoiIiIKhgkiojhkZSCLn4X5IoB5I1aU/1sFQbUKSpEQiwVVRYR2N1YRuZuVgWysZ3lZzRzkVqf1E39blfxlFZG7WdkGjZ816b8btMtOmuUFuK+4z4DHYMV7CauIiIgoECaIiOKQVYEsFpWYK6KqHDBvxG4QlAISYrFI0LCKKD5YGcjaZZaX1RDkov0U0PqJv1lVXXtpK1+yiVVE7oT3F6vaoHEiw8mzvAD3WQ19x+5reEzVwSoiIiIKhAkiojiDdjArAlks3jFPBHNF0KZm10GfCErVovqZ7LUxOVOKv7Mams0qIvfBc2rGwk3a5eoGsnaa5RUJOB4RoEN1tu82Jl5ZReROSFpY0QbtllleYBz6bkXrNKuIiIjIjAkiojiCBeArc71nUdN7talW8Ik5IqoFBvNF7AyLajUkF6070Ya/M/7ewCoi90EgqxKl1Qlk7TjLKxIQoKN6ERC4VzVJpNo3WUXkPvj/iSozqE4bNN7z1Cwv7Abm9FlegJZT1Tpd3fczVhEREZEZE0REccQYyFbnLGp2zkZflcNfB53riCoHBBm4v2jdQSAebfh7s4rIfYyB7JDUZO1jVdh5llckYPvu6lZCGKuI3l5oze5OZA9T56zTPqLipzpt0MZZXtgNzA3wvMf7rno/q848L2AVERERGTFBRBQnrApk0QKjBlyjBaY6i/dowv289w/ttMsIxGNRccAqIvcxBrJVrfhBUGb3WV6RYKyEeP7dVfqt4VFVRAiUmXh1B9UGjf+vmDVVVW6d5QV4PzPO86rOSQ9WERERkRETRERxwopAFlUOqgUGc0Sc1gKDKh60GWAhrP4e0cQqInexIpBFcsgJs7wiAQE7And1TCCgD5exioiJV+fD8aDaoJHQr2pSx+2zvMA4zwsnPaoztJpVREREpDBBRBQHrAhksfjEvBAYeU3barWoxRLaDPB3wN/jf99G/2ypqiLCwGxyLqsCWSfN8ooE/N3G3dRJOyYR0FflmFRVREy8Op8VbdB4v4uHWV6Av5EVQ6tRRYS/OauIiIiICSIil7MikMXPwOJTtcBgfohT4fH/45ZO2uVX52+q1lnXqlBVRAiCqrPNN8WWFYGsE2d5RQICeATyMOm/G8I+LvB3YxWR81nRBh1vs7wAVYfVbdWEgVe21j6yioiIKL4xQUTkclYEslh0qioHN7TAnNGikdZqp866RpuqIlJbo5OzWBHIOnWWV6QgkFftMs99kB924pZVRM5X3TZoJDXicZYXoFVTPf+ReK4KvC+yioiIiJggInIxBLI4GwhVDWQxFwSLTlS9YBHqFmi1w2NC4qu6u8CEi1VEzqZ2zKpqIIvkh5NneUWKsV0G7azhVDGgikgNoWcVkfMgqYf3GSQ5qtIGjedKvM7yAjz/1dBqJJ6r+r7CKiIiImKCiMjFEMiqs6lVCUIxD0S1wGBOiJtaYPBY8JgA1SDRrjq4o483mGUVkbPgeaJ2RqpKIOuWWV6RgsBeDZJHwB9OkKoSr6wich41k62qbdDxPssL8B5fnSo8YBURERExQUTkUsZAFttJhwtnIDEPBDCzx41VDnhMCNIBAUo0z5iipQYLcVYROYsKZG/v3SbsQBbPL7fM8ookDJJXM1VemxvezmaqfZNVRM6BCk68DuL/eVUSpvh+zvLywt9PtU+j3a4q72msIiIiim9MEBG5VHUCWZx5xBlIwBlJnFV0KwTpCEwQoHz0RXRbzdRCnFVEzmAMZKsy38Rts7wiBa9XCPQR8CPJHc5MFVYROYuxDXrY1eG3QSO5ruaBcZaX14CUtr6TD6jCCxeriIiI4hsTREQuVJ1AFmcM0QKjqhzioQVGBaOY3YAtkqNFLcTx/4pVRPZW3UDWrbO8IgWBPgJ+dVyGc3yoKiKVJCf7MrZBh3sigrO8gkObnZqxh9eecLGKiIgofjFBROQy1QlksRDEGUcs2DEHJF6qHBCMotIKsEVyNBfErCJyhuoEsm6e5RVJCPjV4GkkAkKtCFJVREy82lt12qA5y6tieI3Baw3+tnjtCfc4YBUREVH8YoKIyGWqE8hi3odqgcEckHiCSiu1IA537kl1GKuIUPlF9lOdQBaBmdtneUUSAv+x17fXLv/fmytDHryrqoiYeLWvqrZBI4HPWV6VMydYwx1azSoiIqL4xAQRkYtUJ5BFGbr6XrTAxGOVA8ry8fjxd0DVR7RwIW5vVQ1k42mWVyQheYtEABICoQ7eZRWRvVWnDdo4y6sqGzDEExwHGFoNqLgK5/2FVURERPGJCSIiF5k2r0D7GG4giwBKtcBg7kc8JocAj/vBgedol1+dv0lr14sGLsTtC4nCqgSyCMTibZZXJKHdFf8P8P8i1MG7rCKyJxwbVW2DNs/yitf3qnBgaDVaxvFaFO7Qap68ICKKP0wQEbkEAlmcVcXCOZxAFlVHatAnytHjvQUG28+raoWpc9bpt0YeF+L2g/8PSBRCOIEsvi8eZ3lFGhICSBKFOngXSTnVvskqIvuYvbhqbdCc5VV1aBkP59hRePKCiCj+MEFE5ALGQPb+Ad4KmFCgBQZzPQBzPljl4IW2BSTacKY6WnOBuBC3HxXIIskTTiAbz7O8IgkJgTuvO1tLECBREMqxySHw9oITEirJ0++yM/RbK8dZXtVjPnbCaaHmyQsiovjCBBGRC1QlkMVCD/M81JnccOdAuBkW0yrR9sLHG8Me7llVI/qdrX3kQjz2jIHsTb1Cn3PCWV6RhcQAEgSAY7OyyiCVeGUVkT2oNuibrzxd2z0yFJzlZQ0cO6qFGsk2vMaFgicviIjiCxNERA5X1UAWLTAImrDwYwtMeVgUq+Ge2DEnGgkbBEyqvY0L8diqSiDLWV7RgWMTiQIIZXcmVhHZg7ENOtSdx/C6y1le1kEL9chr2mqXUT0c6pw9VhEREcUPJoiIHK4qgSyqHFQLDHbuosAw3FPNbfjoi+i0mqm2Cy7EY6cqgSxneUWXeXemigJdYxVRtFpGyR9ey8Jtg8b3cJaX9fCapk5EPDVrVUjvM6wiIiKKH0wQETlYVQJZBEiqygEzCVjlUDH8jSBzyZaQS/Krg1VEsVWVQJazvGIDCdxQA11WQMRWVdqgOcsrcjBnT538wP+bUPAYIiKKD0wQETlUVQJZtMBgbgegBYZVDpXD3whBPzyTvTYqC2NjFVG0ttonr3ADWTwfOMsrdoyB7vPvrtJvLY8VELFTlTbo7JyNnOUVQfh7/nXQudrfF/9vQhlazWOIiCg+MEFE5FBoeQonkEWVg2qBwfwOJodCh6BftajgrHakGauI5iz9Xr+VIg3HSLiBLGd5xRYCXSQQ8P8Muw6ifTYYVkDExuxPN2sfQ22DxokMVGzi/ylneUUO/l+oge8YWr128y7tckV4DBERuR8TREQOhEAWC2gIJZBFFQrmdADmdrAFJnzYYQwBC85qh7KQri5VRYSEBauIouONBeHN8+IsL3tAAgGJhMqqIVgBEX1I9iBxF2obNGd5RReOCVUh++TstZUOfOcxRETkfkwQETmQCmRHXtO20kAWZ/kwnwMLOlSlYG4HhQ9/ZwQsgIV0pJM2+H34/wWsIoo8YyCbcn7lbWKc5WUvSCQYt/AOlsRlBUT04O+rtqe/o4/3tbMinOUVG6iQVRWroezYyWOIiMjdmCAicphwA1nM5VBVDpjXQVWHgAUtfVhIT52zTr81clhFFB3mQLayZA9nedkTtvBW298Hq4ZABYQKhlkBEVmqDRoVJ/h/UxEcg5zlFTvGWV6VtVGzioiIyN2YICJykHADWbTAqGQSB31aA7vpqHknoQz2rA5UEamtvFlFFDnhBLJIOnCWl30hiasSQGirDVThYBwCzwqIyDC2QaM9tzJqlheSFJzlFX1YG6hZXmijRoVkRVhFRETkXkwQETlIOIEskheqBWbcTZ2YHLII/o5qsCd2katsZkN1XXtpK99sFVYRWS+cQJazvJwBCQZV4YDEgzmAVe2brICInHDaoI2zvJCkoNjAexsqIgEVkqiUDIZVRERE7sUEEZFDhBPIYv4G5nAA5nKwysFaWBwjQYDFMWY2RBIW7RiaDKwisl6ogSySDJzl5RwYGq5aZmYv/k6/tYyxioiJV2uF0wbNWV72grWCatNEtXJFJ0BYRURE5E5MEBE5RKiBLBZ0mL8BWOhVVmlEVYPKHgRACEArK8evLgRZrCKyXjiBLGd5OQsSDX8ddK7vuMnO8c6MUoxVREy8WgeJglDboDnLy56MbZqYCxUs+cMqIiIid2KCiMgBUBEUSiCLhRxaYFSVA1tgIgeBD1r3AEEOtmeOFGMV0dsLy1dDUPhwrMxYuEm7XFkgy1lezoQkkGqZQfWluWWGQ+Cth0QB3n8qa4PGiQzO8rIvtGkiGY65UEiOB8MqIiIi92GCiMjmsOh6Za73jGx6rzZBg1N8HeZtYHGOnbY46DPyENSgogueyV4b0QWyqiLCANFIJqPiBQJZBD+VBbKc5eVsxpYZJCSMx46qIgJWEVUfkmyqIqiiNmjO8nIGJMORFEdy3FyBp7CKiIjIfZggIrI5YyBb0UIaczZUCwx22qLouPriVr4zrRgiHinGKqLZn27WPlLVGAPZIanJ2sdAOMvLHfC6qRK5//fmSr+5Kqwiss7UOd55bEj6BGuDRhKds7ycAe85SIojOR6oAk9hFRERkbswQURkY6EGsji7p6ocMHeDVQ7RpWadYBGNpEKkqCoinNFlFVHVGQPZYEkfzvJyFyRy1VwVDJZXgSyriKyh2qDx+oT5bMFwlpez4PXx3j+00y4HG1rNKiIiIndhgojIxkIJZHFWD4kJLMwxbyPYmVuKHPzNb+/dRruMpEKkzqKyiqj6Qglk8f+Ps7zcR81VQYIC7bgKEhV4PrCKqGpwvKg2aCQTgp2g4CwvZ8Lrn9q1E6+Lgd7fWEVEROQeTBAR2VQogSyqSNSgTyzM2QITO1d0buk7i/ra3PX6rdZjFVHVhRLI4ms4y8u91FwVJImQsABj4pVVROELpQ0aJzI4y8u50Aqo3t+MyVXFWEW0ZlPkqmiJiCjymCAisqFQAlmUemOeBoy8pi2rHGzgnhu8rWYYJI3hxpGA54Iq+WcVUXhCCWQ5y8vdcPyouSpIWMz70js3TCVeWUUUnlDaoHGyQ53I4Cwv58L7mzm5aqSqiNTukERE5ExMEBHZUGWBLBJImKOBs3VogcF8DYo9BJ8IgODV+ZsiFmjiOaF2lwlURYTkYaBZEfEslECWs7ziAxIU/7ilk3YZzwlUt+D/taoienvhd9pHUO0y+BippK+TVdYGzVle7mFOrpqHVqsqIqxdgg20JiIi+2OCiMhmEMiijx+CBbIo8VZVDmyBsRcEQGoYrgqeIiG9l3fmUaAqIsyJUNtIk5cK+oMFspzlFV8QzKrt79XwXVVFhApAJF7xL+2JHK0CBkl77GjHts4y+FtU1AaNpBpnebkLXjvVSRBUhZlPRLCKiIjI+ZggIrIZBLJqQR0okEVpt0oOYZ4G2Q+G3qoKH9XCYrWKqojw/DmpLqtfFPx9EPQHC2Txec7yij84hvyG7x4+6jcE/jfPdVhRsFN+O8TBu2bPZHsrgwK1QSM5pGZ5oaqEJzLcAydBRl7TVruM48ZYKcsqIiIi52OCiFzj1737ZdPWonL/Dh36Xf8K+zMGsoG2AEayQbXA3Hnd2WyBsSn8f7l/gPcsK1pYItXupaqIVKBm1PLkE/RLVYdjJ9AxhWPNSdTfBzvNmY8Z/L/hLK/4heG7GEaORMZTs1bJxR2aa6+vSLwePVqifU3R7oOysXCfdtkKhTt2BzyunATvRUgC4ERFoGPGOMsLs2vIXdDWbjxuVCsmsIqIiMjZapR66Jcpyvr8baHM/Xsv/RqFY/WGrbJ1+075Zv0PsqXoV1n34279M8FddnYLOat1M2l96inSrnULSWrWWP+MfdzzwlJt0T32+vbarlhGOBunqhxeHNFVO1NH9oaZNmhbUtVekUjoqecM2mUQqOFs7s1TPtfO4o4ZHHqFGYLW/M3bZfOPP8v6zTtk6brt+meCO/vUxtIq8SQ576zT5Ky2LaTN6Yn6Z+wDgSySdPh/MH74hfqtXqrKAYEsKvZY5RCfjM8DBL1nJNbXnjM4hpAoAnU5nNdeJFi/21Ik6zZuk4ItOyQvv1B27D2ofza4ay9sI0mnNJQOyadK8hlJclJDe1W04TVm5D+/0pIDgf4e6nUPibYX7ryI7ZouVdHr5+SZK7TjRb0vUXxhfEPkbEwQxRBfQMPz1bcFsuybjfLOkvLVElWB4Db1kvZy+QVn2SJZVFEgiyoHNcuBCy5neTRzubaARisLqhWqA4HZwcNH/VqgVOIQ7WbPj7xMq0K7e2puSAkiJIU++3q9LFi2IaQkayhu7H6OXHJeW7moc+D5WdFUWSCr/t8EOuYofuCYSWxaT25/Zqn2XEm7MEmWrNmpXcZzA8+RC1o1lK+37JWsh1MqTPQiKbRywxaZPS83pCRrKHByo8+VHaXz2WfYIln08n9Xa5WugZKq6vUIySHM8mK7prsZ1ybGE1vqfUi9L1F8YXxD5Gw1H/PQL1OUzczZLDd395biUmBYbM/79BsZ80y2ZOWskbVbduqfqb6d+w7Kl2t/lFmffCNF23d4Fv01pWXzk/XPRhcC2UnvrpWDR0rk4Rs7ykkNys644nMPTP1aW4AhydDzgtP0z5ATnHVaQ/lg+Tb5ZsseuTS5sd//23A98eYKeeWTTVJy+LC0O+0kOa5mgiR5Atuv1hRpVUTtmteVurWPk4/yCqWVZ2F+WcfAFT1Itj77+nyZMvNT7RjAsWAVHKPzluXLh4u/kXq1E+S0pCZy3HE19c9G12sfrZeVP3rPbl95/qn6rV6Y5fXJ2l2+6i78LSn+YGeyh99aJXnrd8jtvdvK6u/3yIote+Xa85rL+u3FklBDpPjQMWlS73jZse93GdorcJIXbZczP/hM7n3qPe35/+POYv0z1YeftSh3o7z1ca7s37NXmjauJ40b1dc/G10I/J+d+52WAHpwcGe/4wafGzP9W+3yg2lnS7vT7VelS9aqX7eWtEuqJ5+s/EmWbtjle4/Dv+1Fe+SbH4u19yW8T1H8YHxD5GysIIohZtiDQ2Jo4dJV8u/3vqywJB9VQB3bJkrb006RE+vW1oJRs/Ubt8uBg4e1Ev+PllfcE4+f99CIa6PeKhPsjCxbYNwBQSh2QMLZ1Ml3XFTlVjOcnceOS0gWagHawHO0gaHGKiLMPsKZ25HXtNXmRBhhzsmEqR9VWi2EFpfkVs3kxBNqa61jZj8U7pIDvx2WjT/8LKs3FlX485o1PEFu63+x9LrsXKlTp5Z+a+SpM9j4O716/2V+f3NVrccqB0ICHjNU8BoLvc5pIgvX7tIuJzaoJUX7vDPsTji+phw8cqzcezYSQ9nzv5J/f7hCvyUw1eLc7OSG0vTkBtLkJP8Ez28Hf9fapnf8sjekFk8co8MHpkS9+jVYG7SxkiTQaw+5m3qPw2uqaitkFVH8YnxD5GxMEMUQX0ADw3yhR1+aEzQxpFpYqjqbAUFy7urNFbbVYPF995DUqJTzVxTIqsSRqnKIxAwbig41kwEzTv5yfUf91vAhoMX2+Wo2Cn7eTb3O9N2GRCIGmRuDNASxL76xIGiCVLVbdu3YukrJUfz8gu8LK2wBRaJo/F39pGN77y5RkRYskOUsL1IwK2fHrwflgvZNpeiX32TW0h+1BEfTesfLzv1HpF6tmrL/92P6V3sZ37M/XJQb9CQGnu/9Lj9LmyPUqX2rKiVH8V64fNVGmfPZ+qDvh/cNulSu63VBVJKvwdqgeSKDAFWZeO8xrlc4iyg+Mb4hcjYmiGKIL6D+UDX0r7cXBgwwVRXCZV3bW5q0QbJozuJvgv7OccNTIz5LRc1BMQeyarEVKHFEzmOchzN5aGet8qc61m7eJU/OXuurJkJpP5KJikoQoZ1sYuaCgAEmkq39epxnacUckkVLczcEDZzxO/98U6+IBrTqbLY5kOUsLzJSwauC6iHsWLa26IB+i2eRVENErZJwnL0x9krtOf7Eyx8ErPJBsnXEwMurnBQKBsfxgs/XBEzy4neOv+f6iFYTIQmkZjSZE6uc5UVgTBSqEyGsIopPjG+InI0ziGKIPbplMCx3VMY7krPyB/0WLyRp7vvj5TJm+LVydvKpcoLFQSXmOFx83pmS1qOT/PrLr/Ld9l/1z4gcOHxUmyVR48ghOf+cyPx/QiD77lfbtcXTn6/roN/qrXJ4cd4mLSBBC8xJ3AXG8erUPk5OO7mO5Kz5WfK++0V6dGqu3VZVp5xUV669sKUkHD0iX3+/Rwp+Kgtq4aIzG8unX+TJhOk52nPZCEmajL/eIN0vPsfyWSY4RpNbJ0n/Hp2lZeO6Wmun8fdjRtHGTdukw5ktpH696m/Fb4Yg5bE3V5ab58VZXmSGGV2dT28gJ9etKWu2Fcvmnb/5Kodq1Kghx0r8z59d2LqRNDj+d7l30ixZv82/+hRJmodvS5U7b75Km2Vn9dwt/MwrLzxLup/fWnbs+MVvxhFmiGGWXpvmDeSMU5vpt1rr7U/ytdcZ8zwvzvIiBf/vzz/zZMn5tkib/XbyCQlywdnNy80iwmvxpu17tPcwVPEdOPg7ZxS5DOMbImdjgiiG+ALqhSqee5+cJVt+9h/qiSD2yQcGaomhSA+5RVCrFt8bNm7zG9q7oqBINuRvlSu6trP0fhgD2fG3dPYFsqgMwdBU+Pvgc6U1W2BcA4vgfXsOaIvnX37ZH3SIdKiwIO/UtqlWPZS/9Vf59beyRMyPW3+Q+cv8K+MQxD4zOk2uTTnf8mSrGY4VlSg6tH+/34B5BLefLt8gF5xzquUJKhXI4gz2VRd629lwrE16+1vZvOugFuD+sVc77XYiBKk4htIuO03OaVFP6h1XQ9ZsLy6XHIKE0mMyddaCcgnXh4d2l5G3pEqrlqfot0QOjpfUbh21ZNCa77b73RcMso7ECQ1UgUx+P187YXFfWgdfYhsnOF755Hvt9odu6sQTGaQ9N847o5G2UcLyjbu1BGznNidr13/8qViuueg0bfOAl+Zv0t63nshaJ/v2HZIe55efdUfOxfiGyNmYIIohvoB6y+ZHTJjtt8hF1dAzfx0g1111QdR3P8Liu/dlHeT40iNaYkhBQIuqByuTRIECWbTA/E1PGqHl7AK2wLhOR89ieWHedtnw0wE59aRacron0KsuJBe7n5ck9T1xG3ZLg6LCH6TkqHfALtzW93x5cEQ/OaVJdBOOOF5QpXfRWS1l+arNvmMdH7OXrJKOZzS1bPdAYyA75sZzfYHsqx+s1VqJUOXw5/4dWOVA5eA5gQTuBWc18yWLELgW7T2sf4XI7uLf5NC+skQnEq7/enSwdOnYJurvVagU6n3Z2bJla5FfNRHet6xOEj09e5X2d7itV2vp0MbbGosq18ffXaddzrj1fDnVgtcxcge8H6FaSFXLXnNBS9m79zdfFdGxY6Xa+1RKh1O03c+Sm59Y7ZMlZC+Mb4icjQmiGIr3F1AM4LxrcrZ+zQs7vTx+7/XStlXsFgtY6GNxjcAVLWaKlUmiQIEsqhz+9nqeFHoW4qhy+EO3NvpXk5sgEFVnWNf/sFcuad9E2yq4uvBzz2heT3K//kZ2HawhRw7u8yWInn3gOunXM/oJV6NmTRrJFV3ayvbtP/sFtDjGkDzC56srUCCLFpjs3CLtWMuoxg5yFD9UsghVDX26JsmRA/skv2i/5zM15NDen7WvwUYGT9w/UE5qFLvWGFQBopoICSHjCQ0rk0TGNuiRaedqt+FExuP/Wa2dyMAsr+rOUyP3wfFTcviwdhJs20/7ZOCVZ8iCb3/Sqoi6tmuibYmvWjtbeZ5bVU0QYTzBz7/skS/y8gUbJQT6V7Om57g9fCQiLc0UGBNERM7GBFEMxfMLqDZz6Kksv8ohLTl03w0xXXAboaoBLWdLV3znu58IbHfu2KW1o1WHOZBFcgjDHdcVHZAr2zWWO6/3LsTJnXCG9YQaJfLFd7u1xbNV5fUT//W+fLryezlcvEtKS45JM8/veeWRP0rH9vbYchoLdCRYkWg1JolQWYTkUXUW8IECWc7youpauX6zTHptnpYYOvb7QS3pimq8+27tE9OEq1GgExpIEtU/XqRDctVnbQVqg+YsLwoVWjc3bN6lDa0+fPB3LRGEKqKOpzaQ3M2/SqMTjpMfdh8KK0GEkQSffL5K/rsgVx588UNt9hYqUT9buSXoP3weX5f53y+kaPsOKS4+oCWNrG5vpjJMEBE5G+vsKeqwW9mdj8/02+FIJYeisVVvOLC70z8fGay1vSnYReadD5fq18KHQBYLJgSyahvy2Yu/8+0Cc88NTA7Fg2svbaU9B/D/HdtHV1fmrEV+OxydUr+W9ty1cocyK+AYx7GOY17BawFeE/DaUBUIZF+d733s9w84R/uIWV5qO/sHB54jiU04BJXCgxMZ9z39vn5N5MjBYi05NHxQT/0W+7ioc7JWKWj07KwvtDbuqsL7EhJBaIPGrmU4zp6atcp324CUtvpXEvnDexoGUP/1xnO1BD1afBud6F3ffZxXqH387fAx7eO5rSvefQ+7BmLN1X/ki3LLo29qz+tAu/mFAt/3xPQl2s/Bz8PPxc8nIqIyTBBR1GX8+0NHJIcUbB08/q5++jUvLFDQIheuQIEsFlFqO/u/DjqXLTBxAv+fx93USbv8wscbtbbDqsJz8d8frtCveeE5G8ltr6sjWJIIrw1VYQ5k0QLz5GzvgG7M8mILDIULycpHn/+vfs3LrskhBUmiCX+5Wr/mNTFzgZboChdej9T70k29ztRue23uet+JjFv7VK+Kltxt6dqfJXPJFvm/1/JkZN9k7bb3V/wk5ySeKFt3H9Ku47lUEVQLjX8xW64d+bK25jKuG62An4efi5+P34PfR0REIjVKPfTLFGV9/rZQ5v69l34tPixZtloeenmefs07kPo/GSNsmxwysuK+IxmERRMC2b9c31FrgVFVDv8eeTGrHOIQzrQiQYRqoslVmJGDQPaPo6f6LZ5RSYBg0e5w5vbWR173u+8IcLtf0lG/Vjkkg2574UstkH3hTs/fr/ZxMuaVr2STvmPZkKsZyFL4nn3tI3lnSdkugHY/kWGEakJjwhj3fcqDg/VroZk8c4VW9THymrZapStmeamE0av3X8YTGRQUqjfrnXC85/jZpD2HoNuZJ8nn3/0qDerUlH2Hjknd4xPktyMl2ufUc0zB+8KLbyyosEoIA+Iv7dRKWp96ipyW1ERrFzupYfn1E37W7j3F8kPhLtn848/yxcotsu7H4AlTzBa7e0hqwJ9FoYvH+IbITVhBRFGDN+rnZn6qX/N6alSaIxbcgKAVW+8rCGr/9fZC/VrlEMgiOQQ4I6vtWKYnhzDok8mh+ISFMc7II6Hx0Rfht5rhOWhMsOA56oTkEGARjtcAI7xGhFPy/8YCbwvNzVeeriWHMMsLf0vM8mJyiKoClQTG5BBOBjz8lz845r3q5j9c7ledt3TddvlwUa5+rXI4cYHAXrVB47pKDmGWF5NDFAyeK2Omfyt3/utr7XrahUly0gnHa8mh2scllEsOQd06Zc8nPE9R0RMoOYSk0MNDu0tWxnDJfGK4Vs2HdRnaqIMldHA7Po+vw9fj+/D9+Dn4eWb4vfj94RwvRERuwwQRRU32/K/8Atn7Bl1qu/kolfnzTb38FhUIIkItS1aBLM6WHTx8VMZk5vmud+V29nENrYUIvpBAxNnXUJkDWTw38Rx1ErwG4LVAwWsEXitCYQxkU85vyVleZIkJUz/SL3mhXdNJFQVIZD1wq3+r2b/f+zKkGV9og37uA++w6zv6tOMsLwoL1jIYXo73M7w2Zy0vlFLPfy0a1ZbDR71JIWNyCE5tWk87KTDqyZnafCAzVPVMfWiQltzp27NrtVun8f34Ofh5+Ln4+Wa4H7g/4ZysICJyCyaIKCoQyBpL3hHIXtfrAv2ac2Dhfd8Q/wB85pxl+qXgjIHsxR2ayz/fX6fNTEELjLG0muJTo/p15Pbe3kUqZucgSAuF+bmH56ZTqhyM8FpgTLzitaKyhbk5kEX1FWd5UXVhqLOxBQXBY8f2p+vXnANBMKokFCRe3/rgM/1acDiO8N6ECrzGDepwlheFDcPL3xh7pUwe2llrp99z8Khs33NY+1yNGtoHPz8U/aK1GqPSzQjvCW+Ov0UevXtAxI5B/Fz8fPwe43sQ4P7gfnE2ERHFGyaIKCpyvlqnX/IaMfByRwaygAWF8YwTSpIrWkCYA9mpH6zzVTmwBYaUKzq31IIyBGcYBhsIZlipCiM854xl+E4NZAGvBXhNMKqsisgYyKIiT7VvogUGCTeiqpg62z+JgnkkTtXrsnP9duCsLPFqbINO791OJr690nciA69PROFAQhGzFrMeTtESjDhBFmjq6aOvfuJXXQ5IbqLCJ1pV5vg9+H3GpCrgfmHHs+rsBkhE5DRMEFHEYUFqrh66yCEzUoIZ3O8S/ZLXnMXf6JfKMwayKwp2+iqJHh5yvv4VRF5oi0IFzIff7pD/fbtNv9VrT/EhLXib++UP2nVz9ZD5Oek0eE0ItYrIGMhed1krzvIiS5irh7BrmZOH1SLxOm64f4Jrae4G/VJ5qg36z1e1lpfeW8tZXmQJVHMiwfj8yMu0zTiQcKxfu6b+WZGSo2Wtj3gPwIwgtIDFAn4vfr+5mui+p99nkoiI4gYTRBRxCz5bqV/yMlcKOBHONhmriDAHJlAwawxkO55xkq8FBtubswWGzPCcwJwPeHX+Ji0ppKiqmOKDR7Xnmrl6yGnzvAIxvzYEC2ZVIDvk8tPk8f+s1i6P5CwvqqYFn3sTjcqA3hfpl5wLiVdjFdF/F/u/HyvGNuhdew9ylhdFBBL4SDjef20L+W33dik5dkSOHfG2n2Gw+kuPDqn2jKHqwu/H/TAOegcmiYgoXjBBRBG3YFlZkOeG6iGlf68u+iWvb9d9r18qowJZ9OG/OM8b0P/jlk6scqCgUJaPM6yoOps6x781ExC4mZ9r5ueiU+G1wXjmNlAwqwLZM06uI6u2/OprgeEsL6oOc9IVuwE6uXrI6Kbe5+mXRKuQWr1hq37Ny9gG3emMRvLu8iLO8qKIKdyxW0u2HNr7s+z5wZuURbXelAcH22b0AO4H7g/ulxHuN+4/EZGbMUFEEYU3UmPJfuol7fVLzod5L8Yzs3M/9VYyKJgVg0D21Ea1ZWnBL9ptaIE5o0Uj7TJRMAN7nKmdycfzZ96XZVvfI2gD43MNz0Gnzh4KxPgagdcO42IcgeyMhd4gvv4Jx8vKH4s5y4ssYU66XnJeW/2S86Ve3km/5LV81Ub9klfOim1aovWcpHqS/bV3nh5neVEkYCe9Ox+fqV/zQhIGW9DbEe6XOUmE+x/KjoBERE7FBBFF1Io1m/VLXpdf4K5Art/lZY8HO16oNjMEsq/M9Z6R/fW3o9o/VDmwBYZCgbP29w/wtpq98PFGrVUROp5aX/to3O3F+Bx0A/NrhPE1BIEs5qJgy+RV24o5y4sss3LDj/olL7dUugIqoYztMl+sLEs6o40VrzGwttD7OsNZXhQpGf/+0G8gNZ6XN//B3mMHcP+Mxw/uPx4HEZFbMUFEEfXNeu9AXUDrSKx7y6124bn+Z5m3FXkrhVQg26BOTdn/+zGtxYxVDlQRJIGQWFRQaTa8u7dt6p/vr/P73PEneBNFYH4OOh1eI4yVeeo1xBjIYstkzvIiK+WsKEtEor3MbVIuKEt4oTJPncxQbax1jvMuBznLiyJlybLVfm2ceJ1//L4bbL+jLe4f7qfxfQmPA4+HiMiNmCCiiDIuBi7t5L4ZIWe28h8MvG7jNr9Adt+hY1oLzK19mByi4D78fLPc9sKXkvZEjrw2d61vOPWAlLba8wdzh7AbHtqqzMzPQTdIOb+1fqnsNcQ8j4mzvKgiSKhOnrlC+2cc9h4I2hiNVQ2d2p+qX3KPs9r6D9wt+L7Q1wZ9XEINOXS0hLO8KGKQkHxu5qf6Na+nRqXZPjmk4H7i/hrh8bDVjIjciAkiihh1hlJpfeop+iX3wKLBWHpcsGWHXyCLKge0wLDKgSpyzhlllXUYEHvzlM/ljXnr5fvte+TO687WbsdueMUHj2iXFTz3nLLADkfb0/xfK75cvU0LZGvU8F7nLC+qDF5zt/1yUHve4HjKztnoV4Vn9Muvxfolr9OSmuiX3KNFs5P1S16FP+/1tUEfLSnlLC+KqOz5X/klYe8bdKnjdt7E/cX9VvB43vrgM/0aEZF7MEFEEbN7j/sX3dCyWVmgmv/TYS0ggZPqHqcN+mRyiCqDZMe/R14sl7Qpey79Z9l2uXtqrrYTHloUQT23VIuZ8bnnJsZqhxoJNeXfC7ztP6WlwlleFLLJd1yktUwBEqy3P7NU2wXPbOv2nfolL3MyxQ2QSDbuEPjJtz9rbdDAWV4USThZ+O8PV+jXvOMGrut1gX7NWXC/jccRHpf5ZCgRkdMxQUQR80PhLv2SV+NGZXNT3ERVOyCQ3S0naZfhvj+0ZwsMhQzPlUfSu3qrY04um3WApNCH3+7Qr/kzV9q4hfG1ou5JiVK0z1vGz1leFA4k59Ey9daobnJlu8baTl1/+88aeTRzuVadpxw4eFi/5OXGqjxoleh9f6p5fG3ZeqC2drlhneM4y4siCtVDRiMGXu7YYwz3G/ffyPz4iIicjgkiipgDv/kvurGTipudeHJLqVHTu8gee317VjlQleB5M+XPZZUPkKB6q+KEeq1AIFu7QVPt8tmJJ3KWF1UJtmsfM/h8eXFEV61aBjO9tOq8eeu1+URoDVauvbCNfsl96p/o3ba+XrOyx/hEemeeyKCIwYwec/XQRQ7fIRD331xFxFlEROQmNUo99MsUZX3+tlDm/r2Xfs19PlyUK09MX6JfE1k2Y7R+yV2++rZARr30iTRIaqdd79qqgfwp1T1bJFPs/LLvkMxYuMnXCnLC8Qly8EiJHDm4T4p/2iRTHxokHdufrn3ObS5Jz5BGp3WQhJrHS80EkclDz5Pax9fUP0tUdbM/3exr18ScuPo19ss3a7yz45AgevTuAdplt8F78lP/XSN1T26pXb+teyu5uENzJogoYrDT10Mvz9OviTz7wHWOTxAB1n33Pf2+fk1kwl+ulu6XdNSvkdvjGyK3Y4IohvACGi92f/+NaxNEm7YWybAn50i9U8p2XiKKpKOHD8i+wgJ5c/wtjhv0GSokiE46raOvKo8oko79fkj2bl/v+gTR0++vkxNOStJvKQ8Js46nlrV4YufEMxINLZ91jpNTm5YllOrUPo4JJgpq1JMzZem67dplbBP/n4wRrmjhRMXQH0dP9Q3exoYRUx4crF0mJoiInI4JIoqYeKkgWr1hq4yYMEvqNDxFEo6rLbdfc640alBX/yxR1f126Kj896vt2uwUaFinphQV/iiH9npbYtxeQYQWsxNOSpSeHRKlc3tv1QNRda3avNtXQQRNah+VTZsK5NiRw65PEOE9+cSmp0mNGgly1fllrWbY8U1VKlYHE0ykYHjztSNf1q+J3Nb3fBk+qKd+zfkyZy3ya5/76IW/uH6UQqiYICJyNiaIKGLiJUEUL4+Tomvt5l3aNtQqaMPuXQN7nCndb3tGuw4PD+0ufXt21a+5CxJEipsfJ0UP5g29vfA739B3bO0+7OpkefO/i+Wj5Zu029ycIDIGtKjmeO+Fu7XLgeBv9eu+Q/o1b7vrrr1l13fuOShFu8sSSkwwkZm5DcttJzTUyUHFLe1zVmCCiMjZmCCiiDEnTpZMvdeVu8MwQURWKtq1X9vaXlU4YPelIanJviAoHhIn5jPPTBBRdRz6/ajkrNgmL3y8UbuOJMTtvdvIFZ29VWnhJE6cbPyL2VFLhDHB5E7q/enc1o21HQIrYq6wcdvaCG1m3Uc8p19zX4VUdTBBRORsTBBRxGA2zy2PvqlfE9fOS3n2tY/knSVrtctuDi4oshDEfvTFFslcskW7jt2W0nu1KbcbXv+RL/rmHrh1QRovrx0Uebnrf/Ib9D68eyu59tJWftu6x0uS3zgPxu6VUkww2RMSRLe98KV2GRV4d153dtDH76TnW1UZHyPnEJVhgojI2Zggoogp3LFb0kZn6tfcu8tDPCyCKLKw6B6TmeebNTTymraScn5LvyBWMVYBuHVBat75JitjuCQ1K9tWmCgUk2euCFqJZ2RuhXFrQjKe2jaZYIocvF/98/11suKHfdp1vF8FqiYyPt/uG3Sp3Nj3Mv2ae7zz4VJ5dtYX+jVWkCtMEBE5GxNEFFHGBYJbqx3iYRFEkfW/b7fJpP9ukL6dm8lNvc6URvXr6J8pLx4WpG5vTaDIQ0Xe7c8slZPqHid39Gkn57Ruon+mPHPFmhtPZpgfI+elVIwJpsrN+3KLr23TXE1kbhN26wlCc/UhB1V7MUFE5GxMEFFEGatrzj61sWQ+MVy77BZcdFO0xUO1w/CHM2Xdj97KD1blUTS4/WQGq/KiK14STMGqieKlTZjt0IExQUTkbEwQUUSZqx3cdnbF7Y+P7Md8ZtZtVWtuf3xkT8bWTTfOknP743MbpyWYzNVEfbo2lfufele7DkwQxRcmiIicjQkiiijzNqBuKzM2Vjq4sUKK7MnNzztzpQMX3BQN5uedm7bk5m5L8SdWCSajQ3t3yG+7C7XLTBDFFyaIiJyNCSKKOOOuS24KZs0LA1Y6ULSYK9fctCg1Jr9Y6UDRYq5cc1MSxZz8Yis0VcaKBFPJ0SNyYNdWOXKw2PUJosZnnKffQgoTRETOxQQRRZx54KxbFgrmx8WZDhQt5h0C3RLMmpOurHSgaDLOzIMlU++VOnVq6decy5x0/U/GCFc8LrKH77fvkdmfbvbtGNimyQnS69yTZWLmHO06sIKIiMg5EvSPRBFzzZX+Z1ZmzlmmX3IunG02Joew3TiTQxQteK7hOafguYjnpNOZXxvMrx1EkTTwav9t3xcuXaVfci4MtVfJIeh3+VlMDpElkBiaPHOF3D01V0sOYX7R2Ovby/MjL5NzWjXUv4qIiJyGCSKKOASz2IlIwaBMnHVxsuz5X+mXvMyBBVGkmZ9z5uek0+A1QQ3RBbxmMOlK0dSpfSutwkb593tfavN7nGzq7M/0S14Del+kXyKqmkCJIexe9ur9l8kVnVvqX+Xvt4POPo6CcevjIqL4xgQRRcXgfpfol7xefnuJfsl5EMgaq4cwV4nzHCja8JzDc0/Bc9LJiVfza4L5NYMo0lBZc1v/i/Vros3Oe+sD/wSLk2D2kLF6CC2b3GWTquPl/64OmBjC1vZ1ah2nf5VIi2Yn65e8tm7fqV9yF/PjYnsZEbkBE0QUFXjTNFYRYc4DFq9OZA5kRwy8XL9EFF3m555TE694LTDOfsFrBRfaFAu9LjvXv4rIoYlXVD49N/NT/ZoXq4eoutZv21dhYkhBstV4HG384Wf9krsYH5fx8RIRORkTRBQ1wwem6Je8sHjFsF0n+XBRbrlAltVDFCt47pkTr3iOOgleA8yBrPm1gihaENiOG56qX/OaMPUjx7WaZfz7Q9/uoYBdNlk9RNWF+UJvjL0yaGLIqEu7JP2SyOqNzh4rEIzxcRkfLxGRkzFBRFGDeSJYpCpYvD792jzHLLxXb9gqT0z3r9BgIEuxZn4O4jnqlIoHHPt4DTAHspw9RLFkTryiTetfby/Ur9kfksTGeV5oRb2u1wX6NaLoSG7VTL/kPYbcsJGCER6PsYXzvLNO0y8RETkbE0QUVVikGndfQsWDExbeqHJ49KWyLVvh4aHdGchSzOE5iOei0V+nZDmiOg/HvrEiD68NDGTJDu4ekurXMvLOkrWOqM7DrmXmExkPjbiWO5dR1J3d1n9g9bfrvtcvuYP58ZzVtmxtS0TkZEwQUVRhkfrArVeXW3hnzlqkX7MfBNp3Pj7Tr8oBZ5f79uTOZWQPeC4aKx7wXMVz1s5JIhzzOPYVvCbgtYGBLNkB2rHG39VPv+aFxAsSMHaF431i5gL9mheSx5znRbHQsf3pfmu9uZ86c+5kMMbHg8fJ44yI3IIJIoo6VDyYZzxgEKgdk0SBkkOochh9W1/9GpE94DlprM6zc5IIx7pxJ0DAawIr8shOEOAa26Lhvqfft2WSCG2l5veqG7ufwxMZFFP9Lj9Lv+StGHdLmxkeh7H61fg4iYicruZjHvploqhp2fxk6XhGU5m3LF+/RWRFQZHs37NXOp91uhx3XE391tgJlBzCWaLH771eTmrEYZ9kLzhmOpzZQj5dvkEOHD6q3YaPuH5Fl7ZSv17sd1jBzKEX35gvbyxYpd/i9ewD13HYO9lSh+TTpMaRQ9r7k4L3rfrHez9nB0hYjZgw23fcA5LFY27va4v3Uopfx9esKXM+K6sUPaFmiZx/Tmv9mnPN/OAzv9eEB4b0lMaN6uvXiIicjQkiiplASaK1W3bKxk3btEA3lgEttt2+w7TgRnLon48MZpUD2RaOGSSDzEmiWZ98I22aN5AzTi0bGhptSLg+8a8P5OOvy4bnApNDZHcIaM1Joi/X/ihF23fIRee2iVkSBgnX6dk5MmF6jn6LF5JDj993A9s1KeaaNWkky3I3yM593hNtOIbSenSSExz83ET10F+fK5tJiSHwfxpwhX6NiMj5mCCimAqUJPpxZ7EW0DZvUFuSW0d321C88U/594fyr/e/1m/xwgLgqdGDmBwi21NJojUbtvoW5bAod6MW0J7b7tSoL84x3PfujGzt2DZicoicIlCS6Lvtv8q8/62Sc1o30wLhaEJL2eR/fyTvL/Vvd2NyiOym+cn1/NZ4Tq8iMlcPPXxbqraWJSJyixqlHvplopjBFvLYJczYzgVIzGAHlkgP/8OZ2IVLV8m/3/uy3H3ggpucCM/pR559129OAqAS7rb+F0uvy86N+HMaQeyEqR/5bQUMuA8YAIwZL0ROgurSh16ep18rgyHxwwemRPwkAk5iZM//qtwML7it7/kyfFBP/RqRPeC96K7xb/i9D2RlDHfkCTdUwqaNztSvedeomU8M168REbkDE0RkG3jjffq1eeUCWsDiu3+vLpYHlBUlhgADSm/se5l+jch53vlwqTw76wv9WplIJoowE2XB52vko+X+7WSAhCt2K2M1HjkVEp9/nZIV8D0DSZqUi862/KRGRYkhHMsY8s5qPLIrvCdgwLuC94EpDw7WrznHqCdn+q1RWQVLRG7EBBHZDtpRsJ1wIDhbk3pJe7n8grOqHGAiKbRywxZZ9s1GMW6zbRStyiWiaAhWyaNgt6NLzmsrndq3qnKyCAnez75eLwuWbQj6e7DlNndVIjfA+8i/3l5Y4XvILX0vlM5nn6FtmV8VSAoVfF8YNNkKOHly95DUKv8OomgxJ1ec9n5gPtmCY+/Ruwfo14iI3IMJIrIlLIxffGNB0EUx4Kxpyvmtpe1pp8jpLZpK3RNqabtIGBfKCFoPHjosu34tli3bdsrXa7YGrFBSVFUFg1hym8qq5RSc2b2gw+nSqmVTaXJSfTmhTm2/ZCyOzd17iuW3g7/L1u07ZeMPP0vOis0V/kwGseRWSL6+/PaSCt9XkCzq2DZRe686q20L7bYWzU72S8bi58APhbtk848/y/rNOyr9mSMGXs7qBXIMc3sWTH1okCNajc0VUODUNjkiosowQUS2hkXznMXfBD1La5VIttsQ2UmoiSIroDKpX4/zWIlHrocAcva83AqTOlZgYoiczFwhjrWX3XeHRWLrzsdn+r1fTvjL1dL9ko76NSIid2GCiBwBVQsLPltZYftKVVjRWkPkRKG0Who1PuM82f39N/q14BDAog009fJOrBiiuINg8uNPv5E5n60PKQEb6nGF96qel5zDwe7keM++9pHfe46dk0SBkkM4Fu+79Vr9GhGR+zBBRI6DN+z8zds9we2Plba2mKF95qzWzaRD8qlMChHpVLJoTcGPQVtbggWyqtWzU/tTpV3rFiy5J9KhAnb9xu3yzfofgrZLBzuu0JaZ3KqZnN22JZNC5Cp4vzHvsGnHJFGg5BB3tSWieMAEETkeFhvbd/yiXcb8hgO/HdYug5pNZJ6jQkQVw+IY87vUrKGX/7dH/nJFIzmxbm05LamJ9jXmOSpEFJya3wVIHIE6roLN0SNyo2BJIrvsxhdo5hCTQ0QUL5ggIiKiSvX520KZ+/de+jUisgKPK4pXgZJEcN+gS+W6XhfEJBGD+/T+wq/9disDJoeIKJ4k6B+JiIiIiIgiDskWJF2QfDFCcuau8W/4dvaLFvw+/F4mh4go3jFBREREREREUaWSRLf1PV+/xQubkdzy6JvaQGu0ZkYSfv74F7O132feBAX3i8khIoo3bDEjIqJKsRWGyHo8roi8lixbLc/N/DTgxiOR2MVv9Yat8t7CvIAD5O00D4mIKNqYICIiokoxkCWyHo8rojKo5nnxjQVBd/07+9TGknpJe213vzNbJYZV2YP5Qt9tKZJ1G7fJgmUbylULKdhB8O4hqRwWT0RxiwkiIiKqFANZIuvxuCIqD/OAJkz9KGgSR8F8oJbNGknb007Rrjc9uYE0Oam+7Pq1WHb+sk+7beMPP8u2HXvKDcM2Q/LpoRHXSpvTE/VbiIjiExNERERUKQayRNbjcUUUHLabX/D5mqAVRVZAxVD/Xl0sbV8jInIyJoiIiKhSDGSJrMfjiqhyaD1b8NlK+XrN1korgUKByqMLOpwuqZd3YisZEZEJE0RERFQpBrJE1uNxRRQeJIsKvi+ULdt2SsGWHZKXXxhwsLWCgdNd2iVJcqtm0qplU0k+I4lJISKiCjBBRERElWIgS2Q9HldE1kHyaPeeYmncqD6TQEREVZSgfyQiIiIiInIkJIUwZJrJISKiqmOCiIiIiIiIiIgozjFBREREREREREQU55ggIiIiIiIiIiKKc0wQERERERERERHFOSaIiIiIiIiIiIjiHBNERERERERERERxjgkiIiIiIiIiIqI4xwQREREREREREVGcY4KIiIiIiIiIiCjOMUFERERERERERBTnmCAiIiIiIiIiIopzTBAREREREREREcU5JoiIiIiIiIiIiOIcE0RERERERERERHGOCSIiIiIiIiIiojjHBBERERERERERUZxjgoiIiIiIiIiIKM4xQUREREREREREFOeYICIiIiIiIiIiinNMEBERERERERERxTkmiIiIiIiIiIiI4hwTREREREREREREcY4JIiIiIiIiIiKiOMcEERERERERERFRnGOCiIiIiIiIiIgozjFBREREREREREQU55ggIiIiIiIiIiKKc0wQERERERERERHFOSaIiIiIiIiIiIjiHBNERERERERERERxjgkiIiIiIiIiIqI4xwQREREREREREVGcY4KIiIiIiIiIiCjOMUFERERERERERBTnmCAiIiIiIiIiIopzTBAREREREREREcU5JoiIiIiIiIiIiOIcE0RERERERERERHGOCSIiIiIiIiIiojjHBBERERERERERUZxjgoiIiIiIiIiIKM4xQUREREREREREFOeYICIiIiIiIiIiinNMEBERERERERERxTkmiIiIiIiIiIiI4hwTREREREREREREcY4JIiIiIiIiIiKiOMcEERERERERERFRnGOCiIiIiIiIiIgozjFBREREREREREQU55ggIiIiIiIiIiKKc0wQERERERERERHFOSaIiIiIiIiIiIjiHBNERERERERERERxjgkiIiIiIiIiIqI4xwQREREREREREVGcY4KIiIiIiIiIiCjOMUFERERERERERBTnmCAiIiIiIiIiIopzTBAREREREREREcU5JojIIoekYNogqVGjhvdf72lSUKJ/ioiIiIicbX+BLM5+V6aN7V223tP/JQ2dIu9mfyR5Rb/rX0xERE7EBBFZ5KgU796pX/bYtFuKXZQgKimYJr19C6FBMq3gkP4ZIiIiIjfbJwXZD0n3+u2kZ9pAGT55gX57maIZo2VgWh/pmtRPxmZvkP367VZyxFqsZINM652k38ck6T1tg/B8KRE5CRNERCEoKd4tm/TLIjtld/FR/TIRERGRW+2RvCmDpV3aRMnRb6nYApmc1kP6TVlueZLIEWuxkgOye1ORfqVINu0+wAQRETkKE0RERERERGTyu2zPfkT6jZ6rX4dUGZO5SPKLj0lpaan271hhrmRlpEui/hVIjOSM/of8K2+Pfp2IiJyihueFvVS/TFQN+yVvSj/pOlo/v9QmQ3I3jJIux3mviuySxWOvlp6T80QSx8miDY9Lj4SNsnjeBzL9ntEyQzvZ0kHSM/4u99zcV7ok1tK+y2ffYhnbvqdM9nxd4phFsmFSD6lXlCfvvfW83D16hmcp4pGYLhkv3iM39+8iiX6pT8xHSpd2w2d7r6ZmSv7HwyTZ+DWGny/SRcYsmieTejTRypmvaTdcyhdTK2VfS+Rmff62UL9ERFaa+/de+iUim9m/XKb06y+jc1RFTB/JyH1TRnVppF832icbpt0vPYZP867JPNR6rYF2LVprsQDrzXo7JO+9t+T5uytfb/r/roGSmT9DhiXX0a55GX6+h+8xorXsmh4yfIF69OX5/z2IiGwKCSKi6isuzc1IQbLR+69NRmnuEf1Tmh9Ks9Lb6J8fVpq56D+lY1ISy77e+C/lsdJFhYf179MVZpWmq8+nv1Wau+ix0hTj9xj+Jaa/Xrq++Jj+jVDZffMw/nxpU5qe9YN285HcjNI2vtsD/Sv7WiIiIiJ3OFa6d9G40kTfeiexNCXjK8+KqgLFX5VmGNd2ieNKF+1V67ForcWM6807Smfnzi0dF2y9mehZj67fq3+fl//vSinNyDU/YuPP9/xLzyotxM1Hcksz2qjvC/JPfS0RkY2xxYxiYJoM7/lHmew7I2WS84qMf+vb4L3rM26Wrj0fC9oLXzRjnNw7q8CSnu+E+o3Fs1CoQCNp3ugE/TIRERGRG/wm361Y5qsGEmknfbqfLfX0awHVO1u692mnX/EoWiYrvvtNv1J1VV+LvSIDu/aRicHWm0We9ei971qz627CidK4TVmTXSCJzRvJifplIiK7YoKIYidlnGTl75XS0mNSvP51Sfe9rxZJzr/+J/kVzh5MlJQxWXoP/GEpXPSYpOifwfcveGSG5Oyr/jt+QvIwmV9aKkdyMwyLkxTJyC3We+9z2V5GRERELvOrbF39o34Z2knrJGOrVSB1JKm1IUEkxbJzb/V3Gqv2Wsy33sS8pAUyLsWQyFnwT8nM2aVfqYaE9jJsfqGUHsmVDEM2q01GrhzR7mOpFLK9jIgcgAkiio2Ux2TRzMdkQDLeKhOkXvsb5eHHB3o/B5s2ytadwTJEiZ73+ukyc+IASa6Hp3AtSexxr0zJ6OP9NFh01oqIiIgo7rVpK6c39Q2WDNEe+WnPQf1yjPitNz0rzsSe8tCU0YaTinmStWKrcG9aIiIvJogoJtr06StX+A0GrCXNW7U17IBRkXbSJ+0S0yDqRtKpe4rhzNKPsnrrr/plIiIiIoo35debCVKv0xXSx1Dls2n1VtmpXyYiindMEJFNJEjdho2lrn6tKirvUSciIiKisFVY2a0cleI9u/XLcKp0PP0k/bKNhDAviIgoXjFBREREREREBidIo+bG7ex3y57iyhJE+2Vb/mb9MjSVxvXDbUsjIqJYYoKIXKJE9m/bKKv1a9xdjIiIiKiqGslZF3XVL8Pn8s7nWyreIXbfKpn/Rp5+xSP1aunWtrLB1jGwv1DyV5ftbMbdxYiIyjBBRA6UL3OzlkmR3yplt+TOX2DYjrW1tGupNmM9Tuo3bqpf9vhtt+z9zfjNv0vR+tXyg36NiIiIKL4dJ806XCip+jXvDrEvynvbf9evm+2RvKlPy2TfQixRUm+8VNr6Io3YrMU2zf1Q/ldkvM8lsi93obxhuJ8d2yX5tu/3H1dQfhe2kqINkvsDN0EhIvdigogcqEhyJg6VweOypWA/Fhf7pCD7aRk/OdhZK9MA7KLXZfyTi7wJppIiyZv+qAzu+ZjkeD8bkP+CIV/mLlkn+3Fx/1Yp8Ft4EBERETlfQvIfZOyYLvo1j6KXJO2WR2Xa4gLvGkhTIvsLFsu0sTdK19Fz9ds8UkbLhEHJhkAjRmuxnMek5+DHJLtgn+cK7ut78sT41w0nFLvJjd1a+e5nQvNW0tl3J/Nk8viXZLH2s3+Xorw3ZNzgoTIxp+y7yzHNN9o093+yUl+rbir4ueIKLCIiG2CCiByqSHImp0m7+jWlRo2G0i5tomFR0UGG3dHTcNYqQRp07SVDylYlkjMxVZJq1pAaNZOk658mV7ggAf8Fg+f7R18k9Wt4vr9+T3li2Q79diIiIiK3aCIp902UcSllCQ/P4kuG92znXQNp/2pK/XY9ZfjkBfoXeCQOk8yXh0uXesYwI4ZrsZyJktauoX5f02SyIcGTOOyP0tvYBtfgXOk9xJAUQ4Ipqbbne2tLUtd0v+8NKKGJtOqcpF/xyHlAuupr1bZPfC5cMRKR3TFBRA7UQdLH3CUp+jV/iZIy7ml5vP/p/k/uBt3knhfvKjtz5QffM1uyJgb+iZoG58ugB/roV4iIiIjcLyHxKnl85mx5Or2DfkslUsZJVs4zMqx9A/0GgxisxRLTH5AHjAkuo5TH5M3H+0oLvwVjE0m55yEZFuRb8D3zsh6rYNfcxnLhoJuDrFGJiOyPCSKyiKm3vE1jqe/37DLuhpHo+fSJ5Z58fqXDiY2l0YnBnp5NpOOgCTInf5Fkjinrjk9Mz5DZi3JkzoSrJLHct9aSFgMmSM6iTBnjWyh4FiNjpsp7uXmyaEJf6XCKuv+BBlw3ki4PvCq5WRmSblg0JKbfL3dd0ky/RkREROQuCYmXyf3T86Qwd65kzfZfB3mlypjM2ZK1KF+Kl0yQAckBkkOa6K/F6nYcLJPm5MiizDFlSZvEdMmYvUTy5zwqPRJr6TeWSWjRX57L8V9jeu6kZL6XK4WL/iZXdTjVt14tP+A6Qep1uUtm5mZJhjGp5vmdT991iXDFSER2V6PUQ79MZF9F2TI0KU1maFdSJCN3jozqokYKEhERERH9KNlDu0vajE3atTYZubJhVBfhZvtERKFhBRERERERERERUZxjgoiIiIiIiIiIKM4xQUREREREREREFOeYICJnOLGRNPcNJGwqjeuzm5yIiIiIjCrfFIWIiILjkGoiIiIiIiIiojjHpDoRERERERERUZxjgoiIiIiIiIiIKM4xQUREREREREREFOeYICIiIiIiIiIiinNMEBERERERERERxTkmiIiIiIiIiIiI4hwTREREREREREREcY4JIiIiIiIiIiKiOMcEERERERERERFRnGOCiIiIiIiIiIgozjFBREREREREREQU55ggIosckoJpg6RGjRref72nSUGJ/ikiIiIicpaSDTKtd5K+tkuS3tM2CJd2RETuxgQRWeSoFO/eqV/22LRbirmKICIiInKmkgOye1ORfqXIs7Q7wAQREZHLMUFERERERERERBTnmCAiIiIiIiIiIopzTBBRDJXI/oIcyc5+VcZ2Vz3u+r+koTLl3Y8kr+h3/Ws9X10wTXr7vmaQTCs4pH/GaJcsHttV/5pA/fL7pGBxtkwb21v/Gu/XdR/7qmQvLpD9+leVKZF9ix+SJO3rusrYxbvEc6flkylD9dv6ypS8PfrXEhEREcUzrLPel+xpY6W7b53l/Zc0dIq8+36eFPkWZiHOr9y3WMYmqZ9jXv/pa0nz7+s+VqZl50jB/gA/0PDzksYu9txjz33+5BkZqt3mWRNOWR5gPUhEFB+YIKIY+V22Z98jye26S1raCJmco3rcdUUzZPTAPtK1y19k2oZ92k0JzVtJ50Ttosfn8s7nW8r3wu9bJfPfyNOvmOzfINljB0q7nmkyfPIC/UYokpzJIyStZ4r0e+gTw8IFSuTAnt2er4A98tOWpTLtrjRJHT1Dv22DrN5arF0iIiIiilslWyV7+GWedVZ/SRs+WXL0m5WiGaNlYP+u0uXW6bJBS9zUkuat2opvabdgnny+0Xzyr0T25S6UN0zLRK99UpD9iPTDWtL8+3Imy/C07tKu33hZbDjZqDngWc/pP6/op03y1bT7JSX1AZmh3eZZE67eJlzZEVG8YoKIYuR3+WnzWj3JUoGiafJIxkLZjnVEg3Ol95Au3ts937ngnS9koylDdPS7FZLl+6Hd5MZurfQn+R7J+9coSfNLDJl5FgUTH5BH3ttaPvGk2SQzhveX4TPW6NeJiIiISFOySzZ/WvkaqWjGFMlY8KNnrZUgDbr2kiEVnvz7Tb5bsaxsvZh6tXRrW8dzoUT252XKHWkTyyWi/OQ8Jrc88qF3HRnIjBGSOnxa5etRIqI4wQQRxUhdOfP8SyQxZYxkZs2V3MLDUlpa6v13bJssGpeqf51nIfFxruRrZ5oaS9feqYYzTf+UzJxd+hU4JJtXLpdN+rWyRYRnGVGQLQ+Nnqtd9nxCxrz+lRQe039fcb4syEjXf+4amXb3K5KzL9hKAjzfn7VeirXvXSQPX9JMv52IiIgoTh13upyfdqmkjJkqWe/llq2zPP+OFS6QcSlqBbdGPv5qk7eNy3zy75EZ/muwkm2y8pN8/UqipN54qbRF9FJSILMeytCTQ4me3znDsJbcK/kLnpZ0/dcVTZsgz/utF83w/VmSX3xM+96ND3cTruyIKF4xQUQxkiANekyQwiWTZNiAa6VLYi39do+EFnJF2lXSRr8qRbtlzwEsFsxnmvLkjfmrxNuA5lGyRT5/53P9imERIYdk4+fzRNUOJY4ZKw8PvVAS1bO/XrJcNWJo2c8t2ihbfjKVI/t4FhEZ4+XRAe2lHq7WO12SjfediIiIKC41kR6TlsqSSbfLgOu6lK2zPBISL5G0Pu30a56l1k975IB2yXTyr2iBzM/drV/xLO02fiHvLFD1PWWV4X63J/5JHn34ZsNasoEkXzVEhvoST4Xy7ZZdQarDPVJGy5RH+0tyPfzkBtIm+RQGSEQUt/j6R7FVUiR572fLu76hz95/x3cdXVYJZOR3psmzjnhjoeTqZ5qCLSJEdsqaT1dol6Bock9paPhd2r+GPWWyr754p+wuPqpfNsEiZERXb3KIiIiIiPyUFOXJ+9kzZcrQjoa1Vn3pOjpQM1hFJ//8T/CVVYYflR1rlpfdXjRRejasafhd+NdUek5WMymLZNPuA0ESRF1kzKNDpIuWHCIiIr4aUsyUFH0iD/XsIl37p8lA39DnyjSWCwfdLCn6tbIzTcEWER5Hf5bNSwOmm4L4UVZv/VW/bFK3sTSsy8OGiIiIyN/vUrT479Izqav0T7tZRoc6s7HB+TLogT76FcPJvwoqwws3q7az0GxavVV26pf91ZemDfX1IhERMUFEMVKyVd575AGZaN69rFIJUu+8a2RIqjrVpJ9pCrqIqILEq+W6i9h9TkRERBSqku0fyiO3PFbx0OiAGsl5fxggvumT+sm/4JXh4eogw67rwrlCREQhYIKIYqJk4yJ5ZZo6s2QeLlgqR3IzymYQmSW0km43dtOveM80fZX7WfBFxHGnSOvLyn5am4xcOaL/noD/Cl+UAS04V4jIcUq2y+KHeuvtBR1lqOc1RhuCGqp9i2VskmpP6CtT8vbonwhFiefbHyprle3+jORpw/WJiOLBIdk4/z8yzXfez7QhSGmx5Gb46r/LSWh7qdzod/LvS8kNVhkudSSpddk8I8/CTnKPGNZx5f6tlswBpzPoISIKAV8rKSZKincbZgz9QUbed5P/oOoK1ZG23a42nGmaI6+/9JGs1q/6LyLgBGnUvJF+WWTT3P/JSgZuRO6z4yuZPlGFE2tkxoR5kh9knFhAB/bIT77gZoOs3lqsXw5Fiefbd5e1yubky9Zivs4QUbw4KsW7DU1c6XfIfcYNQSpT7uRfpry0aL1+zVwZniAnNmpcNth6U44sWRlOQp+IiIJhgohiIqF+Y0OF0FJ5/+MN+pn+36Uo7w15eNTTgYdU6/zPNK2RmTPe0wOzQO1lph0ycjJk1Pi3JK/IuFPZPilY/L53WPbQ7BDnIRGRJUo2yLTeSXrlTpL0nrYhyDBRU5VOjUEyreCQ/rkA2jSW+nyXC+KQFEwbpP8dPf96T5MC5rOIqMqOk/qNm+qXPT6ZKx9v0PeZxYYk08fLqIBDqhXzyb/3ZMZMVWlubi8zD7aeK6NHTZTpeUWG944S2V+QI9nvTpGhSX+W7KJwzhYQEcUvLp0pMjaNlq7HqyDO+M8b0CUkdZCrUsoSPDOGd5T62udrS1LXdJlc2Wwi05mmMoF61D0LiZQ75MVhHfTrRZIzOV26JtU23K+G0q5n/zCGZRORZUoOyO5N6siraLcZU5WOecfBZhfJ0HEqvOgg6TdeKEl8lwvCdLZ/025hwRMRVWTT6K5yvG/dZPinJZhrSVKnSwybiEyT4Wc19H6+ZpJ0/dPkSmcT+Z/8MyhXGe7RoJvc8+JdhpN/k+VPXZOkpu9+1ZT67bpL2sDRMoMLOyKikHHpTFGmB3T1OsvNj95RtpAwS7xUUi4NsEjwqSPJN/xZxpi/JNAiAhJOl/6PPy3jfEmp4BKbN5IT9ctE5CAJLaTHhPm+mRPTh3WQevqniIgoQrQEMzYRGSSP+pL05SWmpMil+uWAEpLlhrF/Kkv6aIJtPFJLWvQfJ29W8Pt8EhtLoxMZ8hARhYKvlmSRWtK89TmmN/VAmkrj+sd5PtaSxB6Pypz8RZI5xvjmnipjMudIbt4sebRbkn5bEA3Old5DuuhXoOLdyxISr5IJi/Ik973Zpt8J+L2zJeu9XMmb2EMa6LfiEPHrc2fLChEREcWDhCbS+kpVfV0BtTbSkvSzJX9RpowxnpBLGSOZWF/991HpVuFC0dw6BhXsXqb9vjlSmDtXsjLHmE46YgOUqZKVNdezpnxMejQw/IQTG0lz3+9Q61IiItKUEjnWsdK9i8aVet7jS/FUFhlYmpl/UP8cETnGkdzSjDbqOJbSNhm5pUf0T/k7UlqYdYfv6zxRR2lGbrH+OdhZumhMF/1ziaWpmes9rxJmh0sLc+eUZo5J9f2cxPSM0qzcwtJjhVml6b6f3aY0PesH/XsMjhWW5r43tdQT/Ohf16E0PSOrNLfwgOm+3VGaVRjoUewtzV+U5ff7cV89gUxp1qL8UuOj8TK+znUpHbNop+c2/Iz/lGakd/D9DN9j8H5TCIpLczNSfN8vbTJKcwP/0Q2OlRbnLynNyjI+fv1fYnppxuy5nr/DYf1rPV+dn1ma6vuaYK/Plfw/K84vXVTu96WWjsnMKl2Uv1f/IiPDz0scV7po7xHPj5hX9rdKebo0t1j9hvLPhYr/XxBR5BlfEzz/UjNL80N/YSMiompiLQQ5V0mBvDvp9bJ5JMHay4goThyUPT+pnWwCzTL6XbZnPyBduvaT4ZN9mydL0YzRktY1VW59drH8oN8WUMlWyb49Vbr2H2GYk7ZGZoxOk65dbpdnl36v3xbE/g2SPXagtOuZ5vf7vXPRRkhazxTp99AnUuR3p41zl/bIT1uW6z/jjzJ6hhrgqh7Dn+SRxduDzG+qLvzt7pFkzPRIMz5+XdEMGT2wj+fv8BeZpg+mTWjeSjr7ztJ/Lu98vqX8fdu3Sua/kadfMcKA2WwZ2y9Fepb7fQtk8vA06dluoDxU7vEangNFO2TLV6/JXSlXl/2tfLvL7ZMN0/5S7rlQ9v/iEZlV0QB0IoqIkoIPZNJk9ZpQcWU4ERFZjy+55FglG7+QdxaooIGLCCKqWEnBmzIs7aWypLKfNTJj8ksVDFE9JAWvj5a0aWVJGT9FM2Xy08ZEg9keyfvXKEnzS0aYFUnOxAfkkfe2BknybJIZw/tU8DMWyMTxs+Sb/ZFIEf0uP21eG+RvZ1A0TR7JWCjbcRf82oCLZME7X8hG0107+t0KyfL9UEMryf5c+dcdd1eyYYHn8d4yUd7bbtyR0miaDE8dEXBAbUnBu3Lv8GkVPB7TAHQiioJDsvHzeZ4jW6mgvYyIiCKCr7nkULskJ/OfXEQQuVDQnXJqHC9Jaa/oXxUu82tGB0nPXC3FGGh9rFC+ejq9bNZYIPu+kMxHZutXPBKHSeb6vdpA7GOFn8vT6RXP6SgpyJaHRs/Vr6XKmNe/ksJjGKbt+VecLwsy1O9fI9PufkVy9lWU5PF8f9Z6730vXi2Zxt+d84Esyf9Nv2KlunLm+ZdIImaJYKZH4WF9GDj+fttk0f+3dzcwcpR1HMd/t3dWoG/nhUL3GoPpkWvRI1GvQkobct7lClhU0kqJNvbwCC+JL7FNe6RiFQP2bK8p0YBGyRUsSuRlm5JaEeqVgmAC7DUCDdLaEhqTW7AGkWJC7N3W/e/Of3d22L1elStt5/shk3nm2ed55pm37d6fmWdCA8VmHk1rbz5I1aA5ly0o7dfHf6r+Xf8IFsy7evWF53QgWCrdBfqu9j24Qas8OJRb573pIY3k1zeiw3t/rz7f5sxd+sZPnlbwMu3K2lYrtdeOVa7u/lWae670xp7nSudC20alD48E2/Mv7R34Ta79mYxLApxo0e9Z7gwHgBOOv6dxaho+qN2p0i3Ibauv1xX8iABQTdl3hsV3fqC11wZvOUskddHyu/V8KvTK5IjyO11a1H3n93Tt7MJw9onkPC2/57dKdVcLEpX/X/Fkz826pesiJf1f4EnN6ryhqzQwa2a/Xnu92l0xC7R6YJN6F80u9H1Si669ZXku1/1NLx38Z5B+PyU0pX2thp5Yp+5Fn1NrckKQn5OYoUsXd6opWFTmTb31bwsQRQecHdR9j71YCuZkX9PTDzwdLITuAi3Lb1XPmlXqak0GP1gSud3VqRu6Pl88Vpk/v6bXq8bTFqpvQ48WNduxytVtairt96K39a/i3UJT1Nx+jVb+sl/dzfybApxI5d+zue+6my/jznAAOMH42sWpqa5VK/cH//f66JCeWNtZ4Uc/AAQOHdRLxVtVmtS58DOaUfadMUEz5rarM1gqN5yrvr90p4vmaeHcGeX/gCZmaO7CecFC1CHteXJ3kJYy6zs0NXp31NQOrS/+YTTK401NnVp8afm6y8f6GWfZjAYf2aKHN3SpMdT/D81ZFdo/IZG3TWbu+4PSwd1R5Y8Jh+4CfeNlPVnMH9T6jmnl+6qmVlM7ekuPh+VfsR2kI5I9K3RDa32w5Op0bstFpaDarlvV0fh53bxpi3buG/VeJADjqK51pfb7nYlHH9Pa9sj3LABg3PG9CwA4qTT1pXWk+EdCeDqiodSNQanjkz38ll4P0tJHdeF5HwnSYzGsw2+9GaRzms7XedOO4/Gj4b/r1Wcqhk+qOM67gM6aqmlnBelxlM3s0Hc6WjXnqsW6etXmY49HlNegi5YsLb1+OvO4HkvbvoyMNRJ6lGR46FU9k0+N0YH9OniockDtrGlTVWnXJJoXaW3fwmDJ+MDXU9XYdYd2ECgCAAAxRIAIAHDayx5+s/IdLmMyrMNvHgrSJ0Dycn3x4nODhZNE9qC2fneFekcdNLqShCZ96gp9dYHf4hQ8Zlbt8bL/QbJ7gS4+93jHC6pX68r7tXegXz1t5bdfZTav0IJZX9GGQX8jHgAAQDwQIAIAnPbqGmeq9ADY8Y7Tc4YaZ84K0jmj3LFSUd05mjmvOELPKHdIBdPQnVo0IzTGz0kgu39APy++wS2ptp7NZQNVH0n3lcYgikp8TPOvmR8sFB4zezb9x8qPl+WUH6s29aUPl++fyDTUvyjyuOBY2XhD3Vr3xGsaSm9Tf09pJCdpuzY+uHv0wa8BAABOMwSIAACnv4n1ml68UeSAdjz718gf/2/rlUe3a0ewVC6Rq94QGsA6rWf/Erm75J1X9Ogj1R6MOlP100vj4BzY/pReGJdX0Y+f8juwvqBvfvvL5QNVj+oMnT//8tKYP5ltuveu3+mlYPE9byoqO1Z7tf2Jl/VOsDQ+JijZeqW61z2gdOixs0xqt/56HHFAAACAUx0BIgDA6S86WPL6dfrhllcKgYdsRs/d8U21X7epyrg6730b1/rbNmpLME5NNvOM7vj6l3XdZr/DJiryuvddfVp52681mAm/qext7dv5SGHw564tYxzf58RJTG4I3SH0jB55NNh3+o8yg/fplpUbR32EL3H+Jbqm+JjZHt2/eWuwjRUeLys7VhntWrVGt/3yOWXCMbV39mnnlvu1oWueurb8Lcgcq3e1b9NSffbmu7Vl575S8Omd13Xw0JFgIaepQZP5lQQAAGKEnz4AgBiIDJZsgxIvvkCT7a1YtY26eMUxBl2e8mktWREa1HhXrxbPmpp/q1Zt43ytqBocMglNabtRdxZfg5/RrvXLNKfxw/n6hWmqZnVcdRyDP7/PDqzSnA95X8LTEm3a964SjS3qLI7Vs0ebr7uwsO9qPqzGOcu0/lhjE0UeMyspf7ys4Gy1fes76i5G1HLH6tqL1Vgb6tfkWepYvFSrNr8RlDkeNqbUUO4Y3KDFHbOC7bA2L9Di9T5s9v83LhIAAMCpiJ8+AIAYSGhS63X6WX936FGxsBYt27hdqd5SCKlcvVpv+pH6l3mQJyK5TBufTqm32kA8ifN01e0btToyIHIlyen1mhikP3jBK/cnfVJL19wYCrBFJC9R2yWjbdsZav7STeqJFok+XhZIzLhSt//q1urrK6rX9Pozg/RY1Wlyw7QgXVlyWa9+vKSZH0kAACBW+O0DAPhgJSaqockjB0k1NUys8o9TdCygaWqYHH57VXisn0rtTNHs7ju0K/LmquSyPqXSj+ue5e1qOccDBxUCD5Na1H1XSgP9PaHARYuW9aWUHrxby+d+XOf4diQbVD+xfO2JZKfWDgwqvfWhyIDIZoF6+h9Samtag73tuZ66yDZXeuypbP+NNWAyQdNnfqJKsCzM9/EEJdvXaNvegUjfrd/bctv/oNbMbwzyqog85mfHqPpdOra+72tgKK2tqV+8501jautRfyqlrelt6m0/O8g0xzoHzBlqXnK7BlK/Vl8k4GfnwkN2DO7p0uxJFTsGAABw2qo5aq8AAQAAGFdZvb3zu5rd0Rs8Rne1+vduVnfze+8gAgAAwInH/x4DAADjL7tPD6+7tzTGUpXHywAAAPDBIEAEAADGXXb/n/TA4x4eYhBoAACAkw0/zQAAwDj7h3b1/1T+jrDKby8DAADAB4nfZgAAYHwNH9Tu1GCwkFTb6ut1BY+XAQAAnFQYpBoAAAAAACDmuIMIAAAAAAAg5ggQAQAAAAAAxBwBIgAAAAAAgJgjQAQAAAAAABBzBIgAAAAAAABijgARAAAAAABAzBEgAgAAAAAAiDkCRAAAAAAAADFHgAgAAAAAACDmCBABAAAAAADEHAEiAAAAAACAmCNABAAAAAAAEHMEiAAAAAAAAGKOABEAAAAAAEDMESACAAAAAACIOQJEAAAAAAAAMUeACAAAAAAAIOYIEAEAAAAAAMQcASIAAAAAAICYI0AEAAAAAAAQcwSIAAAAAAAAYo4AEQAAAAAAQMwRIAIAAAAAAIg5AkQAAAAAAAAxR4AIAAAAAAAg5ggQAQAAAAAAxBwBIgAAAAAAgJgjQAQAAAAAABBzBIgAAAAAAABijgARAAAAAABAzBEgAgAAAAAAiDkCRAAAAAAAADFHgAgAAAAAACDmCBABAAAAAADEHAEiAAAAAACAmCNABAAAAAAAEHMEiAAAAAAAAGKu5vnnnz8apAEAAAAAABBDNU899RQBIuAU8bWvfkuJREJHjx5VNpvNp2tqapTITSO5Zcu3ydTW1mpkZCRfxlh5Y+WtjNd1hXo1+Twr65/53OuH129sPbbs7RqfG6/vZaLpsEr5lud9tbT3zeaWb9tYV1eXn3tdy/f+eZ7VNV7P+GfeXi6VT3tZ2zbL9z5YOlzf8q28f2Zz76PX9fZs7ulwG+H1mfDWe/1qvK63NTx8JJcuHA/vk/XDWJ6vx+Z+3KyM83a8nu9T70O0P1bfP7dpeHi4uD5b9vV5eza3dYTPS2/P27J5OO11w3zbvIzNo+s29pmVPXLE9kvhHLIpfK4Y+8zKGm/P0zbZ+WVzX6dNlnZW37fJt9FE2/L0scp4fyxtcysf/czbsDybvIxNxo9fYT32+Ug+39u088TSzusV2rL9U358vH7h/CpcB8bWY3W9XeNz4/W9TDQdVinf8nw7LW3rtbRvv23j+3f9F9Je1s9Z74Olw/Ut38r7Zzb3PnrdQnuFdr3tcBvh9UV5/Wq8rrdl14D3wfvk14Tl+Xps7sfNyjhvx+v5PvU+RPtj9f1zm7j+S+eBKbZVU9omU7FMKO3f4Za2uV175Z+VzkO7Ti3fy9hkamvtmiicD8b76216XWdtGssrXP+FPvnc61u9Qp8Ky7bPvW++bp8br+9loumwSvmWV+hr6XywtG+/7feT//ovlCuky9sIry/K61fjdb2tk+X6b2m5wDpnBfLlsrlt9vPWz6+En3venpUN6th/uRbz82w219egX67GttH67evIza2vxXKhNq1sYb9Yi7n83Gfh89vkr4Ogr75uTxf2VeH6z/c/aMOvF2P1X3xhT3Gf+370/RNNl8oU2o+WCe8rP19Kn5XOMUtbnu9Ty7fJ+PHzvlh5Y+WtjNd1Xs/yrKx/5nOvH16/8fPI2zU+N17fy0TTYZXyLc/7amnvm80tf6zXfzZXNz8P6hn7u8lYGfv7ydO2HmPbZuW9D5YO1/f++mc29z56XW/P5p4OtxFeX5TXr8brelv/0/U/Uthu4+0U6tXqv9TNAFQ860GMAAAAAElFTkSuQmCC)"
      ],
      "metadata": {
        "id": "Jh8WV9950rkA"
      }
    },
    {
      "cell_type": "code",
      "source": [
        "#Basic artificial neural network with 2 hidden layer\n",
        "#1 input layer,2 hidden layer, 1 output layer\n",
        "model1 = keras.Sequential([\n",
        "    keras.layers.Dense(20,input_shape=(26,),activation='relu'),\n",
        "     keras.layers.Dense(10,activation='relu'),\n",
        "    keras.layers.Dense(1,activation='sigmoid'),\n",
        "])\n",
        "\n",
        "model1.compile(optimizer='adam',\n",
        "              loss='binary_crossentropy',\n",
        "              metrics=['accuracy']\n",
        ")\n",
        "metrics=model1.fit(x_train,y_train,epochs=7,shuffle=True,batch_size=50)"
      ],
      "metadata": {
        "colab": {
          "base_uri": "https://localhost:8080/"
        },
        "id": "8K9g23MPWN9i",
        "outputId": "157a7d6b-1724-4132-fd37-2cabf2baf529"
      },
      "execution_count": null,
      "outputs": [
        {
          "output_type": "stream",
          "name": "stdout",
          "text": [
            "Epoch 1/7\n",
            "113/113 [==============================] - 1s 3ms/step - loss: 0.5163 - accuracy: 0.7463\n",
            "Epoch 2/7\n",
            "113/113 [==============================] - 0s 3ms/step - loss: 0.4356 - accuracy: 0.7886\n",
            "Epoch 3/7\n",
            "113/113 [==============================] - 0s 3ms/step - loss: 0.4232 - accuracy: 0.7948\n",
            "Epoch 4/7\n",
            "113/113 [==============================] - 0s 3ms/step - loss: 0.4194 - accuracy: 0.7977\n",
            "Epoch 5/7\n",
            "113/113 [==============================] - 0s 2ms/step - loss: 0.4163 - accuracy: 0.7998\n",
            "Epoch 6/7\n",
            "113/113 [==============================] - 0s 3ms/step - loss: 0.4134 - accuracy: 0.8028\n",
            "Epoch 7/7\n",
            "113/113 [==============================] - 0s 3ms/step - loss: 0.4129 - accuracy: 0.8016\n"
          ]
        }
      ]
    },
    {
      "cell_type": "code",
      "source": [
        "len(model1.layers)"
      ],
      "metadata": {
        "colab": {
          "base_uri": "https://localhost:8080/"
        },
        "id": "mBMX7cRVbMxP",
        "outputId": "b6818dce-51a7-4e78-8ceb-e7c8ac92adba"
      },
      "execution_count": null,
      "outputs": [
        {
          "output_type": "execute_result",
          "data": {
            "text/plain": [
              "3"
            ]
          },
          "metadata": {},
          "execution_count": 51
        }
      ]
    },
    {
      "cell_type": "code",
      "source": [
        "model1.summary()"
      ],
      "metadata": {
        "colab": {
          "base_uri": "https://localhost:8080/"
        },
        "id": "uDjDzJRxZy2_",
        "outputId": "897e2803-b264-4fdd-c6b3-9f7ea37f296c"
      },
      "execution_count": null,
      "outputs": [
        {
          "output_type": "stream",
          "name": "stdout",
          "text": [
            "Model: \"sequential_2\"\n",
            "_________________________________________________________________\n",
            " Layer (type)                Output Shape              Param #   \n",
            "=================================================================\n",
            " dense_2 (Dense)             (None, 20)                540       \n",
            "                                                                 \n",
            " dense_3 (Dense)             (None, 10)                210       \n",
            "                                                                 \n",
            " dense_4 (Dense)             (None, 1)                 11        \n",
            "                                                                 \n",
            "=================================================================\n",
            "Total params: 761\n",
            "Trainable params: 761\n",
            "Non-trainable params: 0\n",
            "_________________________________________________________________\n"
          ]
        }
      ]
    },
    {
      "cell_type": "code",
      "source": [
        "metrics2=model1.evaluate(x_test,y_test)\n",
        "metrics2"
      ],
      "metadata": {
        "colab": {
          "base_uri": "https://localhost:8080/"
        },
        "id": "UW86LnEAXjRT",
        "outputId": "31b0a952-4143-409a-ccad-9f4d9f0bc8f1"
      },
      "execution_count": null,
      "outputs": [
        {
          "output_type": "stream",
          "name": "stdout",
          "text": [
            "44/44 [==============================] - 0s 5ms/step - loss: 0.4461 - accuracy: 0.7861\n"
          ]
        },
        {
          "output_type": "execute_result",
          "data": {
            "text/plain": [
              "[0.44609424471855164, 0.7860696315765381]"
            ]
          },
          "metadata": {},
          "execution_count": 82
        }
      ]
    },
    {
      "cell_type": "code",
      "source": [
        "pred=model1.predict(x_test)\n",
        "pred[:5]\n",
        "#since it is in 2d array and with values from 0 to 1. Since our ground truth output is in either 0 or 1.\n",
        "#We should round off these values to 0 and 1"
      ],
      "metadata": {
        "colab": {
          "base_uri": "https://localhost:8080/"
        },
        "id": "fGx3e1jFXozq",
        "outputId": "95060bad-1fbd-46fd-9df0-bfb72b48d89f"
      },
      "execution_count": null,
      "outputs": [
        {
          "output_type": "execute_result",
          "data": {
            "text/plain": [
              "array([[0.1278919 ],\n",
              "       [0.36369604],\n",
              "       [0.01435906],\n",
              "       [0.7193784 ],\n",
              "       [0.40531364]], dtype=float32)"
            ]
          },
          "metadata": {},
          "execution_count": 54
        }
      ]
    },
    {
      "cell_type": "code",
      "source": [
        "yPred=[]\n",
        "for element in pred:\n",
        "    if element > 0.5:\n",
        "        yPred.append(1)\n",
        "    else:\n",
        "        yPred.append(0)"
      ],
      "metadata": {
        "id": "_Nqxi2qBVkmr"
      },
      "execution_count": null,
      "outputs": []
    },
    {
      "cell_type": "code",
      "source": [
        "y_test[:5]"
      ],
      "metadata": {
        "colab": {
          "base_uri": "https://localhost:8080/"
        },
        "id": "WT5x6f-YhrrT",
        "outputId": "c08ea201-47b5-4ea1-e7c5-e69e73fb19c8"
      },
      "execution_count": null,
      "outputs": [
        {
          "output_type": "execute_result",
          "data": {
            "text/plain": [
              "2660    0\n",
              "744     0\n",
              "5579    1\n",
              "64      1\n",
              "3287    1\n",
              "Name: Churn, dtype: int64"
            ]
          },
          "metadata": {},
          "execution_count": 56
        }
      ]
    },
    {
      "cell_type": "code",
      "source": [
        "yPred[:5]\n",
        "# so we can see that predicted output is yPred and the ground truth is y_test.\n",
        "#If we can see the first 5 values in both of them, we can see that we got only one customer value wrong. \n",
        "#It's a observation"
      ],
      "metadata": {
        "colab": {
          "base_uri": "https://localhost:8080/"
        },
        "id": "OjLmRVXnYAtY",
        "outputId": "ee829646-ffcf-4b42-93f5-db446c864dcc"
      },
      "execution_count": null,
      "outputs": [
        {
          "output_type": "execute_result",
          "data": {
            "text/plain": [
              "[0, 0, 0, 1, 0]"
            ]
          },
          "metadata": {},
          "execution_count": 57
        }
      ]
    },
    {
      "cell_type": "code",
      "source": [
        ""
      ],
      "metadata": {
        "id": "ilWOd6P8jaUN"
      },
      "execution_count": null,
      "outputs": []
    },
    {
      "cell_type": "code",
      "source": [
        "tf.keras.utils.plot_model(model, to_file='model.png', dpi=100)"
      ],
      "metadata": {
        "colab": {
          "base_uri": "https://localhost:8080/",
          "height": 181
        },
        "id": "ejBZYtCLYbpx",
        "outputId": "65523f47-f3cc-4932-c40a-ae85fb111012"
      },
      "execution_count": null,
      "outputs": [
        {
          "output_type": "execute_result",
          "data": {
            "image/png": "[encoded data removed]",
            "text/plain": [
              "<IPython.core.display.Image object>"
            ]
          },
          "metadata": {},
          "execution_count": 58
        }
      ]
    },
    {
      "cell_type": "code",
      "source": [
        "tf.keras.utils.plot_model(model1, to_file='model1.png', dpi=100)"
      ],
      "metadata": {
        "id": "_ZtpwyGTYh_Q",
        "outputId": "3702d3b4-dc69-491a-862c-978d4e43401d",
        "colab": {
          "base_uri": "https://localhost:8080/",
          "height": 384
        }
      },
      "execution_count": null,
      "outputs": [
        {
          "output_type": "execute_result",
          "data": {
            "image/png": "[encoded data removed]",
            "text/plain": [
              "<IPython.core.display.Image object>"
            ]
          },
          "metadata": {},
          "execution_count": 59
        }
      ]
    },
    {
      "cell_type": "code",
      "source": [
        "#classification report\n",
        "\n",
        "from sklearn.metrics import confusion_matrix , classification_report\n",
        "\n",
        "print(classification_report(y_test,yPred))"
      ],
      "metadata": {
        "id": "-95wMnAdOrk9",
        "colab": {
          "base_uri": "https://localhost:8080/"
        },
        "outputId": "11718b9c-5a97-40a6-c9b8-6fc628dea2c1"
      },
      "execution_count": null,
      "outputs": [
        {
          "output_type": "stream",
          "name": "stdout",
          "text": [
            "              precision    recall  f1-score   support\n",
            "\n",
            "           0       0.82      0.89      0.86       999\n",
            "           1       0.67      0.53      0.60       408\n",
            "\n",
            "    accuracy                           0.79      1407\n",
            "   macro avg       0.75      0.71      0.73      1407\n",
            "weighted avg       0.78      0.79      0.78      1407\n",
            "\n"
          ]
        }
      ]
    },
    {
      "cell_type": "code",
      "source": [
        "# confusion matrix\n",
        "import seaborn as sn\n",
        "confusionmatrix = tf.math.confusion_matrix(labels=y_test,predictions=yPred)\n",
        "\n",
        "plt.figure(figsize = (10,7))\n",
        "sn.heatmap(confusionmatrix, annot=True, fmt='d')\n",
        "plt.xlabel('Predicted')\n",
        "plt.ylabel('Truth')\n",
        "#according to the confusion matrix, we made 190+106=296 errors and 893+218=1111 correct predictions "
      ],
      "metadata": {
        "colab": {
          "base_uri": "https://localhost:8080/",
          "height": 459
        },
        "id": "nAJ37FPee3IW",
        "outputId": "80391c75-93a8-4cf8-9266-1f46e749f20d"
      },
      "execution_count": null,
      "outputs": [
        {
          "output_type": "execute_result",
          "data": {
            "text/plain": [
              "Text(69.0, 0.5, 'Truth')"
            ]
          },
          "metadata": {},
          "execution_count": 64
        },
        {
          "output_type": "display_data",
          "data": {
            "image/png": "[encoded data removed]",
            "text/plain": [
              "<Figure size 720x504 with 2 Axes>"
            ]
          },
          "metadata": {
            "needs_background": "light"
          }
        }
      ]
    },
    {
      "cell_type": "code",
      "source": [
        "#accuracy is\n",
        "round((893+218)/(190+106+893+218),2)"
      ],
      "metadata": {
        "colab": {
          "base_uri": "https://localhost:8080/"
        },
        "id": "Q67AaEZDfbm-",
        "outputId": "8931ab02-6a44-4d56-f1e7-88b505aafec9"
      },
      "execution_count": null,
      "outputs": [
        {
          "output_type": "execute_result",
          "data": {
            "text/plain": [
              "0.79"
            ]
          },
          "metadata": {},
          "execution_count": 66
        }
      ]
    },
    {
      "cell_type": "code",
      "source": [
        "#precision for 0 class\n",
        "round(893/(893+190),2)"
      ],
      "metadata": {
        "colab": {
          "base_uri": "https://localhost:8080/"
        },
        "id": "Vxf9_gZ6ioqG",
        "outputId": "2a3e3129-9385-46ea-fca7-096a0474b089"
      },
      "execution_count": null,
      "outputs": [
        {
          "output_type": "execute_result",
          "data": {
            "text/plain": [
              "0.82"
            ]
          },
          "metadata": {},
          "execution_count": 67
        }
      ]
    },
    {
      "cell_type": "code",
      "source": [
        "#precision for 1 class\n",
        "round(218/(218+106),2)"
      ],
      "metadata": {
        "colab": {
          "base_uri": "https://localhost:8080/"
        },
        "id": "786iy5hoi1j9",
        "outputId": "d4b4e72f-bfd9-4562-b5da-7164d82bc83d"
      },
      "execution_count": null,
      "outputs": [
        {
          "output_type": "execute_result",
          "data": {
            "text/plain": [
              "0.67"
            ]
          },
          "metadata": {},
          "execution_count": 70
        }
      ]
    },
    {
      "cell_type": "code",
      "source": [
        "#recall for 0 class\n",
        "round(893/(893+106),2)"
      ],
      "metadata": {
        "colab": {
          "base_uri": "https://localhost:8080/"
        },
        "id": "IhHtKuPmjRne",
        "outputId": "191ee661-18dd-4a3b-b3c0-90005392e1c4"
      },
      "execution_count": null,
      "outputs": [
        {
          "output_type": "execute_result",
          "data": {
            "text/plain": [
              "0.89"
            ]
          },
          "metadata": {},
          "execution_count": 73
        }
      ]
    },
    {
      "cell_type": "code",
      "source": [
        "#recall for 0 class\n",
        "round(218/(218+190),2)"
      ],
      "metadata": {
        "colab": {
          "base_uri": "https://localhost:8080/"
        },
        "id": "UdA2P1cLjn9O",
        "outputId": "ee94c509-ab11-49a1-a9a3-e4a37fdc3192"
      },
      "execution_count": null,
      "outputs": [
        {
          "output_type": "execute_result",
          "data": {
            "text/plain": [
              "0.53"
            ]
          },
          "metadata": {},
          "execution_count": 75
        }
      ]
    }
  ]
}